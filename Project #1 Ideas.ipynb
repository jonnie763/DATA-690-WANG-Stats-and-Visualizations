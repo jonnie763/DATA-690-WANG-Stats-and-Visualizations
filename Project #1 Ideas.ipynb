{
  "nbformat": 4,
  "nbformat_minor": 0,
  "metadata": {
    "colab": {
      "name": "Jonathan- Deliverable #1 .ipynb",
      "provenance": [],
      "collapsed_sections": [],
      "authorship_tag": "ABX9TyOXYaIzqLBcYH0tB8PsbNMT",
      "include_colab_link": true
    },
    "kernelspec": {
      "name": "python3",
      "display_name": "Python 3"
    }
  },
  "cells": [
    {
      "cell_type": "markdown",
      "metadata": {
        "id": "view-in-github",
        "colab_type": "text"
      },
      "source": [
        "<a href=\"https://colab.research.google.com/github/jonnie763/DATA-690-WANG/blob/master/Jonathan_Deliverable_1_.ipynb\" target=\"_parent\"><img src=\"https://colab.research.google.com/assets/colab-badge.svg\" alt=\"Open In Colab\"/></a>"
      ]
    },
    {
      "cell_type": "markdown",
      "metadata": {
        "id": "VnOTpXcqICiQ"
      },
      "source": [
        "**Deliverable #1 - Project Proposal in Markdown format**\n",
        "\n",
        "**Write and submit a research proposal in the Markdown format that answers the following questions:**"
      ]
    },
    {
      "cell_type": "markdown",
      "metadata": {
        "id": "AAkK-3dEHAA2"
      },
      "source": [
        "##1. What is your issue of interest (provide sufficient background information)?\n",
        "\n",
        "**I want to complete an analysis of a country I researched in undergraduate school. I wrote a paper in economics class discussing the economic and poltical problems of  Venzuela, I used some light data and some poltical analysis to diagnose Venzuela's problems mostly attributing Venzuela's economic problems to politics and social unrest then providing economic and political solutions to their wide array of social, poltical, and economic problems. I want to go a step further, and analyze data to both identify additional economic problems, and provide solutions based off that data similarly to ones in the paper. There may some comparisons to other countries, as a point of reference. I will provide the paper I completed attached as a reference.**"
      ]
    },
    {
      "cell_type": "markdown",
      "metadata": {
        "id": "3uwdTUU4HF2h"
      },
      "source": [
        "##2.Why is this issue important to you and/or to others?\n",
        "\n",
        "\n",
        "**When I wrote the paper one thing I found interesting are the extreme outliners after specific points in the data. The high rates of change that exist stem from the many problems pertaining to political instability and changing prices of exports are also points of interest. Comparing it to neighboring countries could also be very illuminating.**"
      ]
    },
    {
      "cell_type": "markdown",
      "metadata": {
        "id": "7c5gANwlIRvg"
      },
      "source": [
        "##3.What questions do you have in mind and would like to answer?\n",
        "\n",
        "\n",
        "\n",
        "**1. When do extremes start occuring in the data set?**\n",
        "\n",
        "**2. How does Venzuela compare to other neighboring  countries in the data set?**\n",
        "\n",
        "**3. What are possible solutions based off the economic data provided (similar to the paper attached)**"
      ]
    },
    {
      "cell_type": "markdown",
      "metadata": {
        "id": "0hSKNYnmHdHz"
      },
      "source": [
        "##4.Where do you get the data to help answer your questions?\n",
        "**1. https://www.cia.gov/library/publications/the-world-factbook/geos/ve.html**\n",
        "\n",
        "**2. https://www.opec.org/opec_web/en/about_us/171.htm**\n",
        "\n",
        "**3.https://www.economy.com/venezuela/government-consumption/not-seasonally-adjusted**\n",
        "\n",
        "**4. https://data.worldbank.org/country/venezuela-rb**"
      ]
    },
    {
      "cell_type": "markdown",
      "metadata": {
        "id": "l9_9B1XJHyic"
      },
      "source": [
        "##5.What will be your unit of analysis (for example, patient, organization, or country)? Roughly how many units do you expect to analyze?\n",
        "\n",
        "**This project aims to measure a country's economic performance. \"Units\" will be upwards from 2-3, including some comparisons of neighboring countries and perhaps historical context will be provided**\n"
      ]
    },
    {
      "cell_type": "markdown",
      "metadata": {
        "id": "mK-aDKloH1QT"
      },
      "source": [
        "##6.What variables/measures do you plan to use in your analysis?\n",
        "\n",
        "**As discussed before, it is mostly economic data such as; GDP growth, unemployment rate, poverty rate, inflation rate, deficit spending, etc.**"
      ]
    },
    {
      "cell_type": "markdown",
      "metadata": {
        "id": "BizL6_5YH3OY"
      },
      "source": [
        "##7.What kinds of techniques do you you plan to use (for example, summary statistics, scatter plot, bar chart, chi-squared test)?\n",
        "\n",
        "**I plan on using economic data such as; summary statistics, line graphs, scatter plots, bar graphs, etc. With the comparison there could be some overlaying of these graphs**"
      ]
    }
  ]
}
