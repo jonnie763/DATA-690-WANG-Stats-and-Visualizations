{
  "nbformat": 4,
  "nbformat_minor": 0,
  "metadata": {
    "colab": {
      "name": "Jonathan Rius- Deliverable #3.ipynb",
      "provenance": [],
      "collapsed_sections": [],
      "toc_visible": true,
      "authorship_tag": "ABX9TyNCwTupX/1oxkCBIn9SRcTJ",
      "include_colab_link": true
    },
    "kernelspec": {
      "name": "python3",
      "display_name": "Python 3"
    }
  },
  "cells": [
    {
      "cell_type": "markdown",
      "metadata": {
        "id": "view-in-github",
        "colab_type": "text"
      },
      "source": [
        "<a href=\"https://colab.research.google.com/github/jonnie763/DATA-690-WANG/blob/master/Jonathan_Rius_Deliverable_3.ipynb\" target=\"_parent\"><img src=\"https://colab.research.google.com/assets/colab-badge.svg\" alt=\"Open In Colab\"/></a>"
      ]
    },
    {
      "cell_type": "markdown",
      "metadata": {
        "id": "x3Oy6IgU70dH"
      },
      "source": [
        "##**1. Background information-Venezuela**\n",
        "Venezuela has an interesting history. Present day and historic Venezuela has many points of analysis. One can approach Venezuela, from a political or historical perspective. Others can choose to explore it from an economic or governmental perspective. What I think is most interesting is approaching it from a data perspective, and to infer and answer important economic, political, and governmental questions from there. Below are other facts about Venezuela,  some relevant and others just intriguing for the reader.\n",
        "\n",
        "\n",
        "\n",
        "*   Venezeula one and only democratic institution is called the National Assembly  \n",
        "*   Venezeula has a tropical climate, hot and humid \n",
        "*   Venezeula is about twice the size of California \n",
        "*   Venezeula has a population of around 30 million, its offical lanaguage is Spanish \n",
        "*   Venezuela's prevailing party is the United Socialist Party of Venezuela "
      ]
    },
    {
      "cell_type": "markdown",
      "metadata": {
        "id": "Gc1K6YDvXR6Y"
      },
      "source": [
        "##**2.Country Analysis- Data Cleanse**"
      ]
    },
    {
      "cell_type": "markdown",
      "metadata": {
        "id": "PDzxCPCU9I5i"
      },
      "source": [
        "##**2a) Data Cleanse- GDP**"
      ]
    },
    {
      "cell_type": "markdown",
      "metadata": {
        "id": "g_NZHeevXcLo"
      },
      "source": [
        "### Import Libraries "
      ]
    },
    {
      "cell_type": "code",
      "metadata": {
        "id": "j8p29wrWXYfZ"
      },
      "source": [
        "import matplotlib.pyplot as plt        #Import relevant libraries. Pandas for dataframes and ploty and matplotlib for visualization. Other libraries just in case.  \n",
        "import pandas as pd \n",
        "import numpy as np\n",
        "import plotly.graph_objects as go\n",
        "plt.rcParams['figure.figsize'] = 25, 12 #Increase general size for matplot.lib\n"
      ],
      "execution_count": null,
      "outputs": []
    },
    {
      "cell_type": "markdown",
      "metadata": {
        "id": "PLSUxLykOVJK"
      },
      "source": [
        "###**GDP-Web Scrape**"
      ]
    },
    {
      "cell_type": "code",
      "metadata": {
        "id": "cuqYYdas3D03",
        "outputId": "445f8c34-d4ae-44e8-b824-cf3134b4c2d7",
        "colab": {
          "base_uri": "https://localhost:8080/",
          "height": 142
        }
      },
      "source": [
        "GDP_df= pd.read_html(\"https://www.imf.org/en/Publications/WEO/weo-database/2020/October/weo-report?c=233,336,299,&s=NGDP_RPCH,&sy=2015&ey=2020&ssm=0&scsm=1&scc=0&ssd=1&ssc=0&sic=0&sort=country&ds=.&br=1\") # Webscrape IMF site, great site for economic data, in general   \n",
        "GDP_df = GDP_df[0] # Save the variable as GDP_df\n",
        "GDP_df\n"
      ],
      "execution_count": null,
      "outputs": [
        {
          "output_type": "execute_result",
          "data": {
            "text/html": [
              "<div>\n",
              "<style scoped>\n",
              "    .dataframe tbody tr th:only-of-type {\n",
              "        vertical-align: middle;\n",
              "    }\n",
              "\n",
              "    .dataframe tbody tr th {\n",
              "        vertical-align: top;\n",
              "    }\n",
              "\n",
              "    .dataframe thead th {\n",
              "        text-align: right;\n",
              "    }\n",
              "</style>\n",
              "<table border=\"1\" class=\"dataframe\">\n",
              "  <thead>\n",
              "    <tr style=\"text-align: right;\">\n",
              "      <th></th>\n",
              "      <th>Country</th>\n",
              "      <th>Subject Descriptor</th>\n",
              "      <th>Units</th>\n",
              "      <th>Scale</th>\n",
              "      <th>Country/Series-specific Notes</th>\n",
              "      <th>2015</th>\n",
              "      <th>2016</th>\n",
              "      <th>2017</th>\n",
              "      <th>2018</th>\n",
              "      <th>2019</th>\n",
              "      <th>2020</th>\n",
              "    </tr>\n",
              "  </thead>\n",
              "  <tbody>\n",
              "    <tr>\n",
              "      <th>0</th>\n",
              "      <td>Colombia</td>\n",
              "      <td>Gross domestic product, constant prices</td>\n",
              "      <td>Percent change</td>\n",
              "      <td>NaN</td>\n",
              "      <td>NaN</td>\n",
              "      <td>2.956</td>\n",
              "      <td>2.087</td>\n",
              "      <td>1.359</td>\n",
              "      <td>2.515</td>\n",
              "      <td>3.260</td>\n",
              "      <td>-8.182</td>\n",
              "    </tr>\n",
              "    <tr>\n",
              "      <th>1</th>\n",
              "      <td>Guyana</td>\n",
              "      <td>Gross domestic product, constant prices</td>\n",
              "      <td>Percent change</td>\n",
              "      <td>NaN</td>\n",
              "      <td>NaN</td>\n",
              "      <td>0.687</td>\n",
              "      <td>3.807</td>\n",
              "      <td>3.734</td>\n",
              "      <td>4.441</td>\n",
              "      <td>5.353</td>\n",
              "      <td>26.205</td>\n",
              "    </tr>\n",
              "    <tr>\n",
              "      <th>2</th>\n",
              "      <td>Venezuela</td>\n",
              "      <td>Gross domestic product, constant prices</td>\n",
              "      <td>Percent change</td>\n",
              "      <td>NaN</td>\n",
              "      <td>NaN</td>\n",
              "      <td>-6.221</td>\n",
              "      <td>-17.040</td>\n",
              "      <td>-15.671</td>\n",
              "      <td>-19.621</td>\n",
              "      <td>-35.000</td>\n",
              "      <td>-25.000</td>\n",
              "    </tr>\n",
              "  </tbody>\n",
              "</table>\n",
              "</div>"
            ],
            "text/plain": [
              "     Country                       Subject Descriptor  ...    2019    2020\n",
              "0   Colombia  Gross domestic product, constant prices  ...   3.260  -8.182\n",
              "1     Guyana  Gross domestic product, constant prices  ...   5.353  26.205\n",
              "2  Venezuela  Gross domestic product, constant prices  ... -35.000 -25.000\n",
              "\n",
              "[3 rows x 11 columns]"
            ]
          },
          "metadata": {
            "tags": []
          },
          "execution_count": 293
        }
      ]
    },
    {
      "cell_type": "code",
      "metadata": {
        "id": "cc3xh9AT7MId",
        "outputId": "dce64244-d12c-491b-d0e4-e4d890f6514f",
        "colab": {
          "base_uri": "https://localhost:8080/",
          "height": 142
        }
      },
      "source": [
        "GDP_df=GDP_df.drop(columns=['Subject Descriptor',\"Units\",\"Scale\",\"Country/Series-specific Notes\"]) # Data Cleaning, don't need these columns \n",
        "GDP_df"
      ],
      "execution_count": null,
      "outputs": [
        {
          "output_type": "execute_result",
          "data": {
            "text/html": [
              "<div>\n",
              "<style scoped>\n",
              "    .dataframe tbody tr th:only-of-type {\n",
              "        vertical-align: middle;\n",
              "    }\n",
              "\n",
              "    .dataframe tbody tr th {\n",
              "        vertical-align: top;\n",
              "    }\n",
              "\n",
              "    .dataframe thead th {\n",
              "        text-align: right;\n",
              "    }\n",
              "</style>\n",
              "<table border=\"1\" class=\"dataframe\">\n",
              "  <thead>\n",
              "    <tr style=\"text-align: right;\">\n",
              "      <th></th>\n",
              "      <th>Country</th>\n",
              "      <th>2015</th>\n",
              "      <th>2016</th>\n",
              "      <th>2017</th>\n",
              "      <th>2018</th>\n",
              "      <th>2019</th>\n",
              "      <th>2020</th>\n",
              "    </tr>\n",
              "  </thead>\n",
              "  <tbody>\n",
              "    <tr>\n",
              "      <th>0</th>\n",
              "      <td>Colombia</td>\n",
              "      <td>2.956</td>\n",
              "      <td>2.087</td>\n",
              "      <td>1.359</td>\n",
              "      <td>2.515</td>\n",
              "      <td>3.260</td>\n",
              "      <td>-8.182</td>\n",
              "    </tr>\n",
              "    <tr>\n",
              "      <th>1</th>\n",
              "      <td>Guyana</td>\n",
              "      <td>0.687</td>\n",
              "      <td>3.807</td>\n",
              "      <td>3.734</td>\n",
              "      <td>4.441</td>\n",
              "      <td>5.353</td>\n",
              "      <td>26.205</td>\n",
              "    </tr>\n",
              "    <tr>\n",
              "      <th>2</th>\n",
              "      <td>Venezuela</td>\n",
              "      <td>-6.221</td>\n",
              "      <td>-17.040</td>\n",
              "      <td>-15.671</td>\n",
              "      <td>-19.621</td>\n",
              "      <td>-35.000</td>\n",
              "      <td>-25.000</td>\n",
              "    </tr>\n",
              "  </tbody>\n",
              "</table>\n",
              "</div>"
            ],
            "text/plain": [
              "     Country   2015    2016    2017    2018    2019    2020\n",
              "0   Colombia  2.956   2.087   1.359   2.515   3.260  -8.182\n",
              "1     Guyana  0.687   3.807   3.734   4.441   5.353  26.205\n",
              "2  Venezuela -6.221 -17.040 -15.671 -19.621 -35.000 -25.000"
            ]
          },
          "metadata": {
            "tags": []
          },
          "execution_count": 294
        }
      ]
    },
    {
      "cell_type": "markdown",
      "metadata": {
        "id": "2D8BkBxgmMwP"
      },
      "source": [
        "### **GDP-Create Year List to Insert in Dataframe**"
      ]
    },
    {
      "cell_type": "code",
      "metadata": {
        "id": "7Jh8b3tDD2Zv",
        "outputId": "63e350e4-d546-43ba-8fb5-e3fe6d865f4f",
        "colab": {
          "base_uri": "https://localhost:8080/"
        }
      },
      "source": [
        "Years= list(GDP_df) # Listing years for dataframe piviot, take out Country with remove \n",
        "Years"
      ],
      "execution_count": null,
      "outputs": [
        {
          "output_type": "execute_result",
          "data": {
            "text/plain": [
              "['Country', '2015', '2016', '2017', '2018', '2019', '2020']"
            ]
          },
          "metadata": {
            "tags": []
          },
          "execution_count": 295
        }
      ]
    },
    {
      "cell_type": "code",
      "metadata": {
        "id": "GMyEytgdD4P-",
        "outputId": "9e4292c9-488f-45c5-c99d-9f2fb1e767ff",
        "colab": {
          "base_uri": "https://localhost:8080/"
        }
      },
      "source": [
        "Years.remove('Country') # Take out Country String from list \n",
        "Years"
      ],
      "execution_count": null,
      "outputs": [
        {
          "output_type": "execute_result",
          "data": {
            "text/plain": [
              "['2015', '2016', '2017', '2018', '2019', '2020']"
            ]
          },
          "metadata": {
            "tags": []
          },
          "execution_count": 296
        }
      ]
    },
    {
      "cell_type": "markdown",
      "metadata": {
        "id": "OJka5YmZSrpM"
      },
      "source": [
        "###**GDP- Data Frame Long Pivot**"
      ]
    },
    {
      "cell_type": "code",
      "metadata": {
        "id": "QGshSgXXCGZ_",
        "outputId": "3492936d-b5be-44be-e82b-e467bd81432a",
        "colab": {
          "base_uri": "https://localhost:8080/",
          "height": 607
        }
      },
      "source": [
        "long_df_Countries = GDP_df.melt(\n",
        "    id_vars=\"Country\",                         # Unique identifier\n",
        "    value_vars=Years,                          # List of columns to be melted to a single variable\n",
        "    var_name=\"Years\",                          # The new column name for the variable\n",
        "    value_name=\"GDP Percentage Growth\"         # The new column name for the value\n",
        ")\n",
        "\n",
        "long_df_Countries"
      ],
      "execution_count": null,
      "outputs": [
        {
          "output_type": "execute_result",
          "data": {
            "text/html": [
              "<div>\n",
              "<style scoped>\n",
              "    .dataframe tbody tr th:only-of-type {\n",
              "        vertical-align: middle;\n",
              "    }\n",
              "\n",
              "    .dataframe tbody tr th {\n",
              "        vertical-align: top;\n",
              "    }\n",
              "\n",
              "    .dataframe thead th {\n",
              "        text-align: right;\n",
              "    }\n",
              "</style>\n",
              "<table border=\"1\" class=\"dataframe\">\n",
              "  <thead>\n",
              "    <tr style=\"text-align: right;\">\n",
              "      <th></th>\n",
              "      <th>Country</th>\n",
              "      <th>Years</th>\n",
              "      <th>GDP Percentage Growth</th>\n",
              "    </tr>\n",
              "  </thead>\n",
              "  <tbody>\n",
              "    <tr>\n",
              "      <th>0</th>\n",
              "      <td>Colombia</td>\n",
              "      <td>2015</td>\n",
              "      <td>2.956</td>\n",
              "    </tr>\n",
              "    <tr>\n",
              "      <th>1</th>\n",
              "      <td>Guyana</td>\n",
              "      <td>2015</td>\n",
              "      <td>0.687</td>\n",
              "    </tr>\n",
              "    <tr>\n",
              "      <th>2</th>\n",
              "      <td>Venezuela</td>\n",
              "      <td>2015</td>\n",
              "      <td>-6.221</td>\n",
              "    </tr>\n",
              "    <tr>\n",
              "      <th>3</th>\n",
              "      <td>Colombia</td>\n",
              "      <td>2016</td>\n",
              "      <td>2.087</td>\n",
              "    </tr>\n",
              "    <tr>\n",
              "      <th>4</th>\n",
              "      <td>Guyana</td>\n",
              "      <td>2016</td>\n",
              "      <td>3.807</td>\n",
              "    </tr>\n",
              "    <tr>\n",
              "      <th>5</th>\n",
              "      <td>Venezuela</td>\n",
              "      <td>2016</td>\n",
              "      <td>-17.040</td>\n",
              "    </tr>\n",
              "    <tr>\n",
              "      <th>6</th>\n",
              "      <td>Colombia</td>\n",
              "      <td>2017</td>\n",
              "      <td>1.359</td>\n",
              "    </tr>\n",
              "    <tr>\n",
              "      <th>7</th>\n",
              "      <td>Guyana</td>\n",
              "      <td>2017</td>\n",
              "      <td>3.734</td>\n",
              "    </tr>\n",
              "    <tr>\n",
              "      <th>8</th>\n",
              "      <td>Venezuela</td>\n",
              "      <td>2017</td>\n",
              "      <td>-15.671</td>\n",
              "    </tr>\n",
              "    <tr>\n",
              "      <th>9</th>\n",
              "      <td>Colombia</td>\n",
              "      <td>2018</td>\n",
              "      <td>2.515</td>\n",
              "    </tr>\n",
              "    <tr>\n",
              "      <th>10</th>\n",
              "      <td>Guyana</td>\n",
              "      <td>2018</td>\n",
              "      <td>4.441</td>\n",
              "    </tr>\n",
              "    <tr>\n",
              "      <th>11</th>\n",
              "      <td>Venezuela</td>\n",
              "      <td>2018</td>\n",
              "      <td>-19.621</td>\n",
              "    </tr>\n",
              "    <tr>\n",
              "      <th>12</th>\n",
              "      <td>Colombia</td>\n",
              "      <td>2019</td>\n",
              "      <td>3.260</td>\n",
              "    </tr>\n",
              "    <tr>\n",
              "      <th>13</th>\n",
              "      <td>Guyana</td>\n",
              "      <td>2019</td>\n",
              "      <td>5.353</td>\n",
              "    </tr>\n",
              "    <tr>\n",
              "      <th>14</th>\n",
              "      <td>Venezuela</td>\n",
              "      <td>2019</td>\n",
              "      <td>-35.000</td>\n",
              "    </tr>\n",
              "    <tr>\n",
              "      <th>15</th>\n",
              "      <td>Colombia</td>\n",
              "      <td>2020</td>\n",
              "      <td>-8.182</td>\n",
              "    </tr>\n",
              "    <tr>\n",
              "      <th>16</th>\n",
              "      <td>Guyana</td>\n",
              "      <td>2020</td>\n",
              "      <td>26.205</td>\n",
              "    </tr>\n",
              "    <tr>\n",
              "      <th>17</th>\n",
              "      <td>Venezuela</td>\n",
              "      <td>2020</td>\n",
              "      <td>-25.000</td>\n",
              "    </tr>\n",
              "  </tbody>\n",
              "</table>\n",
              "</div>"
            ],
            "text/plain": [
              "      Country Years  GDP Percentage Growth\n",
              "0    Colombia  2015                  2.956\n",
              "1      Guyana  2015                  0.687\n",
              "2   Venezuela  2015                 -6.221\n",
              "3    Colombia  2016                  2.087\n",
              "4      Guyana  2016                  3.807\n",
              "5   Venezuela  2016                -17.040\n",
              "6    Colombia  2017                  1.359\n",
              "7      Guyana  2017                  3.734\n",
              "8   Venezuela  2017                -15.671\n",
              "9    Colombia  2018                  2.515\n",
              "10     Guyana  2018                  4.441\n",
              "11  Venezuela  2018                -19.621\n",
              "12   Colombia  2019                  3.260\n",
              "13     Guyana  2019                  5.353\n",
              "14  Venezuela  2019                -35.000\n",
              "15   Colombia  2020                 -8.182\n",
              "16     Guyana  2020                 26.205\n",
              "17  Venezuela  2020                -25.000"
            ]
          },
          "metadata": {
            "tags": []
          },
          "execution_count": 297
        }
      ]
    },
    {
      "cell_type": "markdown",
      "metadata": {
        "id": "3AV3MAsvTUA2"
      },
      "source": [
        "### **GDP- Interactive Bar Graph with Plotly**"
      ]
    },
    {
      "cell_type": "code",
      "metadata": {
        "id": "JjHpF5q3Bxj7",
        "outputId": "3181b6b2-1e80-4308-b675-8de3aa32720a",
        "colab": {
          "base_uri": "https://localhost:8080/",
          "height": 817
        }
      },
      "source": [
        "import plotly.express as px                                                                         # Chose plotly for interactive graph \n",
        "fig = px.bar(long_df_Countries, x=\"Years\", y=\"GDP Percentage Growth\", color= \"Country\")             # Taken from dataframe \n",
        "\n",
        "fig.update_layout(                                                                                  # Increase size of graph, increasing legend size, and some font size. That code is below.                                                             \n",
        "    autosize=False,\n",
        "    width=1500,\n",
        "    height=800,)\n",
        "\n",
        "fig.update_layout(\n",
        "legend=go.layout.Legend(\n",
        "x=0,\n",
        "y=1,\n",
        "traceorder=\"normal\",\n",
        "font=dict(\n",
        "family=\"sans-serif\",\n",
        "size=20,\n",
        "color=\"black\"\n",
        ")\n",
        ")\n",
        ")\n",
        "\n",
        "fig.update_layout(title_text=\"Venezuela's Shrinking Economy vs Neighboring Countries\", title_x=0.5) # Add title \"Venezuela's Shrinking Economy vs Neighboring Countries\"\n",
        "\n",
        "\n",
        "\n",
        "fig.show()\n",
        "\n",
        "\n"
      ],
      "execution_count": null,
      "outputs": [
        {
          "output_type": "display_data",
          "data": {
            "text/html": [
              "<html>\n",
              "<head><meta charset=\"utf-8\" /></head>\n",
              "<body>\n",
              "    <div>\n",
              "            <script src=\"https://cdnjs.cloudflare.com/ajax/libs/mathjax/2.7.5/MathJax.js?config=TeX-AMS-MML_SVG\"></script><script type=\"text/javascript\">if (window.MathJax) {MathJax.Hub.Config({SVG: {font: \"STIX-Web\"}});}</script>\n",
              "                <script type=\"text/javascript\">window.PlotlyConfig = {MathJaxConfig: 'local'};</script>\n",
              "        <script src=\"https://cdn.plot.ly/plotly-latest.min.js\"></script>    \n",
              "            <div id=\"0ec9872d-52b0-4d2e-8066-addf0436145c\" class=\"plotly-graph-div\" style=\"height:800px; width:1500px;\"></div>\n",
              "            <script type=\"text/javascript\">\n",
              "                \n",
              "                    window.PLOTLYENV=window.PLOTLYENV || {};\n",
              "                    \n",
              "                if (document.getElementById(\"0ec9872d-52b0-4d2e-8066-addf0436145c\")) {\n",
              "                    Plotly.newPlot(\n",
              "                        '0ec9872d-52b0-4d2e-8066-addf0436145c',\n",
              "                        [{\"alignmentgroup\": \"True\", \"hoverlabel\": {\"namelength\": 0}, \"hovertemplate\": \"Country=Colombia<br>Years=%{x}<br>GDP Percentage Growth=%{y}\", \"legendgroup\": \"Country=Colombia\", \"marker\": {\"color\": \"#636efa\"}, \"name\": \"Country=Colombia\", \"offsetgroup\": \"Country=Colombia\", \"orientation\": \"v\", \"showlegend\": true, \"textposition\": \"auto\", \"type\": \"bar\", \"x\": [\"2015\", \"2016\", \"2017\", \"2018\", \"2019\", \"2020\"], \"xaxis\": \"x\", \"y\": [2.9560000000000004, 2.0869999999999997, 1.359, 2.515, 3.26, -8.182], \"yaxis\": \"y\"}, {\"alignmentgroup\": \"True\", \"hoverlabel\": {\"namelength\": 0}, \"hovertemplate\": \"Country=Guyana<br>Years=%{x}<br>GDP Percentage Growth=%{y}\", \"legendgroup\": \"Country=Guyana\", \"marker\": {\"color\": \"#EF553B\"}, \"name\": \"Country=Guyana\", \"offsetgroup\": \"Country=Guyana\", \"orientation\": \"v\", \"showlegend\": true, \"textposition\": \"auto\", \"type\": \"bar\", \"x\": [\"2015\", \"2016\", \"2017\", \"2018\", \"2019\", \"2020\"], \"xaxis\": \"x\", \"y\": [0.687, 3.807, 3.734, 4.441, 5.353, 26.205], \"yaxis\": \"y\"}, {\"alignmentgroup\": \"True\", \"hoverlabel\": {\"namelength\": 0}, \"hovertemplate\": \"Country=Venezuela<br>Years=%{x}<br>GDP Percentage Growth=%{y}\", \"legendgroup\": \"Country=Venezuela\", \"marker\": {\"color\": \"#00cc96\"}, \"name\": \"Country=Venezuela\", \"offsetgroup\": \"Country=Venezuela\", \"orientation\": \"v\", \"showlegend\": true, \"textposition\": \"auto\", \"type\": \"bar\", \"x\": [\"2015\", \"2016\", \"2017\", \"2018\", \"2019\", \"2020\"], \"xaxis\": \"x\", \"y\": [-6.221, -17.04, -15.671, -19.621, -35.0, -25.0], \"yaxis\": \"y\"}],\n",
              "                        {\"autosize\": false, \"barmode\": \"relative\", \"height\": 800, \"legend\": {\"font\": {\"color\": \"black\", \"family\": \"sans-serif\", \"size\": 20}, \"traceorder\": \"normal\", \"x\": 0, \"y\": 1}, \"margin\": {\"t\": 60}, \"template\": {\"data\": {\"bar\": [{\"error_x\": {\"color\": \"#2a3f5f\"}, \"error_y\": {\"color\": \"#2a3f5f\"}, \"marker\": {\"line\": {\"color\": \"#E5ECF6\", \"width\": 0.5}}, \"type\": \"bar\"}], \"barpolar\": [{\"marker\": {\"line\": {\"color\": \"#E5ECF6\", \"width\": 0.5}}, \"type\": \"barpolar\"}], \"carpet\": [{\"aaxis\": {\"endlinecolor\": \"#2a3f5f\", \"gridcolor\": \"white\", \"linecolor\": \"white\", \"minorgridcolor\": \"white\", \"startlinecolor\": \"#2a3f5f\"}, \"baxis\": {\"endlinecolor\": \"#2a3f5f\", \"gridcolor\": \"white\", \"linecolor\": \"white\", \"minorgridcolor\": \"white\", \"startlinecolor\": \"#2a3f5f\"}, \"type\": \"carpet\"}], \"choropleth\": [{\"colorbar\": {\"outlinewidth\": 0, \"ticks\": \"\"}, \"type\": \"choropleth\"}], \"contour\": [{\"colorbar\": {\"outlinewidth\": 0, \"ticks\": \"\"}, \"colorscale\": [[0.0, \"#0d0887\"], [0.1111111111111111, \"#46039f\"], [0.2222222222222222, \"#7201a8\"], [0.3333333333333333, \"#9c179e\"], [0.4444444444444444, \"#bd3786\"], [0.5555555555555556, \"#d8576b\"], [0.6666666666666666, \"#ed7953\"], [0.7777777777777778, \"#fb9f3a\"], [0.8888888888888888, \"#fdca26\"], [1.0, \"#f0f921\"]], \"type\": \"contour\"}], \"contourcarpet\": [{\"colorbar\": {\"outlinewidth\": 0, \"ticks\": \"\"}, \"type\": \"contourcarpet\"}], \"heatmap\": [{\"colorbar\": {\"outlinewidth\": 0, \"ticks\": \"\"}, \"colorscale\": [[0.0, \"#0d0887\"], [0.1111111111111111, \"#46039f\"], [0.2222222222222222, \"#7201a8\"], [0.3333333333333333, \"#9c179e\"], [0.4444444444444444, \"#bd3786\"], [0.5555555555555556, \"#d8576b\"], [0.6666666666666666, \"#ed7953\"], [0.7777777777777778, \"#fb9f3a\"], [0.8888888888888888, \"#fdca26\"], [1.0, \"#f0f921\"]], \"type\": \"heatmap\"}], \"heatmapgl\": [{\"colorbar\": {\"outlinewidth\": 0, \"ticks\": \"\"}, \"colorscale\": [[0.0, \"#0d0887\"], [0.1111111111111111, \"#46039f\"], [0.2222222222222222, \"#7201a8\"], [0.3333333333333333, \"#9c179e\"], [0.4444444444444444, \"#bd3786\"], [0.5555555555555556, \"#d8576b\"], [0.6666666666666666, \"#ed7953\"], [0.7777777777777778, \"#fb9f3a\"], [0.8888888888888888, \"#fdca26\"], [1.0, \"#f0f921\"]], \"type\": \"heatmapgl\"}], \"histogram\": [{\"marker\": {\"colorbar\": {\"outlinewidth\": 0, \"ticks\": \"\"}}, \"type\": \"histogram\"}], \"histogram2d\": [{\"colorbar\": {\"outlinewidth\": 0, \"ticks\": \"\"}, \"colorscale\": [[0.0, \"#0d0887\"], [0.1111111111111111, \"#46039f\"], [0.2222222222222222, \"#7201a8\"], [0.3333333333333333, \"#9c179e\"], [0.4444444444444444, \"#bd3786\"], [0.5555555555555556, \"#d8576b\"], [0.6666666666666666, \"#ed7953\"], [0.7777777777777778, \"#fb9f3a\"], [0.8888888888888888, \"#fdca26\"], [1.0, \"#f0f921\"]], \"type\": \"histogram2d\"}], \"histogram2dcontour\": [{\"colorbar\": {\"outlinewidth\": 0, \"ticks\": \"\"}, \"colorscale\": [[0.0, \"#0d0887\"], [0.1111111111111111, \"#46039f\"], [0.2222222222222222, \"#7201a8\"], [0.3333333333333333, \"#9c179e\"], [0.4444444444444444, \"#bd3786\"], [0.5555555555555556, \"#d8576b\"], [0.6666666666666666, \"#ed7953\"], [0.7777777777777778, \"#fb9f3a\"], [0.8888888888888888, \"#fdca26\"], [1.0, \"#f0f921\"]], \"type\": \"histogram2dcontour\"}], \"mesh3d\": [{\"colorbar\": {\"outlinewidth\": 0, \"ticks\": \"\"}, \"type\": \"mesh3d\"}], \"parcoords\": [{\"line\": {\"colorbar\": {\"outlinewidth\": 0, \"ticks\": \"\"}}, \"type\": \"parcoords\"}], \"pie\": [{\"automargin\": true, \"type\": \"pie\"}], \"scatter\": [{\"marker\": {\"colorbar\": {\"outlinewidth\": 0, \"ticks\": \"\"}}, \"type\": \"scatter\"}], \"scatter3d\": [{\"line\": {\"colorbar\": {\"outlinewidth\": 0, \"ticks\": \"\"}}, \"marker\": {\"colorbar\": {\"outlinewidth\": 0, \"ticks\": \"\"}}, \"type\": \"scatter3d\"}], \"scattercarpet\": [{\"marker\": {\"colorbar\": {\"outlinewidth\": 0, \"ticks\": \"\"}}, \"type\": \"scattercarpet\"}], \"scattergeo\": [{\"marker\": {\"colorbar\": {\"outlinewidth\": 0, \"ticks\": \"\"}}, \"type\": \"scattergeo\"}], \"scattergl\": [{\"marker\": {\"colorbar\": {\"outlinewidth\": 0, \"ticks\": \"\"}}, \"type\": \"scattergl\"}], \"scattermapbox\": [{\"marker\": {\"colorbar\": {\"outlinewidth\": 0, \"ticks\": \"\"}}, \"type\": \"scattermapbox\"}], \"scatterpolar\": [{\"marker\": {\"colorbar\": {\"outlinewidth\": 0, \"ticks\": \"\"}}, \"type\": \"scatterpolar\"}], \"scatterpolargl\": [{\"marker\": {\"colorbar\": {\"outlinewidth\": 0, \"ticks\": \"\"}}, \"type\": \"scatterpolargl\"}], \"scatterternary\": [{\"marker\": {\"colorbar\": {\"outlinewidth\": 0, \"ticks\": \"\"}}, \"type\": \"scatterternary\"}], \"surface\": [{\"colorbar\": {\"outlinewidth\": 0, \"ticks\": \"\"}, \"colorscale\": [[0.0, \"#0d0887\"], [0.1111111111111111, \"#46039f\"], [0.2222222222222222, \"#7201a8\"], [0.3333333333333333, \"#9c179e\"], [0.4444444444444444, \"#bd3786\"], [0.5555555555555556, \"#d8576b\"], [0.6666666666666666, \"#ed7953\"], [0.7777777777777778, \"#fb9f3a\"], [0.8888888888888888, \"#fdca26\"], [1.0, \"#f0f921\"]], \"type\": \"surface\"}], \"table\": [{\"cells\": {\"fill\": {\"color\": \"#EBF0F8\"}, \"line\": {\"color\": \"white\"}}, \"header\": {\"fill\": {\"color\": \"#C8D4E3\"}, \"line\": {\"color\": \"white\"}}, \"type\": \"table\"}]}, \"layout\": {\"annotationdefaults\": {\"arrowcolor\": \"#2a3f5f\", \"arrowhead\": 0, \"arrowwidth\": 1}, \"coloraxis\": {\"colorbar\": {\"outlinewidth\": 0, \"ticks\": \"\"}}, \"colorscale\": {\"diverging\": [[0, \"#8e0152\"], [0.1, \"#c51b7d\"], [0.2, \"#de77ae\"], [0.3, \"#f1b6da\"], [0.4, \"#fde0ef\"], [0.5, \"#f7f7f7\"], [0.6, \"#e6f5d0\"], [0.7, \"#b8e186\"], [0.8, \"#7fbc41\"], [0.9, \"#4d9221\"], [1, \"#276419\"]], \"sequential\": [[0.0, \"#0d0887\"], [0.1111111111111111, \"#46039f\"], [0.2222222222222222, \"#7201a8\"], [0.3333333333333333, \"#9c179e\"], [0.4444444444444444, \"#bd3786\"], [0.5555555555555556, \"#d8576b\"], [0.6666666666666666, \"#ed7953\"], [0.7777777777777778, \"#fb9f3a\"], [0.8888888888888888, \"#fdca26\"], [1.0, \"#f0f921\"]], \"sequentialminus\": [[0.0, \"#0d0887\"], [0.1111111111111111, \"#46039f\"], [0.2222222222222222, \"#7201a8\"], [0.3333333333333333, \"#9c179e\"], [0.4444444444444444, \"#bd3786\"], [0.5555555555555556, \"#d8576b\"], [0.6666666666666666, \"#ed7953\"], [0.7777777777777778, \"#fb9f3a\"], [0.8888888888888888, \"#fdca26\"], [1.0, \"#f0f921\"]]}, \"colorway\": [\"#636efa\", \"#EF553B\", \"#00cc96\", \"#ab63fa\", \"#FFA15A\", \"#19d3f3\", \"#FF6692\", \"#B6E880\", \"#FF97FF\", \"#FECB52\"], \"font\": {\"color\": \"#2a3f5f\"}, \"geo\": {\"bgcolor\": \"white\", \"lakecolor\": \"white\", \"landcolor\": \"#E5ECF6\", \"showlakes\": true, \"showland\": true, \"subunitcolor\": \"white\"}, \"hoverlabel\": {\"align\": \"left\"}, \"hovermode\": \"closest\", \"mapbox\": {\"style\": \"light\"}, \"paper_bgcolor\": \"white\", \"plot_bgcolor\": \"#E5ECF6\", \"polar\": {\"angularaxis\": {\"gridcolor\": \"white\", \"linecolor\": \"white\", \"ticks\": \"\"}, \"bgcolor\": \"#E5ECF6\", \"radialaxis\": {\"gridcolor\": \"white\", \"linecolor\": \"white\", \"ticks\": \"\"}}, \"scene\": {\"xaxis\": {\"backgroundcolor\": \"#E5ECF6\", \"gridcolor\": \"white\", \"gridwidth\": 2, \"linecolor\": \"white\", \"showbackground\": true, \"ticks\": \"\", \"zerolinecolor\": \"white\"}, \"yaxis\": {\"backgroundcolor\": \"#E5ECF6\", \"gridcolor\": \"white\", \"gridwidth\": 2, \"linecolor\": \"white\", \"showbackground\": true, \"ticks\": \"\", \"zerolinecolor\": \"white\"}, \"zaxis\": {\"backgroundcolor\": \"#E5ECF6\", \"gridcolor\": \"white\", \"gridwidth\": 2, \"linecolor\": \"white\", \"showbackground\": true, \"ticks\": \"\", \"zerolinecolor\": \"white\"}}, \"shapedefaults\": {\"line\": {\"color\": \"#2a3f5f\"}}, \"ternary\": {\"aaxis\": {\"gridcolor\": \"white\", \"linecolor\": \"white\", \"ticks\": \"\"}, \"baxis\": {\"gridcolor\": \"white\", \"linecolor\": \"white\", \"ticks\": \"\"}, \"bgcolor\": \"#E5ECF6\", \"caxis\": {\"gridcolor\": \"white\", \"linecolor\": \"white\", \"ticks\": \"\"}}, \"title\": {\"x\": 0.05}, \"xaxis\": {\"automargin\": true, \"gridcolor\": \"white\", \"linecolor\": \"white\", \"ticks\": \"\", \"title\": {\"standoff\": 15}, \"zerolinecolor\": \"white\", \"zerolinewidth\": 2}, \"yaxis\": {\"automargin\": true, \"gridcolor\": \"white\", \"linecolor\": \"white\", \"ticks\": \"\", \"title\": {\"standoff\": 15}, \"zerolinecolor\": \"white\", \"zerolinewidth\": 2}}}, \"title\": {\"text\": \"Venezuela's Shrinking Economy vs Neighboring Countries\", \"x\": 0.5}, \"width\": 1500, \"xaxis\": {\"anchor\": \"y\", \"domain\": [0.0, 1.0], \"title\": {\"text\": \"Years\"}}, \"yaxis\": {\"anchor\": \"x\", \"domain\": [0.0, 1.0], \"title\": {\"text\": \"GDP Percentage Growth\"}}},\n",
              "                        {\"responsive\": true}\n",
              "                    ).then(function(){\n",
              "                            \n",
              "var gd = document.getElementById('0ec9872d-52b0-4d2e-8066-addf0436145c');\n",
              "var x = new MutationObserver(function (mutations, observer) {{\n",
              "        var display = window.getComputedStyle(gd).display;\n",
              "        if (!display || display === 'none') {{\n",
              "            console.log([gd, 'removed!']);\n",
              "            Plotly.purge(gd);\n",
              "            observer.disconnect();\n",
              "        }}\n",
              "}});\n",
              "\n",
              "// Listen for the removal of the full notebook cells\n",
              "var notebookContainer = gd.closest('#notebook-container');\n",
              "if (notebookContainer) {{\n",
              "    x.observe(notebookContainer, {childList: true});\n",
              "}}\n",
              "\n",
              "// Listen for the clearing of the current output cell\n",
              "var outputEl = gd.closest('.output');\n",
              "if (outputEl) {{\n",
              "    x.observe(outputEl, {childList: true});\n",
              "}}\n",
              "\n",
              "                        })\n",
              "                };\n",
              "                \n",
              "            </script>\n",
              "        </div>\n",
              "</body>\n",
              "</html>"
            ]
          },
          "metadata": {
            "tags": []
          }
        }
      ]
    },
    {
      "cell_type": "markdown",
      "metadata": {
        "id": "FxnUoIZJ9gd3"
      },
      "source": [
        "##**2b) Data Cleanse- Inflation**"
      ]
    },
    {
      "cell_type": "markdown",
      "metadata": {
        "id": "OQhcM0UQTnko"
      },
      "source": [
        "### **Inflation- Web Scrape**"
      ]
    },
    {
      "cell_type": "code",
      "metadata": {
        "id": "SefYC-xVP_5k",
        "outputId": "a4639d42-e813-443c-ddf9-9151e8e966fb",
        "colab": {
          "base_uri": "https://localhost:8080/",
          "height": 168
        }
      },
      "source": [
        "Inflation_df= pd.read_html(\"https://www.imf.org/en/Publications/WEO/weo-database/2020/October/weo-report?c=299,&s=PCPIPCH,&sy=1990&ey=2020&ssm=0&scsm=1&scc=0&ssd=1&ssc=0&sic=0&sort=country&ds=.&br=1\") #Web scrape for inflation rate, create a dataframe \n",
        "Inflation_df = Inflation_df[0]\n",
        "Inflation_df"
      ],
      "execution_count": null,
      "outputs": [
        {
          "output_type": "execute_result",
          "data": {
            "text/html": [
              "<div>\n",
              "<style scoped>\n",
              "    .dataframe tbody tr th:only-of-type {\n",
              "        vertical-align: middle;\n",
              "    }\n",
              "\n",
              "    .dataframe tbody tr th {\n",
              "        vertical-align: top;\n",
              "    }\n",
              "\n",
              "    .dataframe thead th {\n",
              "        text-align: right;\n",
              "    }\n",
              "</style>\n",
              "<table border=\"1\" class=\"dataframe\">\n",
              "  <thead>\n",
              "    <tr style=\"text-align: right;\">\n",
              "      <th></th>\n",
              "      <th>Country</th>\n",
              "      <th>Subject Descriptor</th>\n",
              "      <th>Units</th>\n",
              "      <th>Scale</th>\n",
              "      <th>Country/Series-specific Notes</th>\n",
              "      <th>1990</th>\n",
              "      <th>1991</th>\n",
              "      <th>1992</th>\n",
              "      <th>1993</th>\n",
              "      <th>1994</th>\n",
              "      <th>1995</th>\n",
              "      <th>1996</th>\n",
              "      <th>1997</th>\n",
              "      <th>1998</th>\n",
              "      <th>1999</th>\n",
              "      <th>2000</th>\n",
              "      <th>2001</th>\n",
              "      <th>2002</th>\n",
              "      <th>2003</th>\n",
              "      <th>2004</th>\n",
              "      <th>2005</th>\n",
              "      <th>2006</th>\n",
              "      <th>2007</th>\n",
              "      <th>2008</th>\n",
              "      <th>2009</th>\n",
              "      <th>2010</th>\n",
              "      <th>2011</th>\n",
              "      <th>2012</th>\n",
              "      <th>2013</th>\n",
              "      <th>2014</th>\n",
              "      <th>2015</th>\n",
              "      <th>2016</th>\n",
              "      <th>2017</th>\n",
              "      <th>2018</th>\n",
              "      <th>2019</th>\n",
              "      <th>2020</th>\n",
              "    </tr>\n",
              "  </thead>\n",
              "  <tbody>\n",
              "    <tr>\n",
              "      <th>0</th>\n",
              "      <td>Venezuela</td>\n",
              "      <td>Inflation, average consumer prices</td>\n",
              "      <td>Percent change</td>\n",
              "      <td>NaN</td>\n",
              "      <td>NaN</td>\n",
              "      <td>40.656</td>\n",
              "      <td>34.205</td>\n",
              "      <td>31.423</td>\n",
              "      <td>38.122</td>\n",
              "      <td>60.817</td>\n",
              "      <td>59.923</td>\n",
              "      <td>99.876</td>\n",
              "      <td>50.04</td>\n",
              "      <td>35.782</td>\n",
              "      <td>23.57</td>\n",
              "      <td>16.206</td>\n",
              "      <td>12.531</td>\n",
              "      <td>22.434</td>\n",
              "      <td>31.091</td>\n",
              "      <td>21.747</td>\n",
              "      <td>15.955</td>\n",
              "      <td>13.663</td>\n",
              "      <td>18.699</td>\n",
              "      <td>31.441</td>\n",
              "      <td>26.041</td>\n",
              "      <td>28.187</td>\n",
              "      <td>26.09</td>\n",
              "      <td>21.069</td>\n",
              "      <td>40.639</td>\n",
              "      <td>62.169</td>\n",
              "      <td>121.738</td>\n",
              "      <td>254.949</td>\n",
              "      <td>438.117</td>\n",
              "      <td>65374.082</td>\n",
              "      <td>19906.024</td>\n",
              "      <td>6500.0</td>\n",
              "    </tr>\n",
              "  </tbody>\n",
              "</table>\n",
              "</div>"
            ],
            "text/plain": [
              "     Country                  Subject Descriptor  ...       2019    2020\n",
              "0  Venezuela  Inflation, average consumer prices  ...  19906.024  6500.0\n",
              "\n",
              "[1 rows x 36 columns]"
            ]
          },
          "metadata": {
            "tags": []
          },
          "execution_count": 299
        }
      ]
    },
    {
      "cell_type": "code",
      "metadata": {
        "id": "Dz6wdwZ-QKoS",
        "outputId": "0ed05667-c6c0-4d45-8b65-8d689b616988",
        "colab": {
          "base_uri": "https://localhost:8080/",
          "height": 80
        }
      },
      "source": [
        "Inflation_df=Inflation_df.drop(columns=['Subject Descriptor',\"Units\",\"Scale\",\"Country/Series-specific Notes\"]) # Data Cleaning, don't need these columns\n",
        "Inflation_df"
      ],
      "execution_count": null,
      "outputs": [
        {
          "output_type": "execute_result",
          "data": {
            "text/html": [
              "<div>\n",
              "<style scoped>\n",
              "    .dataframe tbody tr th:only-of-type {\n",
              "        vertical-align: middle;\n",
              "    }\n",
              "\n",
              "    .dataframe tbody tr th {\n",
              "        vertical-align: top;\n",
              "    }\n",
              "\n",
              "    .dataframe thead th {\n",
              "        text-align: right;\n",
              "    }\n",
              "</style>\n",
              "<table border=\"1\" class=\"dataframe\">\n",
              "  <thead>\n",
              "    <tr style=\"text-align: right;\">\n",
              "      <th></th>\n",
              "      <th>Country</th>\n",
              "      <th>1990</th>\n",
              "      <th>1991</th>\n",
              "      <th>1992</th>\n",
              "      <th>1993</th>\n",
              "      <th>1994</th>\n",
              "      <th>1995</th>\n",
              "      <th>1996</th>\n",
              "      <th>1997</th>\n",
              "      <th>1998</th>\n",
              "      <th>1999</th>\n",
              "      <th>2000</th>\n",
              "      <th>2001</th>\n",
              "      <th>2002</th>\n",
              "      <th>2003</th>\n",
              "      <th>2004</th>\n",
              "      <th>2005</th>\n",
              "      <th>2006</th>\n",
              "      <th>2007</th>\n",
              "      <th>2008</th>\n",
              "      <th>2009</th>\n",
              "      <th>2010</th>\n",
              "      <th>2011</th>\n",
              "      <th>2012</th>\n",
              "      <th>2013</th>\n",
              "      <th>2014</th>\n",
              "      <th>2015</th>\n",
              "      <th>2016</th>\n",
              "      <th>2017</th>\n",
              "      <th>2018</th>\n",
              "      <th>2019</th>\n",
              "      <th>2020</th>\n",
              "    </tr>\n",
              "  </thead>\n",
              "  <tbody>\n",
              "    <tr>\n",
              "      <th>0</th>\n",
              "      <td>Venezuela</td>\n",
              "      <td>40.656</td>\n",
              "      <td>34.205</td>\n",
              "      <td>31.423</td>\n",
              "      <td>38.122</td>\n",
              "      <td>60.817</td>\n",
              "      <td>59.923</td>\n",
              "      <td>99.876</td>\n",
              "      <td>50.04</td>\n",
              "      <td>35.782</td>\n",
              "      <td>23.57</td>\n",
              "      <td>16.206</td>\n",
              "      <td>12.531</td>\n",
              "      <td>22.434</td>\n",
              "      <td>31.091</td>\n",
              "      <td>21.747</td>\n",
              "      <td>15.955</td>\n",
              "      <td>13.663</td>\n",
              "      <td>18.699</td>\n",
              "      <td>31.441</td>\n",
              "      <td>26.041</td>\n",
              "      <td>28.187</td>\n",
              "      <td>26.09</td>\n",
              "      <td>21.069</td>\n",
              "      <td>40.639</td>\n",
              "      <td>62.169</td>\n",
              "      <td>121.738</td>\n",
              "      <td>254.949</td>\n",
              "      <td>438.117</td>\n",
              "      <td>65374.082</td>\n",
              "      <td>19906.024</td>\n",
              "      <td>6500.0</td>\n",
              "    </tr>\n",
              "  </tbody>\n",
              "</table>\n",
              "</div>"
            ],
            "text/plain": [
              "     Country    1990    1991    1992  ...     2017       2018       2019    2020\n",
              "0  Venezuela  40.656  34.205  31.423  ...  438.117  65374.082  19906.024  6500.0\n",
              "\n",
              "[1 rows x 32 columns]"
            ]
          },
          "metadata": {
            "tags": []
          },
          "execution_count": 300
        }
      ]
    },
    {
      "cell_type": "code",
      "metadata": {
        "id": "126Gn7qFQQf1",
        "outputId": "2bd4c221-a653-4732-e239-2a9be260b768",
        "colab": {
          "base_uri": "https://localhost:8080/"
        }
      },
      "source": [
        "years= list(Inflation_df) # Listing years for dataframe piviot, take out Country with remove from list\n",
        "years"
      ],
      "execution_count": null,
      "outputs": [
        {
          "output_type": "execute_result",
          "data": {
            "text/plain": [
              "['Country',\n",
              " '1990',\n",
              " '1991',\n",
              " '1992',\n",
              " '1993',\n",
              " '1994',\n",
              " '1995',\n",
              " '1996',\n",
              " '1997',\n",
              " '1998',\n",
              " '1999',\n",
              " '2000',\n",
              " '2001',\n",
              " '2002',\n",
              " '2003',\n",
              " '2004',\n",
              " '2005',\n",
              " '2006',\n",
              " '2007',\n",
              " '2008',\n",
              " '2009',\n",
              " '2010',\n",
              " '2011',\n",
              " '2012',\n",
              " '2013',\n",
              " '2014',\n",
              " '2015',\n",
              " '2016',\n",
              " '2017',\n",
              " '2018',\n",
              " '2019',\n",
              " '2020']"
            ]
          },
          "metadata": {
            "tags": []
          },
          "execution_count": 302
        }
      ]
    },
    {
      "cell_type": "code",
      "metadata": {
        "id": "Srjwlc0MQVa7",
        "outputId": "7c5de6ab-376d-4b5a-c473-0f38809cacf6",
        "colab": {
          "base_uri": "https://localhost:8080/"
        }
      },
      "source": [
        "years.remove('Country') #I need to remove the string because it will prevent from using the pivot to long df\n",
        "years"
      ],
      "execution_count": null,
      "outputs": [
        {
          "output_type": "execute_result",
          "data": {
            "text/plain": [
              "['1990',\n",
              " '1991',\n",
              " '1992',\n",
              " '1993',\n",
              " '1994',\n",
              " '1995',\n",
              " '1996',\n",
              " '1997',\n",
              " '1998',\n",
              " '1999',\n",
              " '2000',\n",
              " '2001',\n",
              " '2002',\n",
              " '2003',\n",
              " '2004',\n",
              " '2005',\n",
              " '2006',\n",
              " '2007',\n",
              " '2008',\n",
              " '2009',\n",
              " '2010',\n",
              " '2011',\n",
              " '2012',\n",
              " '2013',\n",
              " '2014',\n",
              " '2015',\n",
              " '2016',\n",
              " '2017',\n",
              " '2018',\n",
              " '2019',\n",
              " '2020']"
            ]
          },
          "metadata": {
            "tags": []
          },
          "execution_count": 303
        }
      ]
    },
    {
      "cell_type": "markdown",
      "metadata": {
        "id": "aG69CaorVvuO"
      },
      "source": [
        "### **Inflation- Data frame Long Pivot**"
      ]
    },
    {
      "cell_type": "code",
      "metadata": {
        "id": "uBx16GNkQa-T",
        "outputId": "87711e50-dbb8-4799-ba0a-b95d3f10272a",
        "colab": {
          "base_uri": "https://localhost:8080/",
          "height": 1000
        }
      },
      "source": [
        "long_df_Inflation = Inflation_df.melt(\n",
        "    id_vars=\"Country\",                         # Unique identifier\n",
        "    value_vars=years,                          # List of columns to be melted to a single variable\n",
        "    var_name=\"Years\",                          # The new column name for the variable\n",
        "    value_name=\"Inflation Rate\"                # The new column name for the value\n",
        ")\n",
        "\n",
        "long_df_Inflation"
      ],
      "execution_count": null,
      "outputs": [
        {
          "output_type": "execute_result",
          "data": {
            "text/html": [
              "<div>\n",
              "<style scoped>\n",
              "    .dataframe tbody tr th:only-of-type {\n",
              "        vertical-align: middle;\n",
              "    }\n",
              "\n",
              "    .dataframe tbody tr th {\n",
              "        vertical-align: top;\n",
              "    }\n",
              "\n",
              "    .dataframe thead th {\n",
              "        text-align: right;\n",
              "    }\n",
              "</style>\n",
              "<table border=\"1\" class=\"dataframe\">\n",
              "  <thead>\n",
              "    <tr style=\"text-align: right;\">\n",
              "      <th></th>\n",
              "      <th>Country</th>\n",
              "      <th>Years</th>\n",
              "      <th>Inflation Rate</th>\n",
              "    </tr>\n",
              "  </thead>\n",
              "  <tbody>\n",
              "    <tr>\n",
              "      <th>0</th>\n",
              "      <td>Venezuela</td>\n",
              "      <td>1990</td>\n",
              "      <td>40.656</td>\n",
              "    </tr>\n",
              "    <tr>\n",
              "      <th>1</th>\n",
              "      <td>Venezuela</td>\n",
              "      <td>1991</td>\n",
              "      <td>34.205</td>\n",
              "    </tr>\n",
              "    <tr>\n",
              "      <th>2</th>\n",
              "      <td>Venezuela</td>\n",
              "      <td>1992</td>\n",
              "      <td>31.423</td>\n",
              "    </tr>\n",
              "    <tr>\n",
              "      <th>3</th>\n",
              "      <td>Venezuela</td>\n",
              "      <td>1993</td>\n",
              "      <td>38.122</td>\n",
              "    </tr>\n",
              "    <tr>\n",
              "      <th>4</th>\n",
              "      <td>Venezuela</td>\n",
              "      <td>1994</td>\n",
              "      <td>60.817</td>\n",
              "    </tr>\n",
              "    <tr>\n",
              "      <th>5</th>\n",
              "      <td>Venezuela</td>\n",
              "      <td>1995</td>\n",
              "      <td>59.923</td>\n",
              "    </tr>\n",
              "    <tr>\n",
              "      <th>6</th>\n",
              "      <td>Venezuela</td>\n",
              "      <td>1996</td>\n",
              "      <td>99.876</td>\n",
              "    </tr>\n",
              "    <tr>\n",
              "      <th>7</th>\n",
              "      <td>Venezuela</td>\n",
              "      <td>1997</td>\n",
              "      <td>50.040</td>\n",
              "    </tr>\n",
              "    <tr>\n",
              "      <th>8</th>\n",
              "      <td>Venezuela</td>\n",
              "      <td>1998</td>\n",
              "      <td>35.782</td>\n",
              "    </tr>\n",
              "    <tr>\n",
              "      <th>9</th>\n",
              "      <td>Venezuela</td>\n",
              "      <td>1999</td>\n",
              "      <td>23.570</td>\n",
              "    </tr>\n",
              "    <tr>\n",
              "      <th>10</th>\n",
              "      <td>Venezuela</td>\n",
              "      <td>2000</td>\n",
              "      <td>16.206</td>\n",
              "    </tr>\n",
              "    <tr>\n",
              "      <th>11</th>\n",
              "      <td>Venezuela</td>\n",
              "      <td>2001</td>\n",
              "      <td>12.531</td>\n",
              "    </tr>\n",
              "    <tr>\n",
              "      <th>12</th>\n",
              "      <td>Venezuela</td>\n",
              "      <td>2002</td>\n",
              "      <td>22.434</td>\n",
              "    </tr>\n",
              "    <tr>\n",
              "      <th>13</th>\n",
              "      <td>Venezuela</td>\n",
              "      <td>2003</td>\n",
              "      <td>31.091</td>\n",
              "    </tr>\n",
              "    <tr>\n",
              "      <th>14</th>\n",
              "      <td>Venezuela</td>\n",
              "      <td>2004</td>\n",
              "      <td>21.747</td>\n",
              "    </tr>\n",
              "    <tr>\n",
              "      <th>15</th>\n",
              "      <td>Venezuela</td>\n",
              "      <td>2005</td>\n",
              "      <td>15.955</td>\n",
              "    </tr>\n",
              "    <tr>\n",
              "      <th>16</th>\n",
              "      <td>Venezuela</td>\n",
              "      <td>2006</td>\n",
              "      <td>13.663</td>\n",
              "    </tr>\n",
              "    <tr>\n",
              "      <th>17</th>\n",
              "      <td>Venezuela</td>\n",
              "      <td>2007</td>\n",
              "      <td>18.699</td>\n",
              "    </tr>\n",
              "    <tr>\n",
              "      <th>18</th>\n",
              "      <td>Venezuela</td>\n",
              "      <td>2008</td>\n",
              "      <td>31.441</td>\n",
              "    </tr>\n",
              "    <tr>\n",
              "      <th>19</th>\n",
              "      <td>Venezuela</td>\n",
              "      <td>2009</td>\n",
              "      <td>26.041</td>\n",
              "    </tr>\n",
              "    <tr>\n",
              "      <th>20</th>\n",
              "      <td>Venezuela</td>\n",
              "      <td>2010</td>\n",
              "      <td>28.187</td>\n",
              "    </tr>\n",
              "    <tr>\n",
              "      <th>21</th>\n",
              "      <td>Venezuela</td>\n",
              "      <td>2011</td>\n",
              "      <td>26.090</td>\n",
              "    </tr>\n",
              "    <tr>\n",
              "      <th>22</th>\n",
              "      <td>Venezuela</td>\n",
              "      <td>2012</td>\n",
              "      <td>21.069</td>\n",
              "    </tr>\n",
              "    <tr>\n",
              "      <th>23</th>\n",
              "      <td>Venezuela</td>\n",
              "      <td>2013</td>\n",
              "      <td>40.639</td>\n",
              "    </tr>\n",
              "    <tr>\n",
              "      <th>24</th>\n",
              "      <td>Venezuela</td>\n",
              "      <td>2014</td>\n",
              "      <td>62.169</td>\n",
              "    </tr>\n",
              "    <tr>\n",
              "      <th>25</th>\n",
              "      <td>Venezuela</td>\n",
              "      <td>2015</td>\n",
              "      <td>121.738</td>\n",
              "    </tr>\n",
              "    <tr>\n",
              "      <th>26</th>\n",
              "      <td>Venezuela</td>\n",
              "      <td>2016</td>\n",
              "      <td>254.949</td>\n",
              "    </tr>\n",
              "    <tr>\n",
              "      <th>27</th>\n",
              "      <td>Venezuela</td>\n",
              "      <td>2017</td>\n",
              "      <td>438.117</td>\n",
              "    </tr>\n",
              "    <tr>\n",
              "      <th>28</th>\n",
              "      <td>Venezuela</td>\n",
              "      <td>2018</td>\n",
              "      <td>65374.082</td>\n",
              "    </tr>\n",
              "    <tr>\n",
              "      <th>29</th>\n",
              "      <td>Venezuela</td>\n",
              "      <td>2019</td>\n",
              "      <td>19906.024</td>\n",
              "    </tr>\n",
              "    <tr>\n",
              "      <th>30</th>\n",
              "      <td>Venezuela</td>\n",
              "      <td>2020</td>\n",
              "      <td>6500.000</td>\n",
              "    </tr>\n",
              "  </tbody>\n",
              "</table>\n",
              "</div>"
            ],
            "text/plain": [
              "      Country Years  Inflation Rate\n",
              "0   Venezuela  1990          40.656\n",
              "1   Venezuela  1991          34.205\n",
              "2   Venezuela  1992          31.423\n",
              "3   Venezuela  1993          38.122\n",
              "4   Venezuela  1994          60.817\n",
              "5   Venezuela  1995          59.923\n",
              "6   Venezuela  1996          99.876\n",
              "7   Venezuela  1997          50.040\n",
              "8   Venezuela  1998          35.782\n",
              "9   Venezuela  1999          23.570\n",
              "10  Venezuela  2000          16.206\n",
              "11  Venezuela  2001          12.531\n",
              "12  Venezuela  2002          22.434\n",
              "13  Venezuela  2003          31.091\n",
              "14  Venezuela  2004          21.747\n",
              "15  Venezuela  2005          15.955\n",
              "16  Venezuela  2006          13.663\n",
              "17  Venezuela  2007          18.699\n",
              "18  Venezuela  2008          31.441\n",
              "19  Venezuela  2009          26.041\n",
              "20  Venezuela  2010          28.187\n",
              "21  Venezuela  2011          26.090\n",
              "22  Venezuela  2012          21.069\n",
              "23  Venezuela  2013          40.639\n",
              "24  Venezuela  2014          62.169\n",
              "25  Venezuela  2015         121.738\n",
              "26  Venezuela  2016         254.949\n",
              "27  Venezuela  2017         438.117\n",
              "28  Venezuela  2018       65374.082\n",
              "29  Venezuela  2019       19906.024\n",
              "30  Venezuela  2020        6500.000"
            ]
          },
          "metadata": {
            "tags": []
          },
          "execution_count": 304
        }
      ]
    },
    {
      "cell_type": "markdown",
      "metadata": {
        "id": "aS73prxyV4U0"
      },
      "source": [
        "### **Inflation- Interactive Line Graph with Plotly**"
      ]
    },
    {
      "cell_type": "code",
      "metadata": {
        "id": "9A5cUo-V35Je",
        "outputId": "a171e674-3f0c-449a-90c7-42203383ee89",
        "colab": {
          "base_uri": "https://localhost:8080/",
          "height": 817
        }
      },
      "source": [
        "import plotly.express as px                                        # This is very similar to the bar graph interactive, however not is a line. Like before, font sizes are increased when needed. \n",
        "fig = px.line(long_df_Inflation, x=\"Years\", y=\"Inflation Rate\")\n",
        "\n",
        "fig.update_layout(\n",
        "    autosize=False,\n",
        "    width=1500,\n",
        "    height=800,)\n",
        "\n",
        "fig.update_layout(                                                  # Simply put this code is to change the font, title, and legend. Like before.   \n",
        "legend=go.layout.Legend(\n",
        "x=0,\n",
        "y=1,\n",
        "traceorder=\"normal\",\n",
        "font=dict(\n",
        "family=\"sans-serif\",\n",
        "size=20,\n",
        "color=\"black\"\n",
        ")\n",
        ")\n",
        ")\n",
        "\n",
        "fig.update_layout(title_text=\"Venzuela Inflation Rate\", title_x=0.5)\n",
        "\n",
        "\n",
        "fig.show()"
      ],
      "execution_count": null,
      "outputs": [
        {
          "output_type": "display_data",
          "data": {
            "text/html": [
              "<html>\n",
              "<head><meta charset=\"utf-8\" /></head>\n",
              "<body>\n",
              "    <div>\n",
              "            <script src=\"https://cdnjs.cloudflare.com/ajax/libs/mathjax/2.7.5/MathJax.js?config=TeX-AMS-MML_SVG\"></script><script type=\"text/javascript\">if (window.MathJax) {MathJax.Hub.Config({SVG: {font: \"STIX-Web\"}});}</script>\n",
              "                <script type=\"text/javascript\">window.PlotlyConfig = {MathJaxConfig: 'local'};</script>\n",
              "        <script src=\"https://cdn.plot.ly/plotly-latest.min.js\"></script>    \n",
              "            <div id=\"c7123b9a-09b2-48df-86a4-c7aae04bb097\" class=\"plotly-graph-div\" style=\"height:800px; width:1500px;\"></div>\n",
              "            <script type=\"text/javascript\">\n",
              "                \n",
              "                    window.PLOTLYENV=window.PLOTLYENV || {};\n",
              "                    \n",
              "                if (document.getElementById(\"c7123b9a-09b2-48df-86a4-c7aae04bb097\")) {\n",
              "                    Plotly.newPlot(\n",
              "                        'c7123b9a-09b2-48df-86a4-c7aae04bb097',\n",
              "                        [{\"hoverlabel\": {\"namelength\": 0}, \"hovertemplate\": \"Years=%{x}<br>Inflation Rate=%{y}\", \"legendgroup\": \"\", \"line\": {\"color\": \"#636efa\", \"dash\": \"solid\"}, \"mode\": \"lines\", \"name\": \"\", \"showlegend\": false, \"type\": \"scatter\", \"x\": [\"1990\", \"1991\", \"1992\", \"1993\", \"1994\", \"1995\", \"1996\", \"1997\", \"1998\", \"1999\", \"2000\", \"2001\", \"2002\", \"2003\", \"2004\", \"2005\", \"2006\", \"2007\", \"2008\", \"2009\", \"2010\", \"2011\", \"2012\", \"2013\", \"2014\", \"2015\", \"2016\", \"2017\", \"2018\", \"2019\", \"2020\"], \"xaxis\": \"x\", \"y\": [40.656, 34.205, 31.423000000000002, 38.122, 60.817, 59.923, 99.876, 50.04, 35.782, 23.57, 16.206, 12.530999999999999, 22.434, 31.090999999999998, 21.747, 15.955, 13.663, 18.699, 31.441, 26.041, 28.186999999999998, 26.09, 21.069000000000003, 40.639, 62.169, 121.738, 254.949, 438.11699999999996, 65374.082, 19906.023999999998, 6500.0], \"yaxis\": \"y\"}],\n",
              "                        {\"autosize\": false, \"height\": 800, \"legend\": {\"font\": {\"color\": \"black\", \"family\": \"sans-serif\", \"size\": 20}, \"traceorder\": \"normal\", \"x\": 0, \"y\": 1}, \"margin\": {\"t\": 60}, \"template\": {\"data\": {\"bar\": [{\"error_x\": {\"color\": \"#2a3f5f\"}, \"error_y\": {\"color\": \"#2a3f5f\"}, \"marker\": {\"line\": {\"color\": \"#E5ECF6\", \"width\": 0.5}}, \"type\": \"bar\"}], \"barpolar\": [{\"marker\": {\"line\": {\"color\": \"#E5ECF6\", \"width\": 0.5}}, \"type\": \"barpolar\"}], \"carpet\": [{\"aaxis\": {\"endlinecolor\": \"#2a3f5f\", \"gridcolor\": \"white\", \"linecolor\": \"white\", \"minorgridcolor\": \"white\", \"startlinecolor\": \"#2a3f5f\"}, \"baxis\": {\"endlinecolor\": \"#2a3f5f\", \"gridcolor\": \"white\", \"linecolor\": \"white\", \"minorgridcolor\": \"white\", \"startlinecolor\": \"#2a3f5f\"}, \"type\": \"carpet\"}], \"choropleth\": [{\"colorbar\": {\"outlinewidth\": 0, \"ticks\": \"\"}, \"type\": \"choropleth\"}], \"contour\": [{\"colorbar\": {\"outlinewidth\": 0, \"ticks\": \"\"}, \"colorscale\": [[0.0, \"#0d0887\"], [0.1111111111111111, \"#46039f\"], [0.2222222222222222, \"#7201a8\"], [0.3333333333333333, \"#9c179e\"], [0.4444444444444444, \"#bd3786\"], [0.5555555555555556, \"#d8576b\"], [0.6666666666666666, \"#ed7953\"], [0.7777777777777778, \"#fb9f3a\"], [0.8888888888888888, \"#fdca26\"], [1.0, \"#f0f921\"]], \"type\": \"contour\"}], \"contourcarpet\": [{\"colorbar\": {\"outlinewidth\": 0, \"ticks\": \"\"}, \"type\": \"contourcarpet\"}], \"heatmap\": [{\"colorbar\": {\"outlinewidth\": 0, \"ticks\": \"\"}, \"colorscale\": [[0.0, \"#0d0887\"], [0.1111111111111111, \"#46039f\"], [0.2222222222222222, \"#7201a8\"], [0.3333333333333333, \"#9c179e\"], [0.4444444444444444, \"#bd3786\"], [0.5555555555555556, \"#d8576b\"], [0.6666666666666666, \"#ed7953\"], [0.7777777777777778, \"#fb9f3a\"], [0.8888888888888888, \"#fdca26\"], [1.0, \"#f0f921\"]], \"type\": \"heatmap\"}], \"heatmapgl\": [{\"colorbar\": {\"outlinewidth\": 0, \"ticks\": \"\"}, \"colorscale\": [[0.0, \"#0d0887\"], [0.1111111111111111, \"#46039f\"], [0.2222222222222222, \"#7201a8\"], [0.3333333333333333, \"#9c179e\"], [0.4444444444444444, \"#bd3786\"], [0.5555555555555556, \"#d8576b\"], [0.6666666666666666, \"#ed7953\"], [0.7777777777777778, \"#fb9f3a\"], [0.8888888888888888, \"#fdca26\"], [1.0, \"#f0f921\"]], \"type\": \"heatmapgl\"}], \"histogram\": [{\"marker\": {\"colorbar\": {\"outlinewidth\": 0, \"ticks\": \"\"}}, \"type\": \"histogram\"}], \"histogram2d\": [{\"colorbar\": {\"outlinewidth\": 0, \"ticks\": \"\"}, \"colorscale\": [[0.0, \"#0d0887\"], [0.1111111111111111, \"#46039f\"], [0.2222222222222222, \"#7201a8\"], [0.3333333333333333, \"#9c179e\"], [0.4444444444444444, \"#bd3786\"], [0.5555555555555556, \"#d8576b\"], [0.6666666666666666, \"#ed7953\"], [0.7777777777777778, \"#fb9f3a\"], [0.8888888888888888, \"#fdca26\"], [1.0, \"#f0f921\"]], \"type\": \"histogram2d\"}], \"histogram2dcontour\": [{\"colorbar\": {\"outlinewidth\": 0, \"ticks\": \"\"}, \"colorscale\": [[0.0, \"#0d0887\"], [0.1111111111111111, \"#46039f\"], [0.2222222222222222, \"#7201a8\"], [0.3333333333333333, \"#9c179e\"], [0.4444444444444444, \"#bd3786\"], [0.5555555555555556, \"#d8576b\"], [0.6666666666666666, \"#ed7953\"], [0.7777777777777778, \"#fb9f3a\"], [0.8888888888888888, \"#fdca26\"], [1.0, \"#f0f921\"]], \"type\": \"histogram2dcontour\"}], \"mesh3d\": [{\"colorbar\": {\"outlinewidth\": 0, \"ticks\": \"\"}, \"type\": \"mesh3d\"}], \"parcoords\": [{\"line\": {\"colorbar\": {\"outlinewidth\": 0, \"ticks\": \"\"}}, \"type\": \"parcoords\"}], \"pie\": [{\"automargin\": true, \"type\": \"pie\"}], \"scatter\": [{\"marker\": {\"colorbar\": {\"outlinewidth\": 0, \"ticks\": \"\"}}, \"type\": \"scatter\"}], \"scatter3d\": [{\"line\": {\"colorbar\": {\"outlinewidth\": 0, \"ticks\": \"\"}}, \"marker\": {\"colorbar\": {\"outlinewidth\": 0, \"ticks\": \"\"}}, \"type\": \"scatter3d\"}], \"scattercarpet\": [{\"marker\": {\"colorbar\": {\"outlinewidth\": 0, \"ticks\": \"\"}}, \"type\": \"scattercarpet\"}], \"scattergeo\": [{\"marker\": {\"colorbar\": {\"outlinewidth\": 0, \"ticks\": \"\"}}, \"type\": \"scattergeo\"}], \"scattergl\": [{\"marker\": {\"colorbar\": {\"outlinewidth\": 0, \"ticks\": \"\"}}, \"type\": \"scattergl\"}], \"scattermapbox\": [{\"marker\": {\"colorbar\": {\"outlinewidth\": 0, \"ticks\": \"\"}}, \"type\": \"scattermapbox\"}], \"scatterpolar\": [{\"marker\": {\"colorbar\": {\"outlinewidth\": 0, \"ticks\": \"\"}}, \"type\": \"scatterpolar\"}], \"scatterpolargl\": [{\"marker\": {\"colorbar\": {\"outlinewidth\": 0, \"ticks\": \"\"}}, \"type\": \"scatterpolargl\"}], \"scatterternary\": [{\"marker\": {\"colorbar\": {\"outlinewidth\": 0, \"ticks\": \"\"}}, \"type\": \"scatterternary\"}], \"surface\": [{\"colorbar\": {\"outlinewidth\": 0, \"ticks\": \"\"}, \"colorscale\": [[0.0, \"#0d0887\"], [0.1111111111111111, \"#46039f\"], [0.2222222222222222, \"#7201a8\"], [0.3333333333333333, \"#9c179e\"], [0.4444444444444444, \"#bd3786\"], [0.5555555555555556, \"#d8576b\"], [0.6666666666666666, \"#ed7953\"], [0.7777777777777778, \"#fb9f3a\"], [0.8888888888888888, \"#fdca26\"], [1.0, \"#f0f921\"]], \"type\": \"surface\"}], \"table\": [{\"cells\": {\"fill\": {\"color\": \"#EBF0F8\"}, \"line\": {\"color\": \"white\"}}, \"header\": {\"fill\": {\"color\": \"#C8D4E3\"}, \"line\": {\"color\": \"white\"}}, \"type\": \"table\"}]}, \"layout\": {\"annotationdefaults\": {\"arrowcolor\": \"#2a3f5f\", \"arrowhead\": 0, \"arrowwidth\": 1}, \"coloraxis\": {\"colorbar\": {\"outlinewidth\": 0, \"ticks\": \"\"}}, \"colorscale\": {\"diverging\": [[0, \"#8e0152\"], [0.1, \"#c51b7d\"], [0.2, \"#de77ae\"], [0.3, \"#f1b6da\"], [0.4, \"#fde0ef\"], [0.5, \"#f7f7f7\"], [0.6, \"#e6f5d0\"], [0.7, \"#b8e186\"], [0.8, \"#7fbc41\"], [0.9, \"#4d9221\"], [1, \"#276419\"]], \"sequential\": [[0.0, \"#0d0887\"], [0.1111111111111111, \"#46039f\"], [0.2222222222222222, \"#7201a8\"], [0.3333333333333333, \"#9c179e\"], [0.4444444444444444, \"#bd3786\"], [0.5555555555555556, \"#d8576b\"], [0.6666666666666666, \"#ed7953\"], [0.7777777777777778, \"#fb9f3a\"], [0.8888888888888888, \"#fdca26\"], [1.0, \"#f0f921\"]], \"sequentialminus\": [[0.0, \"#0d0887\"], [0.1111111111111111, \"#46039f\"], [0.2222222222222222, \"#7201a8\"], [0.3333333333333333, \"#9c179e\"], [0.4444444444444444, \"#bd3786\"], [0.5555555555555556, \"#d8576b\"], [0.6666666666666666, \"#ed7953\"], [0.7777777777777778, \"#fb9f3a\"], [0.8888888888888888, \"#fdca26\"], [1.0, \"#f0f921\"]]}, \"colorway\": [\"#636efa\", \"#EF553B\", \"#00cc96\", \"#ab63fa\", \"#FFA15A\", \"#19d3f3\", \"#FF6692\", \"#B6E880\", \"#FF97FF\", \"#FECB52\"], \"font\": {\"color\": \"#2a3f5f\"}, \"geo\": {\"bgcolor\": \"white\", \"lakecolor\": \"white\", \"landcolor\": \"#E5ECF6\", \"showlakes\": true, \"showland\": true, \"subunitcolor\": \"white\"}, \"hoverlabel\": {\"align\": \"left\"}, \"hovermode\": \"closest\", \"mapbox\": {\"style\": \"light\"}, \"paper_bgcolor\": \"white\", \"plot_bgcolor\": \"#E5ECF6\", \"polar\": {\"angularaxis\": {\"gridcolor\": \"white\", \"linecolor\": \"white\", \"ticks\": \"\"}, \"bgcolor\": \"#E5ECF6\", \"radialaxis\": {\"gridcolor\": \"white\", \"linecolor\": \"white\", \"ticks\": \"\"}}, \"scene\": {\"xaxis\": {\"backgroundcolor\": \"#E5ECF6\", \"gridcolor\": \"white\", \"gridwidth\": 2, \"linecolor\": \"white\", \"showbackground\": true, \"ticks\": \"\", \"zerolinecolor\": \"white\"}, \"yaxis\": {\"backgroundcolor\": \"#E5ECF6\", \"gridcolor\": \"white\", \"gridwidth\": 2, \"linecolor\": \"white\", \"showbackground\": true, \"ticks\": \"\", \"zerolinecolor\": \"white\"}, \"zaxis\": {\"backgroundcolor\": \"#E5ECF6\", \"gridcolor\": \"white\", \"gridwidth\": 2, \"linecolor\": \"white\", \"showbackground\": true, \"ticks\": \"\", \"zerolinecolor\": \"white\"}}, \"shapedefaults\": {\"line\": {\"color\": \"#2a3f5f\"}}, \"ternary\": {\"aaxis\": {\"gridcolor\": \"white\", \"linecolor\": \"white\", \"ticks\": \"\"}, \"baxis\": {\"gridcolor\": \"white\", \"linecolor\": \"white\", \"ticks\": \"\"}, \"bgcolor\": \"#E5ECF6\", \"caxis\": {\"gridcolor\": \"white\", \"linecolor\": \"white\", \"ticks\": \"\"}}, \"title\": {\"x\": 0.05}, \"xaxis\": {\"automargin\": true, \"gridcolor\": \"white\", \"linecolor\": \"white\", \"ticks\": \"\", \"title\": {\"standoff\": 15}, \"zerolinecolor\": \"white\", \"zerolinewidth\": 2}, \"yaxis\": {\"automargin\": true, \"gridcolor\": \"white\", \"linecolor\": \"white\", \"ticks\": \"\", \"title\": {\"standoff\": 15}, \"zerolinecolor\": \"white\", \"zerolinewidth\": 2}}}, \"title\": {\"text\": \"Venzuela Inflation Rate\", \"x\": 0.5}, \"width\": 1500, \"xaxis\": {\"anchor\": \"y\", \"domain\": [0.0, 1.0], \"title\": {\"text\": \"Years\"}}, \"yaxis\": {\"anchor\": \"x\", \"domain\": [0.0, 1.0], \"title\": {\"text\": \"Inflation Rate\"}}},\n",
              "                        {\"responsive\": true}\n",
              "                    ).then(function(){\n",
              "                            \n",
              "var gd = document.getElementById('c7123b9a-09b2-48df-86a4-c7aae04bb097');\n",
              "var x = new MutationObserver(function (mutations, observer) {{\n",
              "        var display = window.getComputedStyle(gd).display;\n",
              "        if (!display || display === 'none') {{\n",
              "            console.log([gd, 'removed!']);\n",
              "            Plotly.purge(gd);\n",
              "            observer.disconnect();\n",
              "        }}\n",
              "}});\n",
              "\n",
              "// Listen for the removal of the full notebook cells\n",
              "var notebookContainer = gd.closest('#notebook-container');\n",
              "if (notebookContainer) {{\n",
              "    x.observe(notebookContainer, {childList: true});\n",
              "}}\n",
              "\n",
              "// Listen for the clearing of the current output cell\n",
              "var outputEl = gd.closest('.output');\n",
              "if (outputEl) {{\n",
              "    x.observe(outputEl, {childList: true});\n",
              "}}\n",
              "\n",
              "                        })\n",
              "                };\n",
              "                \n",
              "            </script>\n",
              "        </div>\n",
              "</body>\n",
              "</html>"
            ]
          },
          "metadata": {
            "tags": []
          }
        }
      ]
    },
    {
      "cell_type": "markdown",
      "metadata": {
        "id": "hUZxwkyySOUi"
      },
      "source": [
        "### **Inflation- Timeline Graph of Data Frame**"
      ]
    },
    {
      "cell_type": "code",
      "metadata": {
        "id": "VCG-LH9630je",
        "outputId": "fe602c14-c20b-4e10-ed59-7484be6cfdb9",
        "colab": {
          "base_uri": "https://localhost:8080/",
          "height": 943
        }
      },
      "source": [
        "#http://fingfx.thomsonreuters.com/gfx/rngs/VENEZUELA-ECONOMY/010040800HY/index.html\n",
        "\n",
        "\n",
        "fig, ax = plt.subplots(figsize=(20,15))                          # This graph is not interactive I made it timelined to show how money supply causes inflation to go up \n",
        "ax.set_ylabel(\"Inflation Rate\",fontname=\"Arial\", fontsize=25)    # Font size increase \n",
        "ax.set_xlabel(\"Years\",fontname=\"Arial\", fontsize=20)\n",
        "ax.set_title(\"Venzuela Inflation Rate- Timeline\",fontname=\"Arial\", fontsize=25)\n",
        "long_df_Inflation.plot(kind='line',x='Years',y='Inflation Rate', legend= \"GDP Percentage Growth\", color=\"b\", rot=45, ax = ax) # This plots the dataframe created from the pivot, money supply data based on link above  \n",
        "\n",
        "plt.axvline(x=23.3,linewidth=4, color='r')                                                             # Give appearance of timeline \n",
        "\n",
        "plt.axvline(x=27.5,linewidth=4, color='r')                                                             # Give appearance of timeline \n",
        "\n",
        "plt.axvline(x=10,linewidth=4, color='r')                                                               # Give appearance of timeline \n",
        "\n",
        "ax.annotate('Nicolás Maduro is Elected' ,fontsize=15, xy=(23.3, 20000), xytext=(15, 20000),            # Timelined Maduro using line inserted \n",
        "            arrowprops=dict(facecolor='black', shrink=0.05))\n",
        "\n",
        "ax.annotate('Money supply=11.93 Trillion bolivars' ,fontsize=15, xy=(27.5, 40000), xytext=(13, 40000), # Timelined Money supply is very high using line inserted\n",
        "            arrowprops=dict(facecolor='black', shrink=0.05))\n",
        "\n",
        "ax.annotate('Money supply=.01 Trillion bolivars' ,fontsize=15, xy=(10, 20000), xytext=(.1, 10000),     # Timelined Money supply is very low using line inserted\n",
        "            arrowprops=dict(facecolor='black', shrink=0.05))\n",
        "       \n",
        "plt.text(.1, 65000, r'HyperInflation Rate= 12874.63 %' ,fontsize=15)                                   # Shows hyperinflation rate \n",
        "\n",
        "plt.text(.1, 60000, r'Increase in money supply= Inflation' ,fontsize=15)                               # Shows \"Increase in money supply= Inflation\""
      ],
      "execution_count": null,
      "outputs": [
        {
          "output_type": "execute_result",
          "data": {
            "text/plain": [
              "Text(0.1, 60000, 'Increase in money supply= Inflation')"
            ]
          },
          "metadata": {
            "tags": []
          },
          "execution_count": 307
        },
        {
          "output_type": "display_data",
          "data": {
            "image/png": "[encoded data removed]",
            "text/plain": [
              "<Figure size 1440x1080 with 1 Axes>"
            ]
          },
          "metadata": {
            "tags": [],
            "needs_background": "light"
          }
        }
      ]
    },
    {
      "cell_type": "markdown",
      "metadata": {
        "id": "0Bj1s6hW9pI1"
      },
      "source": [
        "##**2c) Data Cleanse- Poverty**"
      ]
    },
    {
      "cell_type": "markdown",
      "metadata": {
        "id": "5SwsT788WEps"
      },
      "source": [
        "### **Poverty- Find Source then Bar Graph**"
      ]
    },
    {
      "cell_type": "code",
      "metadata": {
        "id": "m8CiLiEwJSp1",
        "outputId": "f3519ab6-f123-4168-bf47-f07c4e6774b4",
        "colab": {
          "base_uri": "https://localhost:8080/",
          "height": 730
        }
      },
      "source": [
        "Poverty_Rate  = [19.7,9.2]                       #https://www.worldbank.org/en/topic/poverty/overview#:~:text=The%20global%20extreme%20poverty%20rate,%245.50%20a%20day%20in%202017\n",
        "Country = [\"Venezuela\",\t\"World/Global Average\"]  # Made my own dataframe, only needed two data points, no need for web scarping and csv, data is based off above link  \n",
        "Poverty_Rate\n",
        "\n",
        "fig, ax = plt.subplots(figsize=(12,12))\n",
        "\n",
        "ax.bar(Country, Poverty_Rate)\n",
        "ax.set_title(\"Poverty Rate\")\n",
        "ax.set_xlabel(\"Country\")\n",
        "ax.set_ylabel(\"Poverty Rate\")\n",
        "\n",
        "fig.show()"
      ],
      "execution_count": null,
      "outputs": [
        {
          "output_type": "display_data",
          "data": {
            "image/png": "[encoded data removed]",
            "text/plain": [
              "<Figure size 864x864 with 1 Axes>"
            ]
          },
          "metadata": {
            "tags": [],
            "needs_background": "light"
          }
        }
      ]
    },
    {
      "cell_type": "markdown",
      "metadata": {
        "id": "bG2t_agZ93wp"
      },
      "source": [
        "##**2d) Data Cleanse- Trade**"
      ]
    },
    {
      "cell_type": "markdown",
      "metadata": {
        "id": "6ZoYLICqWRzy"
      },
      "source": [
        "### **Trade- Web Scrape**"
      ]
    },
    {
      "cell_type": "code",
      "metadata": {
        "id": "pW_RgPFPWZ_Y",
        "outputId": "1167a168-343c-492c-dc39-5565481336ea",
        "colab": {
          "base_uri": "https://localhost:8080/",
          "height": 151
        }
      },
      "source": [
        "Trade_df= pd.read_html(\"https://www.imf.org/en/Publications/WEO/weo-database/2020/October/weo-report?c=299,&s=TMG_RPCH,&sy=1990&ey=2020&ssm=0&scsm=1&scc=0&ssd=1&ssc=0&sic=0&sort=country&ds=.&br=1\") #Web scrape for Import change, create a dataframe \n",
        "Trade_df = Trade_df[0]\n",
        "Trade_df"
      ],
      "execution_count": null,
      "outputs": [
        {
          "output_type": "execute_result",
          "data": {
            "text/html": [
              "<div>\n",
              "<style scoped>\n",
              "    .dataframe tbody tr th:only-of-type {\n",
              "        vertical-align: middle;\n",
              "    }\n",
              "\n",
              "    .dataframe tbody tr th {\n",
              "        vertical-align: top;\n",
              "    }\n",
              "\n",
              "    .dataframe thead th {\n",
              "        text-align: right;\n",
              "    }\n",
              "</style>\n",
              "<table border=\"1\" class=\"dataframe\">\n",
              "  <thead>\n",
              "    <tr style=\"text-align: right;\">\n",
              "      <th></th>\n",
              "      <th>Country</th>\n",
              "      <th>Subject Descriptor</th>\n",
              "      <th>Units</th>\n",
              "      <th>Scale</th>\n",
              "      <th>Country/Series-specific Notes</th>\n",
              "      <th>1990</th>\n",
              "      <th>1991</th>\n",
              "      <th>1992</th>\n",
              "      <th>1993</th>\n",
              "      <th>1994</th>\n",
              "      <th>1995</th>\n",
              "      <th>1996</th>\n",
              "      <th>1997</th>\n",
              "      <th>1998</th>\n",
              "      <th>1999</th>\n",
              "      <th>2000</th>\n",
              "      <th>2001</th>\n",
              "      <th>2002</th>\n",
              "      <th>2003</th>\n",
              "      <th>2004</th>\n",
              "      <th>2005</th>\n",
              "      <th>2006</th>\n",
              "      <th>2007</th>\n",
              "      <th>2008</th>\n",
              "      <th>2009</th>\n",
              "      <th>2010</th>\n",
              "      <th>2011</th>\n",
              "      <th>2012</th>\n",
              "      <th>2013</th>\n",
              "      <th>2014</th>\n",
              "      <th>2015</th>\n",
              "      <th>2016</th>\n",
              "      <th>2017</th>\n",
              "      <th>2018</th>\n",
              "      <th>2019</th>\n",
              "      <th>2020</th>\n",
              "    </tr>\n",
              "  </thead>\n",
              "  <tbody>\n",
              "    <tr>\n",
              "      <th>0</th>\n",
              "      <td>Venezuela</td>\n",
              "      <td>Volume of Imports of goods</td>\n",
              "      <td>Percent change</td>\n",
              "      <td>NaN</td>\n",
              "      <td>NaN</td>\n",
              "      <td>2.447</td>\n",
              "      <td>25.24</td>\n",
              "      <td>4.752</td>\n",
              "      <td>-11.738</td>\n",
              "      <td>-28.4</td>\n",
              "      <td>31.011</td>\n",
              "      <td>-15.485</td>\n",
              "      <td>62.421</td>\n",
              "      <td>14.298</td>\n",
              "      <td>-11.449</td>\n",
              "      <td>14.985</td>\n",
              "      <td>15.789</td>\n",
              "      <td>-28.215</td>\n",
              "      <td>-23.457</td>\n",
              "      <td>66.582</td>\n",
              "      <td>38.777</td>\n",
              "      <td>40.169</td>\n",
              "      <td>31.575</td>\n",
              "      <td>3.187</td>\n",
              "      <td>-21.528</td>\n",
              "      <td>-6.101</td>\n",
              "      <td>13.803</td>\n",
              "      <td>24.948</td>\n",
              "      <td>-9.687</td>\n",
              "      <td>-18.532</td>\n",
              "      <td>-23.102</td>\n",
              "      <td>-50.061</td>\n",
              "      <td>-34.651</td>\n",
              "      <td>-10.074</td>\n",
              "      <td>-33.14</td>\n",
              "      <td>-14.796</td>\n",
              "    </tr>\n",
              "  </tbody>\n",
              "</table>\n",
              "</div>"
            ],
            "text/plain": [
              "     Country          Subject Descriptor           Units  ...    2018   2019    2020\n",
              "0  Venezuela  Volume of Imports of goods  Percent change  ... -10.074 -33.14 -14.796\n",
              "\n",
              "[1 rows x 36 columns]"
            ]
          },
          "metadata": {
            "tags": []
          },
          "execution_count": 309
        }
      ]
    },
    {
      "cell_type": "code",
      "metadata": {
        "id": "zgmCoxDLWgGa",
        "outputId": "a3645678-afc8-4ed6-b661-4b1490740f5e",
        "colab": {
          "base_uri": "https://localhost:8080/",
          "height": 80
        }
      },
      "source": [
        "Trade_df=Trade_df.drop(columns=['Subject Descriptor',\"Units\",\"Scale\",\"Country/Series-specific Notes\"]) # Similar data cleanse as before, drop columns \n",
        "Trade_df"
      ],
      "execution_count": null,
      "outputs": [
        {
          "output_type": "execute_result",
          "data": {
            "text/html": [
              "<div>\n",
              "<style scoped>\n",
              "    .dataframe tbody tr th:only-of-type {\n",
              "        vertical-align: middle;\n",
              "    }\n",
              "\n",
              "    .dataframe tbody tr th {\n",
              "        vertical-align: top;\n",
              "    }\n",
              "\n",
              "    .dataframe thead th {\n",
              "        text-align: right;\n",
              "    }\n",
              "</style>\n",
              "<table border=\"1\" class=\"dataframe\">\n",
              "  <thead>\n",
              "    <tr style=\"text-align: right;\">\n",
              "      <th></th>\n",
              "      <th>Country</th>\n",
              "      <th>1990</th>\n",
              "      <th>1991</th>\n",
              "      <th>1992</th>\n",
              "      <th>1993</th>\n",
              "      <th>1994</th>\n",
              "      <th>1995</th>\n",
              "      <th>1996</th>\n",
              "      <th>1997</th>\n",
              "      <th>1998</th>\n",
              "      <th>1999</th>\n",
              "      <th>2000</th>\n",
              "      <th>2001</th>\n",
              "      <th>2002</th>\n",
              "      <th>2003</th>\n",
              "      <th>2004</th>\n",
              "      <th>2005</th>\n",
              "      <th>2006</th>\n",
              "      <th>2007</th>\n",
              "      <th>2008</th>\n",
              "      <th>2009</th>\n",
              "      <th>2010</th>\n",
              "      <th>2011</th>\n",
              "      <th>2012</th>\n",
              "      <th>2013</th>\n",
              "      <th>2014</th>\n",
              "      <th>2015</th>\n",
              "      <th>2016</th>\n",
              "      <th>2017</th>\n",
              "      <th>2018</th>\n",
              "      <th>2019</th>\n",
              "      <th>2020</th>\n",
              "    </tr>\n",
              "  </thead>\n",
              "  <tbody>\n",
              "    <tr>\n",
              "      <th>0</th>\n",
              "      <td>Venezuela</td>\n",
              "      <td>2.447</td>\n",
              "      <td>25.24</td>\n",
              "      <td>4.752</td>\n",
              "      <td>-11.738</td>\n",
              "      <td>-28.4</td>\n",
              "      <td>31.011</td>\n",
              "      <td>-15.485</td>\n",
              "      <td>62.421</td>\n",
              "      <td>14.298</td>\n",
              "      <td>-11.449</td>\n",
              "      <td>14.985</td>\n",
              "      <td>15.789</td>\n",
              "      <td>-28.215</td>\n",
              "      <td>-23.457</td>\n",
              "      <td>66.582</td>\n",
              "      <td>38.777</td>\n",
              "      <td>40.169</td>\n",
              "      <td>31.575</td>\n",
              "      <td>3.187</td>\n",
              "      <td>-21.528</td>\n",
              "      <td>-6.101</td>\n",
              "      <td>13.803</td>\n",
              "      <td>24.948</td>\n",
              "      <td>-9.687</td>\n",
              "      <td>-18.532</td>\n",
              "      <td>-23.102</td>\n",
              "      <td>-50.061</td>\n",
              "      <td>-34.651</td>\n",
              "      <td>-10.074</td>\n",
              "      <td>-33.14</td>\n",
              "      <td>-14.796</td>\n",
              "    </tr>\n",
              "  </tbody>\n",
              "</table>\n",
              "</div>"
            ],
            "text/plain": [
              "     Country   1990   1991   1992  ...    2017    2018   2019    2020\n",
              "0  Venezuela  2.447  25.24  4.752  ... -34.651 -10.074 -33.14 -14.796\n",
              "\n",
              "[1 rows x 32 columns]"
            ]
          },
          "metadata": {
            "tags": []
          },
          "execution_count": 310
        }
      ]
    },
    {
      "cell_type": "code",
      "metadata": {
        "id": "CohBG3z1Wshi",
        "outputId": "47a3a257-30fa-4136-bc84-9343056f8ce5",
        "colab": {
          "base_uri": "https://localhost:8080/"
        }
      },
      "source": [
        "Years= list(Trade_df) # Generate list \n",
        "Years"
      ],
      "execution_count": null,
      "outputs": [
        {
          "output_type": "execute_result",
          "data": {
            "text/plain": [
              "['Country',\n",
              " '1990',\n",
              " '1991',\n",
              " '1992',\n",
              " '1993',\n",
              " '1994',\n",
              " '1995',\n",
              " '1996',\n",
              " '1997',\n",
              " '1998',\n",
              " '1999',\n",
              " '2000',\n",
              " '2001',\n",
              " '2002',\n",
              " '2003',\n",
              " '2004',\n",
              " '2005',\n",
              " '2006',\n",
              " '2007',\n",
              " '2008',\n",
              " '2009',\n",
              " '2010',\n",
              " '2011',\n",
              " '2012',\n",
              " '2013',\n",
              " '2014',\n",
              " '2015',\n",
              " '2016',\n",
              " '2017',\n",
              " '2018',\n",
              " '2019',\n",
              " '2020']"
            ]
          },
          "metadata": {
            "tags": []
          },
          "execution_count": 314
        }
      ]
    },
    {
      "cell_type": "code",
      "metadata": {
        "id": "-5ZRCribW1Xb",
        "outputId": "65a0d1a7-ffc7-4b66-bb19-e980a94e8280",
        "colab": {
          "base_uri": "https://localhost:8080/"
        }
      },
      "source": [
        "Years.remove('Country') # Similar data cleanse as before, drop string Country\n",
        "Years"
      ],
      "execution_count": null,
      "outputs": [
        {
          "output_type": "execute_result",
          "data": {
            "text/plain": [
              "['1990',\n",
              " '1991',\n",
              " '1992',\n",
              " '1993',\n",
              " '1994',\n",
              " '1995',\n",
              " '1996',\n",
              " '1997',\n",
              " '1998',\n",
              " '1999',\n",
              " '2000',\n",
              " '2001',\n",
              " '2002',\n",
              " '2003',\n",
              " '2004',\n",
              " '2005',\n",
              " '2006',\n",
              " '2007',\n",
              " '2008',\n",
              " '2009',\n",
              " '2010',\n",
              " '2011',\n",
              " '2012',\n",
              " '2013',\n",
              " '2014',\n",
              " '2015',\n",
              " '2016',\n",
              " '2017',\n",
              " '2018',\n",
              " '2019',\n",
              " '2020']"
            ]
          },
          "metadata": {
            "tags": []
          },
          "execution_count": 315
        }
      ]
    },
    {
      "cell_type": "markdown",
      "metadata": {
        "id": "im1y1e2kXpPU"
      },
      "source": [
        "### **Trade- Data frame Long Pivot/ Import Growth Rate**"
      ]
    },
    {
      "cell_type": "code",
      "metadata": {
        "id": "aiHlsuwTW7xX",
        "outputId": "c09e614f-827c-4f77-e052-5f78e1901f7a",
        "colab": {
          "base_uri": "https://localhost:8080/",
          "height": 1000
        }
      },
      "source": [
        "long_df = Trade_df.melt(\n",
        "    id_vars=\"Country\",                         # Unique identifier\n",
        "    value_vars=Years,                          # List of columns to be melted to a single variable\n",
        "    var_name=\"Years\",                          # The new column name for the variable\n",
        "    value_name=\"Imports Growth Rate\"           # The new column name for the value\n",
        ")\n",
        "\n",
        "long_df"
      ],
      "execution_count": null,
      "outputs": [
        {
          "output_type": "execute_result",
          "data": {
            "text/html": [
              "<div>\n",
              "<style scoped>\n",
              "    .dataframe tbody tr th:only-of-type {\n",
              "        vertical-align: middle;\n",
              "    }\n",
              "\n",
              "    .dataframe tbody tr th {\n",
              "        vertical-align: top;\n",
              "    }\n",
              "\n",
              "    .dataframe thead th {\n",
              "        text-align: right;\n",
              "    }\n",
              "</style>\n",
              "<table border=\"1\" class=\"dataframe\">\n",
              "  <thead>\n",
              "    <tr style=\"text-align: right;\">\n",
              "      <th></th>\n",
              "      <th>Country</th>\n",
              "      <th>Years</th>\n",
              "      <th>Imports Growth Rate</th>\n",
              "    </tr>\n",
              "  </thead>\n",
              "  <tbody>\n",
              "    <tr>\n",
              "      <th>0</th>\n",
              "      <td>Venezuela</td>\n",
              "      <td>1990</td>\n",
              "      <td>2.447</td>\n",
              "    </tr>\n",
              "    <tr>\n",
              "      <th>1</th>\n",
              "      <td>Venezuela</td>\n",
              "      <td>1991</td>\n",
              "      <td>25.240</td>\n",
              "    </tr>\n",
              "    <tr>\n",
              "      <th>2</th>\n",
              "      <td>Venezuela</td>\n",
              "      <td>1992</td>\n",
              "      <td>4.752</td>\n",
              "    </tr>\n",
              "    <tr>\n",
              "      <th>3</th>\n",
              "      <td>Venezuela</td>\n",
              "      <td>1993</td>\n",
              "      <td>-11.738</td>\n",
              "    </tr>\n",
              "    <tr>\n",
              "      <th>4</th>\n",
              "      <td>Venezuela</td>\n",
              "      <td>1994</td>\n",
              "      <td>-28.400</td>\n",
              "    </tr>\n",
              "    <tr>\n",
              "      <th>5</th>\n",
              "      <td>Venezuela</td>\n",
              "      <td>1995</td>\n",
              "      <td>31.011</td>\n",
              "    </tr>\n",
              "    <tr>\n",
              "      <th>6</th>\n",
              "      <td>Venezuela</td>\n",
              "      <td>1996</td>\n",
              "      <td>-15.485</td>\n",
              "    </tr>\n",
              "    <tr>\n",
              "      <th>7</th>\n",
              "      <td>Venezuela</td>\n",
              "      <td>1997</td>\n",
              "      <td>62.421</td>\n",
              "    </tr>\n",
              "    <tr>\n",
              "      <th>8</th>\n",
              "      <td>Venezuela</td>\n",
              "      <td>1998</td>\n",
              "      <td>14.298</td>\n",
              "    </tr>\n",
              "    <tr>\n",
              "      <th>9</th>\n",
              "      <td>Venezuela</td>\n",
              "      <td>1999</td>\n",
              "      <td>-11.449</td>\n",
              "    </tr>\n",
              "    <tr>\n",
              "      <th>10</th>\n",
              "      <td>Venezuela</td>\n",
              "      <td>2000</td>\n",
              "      <td>14.985</td>\n",
              "    </tr>\n",
              "    <tr>\n",
              "      <th>11</th>\n",
              "      <td>Venezuela</td>\n",
              "      <td>2001</td>\n",
              "      <td>15.789</td>\n",
              "    </tr>\n",
              "    <tr>\n",
              "      <th>12</th>\n",
              "      <td>Venezuela</td>\n",
              "      <td>2002</td>\n",
              "      <td>-28.215</td>\n",
              "    </tr>\n",
              "    <tr>\n",
              "      <th>13</th>\n",
              "      <td>Venezuela</td>\n",
              "      <td>2003</td>\n",
              "      <td>-23.457</td>\n",
              "    </tr>\n",
              "    <tr>\n",
              "      <th>14</th>\n",
              "      <td>Venezuela</td>\n",
              "      <td>2004</td>\n",
              "      <td>66.582</td>\n",
              "    </tr>\n",
              "    <tr>\n",
              "      <th>15</th>\n",
              "      <td>Venezuela</td>\n",
              "      <td>2005</td>\n",
              "      <td>38.777</td>\n",
              "    </tr>\n",
              "    <tr>\n",
              "      <th>16</th>\n",
              "      <td>Venezuela</td>\n",
              "      <td>2006</td>\n",
              "      <td>40.169</td>\n",
              "    </tr>\n",
              "    <tr>\n",
              "      <th>17</th>\n",
              "      <td>Venezuela</td>\n",
              "      <td>2007</td>\n",
              "      <td>31.575</td>\n",
              "    </tr>\n",
              "    <tr>\n",
              "      <th>18</th>\n",
              "      <td>Venezuela</td>\n",
              "      <td>2008</td>\n",
              "      <td>3.187</td>\n",
              "    </tr>\n",
              "    <tr>\n",
              "      <th>19</th>\n",
              "      <td>Venezuela</td>\n",
              "      <td>2009</td>\n",
              "      <td>-21.528</td>\n",
              "    </tr>\n",
              "    <tr>\n",
              "      <th>20</th>\n",
              "      <td>Venezuela</td>\n",
              "      <td>2010</td>\n",
              "      <td>-6.101</td>\n",
              "    </tr>\n",
              "    <tr>\n",
              "      <th>21</th>\n",
              "      <td>Venezuela</td>\n",
              "      <td>2011</td>\n",
              "      <td>13.803</td>\n",
              "    </tr>\n",
              "    <tr>\n",
              "      <th>22</th>\n",
              "      <td>Venezuela</td>\n",
              "      <td>2012</td>\n",
              "      <td>24.948</td>\n",
              "    </tr>\n",
              "    <tr>\n",
              "      <th>23</th>\n",
              "      <td>Venezuela</td>\n",
              "      <td>2013</td>\n",
              "      <td>-9.687</td>\n",
              "    </tr>\n",
              "    <tr>\n",
              "      <th>24</th>\n",
              "      <td>Venezuela</td>\n",
              "      <td>2014</td>\n",
              "      <td>-18.532</td>\n",
              "    </tr>\n",
              "    <tr>\n",
              "      <th>25</th>\n",
              "      <td>Venezuela</td>\n",
              "      <td>2015</td>\n",
              "      <td>-23.102</td>\n",
              "    </tr>\n",
              "    <tr>\n",
              "      <th>26</th>\n",
              "      <td>Venezuela</td>\n",
              "      <td>2016</td>\n",
              "      <td>-50.061</td>\n",
              "    </tr>\n",
              "    <tr>\n",
              "      <th>27</th>\n",
              "      <td>Venezuela</td>\n",
              "      <td>2017</td>\n",
              "      <td>-34.651</td>\n",
              "    </tr>\n",
              "    <tr>\n",
              "      <th>28</th>\n",
              "      <td>Venezuela</td>\n",
              "      <td>2018</td>\n",
              "      <td>-10.074</td>\n",
              "    </tr>\n",
              "    <tr>\n",
              "      <th>29</th>\n",
              "      <td>Venezuela</td>\n",
              "      <td>2019</td>\n",
              "      <td>-33.140</td>\n",
              "    </tr>\n",
              "    <tr>\n",
              "      <th>30</th>\n",
              "      <td>Venezuela</td>\n",
              "      <td>2020</td>\n",
              "      <td>-14.796</td>\n",
              "    </tr>\n",
              "  </tbody>\n",
              "</table>\n",
              "</div>"
            ],
            "text/plain": [
              "      Country Years  Imports Growth Rate\n",
              "0   Venezuela  1990                2.447\n",
              "1   Venezuela  1991               25.240\n",
              "2   Venezuela  1992                4.752\n",
              "3   Venezuela  1993              -11.738\n",
              "4   Venezuela  1994              -28.400\n",
              "5   Venezuela  1995               31.011\n",
              "6   Venezuela  1996              -15.485\n",
              "7   Venezuela  1997               62.421\n",
              "8   Venezuela  1998               14.298\n",
              "9   Venezuela  1999              -11.449\n",
              "10  Venezuela  2000               14.985\n",
              "11  Venezuela  2001               15.789\n",
              "12  Venezuela  2002              -28.215\n",
              "13  Venezuela  2003              -23.457\n",
              "14  Venezuela  2004               66.582\n",
              "15  Venezuela  2005               38.777\n",
              "16  Venezuela  2006               40.169\n",
              "17  Venezuela  2007               31.575\n",
              "18  Venezuela  2008                3.187\n",
              "19  Venezuela  2009              -21.528\n",
              "20  Venezuela  2010               -6.101\n",
              "21  Venezuela  2011               13.803\n",
              "22  Venezuela  2012               24.948\n",
              "23  Venezuela  2013               -9.687\n",
              "24  Venezuela  2014              -18.532\n",
              "25  Venezuela  2015              -23.102\n",
              "26  Venezuela  2016              -50.061\n",
              "27  Venezuela  2017              -34.651\n",
              "28  Venezuela  2018              -10.074\n",
              "29  Venezuela  2019              -33.140\n",
              "30  Venezuela  2020              -14.796"
            ]
          },
          "metadata": {
            "tags": []
          },
          "execution_count": 319
        }
      ]
    },
    {
      "cell_type": "markdown",
      "metadata": {
        "id": "R_prDNtGXv6J"
      },
      "source": [
        "### **Trade- Filter rows by Years** "
      ]
    },
    {
      "cell_type": "code",
      "metadata": {
        "id": "rgePBxTNNUF2",
        "outputId": "360f3139-47c5-4f75-98d2-3149998985a7",
        "colab": {
          "base_uri": "https://localhost:8080/",
          "height": 328
        }
      },
      "source": [
        "start = '2012'\n",
        "end = '2020'\n",
        "\n",
        "l = list(long_df['Years'])                   #ordered list of names\n",
        "subl = l[l.index(start):l.index(end)+1]      #list of names between the start and end\n",
        "\n",
        "long_df[long_df['Years'].isin(subl)]         #filter dataset for list of names\n",
        "long_df=long_df[long_df['Years'].isin(subl)] #filter dataset for list of names\n",
        "long_df"
      ],
      "execution_count": null,
      "outputs": [
        {
          "output_type": "execute_result",
          "data": {
            "text/html": [
              "<div>\n",
              "<style scoped>\n",
              "    .dataframe tbody tr th:only-of-type {\n",
              "        vertical-align: middle;\n",
              "    }\n",
              "\n",
              "    .dataframe tbody tr th {\n",
              "        vertical-align: top;\n",
              "    }\n",
              "\n",
              "    .dataframe thead th {\n",
              "        text-align: right;\n",
              "    }\n",
              "</style>\n",
              "<table border=\"1\" class=\"dataframe\">\n",
              "  <thead>\n",
              "    <tr style=\"text-align: right;\">\n",
              "      <th></th>\n",
              "      <th>Country</th>\n",
              "      <th>Years</th>\n",
              "      <th>Imports Growth Rate</th>\n",
              "    </tr>\n",
              "  </thead>\n",
              "  <tbody>\n",
              "    <tr>\n",
              "      <th>22</th>\n",
              "      <td>Venezuela</td>\n",
              "      <td>2012</td>\n",
              "      <td>24.948</td>\n",
              "    </tr>\n",
              "    <tr>\n",
              "      <th>23</th>\n",
              "      <td>Venezuela</td>\n",
              "      <td>2013</td>\n",
              "      <td>-9.687</td>\n",
              "    </tr>\n",
              "    <tr>\n",
              "      <th>24</th>\n",
              "      <td>Venezuela</td>\n",
              "      <td>2014</td>\n",
              "      <td>-18.532</td>\n",
              "    </tr>\n",
              "    <tr>\n",
              "      <th>25</th>\n",
              "      <td>Venezuela</td>\n",
              "      <td>2015</td>\n",
              "      <td>-23.102</td>\n",
              "    </tr>\n",
              "    <tr>\n",
              "      <th>26</th>\n",
              "      <td>Venezuela</td>\n",
              "      <td>2016</td>\n",
              "      <td>-50.061</td>\n",
              "    </tr>\n",
              "    <tr>\n",
              "      <th>27</th>\n",
              "      <td>Venezuela</td>\n",
              "      <td>2017</td>\n",
              "      <td>-34.651</td>\n",
              "    </tr>\n",
              "    <tr>\n",
              "      <th>28</th>\n",
              "      <td>Venezuela</td>\n",
              "      <td>2018</td>\n",
              "      <td>-10.074</td>\n",
              "    </tr>\n",
              "    <tr>\n",
              "      <th>29</th>\n",
              "      <td>Venezuela</td>\n",
              "      <td>2019</td>\n",
              "      <td>-33.140</td>\n",
              "    </tr>\n",
              "    <tr>\n",
              "      <th>30</th>\n",
              "      <td>Venezuela</td>\n",
              "      <td>2020</td>\n",
              "      <td>-14.796</td>\n",
              "    </tr>\n",
              "  </tbody>\n",
              "</table>\n",
              "</div>"
            ],
            "text/plain": [
              "      Country Years  Imports Growth Rate\n",
              "22  Venezuela  2012               24.948\n",
              "23  Venezuela  2013               -9.687\n",
              "24  Venezuela  2014              -18.532\n",
              "25  Venezuela  2015              -23.102\n",
              "26  Venezuela  2016              -50.061\n",
              "27  Venezuela  2017              -34.651\n",
              "28  Venezuela  2018              -10.074\n",
              "29  Venezuela  2019              -33.140\n",
              "30  Venezuela  2020              -14.796"
            ]
          },
          "metadata": {
            "tags": []
          },
          "execution_count": 320
        }
      ]
    },
    {
      "cell_type": "markdown",
      "metadata": {
        "id": "PH7e71hyX7yj"
      },
      "source": [
        "### **Trade- Line graph of Data Frame**"
      ]
    },
    {
      "cell_type": "code",
      "metadata": {
        "id": "wIzigLoaXEC5",
        "outputId": "256cc0ff-deff-47c1-9145-a2c381b7869c",
        "colab": {
          "base_uri": "https://localhost:8080/",
          "height": 943
        }
      },
      "source": [
        "import numpy as np\n",
        "fig, ax = plt.subplots(figsize=(20,15))\n",
        "ax.set_ylabel(\"Venzuela Imports of Goods-Percent Change\",fontname=\"Arial\", fontsize=25)\n",
        "ax.set_xlabel(\"Years\",fontname=\"Arial\", fontsize=20)\n",
        "ax.set_title(\"Venzuela Imports of Goods-Percent Change\",fontname=\"Arial\", fontsize=25)\n",
        "long_df.plot(kind=\"line\",x=\"Years\",y=\"Imports Growth Rate\", legend= \"GDP Percentage Growth\", color=\"b\", rot=45, ax = ax)\n",
        "\n",
        "\n",
        "plt.axhline(y=0, color='r')                                               # I think inserting the x-axis is helpful \n",
        "\n",
        "\n",
        "ax.plot([3], [-23.102], 'o')                                              # Create annoations to identify U.S Sanctions \n",
        "ax.annotate('U.S Sanctions' ,fontsize=23, xy=(3, -23.102), xytext=(3, 4),\n",
        "            arrowprops=dict(facecolor='black', shrink=0.05))\n"
      ],
      "execution_count": null,
      "outputs": [
        {
          "output_type": "execute_result",
          "data": {
            "text/plain": [
              "Text(3, 4, 'U.S Sanctions')"
            ]
          },
          "metadata": {
            "tags": []
          },
          "execution_count": 321
        },
        {
          "output_type": "display_data",
          "data": {
            "image/png": "[encoded data removed]",
            "text/plain": [
              "<Figure size 1440x1080 with 1 Axes>"
            ]
          },
          "metadata": {
            "tags": [],
            "needs_background": "light"
          }
        }
      ]
    },
    {
      "cell_type": "markdown",
      "metadata": {
        "id": "lDwvpb4w-CN0"
      },
      "source": [
        "##**2e) Data Cleanse- Education**"
      ]
    },
    {
      "cell_type": "markdown",
      "metadata": {
        "id": "eJPBvUh8ZAjN"
      },
      "source": [
        "### **Web Scrape of Education Spending (World)**"
      ]
    },
    {
      "cell_type": "code",
      "metadata": {
        "id": "9yrWynLJKqBp",
        "outputId": "95885991-8dfc-4283-b3fe-77679ebb7f23",
        "colab": {
          "base_uri": "https://localhost:8080/",
          "height": 419
        }
      },
      "source": [
        "Education_df = pd.read_csv(\"/content/DP_LIVE_25102020061630321.csv\") # Read csv using this code, print df\n",
        "Education_df "
      ],
      "execution_count": null,
      "outputs": [
        {
          "output_type": "execute_result",
          "data": {
            "text/html": [
              "<div>\n",
              "<style scoped>\n",
              "    .dataframe tbody tr th:only-of-type {\n",
              "        vertical-align: middle;\n",
              "    }\n",
              "\n",
              "    .dataframe tbody tr th {\n",
              "        vertical-align: top;\n",
              "    }\n",
              "\n",
              "    .dataframe thead th {\n",
              "        text-align: right;\n",
              "    }\n",
              "</style>\n",
              "<table border=\"1\" class=\"dataframe\">\n",
              "  <thead>\n",
              "    <tr style=\"text-align: right;\">\n",
              "      <th></th>\n",
              "      <th>LOCATION</th>\n",
              "      <th>INDICATOR</th>\n",
              "      <th>SUBJECT</th>\n",
              "      <th>MEASURE</th>\n",
              "      <th>FREQUENCY</th>\n",
              "      <th>TIME</th>\n",
              "      <th>Value</th>\n",
              "      <th>Flag Codes</th>\n",
              "    </tr>\n",
              "  </thead>\n",
              "  <tbody>\n",
              "    <tr>\n",
              "      <th>0</th>\n",
              "      <td>AUT</td>\n",
              "      <td>EDUEXP</td>\n",
              "      <td>TRY</td>\n",
              "      <td>USD_STUDENT</td>\n",
              "      <td>A</td>\n",
              "      <td>2015</td>\n",
              "      <td>17555.235</td>\n",
              "      <td>NaN</td>\n",
              "    </tr>\n",
              "    <tr>\n",
              "      <th>1</th>\n",
              "      <td>AUT</td>\n",
              "      <td>EDUEXP</td>\n",
              "      <td>TRY</td>\n",
              "      <td>USD_STUDENT</td>\n",
              "      <td>A</td>\n",
              "      <td>2016</td>\n",
              "      <td>NaN</td>\n",
              "      <td>M</td>\n",
              "    </tr>\n",
              "    <tr>\n",
              "      <th>2</th>\n",
              "      <td>CZE</td>\n",
              "      <td>EDUEXP</td>\n",
              "      <td>TRY</td>\n",
              "      <td>USD_STUDENT</td>\n",
              "      <td>A</td>\n",
              "      <td>2015</td>\n",
              "      <td>10890.714</td>\n",
              "      <td>NaN</td>\n",
              "    </tr>\n",
              "    <tr>\n",
              "      <th>3</th>\n",
              "      <td>CZE</td>\n",
              "      <td>EDUEXP</td>\n",
              "      <td>TRY</td>\n",
              "      <td>USD_STUDENT</td>\n",
              "      <td>A</td>\n",
              "      <td>2016</td>\n",
              "      <td>NaN</td>\n",
              "      <td>M</td>\n",
              "    </tr>\n",
              "    <tr>\n",
              "      <th>4</th>\n",
              "      <td>FRA</td>\n",
              "      <td>EDUEXP</td>\n",
              "      <td>TRY</td>\n",
              "      <td>USD_STUDENT</td>\n",
              "      <td>A</td>\n",
              "      <td>2015</td>\n",
              "      <td>16144.755</td>\n",
              "      <td>NaN</td>\n",
              "    </tr>\n",
              "    <tr>\n",
              "      <th>...</th>\n",
              "      <td>...</td>\n",
              "      <td>...</td>\n",
              "      <td>...</td>\n",
              "      <td>...</td>\n",
              "      <td>...</td>\n",
              "      <td>...</td>\n",
              "      <td>...</td>\n",
              "      <td>...</td>\n",
              "    </tr>\n",
              "    <tr>\n",
              "      <th>179</th>\n",
              "      <td>SAU</td>\n",
              "      <td>EDUEXP</td>\n",
              "      <td>EARLYCHILDEDU</td>\n",
              "      <td>USD_STUDENT</td>\n",
              "      <td>A</td>\n",
              "      <td>2016</td>\n",
              "      <td>NaN</td>\n",
              "      <td>M</td>\n",
              "    </tr>\n",
              "    <tr>\n",
              "      <th>180</th>\n",
              "      <td>SVN</td>\n",
              "      <td>EDUEXP</td>\n",
              "      <td>EARLYCHILDEDU</td>\n",
              "      <td>USD_STUDENT</td>\n",
              "      <td>A</td>\n",
              "      <td>2015</td>\n",
              "      <td>8610.292</td>\n",
              "      <td>NaN</td>\n",
              "    </tr>\n",
              "    <tr>\n",
              "      <th>181</th>\n",
              "      <td>SVN</td>\n",
              "      <td>EDUEXP</td>\n",
              "      <td>EARLYCHILDEDU</td>\n",
              "      <td>USD_STUDENT</td>\n",
              "      <td>A</td>\n",
              "      <td>2016</td>\n",
              "      <td>NaN</td>\n",
              "      <td>M</td>\n",
              "    </tr>\n",
              "    <tr>\n",
              "      <th>182</th>\n",
              "      <td>ZAF</td>\n",
              "      <td>EDUEXP</td>\n",
              "      <td>EARLYCHILDEDU</td>\n",
              "      <td>USD_STUDENT</td>\n",
              "      <td>A</td>\n",
              "      <td>2015</td>\n",
              "      <td>NaN</td>\n",
              "      <td>M</td>\n",
              "    </tr>\n",
              "    <tr>\n",
              "      <th>183</th>\n",
              "      <td>ZAF</td>\n",
              "      <td>EDUEXP</td>\n",
              "      <td>EARLYCHILDEDU</td>\n",
              "      <td>USD_STUDENT</td>\n",
              "      <td>A</td>\n",
              "      <td>2016</td>\n",
              "      <td>NaN</td>\n",
              "      <td>M</td>\n",
              "    </tr>\n",
              "  </tbody>\n",
              "</table>\n",
              "<p>184 rows × 8 columns</p>\n",
              "</div>"
            ],
            "text/plain": [
              "    LOCATION INDICATOR        SUBJECT  ...  TIME      Value  Flag Codes\n",
              "0        AUT    EDUEXP            TRY  ...  2015  17555.235         NaN\n",
              "1        AUT    EDUEXP            TRY  ...  2016        NaN           M\n",
              "2        CZE    EDUEXP            TRY  ...  2015  10890.714         NaN\n",
              "3        CZE    EDUEXP            TRY  ...  2016        NaN           M\n",
              "4        FRA    EDUEXP            TRY  ...  2015  16144.755         NaN\n",
              "..       ...       ...            ...  ...   ...        ...         ...\n",
              "179      SAU    EDUEXP  EARLYCHILDEDU  ...  2016        NaN           M\n",
              "180      SVN    EDUEXP  EARLYCHILDEDU  ...  2015   8610.292         NaN\n",
              "181      SVN    EDUEXP  EARLYCHILDEDU  ...  2016        NaN           M\n",
              "182      ZAF    EDUEXP  EARLYCHILDEDU  ...  2015        NaN           M\n",
              "183      ZAF    EDUEXP  EARLYCHILDEDU  ...  2016        NaN           M\n",
              "\n",
              "[184 rows x 8 columns]"
            ]
          },
          "metadata": {
            "tags": []
          },
          "execution_count": 322
        }
      ]
    },
    {
      "cell_type": "code",
      "metadata": {
        "id": "3CvIEEhaMRit",
        "outputId": "fc9b486d-6b84-436b-90c9-4df9fc54a51e",
        "colab": {
          "base_uri": "https://localhost:8080/",
          "height": 419
        }
      },
      "source": [
        "Education_df.drop(columns=['INDICATOR',\"SUBJECT\",\"MEASURE\", 'FREQUENCY','TIME',\"Flag Codes\"])\n",
        "Education_df =Education_df .drop(columns=['INDICATOR',\"SUBJECT\",\"MEASURE\", 'FREQUENCY','TIME',\"Flag Codes\"]) # Similar data cleanse as before, drop columns \n",
        "Education_df "
      ],
      "execution_count": null,
      "outputs": [
        {
          "output_type": "execute_result",
          "data": {
            "text/html": [
              "<div>\n",
              "<style scoped>\n",
              "    .dataframe tbody tr th:only-of-type {\n",
              "        vertical-align: middle;\n",
              "    }\n",
              "\n",
              "    .dataframe tbody tr th {\n",
              "        vertical-align: top;\n",
              "    }\n",
              "\n",
              "    .dataframe thead th {\n",
              "        text-align: right;\n",
              "    }\n",
              "</style>\n",
              "<table border=\"1\" class=\"dataframe\">\n",
              "  <thead>\n",
              "    <tr style=\"text-align: right;\">\n",
              "      <th></th>\n",
              "      <th>LOCATION</th>\n",
              "      <th>Value</th>\n",
              "    </tr>\n",
              "  </thead>\n",
              "  <tbody>\n",
              "    <tr>\n",
              "      <th>0</th>\n",
              "      <td>AUT</td>\n",
              "      <td>17555.235</td>\n",
              "    </tr>\n",
              "    <tr>\n",
              "      <th>1</th>\n",
              "      <td>AUT</td>\n",
              "      <td>NaN</td>\n",
              "    </tr>\n",
              "    <tr>\n",
              "      <th>2</th>\n",
              "      <td>CZE</td>\n",
              "      <td>10890.714</td>\n",
              "    </tr>\n",
              "    <tr>\n",
              "      <th>3</th>\n",
              "      <td>CZE</td>\n",
              "      <td>NaN</td>\n",
              "    </tr>\n",
              "    <tr>\n",
              "      <th>4</th>\n",
              "      <td>FRA</td>\n",
              "      <td>16144.755</td>\n",
              "    </tr>\n",
              "    <tr>\n",
              "      <th>...</th>\n",
              "      <td>...</td>\n",
              "      <td>...</td>\n",
              "    </tr>\n",
              "    <tr>\n",
              "      <th>179</th>\n",
              "      <td>SAU</td>\n",
              "      <td>NaN</td>\n",
              "    </tr>\n",
              "    <tr>\n",
              "      <th>180</th>\n",
              "      <td>SVN</td>\n",
              "      <td>8610.292</td>\n",
              "    </tr>\n",
              "    <tr>\n",
              "      <th>181</th>\n",
              "      <td>SVN</td>\n",
              "      <td>NaN</td>\n",
              "    </tr>\n",
              "    <tr>\n",
              "      <th>182</th>\n",
              "      <td>ZAF</td>\n",
              "      <td>NaN</td>\n",
              "    </tr>\n",
              "    <tr>\n",
              "      <th>183</th>\n",
              "      <td>ZAF</td>\n",
              "      <td>NaN</td>\n",
              "    </tr>\n",
              "  </tbody>\n",
              "</table>\n",
              "<p>184 rows × 2 columns</p>\n",
              "</div>"
            ],
            "text/plain": [
              "    LOCATION      Value\n",
              "0        AUT  17555.235\n",
              "1        AUT        NaN\n",
              "2        CZE  10890.714\n",
              "3        CZE        NaN\n",
              "4        FRA  16144.755\n",
              "..       ...        ...\n",
              "179      SAU        NaN\n",
              "180      SVN   8610.292\n",
              "181      SVN        NaN\n",
              "182      ZAF        NaN\n",
              "183      ZAF        NaN\n",
              "\n",
              "[184 rows x 2 columns]"
            ]
          },
          "metadata": {
            "tags": []
          },
          "execution_count": 323
        }
      ]
    },
    {
      "cell_type": "markdown",
      "metadata": {
        "id": "bYC-VJECZqsZ"
      },
      "source": [
        "### **Filter by sorting Value**"
      ]
    },
    {
      "cell_type": "code",
      "metadata": {
        "id": "BqX6hdheMYwc",
        "outputId": "25887169-1ebb-4fff-9f88-f832bd7c70f9",
        "colab": {
          "base_uri": "https://localhost:8080/",
          "height": 419
        }
      },
      "source": [
        "# sort - ascending order\n",
        "import pandas as pd\n",
        " \n",
        "\n",
        "Education_df .sort_values(by=['Value'], inplace=True) # Similar data cleanse as before, but sorting value in order \n",
        "Education_df "
      ],
      "execution_count": null,
      "outputs": [
        {
          "output_type": "execute_result",
          "data": {
            "text/html": [
              "<div>\n",
              "<style scoped>\n",
              "    .dataframe tbody tr th:only-of-type {\n",
              "        vertical-align: middle;\n",
              "    }\n",
              "\n",
              "    .dataframe tbody tr th {\n",
              "        vertical-align: top;\n",
              "    }\n",
              "\n",
              "    .dataframe thead th {\n",
              "        text-align: right;\n",
              "    }\n",
              "</style>\n",
              "<table border=\"1\" class=\"dataframe\">\n",
              "  <thead>\n",
              "    <tr style=\"text-align: right;\">\n",
              "      <th></th>\n",
              "      <th>LOCATION</th>\n",
              "      <th>Value</th>\n",
              "    </tr>\n",
              "  </thead>\n",
              "  <tbody>\n",
              "    <tr>\n",
              "      <th>168</th>\n",
              "      <td>IDN</td>\n",
              "      <td>169.575</td>\n",
              "    </tr>\n",
              "    <tr>\n",
              "      <th>126</th>\n",
              "      <td>MEX</td>\n",
              "      <td>2684.695</td>\n",
              "    </tr>\n",
              "    <tr>\n",
              "      <th>146</th>\n",
              "      <td>TUR</td>\n",
              "      <td>3591.292</td>\n",
              "    </tr>\n",
              "    <tr>\n",
              "      <th>62</th>\n",
              "      <td>IDN</td>\n",
              "      <td>3764.700</td>\n",
              "    </tr>\n",
              "    <tr>\n",
              "      <th>68</th>\n",
              "      <td>GRC</td>\n",
              "      <td>4094.526</td>\n",
              "    </tr>\n",
              "    <tr>\n",
              "      <th>...</th>\n",
              "      <td>...</td>\n",
              "      <td>...</td>\n",
              "    </tr>\n",
              "    <tr>\n",
              "      <th>178</th>\n",
              "      <td>SAU</td>\n",
              "      <td>NaN</td>\n",
              "    </tr>\n",
              "    <tr>\n",
              "      <th>179</th>\n",
              "      <td>SAU</td>\n",
              "      <td>NaN</td>\n",
              "    </tr>\n",
              "    <tr>\n",
              "      <th>181</th>\n",
              "      <td>SVN</td>\n",
              "      <td>NaN</td>\n",
              "    </tr>\n",
              "    <tr>\n",
              "      <th>182</th>\n",
              "      <td>ZAF</td>\n",
              "      <td>NaN</td>\n",
              "    </tr>\n",
              "    <tr>\n",
              "      <th>183</th>\n",
              "      <td>ZAF</td>\n",
              "      <td>NaN</td>\n",
              "    </tr>\n",
              "  </tbody>\n",
              "</table>\n",
              "<p>184 rows × 2 columns</p>\n",
              "</div>"
            ],
            "text/plain": [
              "    LOCATION     Value\n",
              "168      IDN   169.575\n",
              "126      MEX  2684.695\n",
              "146      TUR  3591.292\n",
              "62       IDN  3764.700\n",
              "68       GRC  4094.526\n",
              "..       ...       ...\n",
              "178      SAU       NaN\n",
              "179      SAU       NaN\n",
              "181      SVN       NaN\n",
              "182      ZAF       NaN\n",
              "183      ZAF       NaN\n",
              "\n",
              "[184 rows x 2 columns]"
            ]
          },
          "metadata": {
            "tags": []
          },
          "execution_count": 324
        }
      ]
    },
    {
      "cell_type": "markdown",
      "metadata": {
        "id": "AYl3Y7i3aqZW"
      },
      "source": [
        "### **Remove duplicates (Location) within dataframe**"
      ]
    },
    {
      "cell_type": "code",
      "metadata": {
        "id": "IkyMmw_jMhZ2",
        "outputId": "7afaf685-0376-47df-e39b-5c6590710035",
        "colab": {
          "base_uri": "https://localhost:8080/",
          "height": 1000
        }
      },
      "source": [
        "Education_df.drop_duplicates(subset=['LOCATION'])\n",
        "Education_df=Education_df .drop_duplicates(subset=['LOCATION']) # Similar data cleanse as before, drop repeating/duplicate locations \n",
        "Education_df "
      ],
      "execution_count": null,
      "outputs": [
        {
          "output_type": "execute_result",
          "data": {
            "text/html": [
              "<div>\n",
              "<style scoped>\n",
              "    .dataframe tbody tr th:only-of-type {\n",
              "        vertical-align: middle;\n",
              "    }\n",
              "\n",
              "    .dataframe tbody tr th {\n",
              "        vertical-align: top;\n",
              "    }\n",
              "\n",
              "    .dataframe thead th {\n",
              "        text-align: right;\n",
              "    }\n",
              "</style>\n",
              "<table border=\"1\" class=\"dataframe\">\n",
              "  <thead>\n",
              "    <tr style=\"text-align: right;\">\n",
              "      <th></th>\n",
              "      <th>LOCATION</th>\n",
              "      <th>Value</th>\n",
              "    </tr>\n",
              "  </thead>\n",
              "  <tbody>\n",
              "    <tr>\n",
              "      <th>168</th>\n",
              "      <td>IDN</td>\n",
              "      <td>169.575</td>\n",
              "    </tr>\n",
              "    <tr>\n",
              "      <th>126</th>\n",
              "      <td>MEX</td>\n",
              "      <td>2684.695</td>\n",
              "    </tr>\n",
              "    <tr>\n",
              "      <th>146</th>\n",
              "      <td>TUR</td>\n",
              "      <td>3591.292</td>\n",
              "    </tr>\n",
              "    <tr>\n",
              "      <th>68</th>\n",
              "      <td>GRC</td>\n",
              "      <td>4094.526</td>\n",
              "    </tr>\n",
              "    <tr>\n",
              "      <th>170</th>\n",
              "      <td>ISR</td>\n",
              "      <td>4185.221</td>\n",
              "    </tr>\n",
              "    <tr>\n",
              "      <th>100</th>\n",
              "      <td>CZE</td>\n",
              "      <td>4953.118</td>\n",
              "    </tr>\n",
              "    <tr>\n",
              "      <th>84</th>\n",
              "      <td>COL</td>\n",
              "      <td>5040.455</td>\n",
              "    </tr>\n",
              "    <tr>\n",
              "      <th>176</th>\n",
              "      <td>RUS</td>\n",
              "      <td>5061.743</td>\n",
              "    </tr>\n",
              "    <tr>\n",
              "      <th>172</th>\n",
              "      <td>LVA</td>\n",
              "      <td>5313.316</td>\n",
              "    </tr>\n",
              "    <tr>\n",
              "      <th>174</th>\n",
              "      <td>LTU</td>\n",
              "      <td>5479.133</td>\n",
              "    </tr>\n",
              "    <tr>\n",
              "      <th>138</th>\n",
              "      <td>SVK</td>\n",
              "      <td>5811.212</td>\n",
              "    </tr>\n",
              "    <tr>\n",
              "      <th>156</th>\n",
              "      <td>CHL</td>\n",
              "      <td>5909.571</td>\n",
              "    </tr>\n",
              "    <tr>\n",
              "      <th>116</th>\n",
              "      <td>IRL</td>\n",
              "      <td>6105.903</td>\n",
              "    </tr>\n",
              "    <tr>\n",
              "      <th>134</th>\n",
              "      <td>POL</td>\n",
              "      <td>6221.502</td>\n",
              "    </tr>\n",
              "    <tr>\n",
              "      <th>118</th>\n",
              "      <td>ITA</td>\n",
              "      <td>6249.264</td>\n",
              "    </tr>\n",
              "    <tr>\n",
              "      <th>164</th>\n",
              "      <td>EST</td>\n",
              "      <td>6513.922</td>\n",
              "    </tr>\n",
              "    <tr>\n",
              "      <th>112</th>\n",
              "      <td>HUN</td>\n",
              "      <td>6835.456</td>\n",
              "    </tr>\n",
              "    <tr>\n",
              "      <th>140</th>\n",
              "      <td>ESP</td>\n",
              "      <td>6976.944</td>\n",
              "    </tr>\n",
              "    <tr>\n",
              "      <th>136</th>\n",
              "      <td>PRT</td>\n",
              "      <td>7098.987</td>\n",
              "    </tr>\n",
              "    <tr>\n",
              "      <th>92</th>\n",
              "      <td>AUS</td>\n",
              "      <td>7111.802</td>\n",
              "    </tr>\n",
              "    <tr>\n",
              "      <th>120</th>\n",
              "      <td>JPN</td>\n",
              "      <td>7499.035</td>\n",
              "    </tr>\n",
              "    <tr>\n",
              "      <th>106</th>\n",
              "      <td>FRA</td>\n",
              "      <td>7812.928</td>\n",
              "    </tr>\n",
              "    <tr>\n",
              "      <th>128</th>\n",
              "      <td>NLD</td>\n",
              "      <td>8351.843</td>\n",
              "    </tr>\n",
              "    <tr>\n",
              "      <th>180</th>\n",
              "      <td>SVN</td>\n",
              "      <td>8610.292</td>\n",
              "    </tr>\n",
              "    <tr>\n",
              "      <th>148</th>\n",
              "      <td>GBR</td>\n",
              "      <td>9048.388</td>\n",
              "    </tr>\n",
              "    <tr>\n",
              "      <th>94</th>\n",
              "      <td>AUT</td>\n",
              "      <td>9824.383</td>\n",
              "    </tr>\n",
              "    <tr>\n",
              "      <th>72</th>\n",
              "      <td>KOR</td>\n",
              "      <td>10108.948</td>\n",
              "    </tr>\n",
              "    <tr>\n",
              "      <th>108</th>\n",
              "      <td>DEU</td>\n",
              "      <td>11121.506</td>\n",
              "    </tr>\n",
              "    <tr>\n",
              "      <th>104</th>\n",
              "      <td>FIN</td>\n",
              "      <td>12332.219</td>\n",
              "    </tr>\n",
              "    <tr>\n",
              "      <th>40</th>\n",
              "      <td>ISL</td>\n",
              "      <td>12670.652</td>\n",
              "    </tr>\n",
              "    <tr>\n",
              "      <th>130</th>\n",
              "      <td>NZL</td>\n",
              "      <td>13465.562</td>\n",
              "    </tr>\n",
              "    <tr>\n",
              "      <th>142</th>\n",
              "      <td>SWE</td>\n",
              "      <td>14917.142</td>\n",
              "    </tr>\n",
              "    <tr>\n",
              "      <th>132</th>\n",
              "      <td>NOR</td>\n",
              "      <td>17224.679</td>\n",
              "    </tr>\n",
              "    <tr>\n",
              "      <th>44</th>\n",
              "      <td>BEL</td>\n",
              "      <td>17320.185</td>\n",
              "    </tr>\n",
              "    <tr>\n",
              "      <th>124</th>\n",
              "      <td>LUX</td>\n",
              "      <td>20495.445</td>\n",
              "    </tr>\n",
              "    <tr>\n",
              "      <th>20</th>\n",
              "      <td>USA</td>\n",
              "      <td>30003.244</td>\n",
              "    </tr>\n",
              "    <tr>\n",
              "      <th>10</th>\n",
              "      <td>SAU</td>\n",
              "      <td>NaN</td>\n",
              "    </tr>\n",
              "    <tr>\n",
              "      <th>14</th>\n",
              "      <td>CAN</td>\n",
              "      <td>NaN</td>\n",
              "    </tr>\n",
              "    <tr>\n",
              "      <th>18</th>\n",
              "      <td>CHE</td>\n",
              "      <td>NaN</td>\n",
              "    </tr>\n",
              "    <tr>\n",
              "      <th>22</th>\n",
              "      <td>ARG</td>\n",
              "      <td>NaN</td>\n",
              "    </tr>\n",
              "    <tr>\n",
              "      <th>30</th>\n",
              "      <td>BRA</td>\n",
              "      <td>NaN</td>\n",
              "    </tr>\n",
              "    <tr>\n",
              "      <th>36</th>\n",
              "      <td>DNK</td>\n",
              "      <td>NaN</td>\n",
              "    </tr>\n",
              "    <tr>\n",
              "      <th>52</th>\n",
              "      <td>CHN</td>\n",
              "      <td>NaN</td>\n",
              "    </tr>\n",
              "    <tr>\n",
              "      <th>66</th>\n",
              "      <td>ZAF</td>\n",
              "      <td>NaN</td>\n",
              "    </tr>\n",
              "    <tr>\n",
              "      <th>76</th>\n",
              "      <td>IND</td>\n",
              "      <td>NaN</td>\n",
              "    </tr>\n",
              "    <tr>\n",
              "      <th>88</th>\n",
              "      <td>CRI</td>\n",
              "      <td>NaN</td>\n",
              "    </tr>\n",
              "  </tbody>\n",
              "</table>\n",
              "</div>"
            ],
            "text/plain": [
              "    LOCATION      Value\n",
              "168      IDN    169.575\n",
              "126      MEX   2684.695\n",
              "146      TUR   3591.292\n",
              "68       GRC   4094.526\n",
              "170      ISR   4185.221\n",
              "100      CZE   4953.118\n",
              "84       COL   5040.455\n",
              "176      RUS   5061.743\n",
              "172      LVA   5313.316\n",
              "174      LTU   5479.133\n",
              "138      SVK   5811.212\n",
              "156      CHL   5909.571\n",
              "116      IRL   6105.903\n",
              "134      POL   6221.502\n",
              "118      ITA   6249.264\n",
              "164      EST   6513.922\n",
              "112      HUN   6835.456\n",
              "140      ESP   6976.944\n",
              "136      PRT   7098.987\n",
              "92       AUS   7111.802\n",
              "120      JPN   7499.035\n",
              "106      FRA   7812.928\n",
              "128      NLD   8351.843\n",
              "180      SVN   8610.292\n",
              "148      GBR   9048.388\n",
              "94       AUT   9824.383\n",
              "72       KOR  10108.948\n",
              "108      DEU  11121.506\n",
              "104      FIN  12332.219\n",
              "40       ISL  12670.652\n",
              "130      NZL  13465.562\n",
              "142      SWE  14917.142\n",
              "132      NOR  17224.679\n",
              "44       BEL  17320.185\n",
              "124      LUX  20495.445\n",
              "20       USA  30003.244\n",
              "10       SAU        NaN\n",
              "14       CAN        NaN\n",
              "18       CHE        NaN\n",
              "22       ARG        NaN\n",
              "30       BRA        NaN\n",
              "36       DNK        NaN\n",
              "52       CHN        NaN\n",
              "66       ZAF        NaN\n",
              "76       IND        NaN\n",
              "88       CRI        NaN"
            ]
          },
          "metadata": {
            "tags": []
          },
          "execution_count": 325
        }
      ]
    },
    {
      "cell_type": "markdown",
      "metadata": {
        "id": "-NuYpd0FdPEA"
      },
      "source": [
        "### **Remove NaN within dataframe**\n",
        "\n",
        "\n"
      ]
    },
    {
      "cell_type": "code",
      "metadata": {
        "id": "ym5MPPbdM2lk",
        "outputId": "e88bbbcd-7a64-4797-9012-da6d9c1c775c",
        "colab": {
          "base_uri": "https://localhost:8080/",
          "height": 1000
        }
      },
      "source": [
        "Education_df.dropna(axis='rows')\n",
        "Education_df =Education_df.dropna(axis='rows') # Similar data cleanse as before, remove NaN \n",
        "Education_df "
      ],
      "execution_count": null,
      "outputs": [
        {
          "output_type": "execute_result",
          "data": {
            "text/html": [
              "<div>\n",
              "<style scoped>\n",
              "    .dataframe tbody tr th:only-of-type {\n",
              "        vertical-align: middle;\n",
              "    }\n",
              "\n",
              "    .dataframe tbody tr th {\n",
              "        vertical-align: top;\n",
              "    }\n",
              "\n",
              "    .dataframe thead th {\n",
              "        text-align: right;\n",
              "    }\n",
              "</style>\n",
              "<table border=\"1\" class=\"dataframe\">\n",
              "  <thead>\n",
              "    <tr style=\"text-align: right;\">\n",
              "      <th></th>\n",
              "      <th>LOCATION</th>\n",
              "      <th>Value</th>\n",
              "    </tr>\n",
              "  </thead>\n",
              "  <tbody>\n",
              "    <tr>\n",
              "      <th>168</th>\n",
              "      <td>IDN</td>\n",
              "      <td>169.575</td>\n",
              "    </tr>\n",
              "    <tr>\n",
              "      <th>126</th>\n",
              "      <td>MEX</td>\n",
              "      <td>2684.695</td>\n",
              "    </tr>\n",
              "    <tr>\n",
              "      <th>146</th>\n",
              "      <td>TUR</td>\n",
              "      <td>3591.292</td>\n",
              "    </tr>\n",
              "    <tr>\n",
              "      <th>68</th>\n",
              "      <td>GRC</td>\n",
              "      <td>4094.526</td>\n",
              "    </tr>\n",
              "    <tr>\n",
              "      <th>170</th>\n",
              "      <td>ISR</td>\n",
              "      <td>4185.221</td>\n",
              "    </tr>\n",
              "    <tr>\n",
              "      <th>100</th>\n",
              "      <td>CZE</td>\n",
              "      <td>4953.118</td>\n",
              "    </tr>\n",
              "    <tr>\n",
              "      <th>84</th>\n",
              "      <td>COL</td>\n",
              "      <td>5040.455</td>\n",
              "    </tr>\n",
              "    <tr>\n",
              "      <th>176</th>\n",
              "      <td>RUS</td>\n",
              "      <td>5061.743</td>\n",
              "    </tr>\n",
              "    <tr>\n",
              "      <th>172</th>\n",
              "      <td>LVA</td>\n",
              "      <td>5313.316</td>\n",
              "    </tr>\n",
              "    <tr>\n",
              "      <th>174</th>\n",
              "      <td>LTU</td>\n",
              "      <td>5479.133</td>\n",
              "    </tr>\n",
              "    <tr>\n",
              "      <th>138</th>\n",
              "      <td>SVK</td>\n",
              "      <td>5811.212</td>\n",
              "    </tr>\n",
              "    <tr>\n",
              "      <th>156</th>\n",
              "      <td>CHL</td>\n",
              "      <td>5909.571</td>\n",
              "    </tr>\n",
              "    <tr>\n",
              "      <th>116</th>\n",
              "      <td>IRL</td>\n",
              "      <td>6105.903</td>\n",
              "    </tr>\n",
              "    <tr>\n",
              "      <th>134</th>\n",
              "      <td>POL</td>\n",
              "      <td>6221.502</td>\n",
              "    </tr>\n",
              "    <tr>\n",
              "      <th>118</th>\n",
              "      <td>ITA</td>\n",
              "      <td>6249.264</td>\n",
              "    </tr>\n",
              "    <tr>\n",
              "      <th>164</th>\n",
              "      <td>EST</td>\n",
              "      <td>6513.922</td>\n",
              "    </tr>\n",
              "    <tr>\n",
              "      <th>112</th>\n",
              "      <td>HUN</td>\n",
              "      <td>6835.456</td>\n",
              "    </tr>\n",
              "    <tr>\n",
              "      <th>140</th>\n",
              "      <td>ESP</td>\n",
              "      <td>6976.944</td>\n",
              "    </tr>\n",
              "    <tr>\n",
              "      <th>136</th>\n",
              "      <td>PRT</td>\n",
              "      <td>7098.987</td>\n",
              "    </tr>\n",
              "    <tr>\n",
              "      <th>92</th>\n",
              "      <td>AUS</td>\n",
              "      <td>7111.802</td>\n",
              "    </tr>\n",
              "    <tr>\n",
              "      <th>120</th>\n",
              "      <td>JPN</td>\n",
              "      <td>7499.035</td>\n",
              "    </tr>\n",
              "    <tr>\n",
              "      <th>106</th>\n",
              "      <td>FRA</td>\n",
              "      <td>7812.928</td>\n",
              "    </tr>\n",
              "    <tr>\n",
              "      <th>128</th>\n",
              "      <td>NLD</td>\n",
              "      <td>8351.843</td>\n",
              "    </tr>\n",
              "    <tr>\n",
              "      <th>180</th>\n",
              "      <td>SVN</td>\n",
              "      <td>8610.292</td>\n",
              "    </tr>\n",
              "    <tr>\n",
              "      <th>148</th>\n",
              "      <td>GBR</td>\n",
              "      <td>9048.388</td>\n",
              "    </tr>\n",
              "    <tr>\n",
              "      <th>94</th>\n",
              "      <td>AUT</td>\n",
              "      <td>9824.383</td>\n",
              "    </tr>\n",
              "    <tr>\n",
              "      <th>72</th>\n",
              "      <td>KOR</td>\n",
              "      <td>10108.948</td>\n",
              "    </tr>\n",
              "    <tr>\n",
              "      <th>108</th>\n",
              "      <td>DEU</td>\n",
              "      <td>11121.506</td>\n",
              "    </tr>\n",
              "    <tr>\n",
              "      <th>104</th>\n",
              "      <td>FIN</td>\n",
              "      <td>12332.219</td>\n",
              "    </tr>\n",
              "    <tr>\n",
              "      <th>40</th>\n",
              "      <td>ISL</td>\n",
              "      <td>12670.652</td>\n",
              "    </tr>\n",
              "    <tr>\n",
              "      <th>130</th>\n",
              "      <td>NZL</td>\n",
              "      <td>13465.562</td>\n",
              "    </tr>\n",
              "    <tr>\n",
              "      <th>142</th>\n",
              "      <td>SWE</td>\n",
              "      <td>14917.142</td>\n",
              "    </tr>\n",
              "    <tr>\n",
              "      <th>132</th>\n",
              "      <td>NOR</td>\n",
              "      <td>17224.679</td>\n",
              "    </tr>\n",
              "    <tr>\n",
              "      <th>44</th>\n",
              "      <td>BEL</td>\n",
              "      <td>17320.185</td>\n",
              "    </tr>\n",
              "    <tr>\n",
              "      <th>124</th>\n",
              "      <td>LUX</td>\n",
              "      <td>20495.445</td>\n",
              "    </tr>\n",
              "    <tr>\n",
              "      <th>20</th>\n",
              "      <td>USA</td>\n",
              "      <td>30003.244</td>\n",
              "    </tr>\n",
              "  </tbody>\n",
              "</table>\n",
              "</div>"
            ],
            "text/plain": [
              "    LOCATION      Value\n",
              "168      IDN    169.575\n",
              "126      MEX   2684.695\n",
              "146      TUR   3591.292\n",
              "68       GRC   4094.526\n",
              "170      ISR   4185.221\n",
              "100      CZE   4953.118\n",
              "84       COL   5040.455\n",
              "176      RUS   5061.743\n",
              "172      LVA   5313.316\n",
              "174      LTU   5479.133\n",
              "138      SVK   5811.212\n",
              "156      CHL   5909.571\n",
              "116      IRL   6105.903\n",
              "134      POL   6221.502\n",
              "118      ITA   6249.264\n",
              "164      EST   6513.922\n",
              "112      HUN   6835.456\n",
              "140      ESP   6976.944\n",
              "136      PRT   7098.987\n",
              "92       AUS   7111.802\n",
              "120      JPN   7499.035\n",
              "106      FRA   7812.928\n",
              "128      NLD   8351.843\n",
              "180      SVN   8610.292\n",
              "148      GBR   9048.388\n",
              "94       AUT   9824.383\n",
              "72       KOR  10108.948\n",
              "108      DEU  11121.506\n",
              "104      FIN  12332.219\n",
              "40       ISL  12670.652\n",
              "130      NZL  13465.562\n",
              "142      SWE  14917.142\n",
              "132      NOR  17224.679\n",
              "44       BEL  17320.185\n",
              "124      LUX  20495.445\n",
              "20       USA  30003.244"
            ]
          },
          "metadata": {
            "tags": []
          },
          "execution_count": 326
        }
      ]
    },
    {
      "cell_type": "code",
      "metadata": {
        "id": "XFe-95_xVY_t",
        "outputId": "4c70f342-de24-4b8f-a848-97d16ade0a92",
        "colab": {
          "base_uri": "https://localhost:8080/",
          "height": 297
        }
      },
      "source": [
        "Education_df.describe() # I mainly want the mean "
      ],
      "execution_count": null,
      "outputs": [
        {
          "output_type": "execute_result",
          "data": {
            "text/html": [
              "<div>\n",
              "<style scoped>\n",
              "    .dataframe tbody tr th:only-of-type {\n",
              "        vertical-align: middle;\n",
              "    }\n",
              "\n",
              "    .dataframe tbody tr th {\n",
              "        vertical-align: top;\n",
              "    }\n",
              "\n",
              "    .dataframe thead th {\n",
              "        text-align: right;\n",
              "    }\n",
              "</style>\n",
              "<table border=\"1\" class=\"dataframe\">\n",
              "  <thead>\n",
              "    <tr style=\"text-align: right;\">\n",
              "      <th></th>\n",
              "      <th>Value</th>\n",
              "    </tr>\n",
              "  </thead>\n",
              "  <tbody>\n",
              "    <tr>\n",
              "      <th>count</th>\n",
              "      <td>36.000000</td>\n",
              "    </tr>\n",
              "    <tr>\n",
              "      <th>mean</th>\n",
              "      <td>8783.724667</td>\n",
              "    </tr>\n",
              "    <tr>\n",
              "      <th>std</th>\n",
              "      <td>5687.274080</td>\n",
              "    </tr>\n",
              "    <tr>\n",
              "      <th>min</th>\n",
              "      <td>169.575000</td>\n",
              "    </tr>\n",
              "    <tr>\n",
              "      <th>25%</th>\n",
              "      <td>5437.678750</td>\n",
              "    </tr>\n",
              "    <tr>\n",
              "      <th>50%</th>\n",
              "      <td>7037.965500</td>\n",
              "    </tr>\n",
              "    <tr>\n",
              "      <th>75%</th>\n",
              "      <td>10362.087500</td>\n",
              "    </tr>\n",
              "    <tr>\n",
              "      <th>max</th>\n",
              "      <td>30003.244000</td>\n",
              "    </tr>\n",
              "  </tbody>\n",
              "</table>\n",
              "</div>"
            ],
            "text/plain": [
              "              Value\n",
              "count     36.000000\n",
              "mean    8783.724667\n",
              "std     5687.274080\n",
              "min      169.575000\n",
              "25%     5437.678750\n",
              "50%     7037.965500\n",
              "75%    10362.087500\n",
              "max    30003.244000"
            ]
          },
          "metadata": {
            "tags": []
          },
          "execution_count": 327
        }
      ]
    },
    {
      "cell_type": "markdown",
      "metadata": {
        "id": "vGKE9U0XdwbO"
      },
      "source": [
        "### **Top Thirty Countries (Descending)-Dataframe**"
      ]
    },
    {
      "cell_type": "code",
      "metadata": {
        "id": "OpkstroAMjSn",
        "outputId": "6bc480ec-ed1a-46a5-d725-6c60409661e6",
        "colab": {
          "base_uri": "https://localhost:8080/",
          "height": 979
        }
      },
      "source": [
        "Spending_df=Education_df.tail(30) # Similar data cleanse as before, when you tail in this situtation it gives you the top 30 countries for educational spending \n",
        "Spending_df"
      ],
      "execution_count": null,
      "outputs": [
        {
          "output_type": "execute_result",
          "data": {
            "text/html": [
              "<div>\n",
              "<style scoped>\n",
              "    .dataframe tbody tr th:only-of-type {\n",
              "        vertical-align: middle;\n",
              "    }\n",
              "\n",
              "    .dataframe tbody tr th {\n",
              "        vertical-align: top;\n",
              "    }\n",
              "\n",
              "    .dataframe thead th {\n",
              "        text-align: right;\n",
              "    }\n",
              "</style>\n",
              "<table border=\"1\" class=\"dataframe\">\n",
              "  <thead>\n",
              "    <tr style=\"text-align: right;\">\n",
              "      <th></th>\n",
              "      <th>LOCATION</th>\n",
              "      <th>Value</th>\n",
              "    </tr>\n",
              "  </thead>\n",
              "  <tbody>\n",
              "    <tr>\n",
              "      <th>84</th>\n",
              "      <td>COL</td>\n",
              "      <td>5040.455</td>\n",
              "    </tr>\n",
              "    <tr>\n",
              "      <th>176</th>\n",
              "      <td>RUS</td>\n",
              "      <td>5061.743</td>\n",
              "    </tr>\n",
              "    <tr>\n",
              "      <th>172</th>\n",
              "      <td>LVA</td>\n",
              "      <td>5313.316</td>\n",
              "    </tr>\n",
              "    <tr>\n",
              "      <th>174</th>\n",
              "      <td>LTU</td>\n",
              "      <td>5479.133</td>\n",
              "    </tr>\n",
              "    <tr>\n",
              "      <th>138</th>\n",
              "      <td>SVK</td>\n",
              "      <td>5811.212</td>\n",
              "    </tr>\n",
              "    <tr>\n",
              "      <th>156</th>\n",
              "      <td>CHL</td>\n",
              "      <td>5909.571</td>\n",
              "    </tr>\n",
              "    <tr>\n",
              "      <th>116</th>\n",
              "      <td>IRL</td>\n",
              "      <td>6105.903</td>\n",
              "    </tr>\n",
              "    <tr>\n",
              "      <th>134</th>\n",
              "      <td>POL</td>\n",
              "      <td>6221.502</td>\n",
              "    </tr>\n",
              "    <tr>\n",
              "      <th>118</th>\n",
              "      <td>ITA</td>\n",
              "      <td>6249.264</td>\n",
              "    </tr>\n",
              "    <tr>\n",
              "      <th>164</th>\n",
              "      <td>EST</td>\n",
              "      <td>6513.922</td>\n",
              "    </tr>\n",
              "    <tr>\n",
              "      <th>112</th>\n",
              "      <td>HUN</td>\n",
              "      <td>6835.456</td>\n",
              "    </tr>\n",
              "    <tr>\n",
              "      <th>140</th>\n",
              "      <td>ESP</td>\n",
              "      <td>6976.944</td>\n",
              "    </tr>\n",
              "    <tr>\n",
              "      <th>136</th>\n",
              "      <td>PRT</td>\n",
              "      <td>7098.987</td>\n",
              "    </tr>\n",
              "    <tr>\n",
              "      <th>92</th>\n",
              "      <td>AUS</td>\n",
              "      <td>7111.802</td>\n",
              "    </tr>\n",
              "    <tr>\n",
              "      <th>120</th>\n",
              "      <td>JPN</td>\n",
              "      <td>7499.035</td>\n",
              "    </tr>\n",
              "    <tr>\n",
              "      <th>106</th>\n",
              "      <td>FRA</td>\n",
              "      <td>7812.928</td>\n",
              "    </tr>\n",
              "    <tr>\n",
              "      <th>128</th>\n",
              "      <td>NLD</td>\n",
              "      <td>8351.843</td>\n",
              "    </tr>\n",
              "    <tr>\n",
              "      <th>180</th>\n",
              "      <td>SVN</td>\n",
              "      <td>8610.292</td>\n",
              "    </tr>\n",
              "    <tr>\n",
              "      <th>148</th>\n",
              "      <td>GBR</td>\n",
              "      <td>9048.388</td>\n",
              "    </tr>\n",
              "    <tr>\n",
              "      <th>94</th>\n",
              "      <td>AUT</td>\n",
              "      <td>9824.383</td>\n",
              "    </tr>\n",
              "    <tr>\n",
              "      <th>72</th>\n",
              "      <td>KOR</td>\n",
              "      <td>10108.948</td>\n",
              "    </tr>\n",
              "    <tr>\n",
              "      <th>108</th>\n",
              "      <td>DEU</td>\n",
              "      <td>11121.506</td>\n",
              "    </tr>\n",
              "    <tr>\n",
              "      <th>104</th>\n",
              "      <td>FIN</td>\n",
              "      <td>12332.219</td>\n",
              "    </tr>\n",
              "    <tr>\n",
              "      <th>40</th>\n",
              "      <td>ISL</td>\n",
              "      <td>12670.652</td>\n",
              "    </tr>\n",
              "    <tr>\n",
              "      <th>130</th>\n",
              "      <td>NZL</td>\n",
              "      <td>13465.562</td>\n",
              "    </tr>\n",
              "    <tr>\n",
              "      <th>142</th>\n",
              "      <td>SWE</td>\n",
              "      <td>14917.142</td>\n",
              "    </tr>\n",
              "    <tr>\n",
              "      <th>132</th>\n",
              "      <td>NOR</td>\n",
              "      <td>17224.679</td>\n",
              "    </tr>\n",
              "    <tr>\n",
              "      <th>44</th>\n",
              "      <td>BEL</td>\n",
              "      <td>17320.185</td>\n",
              "    </tr>\n",
              "    <tr>\n",
              "      <th>124</th>\n",
              "      <td>LUX</td>\n",
              "      <td>20495.445</td>\n",
              "    </tr>\n",
              "    <tr>\n",
              "      <th>20</th>\n",
              "      <td>USA</td>\n",
              "      <td>30003.244</td>\n",
              "    </tr>\n",
              "  </tbody>\n",
              "</table>\n",
              "</div>"
            ],
            "text/plain": [
              "    LOCATION      Value\n",
              "84       COL   5040.455\n",
              "176      RUS   5061.743\n",
              "172      LVA   5313.316\n",
              "174      LTU   5479.133\n",
              "138      SVK   5811.212\n",
              "156      CHL   5909.571\n",
              "116      IRL   6105.903\n",
              "134      POL   6221.502\n",
              "118      ITA   6249.264\n",
              "164      EST   6513.922\n",
              "112      HUN   6835.456\n",
              "140      ESP   6976.944\n",
              "136      PRT   7098.987\n",
              "92       AUS   7111.802\n",
              "120      JPN   7499.035\n",
              "106      FRA   7812.928\n",
              "128      NLD   8351.843\n",
              "180      SVN   8610.292\n",
              "148      GBR   9048.388\n",
              "94       AUT   9824.383\n",
              "72       KOR  10108.948\n",
              "108      DEU  11121.506\n",
              "104      FIN  12332.219\n",
              "40       ISL  12670.652\n",
              "130      NZL  13465.562\n",
              "142      SWE  14917.142\n",
              "132      NOR  17224.679\n",
              "44       BEL  17320.185\n",
              "124      LUX  20495.445\n",
              "20       USA  30003.244"
            ]
          },
          "metadata": {
            "tags": []
          },
          "execution_count": 328
        }
      ]
    },
    {
      "cell_type": "markdown",
      "metadata": {
        "id": "kspKLJiWfTm-"
      },
      "source": [
        "### **Graph Educational Spending- Top 30 countries**"
      ]
    },
    {
      "cell_type": "code",
      "metadata": {
        "id": "RTq_t6RzTsE_",
        "outputId": "71fa76ef-6a6a-4b1e-82e6-4859635962b2",
        "colab": {
          "base_uri": "https://localhost:8080/",
          "height": 731
        }
      },
      "source": [
        "Spending_df.plot(kind='scatter',x='LOCATION',y='Value')\n",
        "                                                                                          #Average spending on education \n",
        "plt.text(5, 20000, r'Lets look at top 12 spending countries on education to see wealth vs education, on the graph below',fontsize=16) # Took top 12 countries, and checked their wealth below, on a bar graph \n",
        "\n",
        "plt.axhline(y=8783.724666666667, color='r')   \n",
        "\n",
        "#Solution 4:  Wealthy nations make alot of investments in education so should Venzuela but within its limits."
      ],
      "execution_count": null,
      "outputs": [
        {
          "output_type": "execute_result",
          "data": {
            "text/plain": [
              "<matplotlib.lines.Line2D at 0x7f3aef69eeb8>"
            ]
          },
          "metadata": {
            "tags": []
          },
          "execution_count": 329
        },
        {
          "output_type": "display_data",
          "data": {
            "image/png": "[encoded data removed]",
            "text/plain": [
              "<Figure size 1800x864 with 1 Axes>"
            ]
          },
          "metadata": {
            "tags": [],
            "needs_background": "light"
          }
        }
      ]
    },
    {
      "cell_type": "markdown",
      "metadata": {
        "id": "3MdRlt7ef_bH"
      },
      "source": [
        "### **List Top 12 Countries and List for Later**"
      ]
    },
    {
      "cell_type": "code",
      "metadata": {
        "id": "RRmgYDMkT3af",
        "outputId": "80d75705-1636-450b-fef8-614e0ce13a6c",
        "colab": {
          "base_uri": "https://localhost:8080/",
          "height": 421
        }
      },
      "source": [
        "Spending_df.tail(12)              # Similar data cleanse as before, when you tail in this situtation it gives you the top 12 countries for educational spending \n",
        "Spending_df=Spending_df.tail(12)\n",
        "Spending_df"
      ],
      "execution_count": null,
      "outputs": [
        {
          "output_type": "execute_result",
          "data": {
            "text/html": [
              "<div>\n",
              "<style scoped>\n",
              "    .dataframe tbody tr th:only-of-type {\n",
              "        vertical-align: middle;\n",
              "    }\n",
              "\n",
              "    .dataframe tbody tr th {\n",
              "        vertical-align: top;\n",
              "    }\n",
              "\n",
              "    .dataframe thead th {\n",
              "        text-align: right;\n",
              "    }\n",
              "</style>\n",
              "<table border=\"1\" class=\"dataframe\">\n",
              "  <thead>\n",
              "    <tr style=\"text-align: right;\">\n",
              "      <th></th>\n",
              "      <th>LOCATION</th>\n",
              "      <th>Value</th>\n",
              "    </tr>\n",
              "  </thead>\n",
              "  <tbody>\n",
              "    <tr>\n",
              "      <th>148</th>\n",
              "      <td>GBR</td>\n",
              "      <td>9048.388</td>\n",
              "    </tr>\n",
              "    <tr>\n",
              "      <th>94</th>\n",
              "      <td>AUT</td>\n",
              "      <td>9824.383</td>\n",
              "    </tr>\n",
              "    <tr>\n",
              "      <th>72</th>\n",
              "      <td>KOR</td>\n",
              "      <td>10108.948</td>\n",
              "    </tr>\n",
              "    <tr>\n",
              "      <th>108</th>\n",
              "      <td>DEU</td>\n",
              "      <td>11121.506</td>\n",
              "    </tr>\n",
              "    <tr>\n",
              "      <th>104</th>\n",
              "      <td>FIN</td>\n",
              "      <td>12332.219</td>\n",
              "    </tr>\n",
              "    <tr>\n",
              "      <th>40</th>\n",
              "      <td>ISL</td>\n",
              "      <td>12670.652</td>\n",
              "    </tr>\n",
              "    <tr>\n",
              "      <th>130</th>\n",
              "      <td>NZL</td>\n",
              "      <td>13465.562</td>\n",
              "    </tr>\n",
              "    <tr>\n",
              "      <th>142</th>\n",
              "      <td>SWE</td>\n",
              "      <td>14917.142</td>\n",
              "    </tr>\n",
              "    <tr>\n",
              "      <th>132</th>\n",
              "      <td>NOR</td>\n",
              "      <td>17224.679</td>\n",
              "    </tr>\n",
              "    <tr>\n",
              "      <th>44</th>\n",
              "      <td>BEL</td>\n",
              "      <td>17320.185</td>\n",
              "    </tr>\n",
              "    <tr>\n",
              "      <th>124</th>\n",
              "      <td>LUX</td>\n",
              "      <td>20495.445</td>\n",
              "    </tr>\n",
              "    <tr>\n",
              "      <th>20</th>\n",
              "      <td>USA</td>\n",
              "      <td>30003.244</td>\n",
              "    </tr>\n",
              "  </tbody>\n",
              "</table>\n",
              "</div>"
            ],
            "text/plain": [
              "    LOCATION      Value\n",
              "148      GBR   9048.388\n",
              "94       AUT   9824.383\n",
              "72       KOR  10108.948\n",
              "108      DEU  11121.506\n",
              "104      FIN  12332.219\n",
              "40       ISL  12670.652\n",
              "130      NZL  13465.562\n",
              "142      SWE  14917.142\n",
              "132      NOR  17224.679\n",
              "44       BEL  17320.185\n",
              "124      LUX  20495.445\n",
              "20       USA  30003.244"
            ]
          },
          "metadata": {
            "tags": []
          },
          "execution_count": 330
        }
      ]
    },
    {
      "cell_type": "code",
      "metadata": {
        "id": "o0EguEUH0NEU",
        "outputId": "1f87a96f-998e-4ccb-bed7-bb5896365a84",
        "colab": {
          "base_uri": "https://localhost:8080/"
        }
      },
      "source": [
        "Top_12 = list(Spending_df[\"LOCATION\"]) # Listing Top 12 spending countries on education, see its wealth \n",
        "Top_12"
      ],
      "execution_count": null,
      "outputs": [
        {
          "output_type": "execute_result",
          "data": {
            "text/plain": [
              "['GBR',\n",
              " 'AUT',\n",
              " 'KOR',\n",
              " 'DEU',\n",
              " 'FIN',\n",
              " 'ISL',\n",
              " 'NZL',\n",
              " 'SWE',\n",
              " 'NOR',\n",
              " 'BEL',\n",
              " 'LUX',\n",
              " 'USA']"
            ]
          },
          "metadata": {
            "tags": []
          },
          "execution_count": 331
        }
      ]
    },
    {
      "cell_type": "markdown",
      "metadata": {
        "id": "Us7jtGBMgq9w"
      },
      "source": [
        "### **Create a GDP Per Capita Dataframe from the Top 12 List and Graph**"
      ]
    },
    {
      "cell_type": "code",
      "metadata": {
        "id": "4hFFxVp9z-93",
        "outputId": "a8df370e-fb10-49d3-e417-8d952af19806",
        "colab": {
          "base_uri": "https://localhost:8080/",
          "height": 452
        }
      },
      "source": [
        "df2 = pd.read_csv(\"/content/DP_LIVE_25102020054342653.csv\")                               # This is creating the same lines as before but using one cell, creates top 12 countries GDP per capita \n",
        "df2.drop(columns=['INDICATOR',\"SUBJECT\",\"MEASURE\", 'FREQUENCY','TIME',\"Flag Codes\"])\n",
        "df2=df2.drop(columns=['INDICATOR',\"SUBJECT\",\"MEASURE\", 'FREQUENCY','TIME',\"Flag Codes\"])\n",
        "df2.sort_values(by=['Value'], inplace=True)\n",
        "df2.drop_duplicates(subset=['LOCATION'])\n",
        "df2=df2.drop_duplicates(subset=['LOCATION'])\n",
        "df2 = df2.set_index( \"LOCATION\", drop = False) \n",
        "df2.loc[Top_12]\n",
        "Top_12_GRAPH=df2.loc[Top_12]\n",
        "Top_12_GRAPH                                                                              # Now dataframe for top 12 educational spending countries has GDP per capita dataframe "
      ],
      "execution_count": null,
      "outputs": [
        {
          "output_type": "execute_result",
          "data": {
            "text/html": [
              "<div>\n",
              "<style scoped>\n",
              "    .dataframe tbody tr th:only-of-type {\n",
              "        vertical-align: middle;\n",
              "    }\n",
              "\n",
              "    .dataframe tbody tr th {\n",
              "        vertical-align: top;\n",
              "    }\n",
              "\n",
              "    .dataframe thead th {\n",
              "        text-align: right;\n",
              "    }\n",
              "</style>\n",
              "<table border=\"1\" class=\"dataframe\">\n",
              "  <thead>\n",
              "    <tr style=\"text-align: right;\">\n",
              "      <th></th>\n",
              "      <th>LOCATION</th>\n",
              "      <th>Value</th>\n",
              "    </tr>\n",
              "    <tr>\n",
              "      <th>LOCATION</th>\n",
              "      <th></th>\n",
              "      <th></th>\n",
              "    </tr>\n",
              "  </thead>\n",
              "  <tbody>\n",
              "    <tr>\n",
              "      <th>GBR</th>\n",
              "      <td>GBR</td>\n",
              "      <td>42522.183841</td>\n",
              "    </tr>\n",
              "    <tr>\n",
              "      <th>AUT</th>\n",
              "      <td>AUT</td>\n",
              "      <td>49955.456118</td>\n",
              "    </tr>\n",
              "    <tr>\n",
              "      <th>KOR</th>\n",
              "      <td>KOR</td>\n",
              "      <td>37907.460937</td>\n",
              "    </tr>\n",
              "    <tr>\n",
              "      <th>DEU</th>\n",
              "      <td>DEU</td>\n",
              "      <td>47622.331224</td>\n",
              "    </tr>\n",
              "    <tr>\n",
              "      <th>FIN</th>\n",
              "      <td>FIN</td>\n",
              "      <td>42501.611531</td>\n",
              "    </tr>\n",
              "    <tr>\n",
              "      <th>ISL</th>\n",
              "      <td>ISL</td>\n",
              "      <td>48856.560901</td>\n",
              "    </tr>\n",
              "    <tr>\n",
              "      <th>NZL</th>\n",
              "      <td>NZL</td>\n",
              "      <td>37403.074775</td>\n",
              "    </tr>\n",
              "    <tr>\n",
              "      <th>SWE</th>\n",
              "      <td>SWE</td>\n",
              "      <td>49116.236552</td>\n",
              "    </tr>\n",
              "    <tr>\n",
              "      <th>NOR</th>\n",
              "      <td>NOR</td>\n",
              "      <td>58917.288330</td>\n",
              "    </tr>\n",
              "    <tr>\n",
              "      <th>BEL</th>\n",
              "      <td>BEL</td>\n",
              "      <td>46213.262388</td>\n",
              "    </tr>\n",
              "    <tr>\n",
              "      <th>LUX</th>\n",
              "      <td>LUX</td>\n",
              "      <td>103787.967646</td>\n",
              "    </tr>\n",
              "    <tr>\n",
              "      <th>USA</th>\n",
              "      <td>USA</td>\n",
              "      <td>56812.535433</td>\n",
              "    </tr>\n",
              "  </tbody>\n",
              "</table>\n",
              "</div>"
            ],
            "text/plain": [
              "         LOCATION          Value\n",
              "LOCATION                        \n",
              "GBR           GBR   42522.183841\n",
              "AUT           AUT   49955.456118\n",
              "KOR           KOR   37907.460937\n",
              "DEU           DEU   47622.331224\n",
              "FIN           FIN   42501.611531\n",
              "ISL           ISL   48856.560901\n",
              "NZL           NZL   37403.074775\n",
              "SWE           SWE   49116.236552\n",
              "NOR           NOR   58917.288330\n",
              "BEL           BEL   46213.262388\n",
              "LUX           LUX  103787.967646\n",
              "USA           USA   56812.535433"
            ]
          },
          "metadata": {
            "tags": []
          },
          "execution_count": 332
        }
      ]
    },
    {
      "cell_type": "code",
      "metadata": {
        "id": "6FQE8Vj22RGZ",
        "outputId": "6837ce8f-e430-44b2-9c7e-bcc97befe1cb",
        "colab": {
          "base_uri": "https://localhost:8080/",
          "height": 744
        }
      },
      "source": [
        "Top_12_GRAPH.plot(kind='bar',x='LOCATION',y='Value')                       # Created graph from dataframe beforehand \n",
        "plt.axhline(y=34819.430959, color='r')                                     # Mean GDP per capita \n",
        "\n",
        "plt.text(1, 80000, r'Red line= Mean GDP per capita (Top 30 Richest Countries )',fontsize=20)   #Sort of a legend for the reader reads 'Red line= Mean GDP per capita (World)'"
      ],
      "execution_count": null,
      "outputs": [
        {
          "output_type": "execute_result",
          "data": {
            "text/plain": [
              "Text(1, 80000, 'Red line= Mean GDP per capita (Top 30 Richest Countries )')"
            ]
          },
          "metadata": {
            "tags": []
          },
          "execution_count": 334
        },
        {
          "output_type": "display_data",
          "data": {
            "image/png": "[encoded data removed]",
            "text/plain": [
              "<Figure size 1800x864 with 1 Axes>"
            ]
          },
          "metadata": {
            "tags": [],
            "needs_background": "light"
          }
        }
      ]
    },
    {
      "cell_type": "markdown",
      "metadata": {
        "id": "EFOJC0dzVP0P"
      },
      "source": [
        "##**3.What are the economic deficiencies?**\n",
        "\n",
        "\n",
        "\n"
      ]
    },
    {
      "cell_type": "markdown",
      "metadata": {
        "id": "OTqcguhj_QgD"
      },
      "source": [
        "###HyperInflation\n",
        "**Economic Deficiency #1**: Hyperinflation is described as a inflation rate of over 12,000 percent. The country reached that point in 2018. "
      ]
    },
    {
      "cell_type": "code",
      "metadata": {
        "id": "VKD81nlgRYLF",
        "outputId": "67b88f1f-982a-4a3c-ae92-233060e49e7d",
        "colab": {
          "base_uri": "https://localhost:8080/",
          "height": 817
        }
      },
      "source": [
        "import plotly.express as px                                        # This is very similar to the bar graph interactive, however not is a line. Like before, font sizes are increased when needed. \n",
        "fig = px.line(long_df_Inflation, x=\"Years\", y=\"Inflation Rate\")\n",
        "\n",
        "fig.update_layout(\n",
        "    autosize=False,\n",
        "    width=1500,\n",
        "    height=800,)\n",
        "\n",
        "fig.update_layout(\n",
        "legend=go.layout.Legend(\n",
        "x=0,\n",
        "y=1,\n",
        "traceorder=\"normal\",\n",
        "font=dict(\n",
        "family=\"sans-serif\",\n",
        "size=20,\n",
        "color=\"black\"\n",
        ")\n",
        ")\n",
        ")\n",
        "\n",
        "fig.update_layout(title_text=\"Venzuela Inflation Rate\", title_x=0.5)\n",
        "\n",
        "\n",
        "fig.show()"
      ],
      "execution_count": null,
      "outputs": [
        {
          "output_type": "display_data",
          "data": {
            "text/html": [
              "<html>\n",
              "<head><meta charset=\"utf-8\" /></head>\n",
              "<body>\n",
              "    <div>\n",
              "            <script src=\"https://cdnjs.cloudflare.com/ajax/libs/mathjax/2.7.5/MathJax.js?config=TeX-AMS-MML_SVG\"></script><script type=\"text/javascript\">if (window.MathJax) {MathJax.Hub.Config({SVG: {font: \"STIX-Web\"}});}</script>\n",
              "                <script type=\"text/javascript\">window.PlotlyConfig = {MathJaxConfig: 'local'};</script>\n",
              "        <script src=\"https://cdn.plot.ly/plotly-latest.min.js\"></script>    \n",
              "            <div id=\"86c42c54-6b9b-418f-bc0a-12a317cc7f4a\" class=\"plotly-graph-div\" style=\"height:800px; width:1500px;\"></div>\n",
              "            <script type=\"text/javascript\">\n",
              "                \n",
              "                    window.PLOTLYENV=window.PLOTLYENV || {};\n",
              "                    \n",
              "                if (document.getElementById(\"86c42c54-6b9b-418f-bc0a-12a317cc7f4a\")) {\n",
              "                    Plotly.newPlot(\n",
              "                        '86c42c54-6b9b-418f-bc0a-12a317cc7f4a',\n",
              "                        [{\"hoverlabel\": {\"namelength\": 0}, \"hovertemplate\": \"Years=%{x}<br>Inflation Rate=%{y}\", \"legendgroup\": \"\", \"line\": {\"color\": \"#636efa\", \"dash\": \"solid\"}, \"mode\": \"lines\", \"name\": \"\", \"showlegend\": false, \"type\": \"scatter\", \"x\": [\"1990\", \"1991\", \"1992\", \"1993\", \"1994\", \"1995\", \"1996\", \"1997\", \"1998\", \"1999\", \"2000\", \"2001\", \"2002\", \"2003\", \"2004\", \"2005\", \"2006\", \"2007\", \"2008\", \"2009\", \"2010\", \"2011\", \"2012\", \"2013\", \"2014\", \"2015\", \"2016\", \"2017\", \"2018\", \"2019\", \"2020\"], \"xaxis\": \"x\", \"y\": [40.656, 34.205, 31.423000000000002, 38.122, 60.817, 59.923, 99.876, 50.04, 35.782, 23.57, 16.206, 12.530999999999999, 22.434, 31.090999999999998, 21.747, 15.955, 13.663, 18.699, 31.441, 26.041, 28.186999999999998, 26.09, 21.069000000000003, 40.639, 62.169, 121.738, 254.949, 438.11699999999996, 65374.082, 19906.023999999998, 6500.0], \"yaxis\": \"y\"}],\n",
              "                        {\"autosize\": false, \"height\": 800, \"legend\": {\"font\": {\"color\": \"black\", \"family\": \"sans-serif\", \"size\": 20}, \"traceorder\": \"normal\", \"x\": 0, \"y\": 1}, \"margin\": {\"t\": 60}, \"template\": {\"data\": {\"bar\": [{\"error_x\": {\"color\": \"#2a3f5f\"}, \"error_y\": {\"color\": \"#2a3f5f\"}, \"marker\": {\"line\": {\"color\": \"#E5ECF6\", \"width\": 0.5}}, \"type\": \"bar\"}], \"barpolar\": [{\"marker\": {\"line\": {\"color\": \"#E5ECF6\", \"width\": 0.5}}, \"type\": \"barpolar\"}], \"carpet\": [{\"aaxis\": {\"endlinecolor\": \"#2a3f5f\", \"gridcolor\": \"white\", \"linecolor\": \"white\", \"minorgridcolor\": \"white\", \"startlinecolor\": \"#2a3f5f\"}, \"baxis\": {\"endlinecolor\": \"#2a3f5f\", \"gridcolor\": \"white\", \"linecolor\": \"white\", \"minorgridcolor\": \"white\", \"startlinecolor\": \"#2a3f5f\"}, \"type\": \"carpet\"}], \"choropleth\": [{\"colorbar\": {\"outlinewidth\": 0, \"ticks\": \"\"}, \"type\": \"choropleth\"}], \"contour\": [{\"colorbar\": {\"outlinewidth\": 0, \"ticks\": \"\"}, \"colorscale\": [[0.0, \"#0d0887\"], [0.1111111111111111, \"#46039f\"], [0.2222222222222222, \"#7201a8\"], [0.3333333333333333, \"#9c179e\"], [0.4444444444444444, \"#bd3786\"], [0.5555555555555556, \"#d8576b\"], [0.6666666666666666, \"#ed7953\"], [0.7777777777777778, \"#fb9f3a\"], [0.8888888888888888, \"#fdca26\"], [1.0, \"#f0f921\"]], \"type\": \"contour\"}], \"contourcarpet\": [{\"colorbar\": {\"outlinewidth\": 0, \"ticks\": \"\"}, \"type\": \"contourcarpet\"}], \"heatmap\": [{\"colorbar\": {\"outlinewidth\": 0, \"ticks\": \"\"}, \"colorscale\": [[0.0, \"#0d0887\"], [0.1111111111111111, \"#46039f\"], [0.2222222222222222, \"#7201a8\"], [0.3333333333333333, \"#9c179e\"], [0.4444444444444444, \"#bd3786\"], [0.5555555555555556, \"#d8576b\"], [0.6666666666666666, \"#ed7953\"], [0.7777777777777778, \"#fb9f3a\"], [0.8888888888888888, \"#fdca26\"], [1.0, \"#f0f921\"]], \"type\": \"heatmap\"}], \"heatmapgl\": [{\"colorbar\": {\"outlinewidth\": 0, \"ticks\": \"\"}, \"colorscale\": [[0.0, \"#0d0887\"], [0.1111111111111111, \"#46039f\"], [0.2222222222222222, \"#7201a8\"], [0.3333333333333333, \"#9c179e\"], [0.4444444444444444, \"#bd3786\"], [0.5555555555555556, \"#d8576b\"], [0.6666666666666666, \"#ed7953\"], [0.7777777777777778, \"#fb9f3a\"], [0.8888888888888888, \"#fdca26\"], [1.0, \"#f0f921\"]], \"type\": \"heatmapgl\"}], \"histogram\": [{\"marker\": {\"colorbar\": {\"outlinewidth\": 0, \"ticks\": \"\"}}, \"type\": \"histogram\"}], \"histogram2d\": [{\"colorbar\": {\"outlinewidth\": 0, \"ticks\": \"\"}, \"colorscale\": [[0.0, \"#0d0887\"], [0.1111111111111111, \"#46039f\"], [0.2222222222222222, \"#7201a8\"], [0.3333333333333333, \"#9c179e\"], [0.4444444444444444, \"#bd3786\"], [0.5555555555555556, \"#d8576b\"], [0.6666666666666666, \"#ed7953\"], [0.7777777777777778, \"#fb9f3a\"], [0.8888888888888888, \"#fdca26\"], [1.0, \"#f0f921\"]], \"type\": \"histogram2d\"}], \"histogram2dcontour\": [{\"colorbar\": {\"outlinewidth\": 0, \"ticks\": \"\"}, \"colorscale\": [[0.0, \"#0d0887\"], [0.1111111111111111, \"#46039f\"], [0.2222222222222222, \"#7201a8\"], [0.3333333333333333, \"#9c179e\"], [0.4444444444444444, \"#bd3786\"], [0.5555555555555556, \"#d8576b\"], [0.6666666666666666, \"#ed7953\"], [0.7777777777777778, \"#fb9f3a\"], [0.8888888888888888, \"#fdca26\"], [1.0, \"#f0f921\"]], \"type\": \"histogram2dcontour\"}], \"mesh3d\": [{\"colorbar\": {\"outlinewidth\": 0, \"ticks\": \"\"}, \"type\": \"mesh3d\"}], \"parcoords\": [{\"line\": {\"colorbar\": {\"outlinewidth\": 0, \"ticks\": \"\"}}, \"type\": \"parcoords\"}], \"pie\": [{\"automargin\": true, \"type\": \"pie\"}], \"scatter\": [{\"marker\": {\"colorbar\": {\"outlinewidth\": 0, \"ticks\": \"\"}}, \"type\": \"scatter\"}], \"scatter3d\": [{\"line\": {\"colorbar\": {\"outlinewidth\": 0, \"ticks\": \"\"}}, \"marker\": {\"colorbar\": {\"outlinewidth\": 0, \"ticks\": \"\"}}, \"type\": \"scatter3d\"}], \"scattercarpet\": [{\"marker\": {\"colorbar\": {\"outlinewidth\": 0, \"ticks\": \"\"}}, \"type\": \"scattercarpet\"}], \"scattergeo\": [{\"marker\": {\"colorbar\": {\"outlinewidth\": 0, \"ticks\": \"\"}}, \"type\": \"scattergeo\"}], \"scattergl\": [{\"marker\": {\"colorbar\": {\"outlinewidth\": 0, \"ticks\": \"\"}}, \"type\": \"scattergl\"}], \"scattermapbox\": [{\"marker\": {\"colorbar\": {\"outlinewidth\": 0, \"ticks\": \"\"}}, \"type\": \"scattermapbox\"}], \"scatterpolar\": [{\"marker\": {\"colorbar\": {\"outlinewidth\": 0, \"ticks\": \"\"}}, \"type\": \"scatterpolar\"}], \"scatterpolargl\": [{\"marker\": {\"colorbar\": {\"outlinewidth\": 0, \"ticks\": \"\"}}, \"type\": \"scatterpolargl\"}], \"scatterternary\": [{\"marker\": {\"colorbar\": {\"outlinewidth\": 0, \"ticks\": \"\"}}, \"type\": \"scatterternary\"}], \"surface\": [{\"colorbar\": {\"outlinewidth\": 0, \"ticks\": \"\"}, \"colorscale\": [[0.0, \"#0d0887\"], [0.1111111111111111, \"#46039f\"], [0.2222222222222222, \"#7201a8\"], [0.3333333333333333, \"#9c179e\"], [0.4444444444444444, \"#bd3786\"], [0.5555555555555556, \"#d8576b\"], [0.6666666666666666, \"#ed7953\"], [0.7777777777777778, \"#fb9f3a\"], [0.8888888888888888, \"#fdca26\"], [1.0, \"#f0f921\"]], \"type\": \"surface\"}], \"table\": [{\"cells\": {\"fill\": {\"color\": \"#EBF0F8\"}, \"line\": {\"color\": \"white\"}}, \"header\": {\"fill\": {\"color\": \"#C8D4E3\"}, \"line\": {\"color\": \"white\"}}, \"type\": \"table\"}]}, \"layout\": {\"annotationdefaults\": {\"arrowcolor\": \"#2a3f5f\", \"arrowhead\": 0, \"arrowwidth\": 1}, \"coloraxis\": {\"colorbar\": {\"outlinewidth\": 0, \"ticks\": \"\"}}, \"colorscale\": {\"diverging\": [[0, \"#8e0152\"], [0.1, \"#c51b7d\"], [0.2, \"#de77ae\"], [0.3, \"#f1b6da\"], [0.4, \"#fde0ef\"], [0.5, \"#f7f7f7\"], [0.6, \"#e6f5d0\"], [0.7, \"#b8e186\"], [0.8, \"#7fbc41\"], [0.9, \"#4d9221\"], [1, \"#276419\"]], \"sequential\": [[0.0, \"#0d0887\"], [0.1111111111111111, \"#46039f\"], [0.2222222222222222, \"#7201a8\"], [0.3333333333333333, \"#9c179e\"], [0.4444444444444444, \"#bd3786\"], [0.5555555555555556, \"#d8576b\"], [0.6666666666666666, \"#ed7953\"], [0.7777777777777778, \"#fb9f3a\"], [0.8888888888888888, \"#fdca26\"], [1.0, \"#f0f921\"]], \"sequentialminus\": [[0.0, \"#0d0887\"], [0.1111111111111111, \"#46039f\"], [0.2222222222222222, \"#7201a8\"], [0.3333333333333333, \"#9c179e\"], [0.4444444444444444, \"#bd3786\"], [0.5555555555555556, \"#d8576b\"], [0.6666666666666666, \"#ed7953\"], [0.7777777777777778, \"#fb9f3a\"], [0.8888888888888888, \"#fdca26\"], [1.0, \"#f0f921\"]]}, \"colorway\": [\"#636efa\", \"#EF553B\", \"#00cc96\", \"#ab63fa\", \"#FFA15A\", \"#19d3f3\", \"#FF6692\", \"#B6E880\", \"#FF97FF\", \"#FECB52\"], \"font\": {\"color\": \"#2a3f5f\"}, \"geo\": {\"bgcolor\": \"white\", \"lakecolor\": \"white\", \"landcolor\": \"#E5ECF6\", \"showlakes\": true, \"showland\": true, \"subunitcolor\": \"white\"}, \"hoverlabel\": {\"align\": \"left\"}, \"hovermode\": \"closest\", \"mapbox\": {\"style\": \"light\"}, \"paper_bgcolor\": \"white\", \"plot_bgcolor\": \"#E5ECF6\", \"polar\": {\"angularaxis\": {\"gridcolor\": \"white\", \"linecolor\": \"white\", \"ticks\": \"\"}, \"bgcolor\": \"#E5ECF6\", \"radialaxis\": {\"gridcolor\": \"white\", \"linecolor\": \"white\", \"ticks\": \"\"}}, \"scene\": {\"xaxis\": {\"backgroundcolor\": \"#E5ECF6\", \"gridcolor\": \"white\", \"gridwidth\": 2, \"linecolor\": \"white\", \"showbackground\": true, \"ticks\": \"\", \"zerolinecolor\": \"white\"}, \"yaxis\": {\"backgroundcolor\": \"#E5ECF6\", \"gridcolor\": \"white\", \"gridwidth\": 2, \"linecolor\": \"white\", \"showbackground\": true, \"ticks\": \"\", \"zerolinecolor\": \"white\"}, \"zaxis\": {\"backgroundcolor\": \"#E5ECF6\", \"gridcolor\": \"white\", \"gridwidth\": 2, \"linecolor\": \"white\", \"showbackground\": true, \"ticks\": \"\", \"zerolinecolor\": \"white\"}}, \"shapedefaults\": {\"line\": {\"color\": \"#2a3f5f\"}}, \"ternary\": {\"aaxis\": {\"gridcolor\": \"white\", \"linecolor\": \"white\", \"ticks\": \"\"}, \"baxis\": {\"gridcolor\": \"white\", \"linecolor\": \"white\", \"ticks\": \"\"}, \"bgcolor\": \"#E5ECF6\", \"caxis\": {\"gridcolor\": \"white\", \"linecolor\": \"white\", \"ticks\": \"\"}}, \"title\": {\"x\": 0.05}, \"xaxis\": {\"automargin\": true, \"gridcolor\": \"white\", \"linecolor\": \"white\", \"ticks\": \"\", \"title\": {\"standoff\": 15}, \"zerolinecolor\": \"white\", \"zerolinewidth\": 2}, \"yaxis\": {\"automargin\": true, \"gridcolor\": \"white\", \"linecolor\": \"white\", \"ticks\": \"\", \"title\": {\"standoff\": 15}, \"zerolinecolor\": \"white\", \"zerolinewidth\": 2}}}, \"title\": {\"text\": \"Venzuela Inflation Rate\", \"x\": 0.5}, \"width\": 1500, \"xaxis\": {\"anchor\": \"y\", \"domain\": [0.0, 1.0], \"title\": {\"text\": \"Years\"}}, \"yaxis\": {\"anchor\": \"x\", \"domain\": [0.0, 1.0], \"title\": {\"text\": \"Inflation Rate\"}}},\n",
              "                        {\"responsive\": true}\n",
              "                    ).then(function(){\n",
              "                            \n",
              "var gd = document.getElementById('86c42c54-6b9b-418f-bc0a-12a317cc7f4a');\n",
              "var x = new MutationObserver(function (mutations, observer) {{\n",
              "        var display = window.getComputedStyle(gd).display;\n",
              "        if (!display || display === 'none') {{\n",
              "            console.log([gd, 'removed!']);\n",
              "            Plotly.purge(gd);\n",
              "            observer.disconnect();\n",
              "        }}\n",
              "}});\n",
              "\n",
              "// Listen for the removal of the full notebook cells\n",
              "var notebookContainer = gd.closest('#notebook-container');\n",
              "if (notebookContainer) {{\n",
              "    x.observe(notebookContainer, {childList: true});\n",
              "}}\n",
              "\n",
              "// Listen for the clearing of the current output cell\n",
              "var outputEl = gd.closest('.output');\n",
              "if (outputEl) {{\n",
              "    x.observe(outputEl, {childList: true});\n",
              "}}\n",
              "\n",
              "                        })\n",
              "                };\n",
              "                \n",
              "            </script>\n",
              "        </div>\n",
              "</body>\n",
              "</html>"
            ]
          },
          "metadata": {
            "tags": []
          }
        }
      ]
    },
    {
      "cell_type": "markdown",
      "metadata": {
        "id": "NGdBesAE_kWJ"
      },
      "source": [
        "###Shrinking Economy \n",
        "\n",
        "**Economic Deficiency #2:** Shrinking Economy and High Poverty Rate- Compared to neighboring countries, Venezuela is not doing well. They have a shrinking economy since 2015, whereas other close countries have a mostly growing economy. This needs to be addressed. "
      ]
    },
    {
      "cell_type": "code",
      "metadata": {
        "id": "FazRJfdHaiXp",
        "outputId": "f37558a5-73c8-4896-f6ee-040d351f59df",
        "colab": {
          "base_uri": "https://localhost:8080/",
          "height": 817
        }
      },
      "source": [
        "import plotly.express as px                                                                         # Chose plotly for interactive graph \n",
        "fig = px.bar(long_df_Countries, x=\"Years\", y=\"GDP Percentage Growth\", color= \"Country\")             # Taken from dataframe \n",
        "\n",
        "fig.update_layout(                                                                                  # Increase size of graph, increasing legend size, and some font size                                                            \n",
        "    autosize=False,\n",
        "    width=1500,\n",
        "    height=800,)\n",
        "\n",
        "fig.update_layout(\n",
        "legend=go.layout.Legend(\n",
        "x=0,\n",
        "y=1,\n",
        "traceorder=\"normal\",\n",
        "font=dict(\n",
        "family=\"sans-serif\",\n",
        "size=20,\n",
        "color=\"black\"\n",
        ")\n",
        ")\n",
        ")\n",
        "\n",
        "fig.update_layout(title_text=\"Venezuela's Shrinking Economy vs Neighboring Countries\", title_x=0.5) # Add title \"Venezuela's Shrinking Economy vs Neighboring Countries\"\n",
        "\n",
        "\n",
        "\n",
        "fig.show()\n"
      ],
      "execution_count": null,
      "outputs": [
        {
          "output_type": "display_data",
          "data": {
            "text/html": [
              "<html>\n",
              "<head><meta charset=\"utf-8\" /></head>\n",
              "<body>\n",
              "    <div>\n",
              "            <script src=\"https://cdnjs.cloudflare.com/ajax/libs/mathjax/2.7.5/MathJax.js?config=TeX-AMS-MML_SVG\"></script><script type=\"text/javascript\">if (window.MathJax) {MathJax.Hub.Config({SVG: {font: \"STIX-Web\"}});}</script>\n",
              "                <script type=\"text/javascript\">window.PlotlyConfig = {MathJaxConfig: 'local'};</script>\n",
              "        <script src=\"https://cdn.plot.ly/plotly-latest.min.js\"></script>    \n",
              "            <div id=\"c7355f7e-e82f-4264-aa32-f153cae4decc\" class=\"plotly-graph-div\" style=\"height:800px; width:1500px;\"></div>\n",
              "            <script type=\"text/javascript\">\n",
              "                \n",
              "                    window.PLOTLYENV=window.PLOTLYENV || {};\n",
              "                    \n",
              "                if (document.getElementById(\"c7355f7e-e82f-4264-aa32-f153cae4decc\")) {\n",
              "                    Plotly.newPlot(\n",
              "                        'c7355f7e-e82f-4264-aa32-f153cae4decc',\n",
              "                        [{\"alignmentgroup\": \"True\", \"hoverlabel\": {\"namelength\": 0}, \"hovertemplate\": \"Country=Colombia<br>Years=%{x}<br>GDP Percentage Growth=%{y}\", \"legendgroup\": \"Country=Colombia\", \"marker\": {\"color\": \"#636efa\"}, \"name\": \"Country=Colombia\", \"offsetgroup\": \"Country=Colombia\", \"orientation\": \"v\", \"showlegend\": true, \"textposition\": \"auto\", \"type\": \"bar\", \"x\": [\"2015\", \"2016\", \"2017\", \"2018\", \"2019\", \"2020\"], \"xaxis\": \"x\", \"y\": [2.9560000000000004, 2.0869999999999997, 1.359, 2.515, 3.26, -8.182], \"yaxis\": \"y\"}, {\"alignmentgroup\": \"True\", \"hoverlabel\": {\"namelength\": 0}, \"hovertemplate\": \"Country=Guyana<br>Years=%{x}<br>GDP Percentage Growth=%{y}\", \"legendgroup\": \"Country=Guyana\", \"marker\": {\"color\": \"#EF553B\"}, \"name\": \"Country=Guyana\", \"offsetgroup\": \"Country=Guyana\", \"orientation\": \"v\", \"showlegend\": true, \"textposition\": \"auto\", \"type\": \"bar\", \"x\": [\"2015\", \"2016\", \"2017\", \"2018\", \"2019\", \"2020\"], \"xaxis\": \"x\", \"y\": [0.687, 3.807, 3.734, 4.441, 5.353, 26.205], \"yaxis\": \"y\"}, {\"alignmentgroup\": \"True\", \"hoverlabel\": {\"namelength\": 0}, \"hovertemplate\": \"Country=Venezuela<br>Years=%{x}<br>GDP Percentage Growth=%{y}\", \"legendgroup\": \"Country=Venezuela\", \"marker\": {\"color\": \"#00cc96\"}, \"name\": \"Country=Venezuela\", \"offsetgroup\": \"Country=Venezuela\", \"orientation\": \"v\", \"showlegend\": true, \"textposition\": \"auto\", \"type\": \"bar\", \"x\": [\"2015\", \"2016\", \"2017\", \"2018\", \"2019\", \"2020\"], \"xaxis\": \"x\", \"y\": [-6.221, -17.04, -15.671, -19.621, -35.0, -25.0], \"yaxis\": \"y\"}],\n",
              "                        {\"autosize\": false, \"barmode\": \"relative\", \"height\": 800, \"legend\": {\"font\": {\"color\": \"black\", \"family\": \"sans-serif\", \"size\": 20}, \"traceorder\": \"normal\", \"x\": 0, \"y\": 1}, \"margin\": {\"t\": 60}, \"template\": {\"data\": {\"bar\": [{\"error_x\": {\"color\": \"#2a3f5f\"}, \"error_y\": {\"color\": \"#2a3f5f\"}, \"marker\": {\"line\": {\"color\": \"#E5ECF6\", \"width\": 0.5}}, \"type\": \"bar\"}], \"barpolar\": [{\"marker\": {\"line\": {\"color\": \"#E5ECF6\", \"width\": 0.5}}, \"type\": \"barpolar\"}], \"carpet\": [{\"aaxis\": {\"endlinecolor\": \"#2a3f5f\", \"gridcolor\": \"white\", \"linecolor\": \"white\", \"minorgridcolor\": \"white\", \"startlinecolor\": \"#2a3f5f\"}, \"baxis\": {\"endlinecolor\": \"#2a3f5f\", \"gridcolor\": \"white\", \"linecolor\": \"white\", \"minorgridcolor\": \"white\", \"startlinecolor\": \"#2a3f5f\"}, \"type\": \"carpet\"}], \"choropleth\": [{\"colorbar\": {\"outlinewidth\": 0, \"ticks\": \"\"}, \"type\": \"choropleth\"}], \"contour\": [{\"colorbar\": {\"outlinewidth\": 0, \"ticks\": \"\"}, \"colorscale\": [[0.0, \"#0d0887\"], [0.1111111111111111, \"#46039f\"], [0.2222222222222222, \"#7201a8\"], [0.3333333333333333, \"#9c179e\"], [0.4444444444444444, \"#bd3786\"], [0.5555555555555556, \"#d8576b\"], [0.6666666666666666, \"#ed7953\"], [0.7777777777777778, \"#fb9f3a\"], [0.8888888888888888, \"#fdca26\"], [1.0, \"#f0f921\"]], \"type\": \"contour\"}], \"contourcarpet\": [{\"colorbar\": {\"outlinewidth\": 0, \"ticks\": \"\"}, \"type\": \"contourcarpet\"}], \"heatmap\": [{\"colorbar\": {\"outlinewidth\": 0, \"ticks\": \"\"}, \"colorscale\": [[0.0, \"#0d0887\"], [0.1111111111111111, \"#46039f\"], [0.2222222222222222, \"#7201a8\"], [0.3333333333333333, \"#9c179e\"], [0.4444444444444444, \"#bd3786\"], [0.5555555555555556, \"#d8576b\"], [0.6666666666666666, \"#ed7953\"], [0.7777777777777778, \"#fb9f3a\"], [0.8888888888888888, \"#fdca26\"], [1.0, \"#f0f921\"]], \"type\": \"heatmap\"}], \"heatmapgl\": [{\"colorbar\": {\"outlinewidth\": 0, \"ticks\": \"\"}, \"colorscale\": [[0.0, \"#0d0887\"], [0.1111111111111111, \"#46039f\"], [0.2222222222222222, \"#7201a8\"], [0.3333333333333333, \"#9c179e\"], [0.4444444444444444, \"#bd3786\"], [0.5555555555555556, \"#d8576b\"], [0.6666666666666666, \"#ed7953\"], [0.7777777777777778, \"#fb9f3a\"], [0.8888888888888888, \"#fdca26\"], [1.0, \"#f0f921\"]], \"type\": \"heatmapgl\"}], \"histogram\": [{\"marker\": {\"colorbar\": {\"outlinewidth\": 0, \"ticks\": \"\"}}, \"type\": \"histogram\"}], \"histogram2d\": [{\"colorbar\": {\"outlinewidth\": 0, \"ticks\": \"\"}, \"colorscale\": [[0.0, \"#0d0887\"], [0.1111111111111111, \"#46039f\"], [0.2222222222222222, \"#7201a8\"], [0.3333333333333333, \"#9c179e\"], [0.4444444444444444, \"#bd3786\"], [0.5555555555555556, \"#d8576b\"], [0.6666666666666666, \"#ed7953\"], [0.7777777777777778, \"#fb9f3a\"], [0.8888888888888888, \"#fdca26\"], [1.0, \"#f0f921\"]], \"type\": \"histogram2d\"}], \"histogram2dcontour\": [{\"colorbar\": {\"outlinewidth\": 0, \"ticks\": \"\"}, \"colorscale\": [[0.0, \"#0d0887\"], [0.1111111111111111, \"#46039f\"], [0.2222222222222222, \"#7201a8\"], [0.3333333333333333, \"#9c179e\"], [0.4444444444444444, \"#bd3786\"], [0.5555555555555556, \"#d8576b\"], [0.6666666666666666, \"#ed7953\"], [0.7777777777777778, \"#fb9f3a\"], [0.8888888888888888, \"#fdca26\"], [1.0, \"#f0f921\"]], \"type\": \"histogram2dcontour\"}], \"mesh3d\": [{\"colorbar\": {\"outlinewidth\": 0, \"ticks\": \"\"}, \"type\": \"mesh3d\"}], \"parcoords\": [{\"line\": {\"colorbar\": {\"outlinewidth\": 0, \"ticks\": \"\"}}, \"type\": \"parcoords\"}], \"pie\": [{\"automargin\": true, \"type\": \"pie\"}], \"scatter\": [{\"marker\": {\"colorbar\": {\"outlinewidth\": 0, \"ticks\": \"\"}}, \"type\": \"scatter\"}], \"scatter3d\": [{\"line\": {\"colorbar\": {\"outlinewidth\": 0, \"ticks\": \"\"}}, \"marker\": {\"colorbar\": {\"outlinewidth\": 0, \"ticks\": \"\"}}, \"type\": \"scatter3d\"}], \"scattercarpet\": [{\"marker\": {\"colorbar\": {\"outlinewidth\": 0, \"ticks\": \"\"}}, \"type\": \"scattercarpet\"}], \"scattergeo\": [{\"marker\": {\"colorbar\": {\"outlinewidth\": 0, \"ticks\": \"\"}}, \"type\": \"scattergeo\"}], \"scattergl\": [{\"marker\": {\"colorbar\": {\"outlinewidth\": 0, \"ticks\": \"\"}}, \"type\": \"scattergl\"}], \"scattermapbox\": [{\"marker\": {\"colorbar\": {\"outlinewidth\": 0, \"ticks\": \"\"}}, \"type\": \"scattermapbox\"}], \"scatterpolar\": [{\"marker\": {\"colorbar\": {\"outlinewidth\": 0, \"ticks\": \"\"}}, \"type\": \"scatterpolar\"}], \"scatterpolargl\": [{\"marker\": {\"colorbar\": {\"outlinewidth\": 0, \"ticks\": \"\"}}, \"type\": \"scatterpolargl\"}], \"scatterternary\": [{\"marker\": {\"colorbar\": {\"outlinewidth\": 0, \"ticks\": \"\"}}, \"type\": \"scatterternary\"}], \"surface\": [{\"colorbar\": {\"outlinewidth\": 0, \"ticks\": \"\"}, \"colorscale\": [[0.0, \"#0d0887\"], [0.1111111111111111, \"#46039f\"], [0.2222222222222222, \"#7201a8\"], [0.3333333333333333, \"#9c179e\"], [0.4444444444444444, \"#bd3786\"], [0.5555555555555556, \"#d8576b\"], [0.6666666666666666, \"#ed7953\"], [0.7777777777777778, \"#fb9f3a\"], [0.8888888888888888, \"#fdca26\"], [1.0, \"#f0f921\"]], \"type\": \"surface\"}], \"table\": [{\"cells\": {\"fill\": {\"color\": \"#EBF0F8\"}, \"line\": {\"color\": \"white\"}}, \"header\": {\"fill\": {\"color\": \"#C8D4E3\"}, \"line\": {\"color\": \"white\"}}, \"type\": \"table\"}]}, \"layout\": {\"annotationdefaults\": {\"arrowcolor\": \"#2a3f5f\", \"arrowhead\": 0, \"arrowwidth\": 1}, \"coloraxis\": {\"colorbar\": {\"outlinewidth\": 0, \"ticks\": \"\"}}, \"colorscale\": {\"diverging\": [[0, \"#8e0152\"], [0.1, \"#c51b7d\"], [0.2, \"#de77ae\"], [0.3, \"#f1b6da\"], [0.4, \"#fde0ef\"], [0.5, \"#f7f7f7\"], [0.6, \"#e6f5d0\"], [0.7, \"#b8e186\"], [0.8, \"#7fbc41\"], [0.9, \"#4d9221\"], [1, \"#276419\"]], \"sequential\": [[0.0, \"#0d0887\"], [0.1111111111111111, \"#46039f\"], [0.2222222222222222, \"#7201a8\"], [0.3333333333333333, \"#9c179e\"], [0.4444444444444444, \"#bd3786\"], [0.5555555555555556, \"#d8576b\"], [0.6666666666666666, \"#ed7953\"], [0.7777777777777778, \"#fb9f3a\"], [0.8888888888888888, \"#fdca26\"], [1.0, \"#f0f921\"]], \"sequentialminus\": [[0.0, \"#0d0887\"], [0.1111111111111111, \"#46039f\"], [0.2222222222222222, \"#7201a8\"], [0.3333333333333333, \"#9c179e\"], [0.4444444444444444, \"#bd3786\"], [0.5555555555555556, \"#d8576b\"], [0.6666666666666666, \"#ed7953\"], [0.7777777777777778, \"#fb9f3a\"], [0.8888888888888888, \"#fdca26\"], [1.0, \"#f0f921\"]]}, \"colorway\": [\"#636efa\", \"#EF553B\", \"#00cc96\", \"#ab63fa\", \"#FFA15A\", \"#19d3f3\", \"#FF6692\", \"#B6E880\", \"#FF97FF\", \"#FECB52\"], \"font\": {\"color\": \"#2a3f5f\"}, \"geo\": {\"bgcolor\": \"white\", \"lakecolor\": \"white\", \"landcolor\": \"#E5ECF6\", \"showlakes\": true, \"showland\": true, \"subunitcolor\": \"white\"}, \"hoverlabel\": {\"align\": \"left\"}, \"hovermode\": \"closest\", \"mapbox\": {\"style\": \"light\"}, \"paper_bgcolor\": \"white\", \"plot_bgcolor\": \"#E5ECF6\", \"polar\": {\"angularaxis\": {\"gridcolor\": \"white\", \"linecolor\": \"white\", \"ticks\": \"\"}, \"bgcolor\": \"#E5ECF6\", \"radialaxis\": {\"gridcolor\": \"white\", \"linecolor\": \"white\", \"ticks\": \"\"}}, \"scene\": {\"xaxis\": {\"backgroundcolor\": \"#E5ECF6\", \"gridcolor\": \"white\", \"gridwidth\": 2, \"linecolor\": \"white\", \"showbackground\": true, \"ticks\": \"\", \"zerolinecolor\": \"white\"}, \"yaxis\": {\"backgroundcolor\": \"#E5ECF6\", \"gridcolor\": \"white\", \"gridwidth\": 2, \"linecolor\": \"white\", \"showbackground\": true, \"ticks\": \"\", \"zerolinecolor\": \"white\"}, \"zaxis\": {\"backgroundcolor\": \"#E5ECF6\", \"gridcolor\": \"white\", \"gridwidth\": 2, \"linecolor\": \"white\", \"showbackground\": true, \"ticks\": \"\", \"zerolinecolor\": \"white\"}}, \"shapedefaults\": {\"line\": {\"color\": \"#2a3f5f\"}}, \"ternary\": {\"aaxis\": {\"gridcolor\": \"white\", \"linecolor\": \"white\", \"ticks\": \"\"}, \"baxis\": {\"gridcolor\": \"white\", \"linecolor\": \"white\", \"ticks\": \"\"}, \"bgcolor\": \"#E5ECF6\", \"caxis\": {\"gridcolor\": \"white\", \"linecolor\": \"white\", \"ticks\": \"\"}}, \"title\": {\"x\": 0.05}, \"xaxis\": {\"automargin\": true, \"gridcolor\": \"white\", \"linecolor\": \"white\", \"ticks\": \"\", \"title\": {\"standoff\": 15}, \"zerolinecolor\": \"white\", \"zerolinewidth\": 2}, \"yaxis\": {\"automargin\": true, \"gridcolor\": \"white\", \"linecolor\": \"white\", \"ticks\": \"\", \"title\": {\"standoff\": 15}, \"zerolinecolor\": \"white\", \"zerolinewidth\": 2}}}, \"title\": {\"text\": \"Venezuela's Shrinking Economy vs Neighboring Countries\", \"x\": 0.5}, \"width\": 1500, \"xaxis\": {\"anchor\": \"y\", \"domain\": [0.0, 1.0], \"title\": {\"text\": \"Years\"}}, \"yaxis\": {\"anchor\": \"x\", \"domain\": [0.0, 1.0], \"title\": {\"text\": \"GDP Percentage Growth\"}}},\n",
              "                        {\"responsive\": true}\n",
              "                    ).then(function(){\n",
              "                            \n",
              "var gd = document.getElementById('c7355f7e-e82f-4264-aa32-f153cae4decc');\n",
              "var x = new MutationObserver(function (mutations, observer) {{\n",
              "        var display = window.getComputedStyle(gd).display;\n",
              "        if (!display || display === 'none') {{\n",
              "            console.log([gd, 'removed!']);\n",
              "            Plotly.purge(gd);\n",
              "            observer.disconnect();\n",
              "        }}\n",
              "}});\n",
              "\n",
              "// Listen for the removal of the full notebook cells\n",
              "var notebookContainer = gd.closest('#notebook-container');\n",
              "if (notebookContainer) {{\n",
              "    x.observe(notebookContainer, {childList: true});\n",
              "}}\n",
              "\n",
              "// Listen for the clearing of the current output cell\n",
              "var outputEl = gd.closest('.output');\n",
              "if (outputEl) {{\n",
              "    x.observe(outputEl, {childList: true});\n",
              "}}\n",
              "\n",
              "                        })\n",
              "                };\n",
              "                \n",
              "            </script>\n",
              "        </div>\n",
              "</body>\n",
              "</html>"
            ]
          },
          "metadata": {
            "tags": []
          }
        }
      ]
    },
    {
      "cell_type": "markdown",
      "metadata": {
        "id": "rtAz9Sk9_m9Q"
      },
      "source": [
        "###High Poverty Rate \n",
        "\n",
        "\n",
        "**Economic Deficiency #3:** Shrinking Economy and High Poverty Rate- Venezuela's poverty rate is well above the world average "
      ]
    },
    {
      "cell_type": "code",
      "metadata": {
        "id": "-lpHIG4b_lYG",
        "outputId": "bc9a772f-197a-45a7-8c69-37df66d9198f",
        "colab": {
          "base_uri": "https://localhost:8080/",
          "height": 730
        }
      },
      "source": [
        "Poverty_Rate  = [19.7,9.2]                       #https://www.worldbank.org/en/topic/poverty/overview#:~:text=The%20global%20extreme%20poverty%20rate,%245.50%20a%20day%20in%202017\n",
        "Country = [\"Venezuela\",\t\"World/Global Average\"]  # Made my own dataframe, only needed two data points, no need for web scarping and csv, data is based off above link  \n",
        "Poverty_Rate\n",
        "\n",
        "fig, ax = plt.subplots(figsize=(12,12))\n",
        "\n",
        "ax.bar(Country, Poverty_Rate)\n",
        "ax.set_title(\"Poverty Rate\")\n",
        "ax.set_xlabel(\"Country\")\n",
        "ax.set_ylabel(\"Poverty Rate\")\n",
        "\n",
        "fig.show()"
      ],
      "execution_count": null,
      "outputs": [
        {
          "output_type": "display_data",
          "data": {
            "image/png": "[encoded data removed]",
            "text/plain": [
              "<Figure size 864x864 with 1 Axes>"
            ]
          },
          "metadata": {
            "tags": [],
            "needs_background": "light"
          }
        }
      ]
    },
    {
      "cell_type": "markdown",
      "metadata": {
        "id": "KwaGDbGn_skI"
      },
      "source": [
        "###Decline of International Trade \n",
        "\n",
        "**Economic Deficiency #4:** Decline of international trade- Imports have dropped over the past five years "
      ]
    },
    {
      "cell_type": "code",
      "metadata": {
        "id": "izO06RLVbxF8",
        "outputId": "9a21eea7-2ab7-4bfc-bbb2-6617cbaab61a",
        "colab": {
          "base_uri": "https://localhost:8080/",
          "height": 943
        }
      },
      "source": [
        "import numpy as np\n",
        "fig, ax = plt.subplots(figsize=(20,15))\n",
        "ax.set_ylabel(\"Venzuela Imports of Goods-Percent Change\",fontname=\"Arial\", fontsize=25)\n",
        "ax.set_xlabel(\"Years\",fontname=\"Arial\", fontsize=20)\n",
        "ax.set_title(\"Venzuela Imports of Goods-Percent Change\",fontname=\"Arial\", fontsize=25)\n",
        "long_df.plot(kind=\"line\",x=\"Years\",y=\"Imports Growth Rate\", legend= \"GDP Percentage Growth\", color=\"b\", rot=45, ax = ax)\n",
        "\n",
        "\n",
        "plt.axhline(y=0, color='r')                                               # I think inserting the x-axis is helpful \n",
        "\n",
        "\n",
        "ax.plot([3], [-23.102], 'o')                                              # Create annoations to identify U.S Sanctions \n",
        "ax.annotate('U.S Sanctions' ,fontsize=23, xy=(3, -23.102), xytext=(3, 4),\n",
        "            arrowprops=dict(facecolor='black', shrink=0.05))\n",
        "\n",
        "\n"
      ],
      "execution_count": null,
      "outputs": [
        {
          "output_type": "execute_result",
          "data": {
            "text/plain": [
              "Text(3, 4, 'U.S Sanctions')"
            ]
          },
          "metadata": {
            "tags": []
          },
          "execution_count": 338
        },
        {
          "output_type": "display_data",
          "data": {
            "image/png": "[encoded data removed]",
            "text/plain": [
              "<Figure size 1440x1080 with 1 Axes>"
            ]
          },
          "metadata": {
            "tags": [],
            "needs_background": "light"
          }
        }
      ]
    },
    {
      "cell_type": "markdown",
      "metadata": {
        "id": "KJQHoaWTAo6r"
      },
      "source": [
        "**Sanctions hurt imports for Venzuela.**"
      ]
    },
    {
      "cell_type": "markdown",
      "metadata": {
        "id": "zSc3dZ0BVY90"
      },
      "source": [
        "##**4. Solutions for economic problem areas.** "
      ]
    },
    {
      "cell_type": "markdown",
      "metadata": {
        "id": "ZeDGspoLBeQn"
      },
      "source": [
        "###Solution 1:Attempt to Remove Sanctions \n",
        "\n",
        "**Solution #1:** Venezuela needs to remove U.S sanctions, and other sanctions from around the world. The sanctions are a function of a unstable political system. This a problem that presents itself in a significant way when looking at the data but it is an inherently poltical problem. Promote poltical stability by promoting free and fair elections, and sanctions will start to dwindle and go away as a result."
      ]
    },
    {
      "cell_type": "code",
      "metadata": {
        "id": "D70lcXN0cC6m",
        "outputId": "b54868e2-07d6-4832-d572-3006d1fd0b6b",
        "colab": {
          "base_uri": "https://localhost:8080/",
          "height": 943
        }
      },
      "source": [
        "import numpy as np\n",
        "fig, ax = plt.subplots(figsize=(20,15))\n",
        "ax.set_ylabel(\"Venzuela Imports of Goods-Percent Change\",fontname=\"Arial\", fontsize=25)\n",
        "ax.set_xlabel(\"Years\",fontname=\"Arial\", fontsize=20)\n",
        "ax.set_title(\"Venzuela Imports of Goods-Percent Change\",fontname=\"Arial\", fontsize=25)\n",
        "long_df.plot(kind=\"line\",x=\"Years\",y=\"Imports Growth Rate\", legend= \"GDP Percentage Growth\", color=\"b\", rot=45, ax = ax)\n",
        "\n",
        "\n",
        "plt.axhline(y=0, color='r')                                               # I think inserting the x-axis is helpful \n",
        "\n",
        "\n",
        "ax.plot([3], [-23.102], 'o')                                              # Create annoations to identify U.S Sanctions \n",
        "ax.annotate('U.S Sanctions' ,fontsize=23, xy=(3, -23.102), xytext=(3, 4),\n",
        "            arrowprops=dict(facecolor='black', shrink=0.05))\n"
      ],
      "execution_count": null,
      "outputs": [
        {
          "output_type": "execute_result",
          "data": {
            "text/plain": [
              "Text(3, 4, 'U.S Sanctions')"
            ]
          },
          "metadata": {
            "tags": []
          },
          "execution_count": 339
        },
        {
          "output_type": "display_data",
          "data": {
            "image/png": "[encoded data removed]",
            "text/plain": [
              "<Figure size 1440x1080 with 1 Axes>"
            ]
          },
          "metadata": {
            "tags": [],
            "needs_background": "light"
          }
        }
      ]
    },
    {
      "cell_type": "markdown",
      "metadata": {
        "id": "ImH7EI-G_1uO"
      },
      "source": [
        "###Solution 2: Reduce government money printing to fight inflation. \n",
        "\n",
        "**Solution #2:** Stop high rate of government money printing. The rate in which money printing increased was substantial once Nicolas Maduro was elected. This is where it becomes complicated, Maduro has not stopped massive bolivar money printing and his people has suffered as a result. He needs to let the democratic process take place to have him unseated or he needs to intiate a more moderate printing strategy. A high rate of government money printing causes inflation. "
      ]
    },
    {
      "cell_type": "code",
      "metadata": {
        "id": "xOsHdD4nCa-O",
        "outputId": "d33ee7ca-d6ed-4b67-a618-9c65731765a8",
        "colab": {
          "base_uri": "https://localhost:8080/",
          "height": 943
        }
      },
      "source": [
        "#http://fingfx.thomsonreuters.com/gfx/rngs/VENEZUELA-ECONOMY/010040800HY/index.html\n",
        "\n",
        "\n",
        "fig, ax = plt.subplots(figsize=(20,15))                          # This graph is not interactive I made it timelined to show how money supply causes inflation to go up \n",
        "ax.set_ylabel(\"Inflation Rate\",fontname=\"Arial\", fontsize=25)    # Font size increase \n",
        "ax.set_xlabel(\"Years\",fontname=\"Arial\", fontsize=20)\n",
        "ax.set_title(\"Venzuela Inflation Rate- Timeline\",fontname=\"Arial\", fontsize=25)\n",
        "long_df_Inflation.plot(kind='line',x='Years',y='Inflation Rate', legend= \"GDP Percentage Growth\", color=\"b\", rot=45, ax = ax) # This plots the dataframe created from the pivot, money supply data based on link above  \n",
        "\n",
        "plt.axvline(x=23.3,linewidth=4, color='r')\n",
        "\n",
        "plt.axvline(x=27.5,linewidth=4, color='r')\n",
        "\n",
        "plt.axvline(x=10,linewidth=4, color='r')\n",
        "\n",
        "ax.annotate('Nicolás Maduro is Elected' ,fontsize=15, xy=(23.3, 20000), xytext=(15, 20000),            # Timelined Maduro using line inserted \n",
        "            arrowprops=dict(facecolor='black', shrink=0.05))\n",
        "\n",
        "ax.annotate('Money supply=11.93 Trillion bolivars' ,fontsize=15, xy=(27.5, 40000), xytext=(13, 40000), # Timelined Money supply is very high using line inserted\n",
        "            arrowprops=dict(facecolor='black', shrink=0.05))\n",
        "\n",
        "ax.annotate('Money supply=.01 Trillion bolivars' ,fontsize=15, xy=(10, 20000), xytext=(.1, 10000),     # Timelined Money supply is very low using line inserted\n",
        "            arrowprops=dict(facecolor='black', shrink=0.05))\n",
        "       \n",
        "plt.text(.1, 65000, r'HyperInflation Rate= 12874.63 %' ,fontsize=15)                                   # Shows hyperinflation rate \n",
        "\n",
        "plt.text(.1, 60000, r'Increase in money supply= Inflation' ,fontsize=15)                               # Shows \"Increase in money supply= Inflation\""
      ],
      "execution_count": null,
      "outputs": [
        {
          "output_type": "execute_result",
          "data": {
            "text/plain": [
              "Text(0.1, 60000, 'Increase in money supply= Inflation')"
            ]
          },
          "metadata": {
            "tags": []
          },
          "execution_count": 340
        },
        {
          "output_type": "display_data",
          "data": {
            "image/png": "[encoded data removed]",
            "text/plain": [
              "<Figure size 1440x1080 with 1 Axes>"
            ]
          },
          "metadata": {
            "tags": [],
            "needs_background": "light"
          }
        }
      ]
    },
    {
      "cell_type": "markdown",
      "metadata": {
        "id": "XJ8sX_yY_zdK"
      },
      "source": [
        "###Solution 3:Diversify economy beyond oil exports.\n",
        "\n",
        "**Solution #3:** Venezuela lacks diversity in its exports. It is too depedent on oil. Oil price fluctuations have led to economic recessions across Venezuela's history. Work to remedy that with additional educational spending. "
      ]
    },
    {
      "cell_type": "code",
      "metadata": {
        "id": "z66uVlgbCix0",
        "outputId": "252f637c-a50f-42c2-d12d-b26463dcac57",
        "colab": {
          "base_uri": "https://localhost:8080/",
          "height": 908
        }
      },
      "source": [
        "Exports = ['Petrolum', 'Gold', 'Alcohol', 'Other']\n",
        "Export_1 = [85,9,2,4] #https://oec.world/en/profile/country/ven/\n",
        "\n",
        "fig, ax = plt.subplots(figsize=(12,12)) # Made my own piechart , only needed a few data points, no need for web scarping and csv\n",
        "ax.set_title(\"Venzuelan Exports\", fontsize=20)\n",
        "ax.pie(x=Export_1, labels=Exports, startangle=90,autopct='%.2f%%')"
      ],
      "execution_count": null,
      "outputs": [
        {
          "output_type": "execute_result",
          "data": {
            "text/plain": [
              "([<matplotlib.patches.Wedge at 0x7f3aed695e48>,\n",
              "  <matplotlib.patches.Wedge at 0x7f3aed6be5c0>,\n",
              "  <matplotlib.patches.Wedge at 0x7f3aed6bec88>,\n",
              "  <matplotlib.patches.Wedge at 0x7f3aed6c5358>],\n",
              " [Text(-0.49938947630209474, -0.9801072140121813, 'Petrolum'),\n",
              "  Text(0.6741976190487652, 0.8691706221847216, 'Gold'),\n",
              "  Text(0.33991851505592985, 1.0461622260061638, 'Alcohol'),\n",
              "  Text(0.1378663750450849, 1.0913261944221482, 'Other')],\n",
              " [Text(-0.27239425980114257, -0.5346039349157352, '85.00%'),\n",
              "  Text(0.367744155844781, 0.47409306664621176, '9.00%'),\n",
              "  Text(0.18541009912141626, 0.5706339414579075, '2.00%'),\n",
              "  Text(0.07519984093368266, 0.5952688333211716, '4.00%')])"
            ]
          },
          "metadata": {
            "tags": []
          },
          "execution_count": 341
        },
        {
          "output_type": "display_data",
          "data": {
            "image/png": "[encoded data removed]",
            "text/plain": [
              "<Figure size 864x864 with 1 Axes>"
            ]
          },
          "metadata": {
            "tags": []
          }
        }
      ]
    },
    {
      "cell_type": "markdown",
      "metadata": {
        "id": "Il6qXc_SB8QC"
      },
      "source": [
        "###Solution 4: To diversify, increase educational investments. \n",
        "\n",
        "**Solution #4:** Many countries that spend a substantial on education reap its benefits with substantial wealth per capita. Graphs showed this relationship earlier.  Some of solutions will only come after political stability is established. To alleviate these problems spend more education, reduce money printing, and work with nations to remove trade sanctions. "
      ]
    },
    {
      "cell_type": "code",
      "metadata": {
        "id": "0f4ToR7j2u2C",
        "outputId": "47a87f81-10f2-4b9a-ee0a-47f55d6f54f5",
        "colab": {
          "base_uri": "https://localhost:8080/",
          "height": 731
        }
      },
      "source": [
        "Spending_df=Education_df.tail(30)\n",
        "Spending_df\n",
        "\n",
        "Spending_df.plot(kind='scatter',x='LOCATION',y='Value')\n",
        "                                                                                          #Average spending on education \n",
        "plt.text(5, 20000, r'Lets look at top 12 spending countries on education to see wealth vs education, on the graph below',fontsize=16) # Took top 12 countries, and checked their wealth below, on a bar graph \n",
        "\n",
        "plt.axhline(y=8783.724666666667, color='r')   \n",
        "\n",
        "#Solution 4:  Wealthy nations make alot of investments in education so should Venzuela but within its limits."
      ],
      "execution_count": null,
      "outputs": [
        {
          "output_type": "execute_result",
          "data": {
            "text/plain": [
              "<matplotlib.lines.Line2D at 0x7f3aef5a5ba8>"
            ]
          },
          "metadata": {
            "tags": []
          },
          "execution_count": 342
        },
        {
          "output_type": "display_data",
          "data": {
            "image/png": "[encoded data removed]",
            "text/plain": [
              "<Figure size 1800x864 with 1 Axes>"
            ]
          },
          "metadata": {
            "tags": [],
            "needs_background": "light"
          }
        }
      ]
    },
    {
      "cell_type": "code",
      "metadata": {
        "id": "NrDjPfn7IOyx",
        "outputId": "99461ec3-1c88-4cdd-be16-feb1a001825e",
        "colab": {
          "base_uri": "https://localhost:8080/",
          "height": 744
        }
      },
      "source": [
        "Top_12_GRAPH.plot(kind='bar',x='LOCATION',y='Value')                       # Created graph from dataframe beforehand \n",
        "plt.axhline(y=34819.430959, color='r')                                     # Mean GDP per capita \n",
        "\n",
        "plt.text(1, 80000, r'Red line= Mean GDP per capita (Top 30 Richest Countries )',fontsize=20)   #Sort of a legend for the reader reads 'Red line= Mean GDP per capita (World)'\n",
        "\n"
      ],
      "execution_count": null,
      "outputs": [
        {
          "output_type": "execute_result",
          "data": {
            "text/plain": [
              "Text(1, 80000, 'Red line= Mean GDP per capita (Top 30 Richest Countries )')"
            ]
          },
          "metadata": {
            "tags": []
          },
          "execution_count": 344
        },
        {
          "output_type": "display_data",
          "data": {
            "image/png": "[encoded data removed]",
            "text/plain": [
              "<Figure size 1800x864 with 1 Axes>"
            ]
          },
          "metadata": {
            "tags": [],
            "needs_background": "light"
          }
        }
      ]
    },
    {
      "cell_type": "markdown",
      "metadata": {
        "id": "3BunE0ZiXl-8"
      },
      "source": [
        "##**5. Conclusion**\n",
        "\n",
        "The metrics tell a stark story of Venezuela. The following is a summary of its economic deficiencies and possible solutions using the available data within this data science project. \n",
        "\n",
        "\n",
        "**Economic Deficiency #1**: **Hyperinflation** is described as a inflation rate of over 12,000 percent. The country reached that point in 2018. \n",
        "\n",
        "**Solution #1:** Stop high rate of government money printing. The rate in which money printing increased was substantial once Nicolas Maduro was elected. This is where it becomes complicated, Maduro has not stopped massive bolivar money printing and his people has suffered as a result. He needs to let the democratic process take place to have him unseated or he needs to intiate a more moderate printing strategy. A high rate of government money printing causes inflation. \n",
        "\n",
        "**Economic Deficiency #2:** **Shrinking Economy and High Poverty Rate**- Compared to neighboring countries, Venezuela is not doing well. They have a shrinking economy since 2015, whereas other close countries have a mostly growing economy. This needs to be addressed. \n",
        "\n",
        "**Solution #2:** Many of solutions here will help here. This deficiency requires many remedies. For example Venezuela needs; to reduce substantial money printing, remove sanctions to increase trade and revive imports, and invest in education for economic diversification. \n",
        "\n",
        "Many countries that spend a substantial on education reap its benefits with substantial wealth per capita. Graphs showed this relationship earlier.  Some of solutions will only come after political stability is established. To alleviate these problems spend more education, reduce money printing, and work with nations to remove trade sanctions. \n",
        "\n",
        "\n",
        "**Economic Deficiency #3:** **Decline of international trade**- Imports have dropped over the past five years \n",
        "\n",
        "**Solution #3:** Venezuela needs to remove U.S sanctions, and other sanctions from around the world. The sanctions are a function of a unstable political system. This a problem that presents itself in a significant way when looking at the data but it is an inherently poltical problem. Promote poltical stability by promoting free and fair elections, and sanctions will start to dwindle and go away as a result. \n",
        "\n"
      ]
    }
  ]
}
