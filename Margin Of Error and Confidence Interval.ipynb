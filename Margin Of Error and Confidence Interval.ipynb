{
  "nbformat": 4,
  "nbformat_minor": 0,
  "metadata": {
    "colab": {
      "name": "Jonathan Rius- Assignment #10.ipynb",
      "provenance": [],
      "collapsed_sections": [],
      "authorship_tag": "ABX9TyMYjMSZPqfxhDibbLlNt+Ox",
      "include_colab_link": true
    },
    "kernelspec": {
      "name": "python3",
      "display_name": "Python 3"
    }
  },
  "cells": [
    {
      "cell_type": "markdown",
      "metadata": {
        "id": "view-in-github",
        "colab_type": "text"
      },
      "source": [
        "<a href=\"https://colab.research.google.com/github/jonnie763/DATA-690-WANG/blob/master/Jonathan_Rius_Assignment_10.ipynb\" target=\"_parent\"><img src=\"https://colab.research.google.com/assets/colab-badge.svg\" alt=\"Open In Colab\"/></a>"
      ]
    },
    {
      "cell_type": "markdown",
      "metadata": {
        "id": "x-O48NLZPCzz"
      },
      "source": [
        "\r\n",
        "**Assignment # 10** - Point Estimate and Interval Estimate (Confidence Interval)\r\n",
        "A random survey of enrollment at 35 community colleges across the United States yielded the following figures:\r\n",
        "\r\n",
        "6,414; 1,550; 2,109; 9,350; 21,828; 4,300; 5,944; 5,722; 2,825; 2,044;\r\n",
        "\r\n",
        "5,481; 5,200; 5,853; 2,750; 10,012; 6,357; 27,000; 9,414; 7,681; 3,200;\r\n",
        "\r\n",
        "17,500; 9,200; 7,380; 18,314; 6,557; 13,713; 17,768; 7,493; 2,771; 2,861;\r\n",
        "\r\n",
        "1,263; 7,285; 28,165; 5,080; 11,622\r\n",
        "\r\n",
        "Perform point estimate and interval estimate with 95% confidence level using t-distribution.\r\n",
        "\r\n",
        "Since we don't know the population variance, we use t-distribiution instead of normal distribution."
      ]
    },
    {
      "cell_type": "code",
      "metadata": {
        "id": "uDtnTyGPPIFn"
      },
      "source": [
        "# Import Python packages\r\n",
        "\r\n",
        "import math\r\n",
        "import scipy.stats as stats\r\n",
        "import numpy as np\r\n"
      ],
      "execution_count": 69,
      "outputs": []
    },
    {
      "cell_type": "code",
      "metadata": {
        "colab": {
          "base_uri": "https://localhost:8080/"
        },
        "id": "25k63TEKQnju",
        "outputId": "4de3e0dc-4fc7-4393-a699-e5345f734c03"
      },
      "source": [
        "# We are combining the lines, to make one full list \r\n",
        "# Remove  \";\" later \r\n",
        "\r\n",
        "data_1 = \"6,414; 1,550; 2,109; 9,350; 21,828; 4,300; 5,944; 5,722; 2,825; 2,044;\" \r\n",
        "data_2 = \"5,481; 5,200; 5,853; 2,750; 10,012; 6,357; 27,000; 9,414; 7,681; 3,200; \"\r\n",
        "data_3 = \"17,500; 9,200; 7,380; 18,314; 6,557; 13,713; 17,768; 7,493; 2,771; 2,861; \"\r\n",
        "data_4 = \"1,263; 7,285; 28,165; 5,080; 11,622\"\r\n",
        "data = data_1 + data_2 + data_3 + data_4\r\n",
        "print(data)"
      ],
      "execution_count": 70,
      "outputs": [
        {
          "output_type": "stream",
          "text": [
            "6,414; 1,550; 2,109; 9,350; 21,828; 4,300; 5,944; 5,722; 2,825; 2,044;5,481; 5,200; 5,853; 2,750; 10,012; 6,357; 27,000; 9,414; 7,681; 3,200; 17,500; 9,200; 7,380; 18,314; 6,557; 13,713; 17,768; 7,493; 2,771; 2,861; 1,263; 7,285; 28,165; 5,080; 11,622\n"
          ],
          "name": "stdout"
        }
      ]
    },
    {
      "cell_type": "code",
      "metadata": {
        "colab": {
          "base_uri": "https://localhost:8080/"
        },
        "id": "TUF0uuKFQsxr",
        "outputId": "f527d8f1-a08e-43ef-bc3d-41ae02211760"
      },
      "source": [
        "# Convert the single string to a list of strings using split() function\r\n",
        "# Make sure to specify a delimter or separator\r\n",
        "\r\n",
        "x = data.split(\";\") # Replace the ; with , \r\n",
        "print(x)            # Print cleansed data "
      ],
      "execution_count": 71,
      "outputs": [
        {
          "output_type": "stream",
          "text": [
            "['6,414', ' 1,550', ' 2,109', ' 9,350', ' 21,828', ' 4,300', ' 5,944', ' 5,722', ' 2,825', ' 2,044', '5,481', ' 5,200', ' 5,853', ' 2,750', ' 10,012', ' 6,357', ' 27,000', ' 9,414', ' 7,681', ' 3,200', ' 17,500', ' 9,200', ' 7,380', ' 18,314', ' 6,557', ' 13,713', ' 17,768', ' 7,493', ' 2,771', ' 2,861', ' 1,263', ' 7,285', ' 28,165', ' 5,080', ' 11,622']\n"
          ],
          "name": "stdout"
        }
      ]
    },
    {
      "cell_type": "code",
      "metadata": {
        "colab": {
          "base_uri": "https://localhost:8080/"
        },
        "id": "yBW5mleuQ1Nt",
        "outputId": "7c318201-c1cc-4938-e2ce-e764837aed9a"
      },
      "source": [
        "e = [int(i.replace(\",\", \"\")) for i in x] # Cleanse commas \r\n",
        "print(e)"
      ],
      "execution_count": 72,
      "outputs": [
        {
          "output_type": "stream",
          "text": [
            "[6414, 1550, 2109, 9350, 21828, 4300, 5944, 5722, 2825, 2044, 5481, 5200, 5853, 2750, 10012, 6357, 27000, 9414, 7681, 3200, 17500, 9200, 7380, 18314, 6557, 13713, 17768, 7493, 2771, 2861, 1263, 7285, 28165, 5080, 11622]\n"
          ],
          "name": "stdout"
        }
      ]
    },
    {
      "cell_type": "code",
      "metadata": {
        "colab": {
          "base_uri": "https://localhost:8080/"
        },
        "id": "l9B5gi33RjsO",
        "outputId": "cb7de6f5-72ec-41db-e758-f7ed3134785d"
      },
      "source": [
        "e = []                     # Create a list of integers from the list of strings using List Comprehension or a function\r\n",
        "for i in x:\r\n",
        "    y = i.replace(\",\", \"\") # Data cleansing with commas \r\n",
        "    y = int(y)\r\n",
        "    e.append(y)\r\n",
        "    \r\n",
        "print(e)"
      ],
      "execution_count": 74,
      "outputs": [
        {
          "output_type": "stream",
          "text": [
            "[6414, 1550, 2109, 9350, 21828, 4300, 5944, 5722, 2825, 2044, 5481, 5200, 5853, 2750, 10012, 6357, 27000, 9414, 7681, 3200, 17500, 9200, 7380, 18314, 6557, 13713, 17768, 7493, 2771, 2861, 1263, 7285, 28165, 5080, 11622]\n"
          ],
          "name": "stdout"
        }
      ]
    },
    {
      "cell_type": "code",
      "metadata": {
        "colab": {
          "base_uri": "https://localhost:8080/"
        },
        "id": "PvDOUARdT4su",
        "outputId": "395c6775-1319-43a6-dc58-551ca927abe8"
      },
      "source": [
        "np.array(e).astype(np.float) #Convert the strings to floats for later, for which reason I had to do this to make the code work later on "
      ],
      "execution_count": 75,
      "outputs": [
        {
          "output_type": "execute_result",
          "data": {
            "text/plain": [
              "array([ 6414.,  1550.,  2109.,  9350., 21828.,  4300.,  5944.,  5722.,\n",
              "        2825.,  2044.,  5481.,  5200.,  5853.,  2750., 10012.,  6357.,\n",
              "       27000.,  9414.,  7681.,  3200., 17500.,  9200.,  7380., 18314.,\n",
              "        6557., 13713., 17768.,  7493.,  2771.,  2861.,  1263.,  7285.,\n",
              "       28165.,  5080., 11622.])"
            ]
          },
          "metadata": {
            "tags": []
          },
          "execution_count": 75
        }
      ]
    },
    {
      "cell_type": "code",
      "metadata": {
        "colab": {
          "base_uri": "https://localhost:8080/"
        },
        "id": "yE1yAeZURnqe",
        "outputId": "664b6d6f-93c2-41b6-8493-9a92e03b593f"
      },
      "source": [
        "\r\n",
        "n = len(x) # Calculate and display the sample size, predictably its just len (x)\r\n",
        "print(\"Sample size =\", n)"
      ],
      "execution_count": 76,
      "outputs": [
        {
          "output_type": "stream",
          "text": [
            "Sample size = 35\n"
          ],
          "name": "stdout"
        }
      ]
    },
    {
      "cell_type": "code",
      "metadata": {
        "colab": {
          "base_uri": "https://localhost:8080/"
        },
        "id": "WysphhLTShOi",
        "outputId": "dde41a90-4099-4ae3-d522-5482fa7273ad"
      },
      "source": [
        "sample_mean = round(np.mean(e),0) # Rounding to whole number \r\n",
        "print(\"Sample mean =\", sample_mean) # Print and display the sample mean, need for t-score later \r\n"
      ],
      "execution_count": 78,
      "outputs": [
        {
          "output_type": "stream",
          "text": [
            "Sample mean = 8629.0\n"
          ],
          "name": "stdout"
        }
      ]
    },
    {
      "cell_type": "markdown",
      "metadata": {
        "id": "Wx6OhiS1USy2"
      },
      "source": [
        "\r\n",
        "Step 2 - Calculate and Display the Sample Standard Deviation & Sample Standard Error¶\r\n",
        "Sample Standard Deviation $S=\\sqrt{\\dfrac{1}{n-1}\\sum\\limits_{i=1}^n (X_i-\\bar{X})^2}$\r\n",
        "\r\n",
        "Sample Standard Error = $\\dfrac{S}{\\sqrt{n}}$\r\n",
        "\r\n",
        "Note: The default Delta Degree of Freedom (DDOF) for Numpy's std function is 0 which is applicable to populate data. For sample data, we need to specify ddof=1.\r\n",
        "\r\n",
        "For the enrollment data, we round up the statistics to be the full integers (no decimal points)."
      ]
    },
    {
      "cell_type": "code",
      "metadata": {
        "colab": {
          "base_uri": "https://localhost:8080/"
        },
        "id": "CMT27rtAUVCz",
        "outputId": "389f72af-bb60-475c-9efe-ffdeed52250c"
      },
      "source": [
        "sample_std = round(np.std(e, ddof=1))        \r\n",
        "print(\"Sample Standard Deviation =\", sample_std) # Print and display the sample standard deviation, need for t-score later "
      ],
      "execution_count": 79,
      "outputs": [
        {
          "output_type": "stream",
          "text": [
            "Sample Standard Deviation = 6944.0\n"
          ],
          "name": "stdout"
        }
      ]
    },
    {
      "cell_type": "code",
      "metadata": {
        "colab": {
          "base_uri": "https://localhost:8080/"
        },
        "id": "EgaYz8RTU-rk",
        "outputId": "ce3e4128-2c0d-49e5-be10-757eb5dc8cb8"
      },
      "source": [
        "std_err = round(sample_std / math.sqrt(len(x))) # Calculate and display the sample standard error, essentially we need these \"pieces\" to get a t-score\r\n",
        "print(\"Sample Standard Error is\", std_err)"
      ],
      "execution_count": 80,
      "outputs": [
        {
          "output_type": "stream",
          "text": [
            "Sample Standard Error is 1174.0\n"
          ],
          "name": "stdout"
        }
      ]
    },
    {
      "cell_type": "markdown",
      "metadata": {
        "id": "aS8MVlGrVg0d"
      },
      "source": [
        "Step 3 - Calculate t Critical Value using t-Distribution¶\r\n",
        "$\\alpha$ = 1 - Confidence Level = 1 - 95% = 0.05\r\n",
        "\r\n",
        "$\\dfrac{\\alpha}{2}$ = 0.025\r\n",
        "\r\n",
        "n (sample size) = 35\r\n",
        "\r\n",
        "df (degree of freedom) = n - 1 = 35 - 1 = 34\r\n",
        "\r\n",
        "We will use Python scipy.stats t-distribution's PPF (Percentage Point Function) to calculate t critical value $t_{0.025,34}$."
      ]
    },
    {
      "cell_type": "code",
      "metadata": {
        "colab": {
          "base_uri": "https://localhost:8080/"
        },
        "id": "FCcRE6WJVi2Y",
        "outputId": "14f82057-faaa-412c-a4d5-6f2b379cc02c"
      },
      "source": [
        "# Calculate and display the t critical value using scipy.stats.t package ppf function\r\n",
        "\r\n",
        "t_value = round(stats.t.ppf(0.975, 34),2)\r\n",
        "print(\"t critical value = \", t_value)"
      ],
      "execution_count": 81,
      "outputs": [
        {
          "output_type": "stream",
          "text": [
            "t critical value =  2.03\n"
          ],
          "name": "stdout"
        }
      ]
    },
    {
      "cell_type": "markdown",
      "metadata": {
        "id": "6DUahXo_Vq66"
      },
      "source": [
        "\r\n",
        "Step 4 - Calculate the Margin of Error\r\n",
        "Margin of Error = t-Statistics * Sample Standard Error = $t_{\\alpha/2,n-1}\\left(\\dfrac{s}{\\sqrt{n}}\\right)$"
      ]
    },
    {
      "cell_type": "code",
      "metadata": {
        "colab": {
          "base_uri": "https://localhost:8080/"
        },
        "id": "Ug_O7EN_WfCo",
        "outputId": "722c61d6-3a03-48b1-a301-eda97a0f19ea"
      },
      "source": [
        "# Calculate and display the margin of error,\r\n",
        "# As stated above the formula will yield the margin of error but you need to add things up to get limits\r\n",
        "\r\n",
        "margin_of_error = round(t_value * std_err)\r\n",
        "print(\"Margin of Error =\", margin_of_error)"
      ],
      "execution_count": 82,
      "outputs": [
        {
          "output_type": "stream",
          "text": [
            "Margin of Error = 2383.0\n"
          ],
          "name": "stdout"
        }
      ]
    },
    {
      "cell_type": "markdown",
      "metadata": {
        "id": "YY5GZfkQb9VG"
      },
      "source": [
        "\r\n",
        "Step 5 - Calculate Lower and Upper Limit of the Confidence Interval\r\n",
        "Lower Limit = Sample Mean - Margin of Error\r\n",
        "\r\n",
        "Upper Limit = Sample Mean + Margin of Error"
      ]
    },
    {
      "cell_type": "code",
      "metadata": {
        "colab": {
          "base_uri": "https://localhost:8080/"
        },
        "id": "5DvqXVAUcDHD",
        "outputId": "34766d6a-c7b4-4862-aac9-f85933c860ae"
      },
      "source": [
        "# Calculate and display the lower limit\r\n",
        "# As stated before minus the margin of error to the sample mean  \r\n",
        "\r\n",
        "lower_limit = sample_mean - margin_of_error\r\n",
        "print (\"Lower Limit = \", lower_limit)"
      ],
      "execution_count": 83,
      "outputs": [
        {
          "output_type": "stream",
          "text": [
            "Lower Limit =  6246.0\n"
          ],
          "name": "stdout"
        }
      ]
    },
    {
      "cell_type": "code",
      "metadata": {
        "colab": {
          "base_uri": "https://localhost:8080/"
        },
        "id": "HN8H93_McT_O",
        "outputId": "ee85cec4-e816-48e1-f0ed-d72db1cbed0a"
      },
      "source": [
        "# Calculate and display the upper limit\r\n",
        "# As stated before add the margin of error to the sample mean \r\n",
        "\r\n",
        "upper_limit = sample_mean + margin_of_error\r\n",
        "print (\"Upper Limit = \", upper_limit)"
      ],
      "execution_count": 84,
      "outputs": [
        {
          "output_type": "stream",
          "text": [
            "Upper Limit =  11012.0\n"
          ],
          "name": "stdout"
        }
      ]
    },
    {
      "cell_type": "markdown",
      "metadata": {
        "id": "r9zao-ovcKSv"
      },
      "source": [
        "Step 6 - Now We have the 95% Confidence Interval¶\r\n",
        "Confidence Interval ($\\sigma$ unknown) = $\\bar{x}\\space\\pm\\space t_{\\alpha/2}\\left(\\dfrac{S}{\\sqrt{n}}\\right)$ = Sample_Mean $\\pm$ Margin of Error"
      ]
    },
    {
      "cell_type": "code",
      "metadata": {
        "colab": {
          "base_uri": "https://localhost:8080/"
        },
        "id": "4oWCOqs2cIIy",
        "outputId": "8fe47951-d553-43db-d9ad-75df3b724e0d"
      },
      "source": [
        "# Print the 95% confidence interveral in the form (lower limit, upper limit)\r\n",
        "\r\n",
        "print(\"The 95% Confidence Interval = (\", lower_limit, \",\", upper_limit, \")\") # Now print both above to get your confidence interval \r\n"
      ],
      "execution_count": 85,
      "outputs": [
        {
          "output_type": "stream",
          "text": [
            "The 95% Confidence Interval = ( 6246.0 , 11012.0 )\n"
          ],
          "name": "stdout"
        }
      ]
    }
  ]
}
