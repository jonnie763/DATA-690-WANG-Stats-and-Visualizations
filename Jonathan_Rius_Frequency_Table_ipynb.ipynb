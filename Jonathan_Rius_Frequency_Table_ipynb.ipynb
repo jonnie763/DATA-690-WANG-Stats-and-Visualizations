{
  "nbformat": 4,
  "nbformat_minor": 0,
  "metadata": {
    "colab": {
      "provenance": [],
      "authorship_tag": "ABX9TyPXII3U+rAhKviVI+Glr/3b",
      "include_colab_link": true
    },
    "kernelspec": {
      "name": "python3",
      "display_name": "Python 3"
    },
    "language_info": {
      "name": "python"
    }
  },
  "cells": [
    {
      "cell_type": "markdown",
      "metadata": {
        "id": "view-in-github",
        "colab_type": "text"
      },
      "source": [
        "<a href=\"https://colab.research.google.com/github/jonnie763/DATA-690-WANG-Stats-and-Visualizations/blob/master/Jonathan_Rius_Frequency_Table_ipynb.ipynb\" target=\"_parent\"><img src=\"https://colab.research.google.com/assets/colab-badge.svg\" alt=\"Open In Colab\"/></a>"
      ]
    },
    {
      "cell_type": "markdown",
      "source": [
        "# 1. Looking at the inflation, classify them according to periods of high inflation (over 5%) and controlled inflation (below 5%), and create a table with the frenquencies of periods of high and controlled inflation."
      ],
      "metadata": {
        "id": "AqQOk1wJkJMM"
      }
    },
    {
      "cell_type": "code",
      "source": [
        "import matplotlib.pyplot as plt        #Import relevant libraries. Pandas for dataframes and ploty and matplotlib for visualization. Other libraries just in case.\n",
        "\n",
        "import pandas as pd\n",
        "\n",
        "import numpy as np\n",
        "\n",
        "import plotly.graph_objects as go\n",
        "\n",
        "from statsmodels.tsa.arima.model import ARIMA\n",
        "\n",
        "from sklearn.metrics import mean_squared_error, mean_absolute_error\n",
        "\n",
        "import math\n",
        "\n",
        "import seaborn as sn\n",
        "\n",
        "plt.rcParams['figure.figsize'] = 25, 12 #Increase general size for matplot.lib"
      ],
      "metadata": {
        "id": "kiWwen2ogcxw"
      },
      "execution_count": 1,
      "outputs": []
    },
    {
      "cell_type": "code",
      "execution_count": 46,
      "metadata": {
        "colab": {
          "base_uri": "https://localhost:8080/",
          "height": 424
        },
        "id": "MrU_nweWgKL_",
        "outputId": "fe6cf595-0734-4113-994d-bd3de7634aa8"
      },
      "outputs": [
        {
          "output_type": "execute_result",
          "data": {
            "text/plain": [
              "                     Data Source World Development Indicators  \\\n",
              "0              Last Updated Date          2024-06-28 00:00:00   \n",
              "1                            NaN                          NaN   \n",
              "2                   Country Name                 Country Code   \n",
              "3                          Aruba                          ABW   \n",
              "4    Africa Eastern and Southern                          AFE   \n",
              "..                           ...                          ...   \n",
              "264                       Kosovo                          XKX   \n",
              "265                  Yemen, Rep.                          YEM   \n",
              "266                 South Africa                          ZAF   \n",
              "267                       Zambia                          ZMB   \n",
              "268                     Zimbabwe                          ZWE   \n",
              "\n",
              "                                Unnamed: 2      Unnamed: 3   Unnamed: 4  \\\n",
              "0                                      NaN             NaN          NaN   \n",
              "1                                      NaN             NaN          NaN   \n",
              "2                           Indicator Name  Indicator Code  1960.000000   \n",
              "3    Inflation, consumer prices (annual %)  FP.CPI.TOTL.ZG          NaN   \n",
              "4    Inflation, consumer prices (annual %)  FP.CPI.TOTL.ZG          NaN   \n",
              "..                                     ...             ...          ...   \n",
              "264  Inflation, consumer prices (annual %)  FP.CPI.TOTL.ZG          NaN   \n",
              "265  Inflation, consumer prices (annual %)  FP.CPI.TOTL.ZG          NaN   \n",
              "266  Inflation, consumer prices (annual %)  FP.CPI.TOTL.ZG     1.288859   \n",
              "267  Inflation, consumer prices (annual %)  FP.CPI.TOTL.ZG          NaN   \n",
              "268  Inflation, consumer prices (annual %)  FP.CPI.TOTL.ZG          NaN   \n",
              "\n",
              "      Unnamed: 5   Unnamed: 6  Unnamed: 7   Unnamed: 8   Unnamed: 9  ...  \\\n",
              "0            NaN          NaN         NaN          NaN          NaN  ...   \n",
              "1            NaN          NaN         NaN          NaN          NaN  ...   \n",
              "2    1961.000000  1962.000000  1963.00000  1964.000000  1965.000000  ...   \n",
              "3            NaN          NaN         NaN          NaN          NaN  ...   \n",
              "4            NaN          NaN         NaN          NaN          NaN  ...   \n",
              "..           ...          ...         ...          ...          ...  ...   \n",
              "264          NaN          NaN         NaN          NaN          NaN  ...   \n",
              "265          NaN          NaN         NaN          NaN          NaN  ...   \n",
              "266     2.102374     1.246285     1.33797     2.534973     4.069029  ...   \n",
              "267          NaN          NaN         NaN          NaN          NaN  ...   \n",
              "268          NaN          NaN         NaN          NaN          NaN  ...   \n",
              "\n",
              "     Unnamed: 58  Unnamed: 59  Unnamed: 60  Unnamed: 61  Unnamed: 62  \\\n",
              "0            NaN          NaN          NaN          NaN          NaN   \n",
              "1            NaN          NaN          NaN          NaN          NaN   \n",
              "2    2014.000000  2015.000000  2016.000000  2017.000000  2018.000000   \n",
              "3       0.421441     0.474764    -0.931196    -1.028282     3.626041   \n",
              "4       5.370290     5.245878     6.571396     6.399343     4.720805   \n",
              "..           ...          ...          ...          ...          ...   \n",
              "264     0.428958    -0.536929     0.273169     1.488234     1.053798   \n",
              "265     8.104726          NaN          NaN          NaN          NaN   \n",
              "266     6.129838     4.540642     6.571396     5.184247     4.517165   \n",
              "267     7.806876    10.110593    17.869730     6.577312     7.494572   \n",
              "268    -0.197785    -2.430968    -1.543670     0.893962    10.618866   \n",
              "\n",
              "     Unnamed: 63  Unnamed: 64  Unnamed: 65  Unnamed: 66  Unnamed: 67  \n",
              "0            NaN          NaN          NaN          NaN          NaN  \n",
              "1            NaN          NaN          NaN          NaN          NaN  \n",
              "2    2019.000000  2020.000000  2021.000000  2022.000000  2023.000000  \n",
              "3       4.257462          NaN          NaN          NaN          NaN  \n",
              "4       4.653665     7.321106     6.824727    10.883478     7.399186  \n",
              "..           ...          ...          ...          ...          ...  \n",
              "264     2.675992     0.198228     3.353691    11.580510     4.944227  \n",
              "265          NaN          NaN          NaN          NaN          NaN  \n",
              "266     4.120246     3.210036     4.611672     7.039727     6.073909  \n",
              "267     9.150316    15.733060    22.020768    10.993204    10.884532  \n",
              "268   255.304991   557.201817    98.546105   104.705171          NaN  \n",
              "\n",
              "[269 rows x 68 columns]"
            ],
            "text/html": [
              "\n",
              "  <div id=\"df-159d32c4-e0a3-4d66-be10-36208889c614\" class=\"colab-df-container\">\n",
              "    <div>\n",
              "<style scoped>\n",
              "    .dataframe tbody tr th:only-of-type {\n",
              "        vertical-align: middle;\n",
              "    }\n",
              "\n",
              "    .dataframe tbody tr th {\n",
              "        vertical-align: top;\n",
              "    }\n",
              "\n",
              "    .dataframe thead th {\n",
              "        text-align: right;\n",
              "    }\n",
              "</style>\n",
              "<table border=\"1\" class=\"dataframe\">\n",
              "  <thead>\n",
              "    <tr style=\"text-align: right;\">\n",
              "      <th></th>\n",
              "      <th>Data Source</th>\n",
              "      <th>World Development Indicators</th>\n",
              "      <th>Unnamed: 2</th>\n",
              "      <th>Unnamed: 3</th>\n",
              "      <th>Unnamed: 4</th>\n",
              "      <th>Unnamed: 5</th>\n",
              "      <th>Unnamed: 6</th>\n",
              "      <th>Unnamed: 7</th>\n",
              "      <th>Unnamed: 8</th>\n",
              "      <th>Unnamed: 9</th>\n",
              "      <th>...</th>\n",
              "      <th>Unnamed: 58</th>\n",
              "      <th>Unnamed: 59</th>\n",
              "      <th>Unnamed: 60</th>\n",
              "      <th>Unnamed: 61</th>\n",
              "      <th>Unnamed: 62</th>\n",
              "      <th>Unnamed: 63</th>\n",
              "      <th>Unnamed: 64</th>\n",
              "      <th>Unnamed: 65</th>\n",
              "      <th>Unnamed: 66</th>\n",
              "      <th>Unnamed: 67</th>\n",
              "    </tr>\n",
              "  </thead>\n",
              "  <tbody>\n",
              "    <tr>\n",
              "      <th>0</th>\n",
              "      <td>Last Updated Date</td>\n",
              "      <td>2024-06-28 00:00:00</td>\n",
              "      <td>NaN</td>\n",
              "      <td>NaN</td>\n",
              "      <td>NaN</td>\n",
              "      <td>NaN</td>\n",
              "      <td>NaN</td>\n",
              "      <td>NaN</td>\n",
              "      <td>NaN</td>\n",
              "      <td>NaN</td>\n",
              "      <td>...</td>\n",
              "      <td>NaN</td>\n",
              "      <td>NaN</td>\n",
              "      <td>NaN</td>\n",
              "      <td>NaN</td>\n",
              "      <td>NaN</td>\n",
              "      <td>NaN</td>\n",
              "      <td>NaN</td>\n",
              "      <td>NaN</td>\n",
              "      <td>NaN</td>\n",
              "      <td>NaN</td>\n",
              "    </tr>\n",
              "    <tr>\n",
              "      <th>1</th>\n",
              "      <td>NaN</td>\n",
              "      <td>NaN</td>\n",
              "      <td>NaN</td>\n",
              "      <td>NaN</td>\n",
              "      <td>NaN</td>\n",
              "      <td>NaN</td>\n",
              "      <td>NaN</td>\n",
              "      <td>NaN</td>\n",
              "      <td>NaN</td>\n",
              "      <td>NaN</td>\n",
              "      <td>...</td>\n",
              "      <td>NaN</td>\n",
              "      <td>NaN</td>\n",
              "      <td>NaN</td>\n",
              "      <td>NaN</td>\n",
              "      <td>NaN</td>\n",
              "      <td>NaN</td>\n",
              "      <td>NaN</td>\n",
              "      <td>NaN</td>\n",
              "      <td>NaN</td>\n",
              "      <td>NaN</td>\n",
              "    </tr>\n",
              "    <tr>\n",
              "      <th>2</th>\n",
              "      <td>Country Name</td>\n",
              "      <td>Country Code</td>\n",
              "      <td>Indicator Name</td>\n",
              "      <td>Indicator Code</td>\n",
              "      <td>1960.000000</td>\n",
              "      <td>1961.000000</td>\n",
              "      <td>1962.000000</td>\n",
              "      <td>1963.00000</td>\n",
              "      <td>1964.000000</td>\n",
              "      <td>1965.000000</td>\n",
              "      <td>...</td>\n",
              "      <td>2014.000000</td>\n",
              "      <td>2015.000000</td>\n",
              "      <td>2016.000000</td>\n",
              "      <td>2017.000000</td>\n",
              "      <td>2018.000000</td>\n",
              "      <td>2019.000000</td>\n",
              "      <td>2020.000000</td>\n",
              "      <td>2021.000000</td>\n",
              "      <td>2022.000000</td>\n",
              "      <td>2023.000000</td>\n",
              "    </tr>\n",
              "    <tr>\n",
              "      <th>3</th>\n",
              "      <td>Aruba</td>\n",
              "      <td>ABW</td>\n",
              "      <td>Inflation, consumer prices (annual %)</td>\n",
              "      <td>FP.CPI.TOTL.ZG</td>\n",
              "      <td>NaN</td>\n",
              "      <td>NaN</td>\n",
              "      <td>NaN</td>\n",
              "      <td>NaN</td>\n",
              "      <td>NaN</td>\n",
              "      <td>NaN</td>\n",
              "      <td>...</td>\n",
              "      <td>0.421441</td>\n",
              "      <td>0.474764</td>\n",
              "      <td>-0.931196</td>\n",
              "      <td>-1.028282</td>\n",
              "      <td>3.626041</td>\n",
              "      <td>4.257462</td>\n",
              "      <td>NaN</td>\n",
              "      <td>NaN</td>\n",
              "      <td>NaN</td>\n",
              "      <td>NaN</td>\n",
              "    </tr>\n",
              "    <tr>\n",
              "      <th>4</th>\n",
              "      <td>Africa Eastern and Southern</td>\n",
              "      <td>AFE</td>\n",
              "      <td>Inflation, consumer prices (annual %)</td>\n",
              "      <td>FP.CPI.TOTL.ZG</td>\n",
              "      <td>NaN</td>\n",
              "      <td>NaN</td>\n",
              "      <td>NaN</td>\n",
              "      <td>NaN</td>\n",
              "      <td>NaN</td>\n",
              "      <td>NaN</td>\n",
              "      <td>...</td>\n",
              "      <td>5.370290</td>\n",
              "      <td>5.245878</td>\n",
              "      <td>6.571396</td>\n",
              "      <td>6.399343</td>\n",
              "      <td>4.720805</td>\n",
              "      <td>4.653665</td>\n",
              "      <td>7.321106</td>\n",
              "      <td>6.824727</td>\n",
              "      <td>10.883478</td>\n",
              "      <td>7.399186</td>\n",
              "    </tr>\n",
              "    <tr>\n",
              "      <th>...</th>\n",
              "      <td>...</td>\n",
              "      <td>...</td>\n",
              "      <td>...</td>\n",
              "      <td>...</td>\n",
              "      <td>...</td>\n",
              "      <td>...</td>\n",
              "      <td>...</td>\n",
              "      <td>...</td>\n",
              "      <td>...</td>\n",
              "      <td>...</td>\n",
              "      <td>...</td>\n",
              "      <td>...</td>\n",
              "      <td>...</td>\n",
              "      <td>...</td>\n",
              "      <td>...</td>\n",
              "      <td>...</td>\n",
              "      <td>...</td>\n",
              "      <td>...</td>\n",
              "      <td>...</td>\n",
              "      <td>...</td>\n",
              "      <td>...</td>\n",
              "    </tr>\n",
              "    <tr>\n",
              "      <th>264</th>\n",
              "      <td>Kosovo</td>\n",
              "      <td>XKX</td>\n",
              "      <td>Inflation, consumer prices (annual %)</td>\n",
              "      <td>FP.CPI.TOTL.ZG</td>\n",
              "      <td>NaN</td>\n",
              "      <td>NaN</td>\n",
              "      <td>NaN</td>\n",
              "      <td>NaN</td>\n",
              "      <td>NaN</td>\n",
              "      <td>NaN</td>\n",
              "      <td>...</td>\n",
              "      <td>0.428958</td>\n",
              "      <td>-0.536929</td>\n",
              "      <td>0.273169</td>\n",
              "      <td>1.488234</td>\n",
              "      <td>1.053798</td>\n",
              "      <td>2.675992</td>\n",
              "      <td>0.198228</td>\n",
              "      <td>3.353691</td>\n",
              "      <td>11.580510</td>\n",
              "      <td>4.944227</td>\n",
              "    </tr>\n",
              "    <tr>\n",
              "      <th>265</th>\n",
              "      <td>Yemen, Rep.</td>\n",
              "      <td>YEM</td>\n",
              "      <td>Inflation, consumer prices (annual %)</td>\n",
              "      <td>FP.CPI.TOTL.ZG</td>\n",
              "      <td>NaN</td>\n",
              "      <td>NaN</td>\n",
              "      <td>NaN</td>\n",
              "      <td>NaN</td>\n",
              "      <td>NaN</td>\n",
              "      <td>NaN</td>\n",
              "      <td>...</td>\n",
              "      <td>8.104726</td>\n",
              "      <td>NaN</td>\n",
              "      <td>NaN</td>\n",
              "      <td>NaN</td>\n",
              "      <td>NaN</td>\n",
              "      <td>NaN</td>\n",
              "      <td>NaN</td>\n",
              "      <td>NaN</td>\n",
              "      <td>NaN</td>\n",
              "      <td>NaN</td>\n",
              "    </tr>\n",
              "    <tr>\n",
              "      <th>266</th>\n",
              "      <td>South Africa</td>\n",
              "      <td>ZAF</td>\n",
              "      <td>Inflation, consumer prices (annual %)</td>\n",
              "      <td>FP.CPI.TOTL.ZG</td>\n",
              "      <td>1.288859</td>\n",
              "      <td>2.102374</td>\n",
              "      <td>1.246285</td>\n",
              "      <td>1.33797</td>\n",
              "      <td>2.534973</td>\n",
              "      <td>4.069029</td>\n",
              "      <td>...</td>\n",
              "      <td>6.129838</td>\n",
              "      <td>4.540642</td>\n",
              "      <td>6.571396</td>\n",
              "      <td>5.184247</td>\n",
              "      <td>4.517165</td>\n",
              "      <td>4.120246</td>\n",
              "      <td>3.210036</td>\n",
              "      <td>4.611672</td>\n",
              "      <td>7.039727</td>\n",
              "      <td>6.073909</td>\n",
              "    </tr>\n",
              "    <tr>\n",
              "      <th>267</th>\n",
              "      <td>Zambia</td>\n",
              "      <td>ZMB</td>\n",
              "      <td>Inflation, consumer prices (annual %)</td>\n",
              "      <td>FP.CPI.TOTL.ZG</td>\n",
              "      <td>NaN</td>\n",
              "      <td>NaN</td>\n",
              "      <td>NaN</td>\n",
              "      <td>NaN</td>\n",
              "      <td>NaN</td>\n",
              "      <td>NaN</td>\n",
              "      <td>...</td>\n",
              "      <td>7.806876</td>\n",
              "      <td>10.110593</td>\n",
              "      <td>17.869730</td>\n",
              "      <td>6.577312</td>\n",
              "      <td>7.494572</td>\n",
              "      <td>9.150316</td>\n",
              "      <td>15.733060</td>\n",
              "      <td>22.020768</td>\n",
              "      <td>10.993204</td>\n",
              "      <td>10.884532</td>\n",
              "    </tr>\n",
              "    <tr>\n",
              "      <th>268</th>\n",
              "      <td>Zimbabwe</td>\n",
              "      <td>ZWE</td>\n",
              "      <td>Inflation, consumer prices (annual %)</td>\n",
              "      <td>FP.CPI.TOTL.ZG</td>\n",
              "      <td>NaN</td>\n",
              "      <td>NaN</td>\n",
              "      <td>NaN</td>\n",
              "      <td>NaN</td>\n",
              "      <td>NaN</td>\n",
              "      <td>NaN</td>\n",
              "      <td>...</td>\n",
              "      <td>-0.197785</td>\n",
              "      <td>-2.430968</td>\n",
              "      <td>-1.543670</td>\n",
              "      <td>0.893962</td>\n",
              "      <td>10.618866</td>\n",
              "      <td>255.304991</td>\n",
              "      <td>557.201817</td>\n",
              "      <td>98.546105</td>\n",
              "      <td>104.705171</td>\n",
              "      <td>NaN</td>\n",
              "    </tr>\n",
              "  </tbody>\n",
              "</table>\n",
              "<p>269 rows × 68 columns</p>\n",
              "</div>\n",
              "    <div class=\"colab-df-buttons\">\n",
              "\n",
              "  <div class=\"colab-df-container\">\n",
              "    <button class=\"colab-df-convert\" onclick=\"convertToInteractive('df-159d32c4-e0a3-4d66-be10-36208889c614')\"\n",
              "            title=\"Convert this dataframe to an interactive table.\"\n",
              "            style=\"display:none;\">\n",
              "\n",
              "  <svg xmlns=\"http://www.w3.org/2000/svg\" height=\"24px\" viewBox=\"0 -960 960 960\">\n",
              "    <path d=\"M120-120v-720h720v720H120Zm60-500h600v-160H180v160Zm220 220h160v-160H400v160Zm0 220h160v-160H400v160ZM180-400h160v-160H180v160Zm440 0h160v-160H620v160ZM180-180h160v-160H180v160Zm440 0h160v-160H620v160Z\"/>\n",
              "  </svg>\n",
              "    </button>\n",
              "\n",
              "  <style>\n",
              "    .colab-df-container {\n",
              "      display:flex;\n",
              "      gap: 12px;\n",
              "    }\n",
              "\n",
              "    .colab-df-convert {\n",
              "      background-color: #E8F0FE;\n",
              "      border: none;\n",
              "      border-radius: 50%;\n",
              "      cursor: pointer;\n",
              "      display: none;\n",
              "      fill: #1967D2;\n",
              "      height: 32px;\n",
              "      padding: 0 0 0 0;\n",
              "      width: 32px;\n",
              "    }\n",
              "\n",
              "    .colab-df-convert:hover {\n",
              "      background-color: #E2EBFA;\n",
              "      box-shadow: 0px 1px 2px rgba(60, 64, 67, 0.3), 0px 1px 3px 1px rgba(60, 64, 67, 0.15);\n",
              "      fill: #174EA6;\n",
              "    }\n",
              "\n",
              "    .colab-df-buttons div {\n",
              "      margin-bottom: 4px;\n",
              "    }\n",
              "\n",
              "    [theme=dark] .colab-df-convert {\n",
              "      background-color: #3B4455;\n",
              "      fill: #D2E3FC;\n",
              "    }\n",
              "\n",
              "    [theme=dark] .colab-df-convert:hover {\n",
              "      background-color: #434B5C;\n",
              "      box-shadow: 0px 1px 3px 1px rgba(0, 0, 0, 0.15);\n",
              "      filter: drop-shadow(0px 1px 2px rgba(0, 0, 0, 0.3));\n",
              "      fill: #FFFFFF;\n",
              "    }\n",
              "  </style>\n",
              "\n",
              "    <script>\n",
              "      const buttonEl =\n",
              "        document.querySelector('#df-159d32c4-e0a3-4d66-be10-36208889c614 button.colab-df-convert');\n",
              "      buttonEl.style.display =\n",
              "        google.colab.kernel.accessAllowed ? 'block' : 'none';\n",
              "\n",
              "      async function convertToInteractive(key) {\n",
              "        const element = document.querySelector('#df-159d32c4-e0a3-4d66-be10-36208889c614');\n",
              "        const dataTable =\n",
              "          await google.colab.kernel.invokeFunction('convertToInteractive',\n",
              "                                                    [key], {});\n",
              "        if (!dataTable) return;\n",
              "\n",
              "        const docLinkHtml = 'Like what you see? Visit the ' +\n",
              "          '<a target=\"_blank\" href=https://colab.research.google.com/notebooks/data_table.ipynb>data table notebook</a>'\n",
              "          + ' to learn more about interactive tables.';\n",
              "        element.innerHTML = '';\n",
              "        dataTable['output_type'] = 'display_data';\n",
              "        await google.colab.output.renderOutput(dataTable, element);\n",
              "        const docLink = document.createElement('div');\n",
              "        docLink.innerHTML = docLinkHtml;\n",
              "        element.appendChild(docLink);\n",
              "      }\n",
              "    </script>\n",
              "  </div>\n",
              "\n",
              "\n",
              "<div id=\"df-09baa9b1-32f2-4616-9a45-8d148a10304a\">\n",
              "  <button class=\"colab-df-quickchart\" onclick=\"quickchart('df-09baa9b1-32f2-4616-9a45-8d148a10304a')\"\n",
              "            title=\"Suggest charts\"\n",
              "            style=\"display:none;\">\n",
              "\n",
              "<svg xmlns=\"http://www.w3.org/2000/svg\" height=\"24px\"viewBox=\"0 0 24 24\"\n",
              "     width=\"24px\">\n",
              "    <g>\n",
              "        <path d=\"M19 3H5c-1.1 0-2 .9-2 2v14c0 1.1.9 2 2 2h14c1.1 0 2-.9 2-2V5c0-1.1-.9-2-2-2zM9 17H7v-7h2v7zm4 0h-2V7h2v10zm4 0h-2v-4h2v4z\"/>\n",
              "    </g>\n",
              "</svg>\n",
              "  </button>\n",
              "\n",
              "<style>\n",
              "  .colab-df-quickchart {\n",
              "      --bg-color: #E8F0FE;\n",
              "      --fill-color: #1967D2;\n",
              "      --hover-bg-color: #E2EBFA;\n",
              "      --hover-fill-color: #174EA6;\n",
              "      --disabled-fill-color: #AAA;\n",
              "      --disabled-bg-color: #DDD;\n",
              "  }\n",
              "\n",
              "  [theme=dark] .colab-df-quickchart {\n",
              "      --bg-color: #3B4455;\n",
              "      --fill-color: #D2E3FC;\n",
              "      --hover-bg-color: #434B5C;\n",
              "      --hover-fill-color: #FFFFFF;\n",
              "      --disabled-bg-color: #3B4455;\n",
              "      --disabled-fill-color: #666;\n",
              "  }\n",
              "\n",
              "  .colab-df-quickchart {\n",
              "    background-color: var(--bg-color);\n",
              "    border: none;\n",
              "    border-radius: 50%;\n",
              "    cursor: pointer;\n",
              "    display: none;\n",
              "    fill: var(--fill-color);\n",
              "    height: 32px;\n",
              "    padding: 0;\n",
              "    width: 32px;\n",
              "  }\n",
              "\n",
              "  .colab-df-quickchart:hover {\n",
              "    background-color: var(--hover-bg-color);\n",
              "    box-shadow: 0 1px 2px rgba(60, 64, 67, 0.3), 0 1px 3px 1px rgba(60, 64, 67, 0.15);\n",
              "    fill: var(--button-hover-fill-color);\n",
              "  }\n",
              "\n",
              "  .colab-df-quickchart-complete:disabled,\n",
              "  .colab-df-quickchart-complete:disabled:hover {\n",
              "    background-color: var(--disabled-bg-color);\n",
              "    fill: var(--disabled-fill-color);\n",
              "    box-shadow: none;\n",
              "  }\n",
              "\n",
              "  .colab-df-spinner {\n",
              "    border: 2px solid var(--fill-color);\n",
              "    border-color: transparent;\n",
              "    border-bottom-color: var(--fill-color);\n",
              "    animation:\n",
              "      spin 1s steps(1) infinite;\n",
              "  }\n",
              "\n",
              "  @keyframes spin {\n",
              "    0% {\n",
              "      border-color: transparent;\n",
              "      border-bottom-color: var(--fill-color);\n",
              "      border-left-color: var(--fill-color);\n",
              "    }\n",
              "    20% {\n",
              "      border-color: transparent;\n",
              "      border-left-color: var(--fill-color);\n",
              "      border-top-color: var(--fill-color);\n",
              "    }\n",
              "    30% {\n",
              "      border-color: transparent;\n",
              "      border-left-color: var(--fill-color);\n",
              "      border-top-color: var(--fill-color);\n",
              "      border-right-color: var(--fill-color);\n",
              "    }\n",
              "    40% {\n",
              "      border-color: transparent;\n",
              "      border-right-color: var(--fill-color);\n",
              "      border-top-color: var(--fill-color);\n",
              "    }\n",
              "    60% {\n",
              "      border-color: transparent;\n",
              "      border-right-color: var(--fill-color);\n",
              "    }\n",
              "    80% {\n",
              "      border-color: transparent;\n",
              "      border-right-color: var(--fill-color);\n",
              "      border-bottom-color: var(--fill-color);\n",
              "    }\n",
              "    90% {\n",
              "      border-color: transparent;\n",
              "      border-bottom-color: var(--fill-color);\n",
              "    }\n",
              "  }\n",
              "</style>\n",
              "\n",
              "  <script>\n",
              "    async function quickchart(key) {\n",
              "      const quickchartButtonEl =\n",
              "        document.querySelector('#' + key + ' button');\n",
              "      quickchartButtonEl.disabled = true;  // To prevent multiple clicks.\n",
              "      quickchartButtonEl.classList.add('colab-df-spinner');\n",
              "      try {\n",
              "        const charts = await google.colab.kernel.invokeFunction(\n",
              "            'suggestCharts', [key], {});\n",
              "      } catch (error) {\n",
              "        console.error('Error during call to suggestCharts:', error);\n",
              "      }\n",
              "      quickchartButtonEl.classList.remove('colab-df-spinner');\n",
              "      quickchartButtonEl.classList.add('colab-df-quickchart-complete');\n",
              "    }\n",
              "    (() => {\n",
              "      let quickchartButtonEl =\n",
              "        document.querySelector('#df-09baa9b1-32f2-4616-9a45-8d148a10304a button');\n",
              "      quickchartButtonEl.style.display =\n",
              "        google.colab.kernel.accessAllowed ? 'block' : 'none';\n",
              "    })();\n",
              "  </script>\n",
              "</div>\n",
              "\n",
              "  <div id=\"id_2a142d69-4bef-4e22-935a-efbc2d29e60b\">\n",
              "    <style>\n",
              "      .colab-df-generate {\n",
              "        background-color: #E8F0FE;\n",
              "        border: none;\n",
              "        border-radius: 50%;\n",
              "        cursor: pointer;\n",
              "        display: none;\n",
              "        fill: #1967D2;\n",
              "        height: 32px;\n",
              "        padding: 0 0 0 0;\n",
              "        width: 32px;\n",
              "      }\n",
              "\n",
              "      .colab-df-generate:hover {\n",
              "        background-color: #E2EBFA;\n",
              "        box-shadow: 0px 1px 2px rgba(60, 64, 67, 0.3), 0px 1px 3px 1px rgba(60, 64, 67, 0.15);\n",
              "        fill: #174EA6;\n",
              "      }\n",
              "\n",
              "      [theme=dark] .colab-df-generate {\n",
              "        background-color: #3B4455;\n",
              "        fill: #D2E3FC;\n",
              "      }\n",
              "\n",
              "      [theme=dark] .colab-df-generate:hover {\n",
              "        background-color: #434B5C;\n",
              "        box-shadow: 0px 1px 3px 1px rgba(0, 0, 0, 0.15);\n",
              "        filter: drop-shadow(0px 1px 2px rgba(0, 0, 0, 0.3));\n",
              "        fill: #FFFFFF;\n",
              "      }\n",
              "    </style>\n",
              "    <button class=\"colab-df-generate\" onclick=\"generateWithVariable('df_1')\"\n",
              "            title=\"Generate code using this dataframe.\"\n",
              "            style=\"display:none;\">\n",
              "\n",
              "  <svg xmlns=\"http://www.w3.org/2000/svg\" height=\"24px\"viewBox=\"0 0 24 24\"\n",
              "       width=\"24px\">\n",
              "    <path d=\"M7,19H8.4L18.45,9,17,7.55,7,17.6ZM5,21V16.75L18.45,3.32a2,2,0,0,1,2.83,0l1.4,1.43a1.91,1.91,0,0,1,.58,1.4,1.91,1.91,0,0,1-.58,1.4L9.25,21ZM18.45,9,17,7.55Zm-12,3A5.31,5.31,0,0,0,4.9,8.1,5.31,5.31,0,0,0,1,6.5,5.31,5.31,0,0,0,4.9,4.9,5.31,5.31,0,0,0,6.5,1,5.31,5.31,0,0,0,8.1,4.9,5.31,5.31,0,0,0,12,6.5,5.46,5.46,0,0,0,6.5,12Z\"/>\n",
              "  </svg>\n",
              "    </button>\n",
              "    <script>\n",
              "      (() => {\n",
              "      const buttonEl =\n",
              "        document.querySelector('#id_2a142d69-4bef-4e22-935a-efbc2d29e60b button.colab-df-generate');\n",
              "      buttonEl.style.display =\n",
              "        google.colab.kernel.accessAllowed ? 'block' : 'none';\n",
              "\n",
              "      buttonEl.onclick = () => {\n",
              "        google.colab.notebook.generateWithVariable('df_1');\n",
              "      }\n",
              "      })();\n",
              "    </script>\n",
              "  </div>\n",
              "\n",
              "    </div>\n",
              "  </div>\n"
            ],
            "application/vnd.google.colaboratory.intrinsic+json": {
              "type": "dataframe",
              "variable_name": "df_1"
            }
          },
          "metadata": {},
          "execution_count": 46
        }
      ],
      "source": [
        "import xlrd\n",
        "\n",
        "book = xlrd.open_workbook(filename='/content/Inflation.xls')\n",
        "\n",
        "df_1 = pd.read_excel(book)\n",
        "\n",
        "df_1"
      ]
    },
    {
      "cell_type": "code",
      "source": [
        "df_new = df.iloc[:, 4:]  # Select all rows, and columns starting from the 5th\n",
        "\n",
        "print(df_new)"
      ],
      "metadata": {
        "colab": {
          "base_uri": "https://localhost:8080/"
        },
        "id": "rQXt1llqheKV",
        "outputId": "01bd1b47-faa6-40db-abd6-ffead3921c3d"
      },
      "execution_count": 3,
      "outputs": [
        {
          "output_type": "stream",
          "name": "stdout",
          "text": [
            "      Unnamed: 4   Unnamed: 5   Unnamed: 6  Unnamed: 7   Unnamed: 8  \\\n",
            "0            NaN          NaN          NaN         NaN          NaN   \n",
            "1            NaN          NaN          NaN         NaN          NaN   \n",
            "2    1960.000000  1961.000000  1962.000000  1963.00000  1964.000000   \n",
            "3            NaN          NaN          NaN         NaN          NaN   \n",
            "4            NaN          NaN          NaN         NaN          NaN   \n",
            "..           ...          ...          ...         ...          ...   \n",
            "264          NaN          NaN          NaN         NaN          NaN   \n",
            "265          NaN          NaN          NaN         NaN          NaN   \n",
            "266     1.288859     2.102374     1.246285     1.33797     2.534973   \n",
            "267          NaN          NaN          NaN         NaN          NaN   \n",
            "268          NaN          NaN          NaN         NaN          NaN   \n",
            "\n",
            "      Unnamed: 9  Unnamed: 10  Unnamed: 11  Unnamed: 12  Unnamed: 13  ...  \\\n",
            "0            NaN          NaN          NaN          NaN          NaN  ...   \n",
            "1            NaN          NaN          NaN          NaN          NaN  ...   \n",
            "2    1965.000000  1966.000000  1967.000000  1968.000000  1969.000000  ...   \n",
            "3            NaN          NaN          NaN          NaN          NaN  ...   \n",
            "4            NaN          NaN          NaN          NaN          NaN  ...   \n",
            "..           ...          ...          ...          ...          ...  ...   \n",
            "264          NaN          NaN          NaN          NaN          NaN  ...   \n",
            "265          NaN          NaN          NaN          NaN          NaN  ...   \n",
            "266     4.069029     3.489234     3.538992     1.986136     3.238225  ...   \n",
            "267          NaN          NaN          NaN          NaN          NaN  ...   \n",
            "268          NaN          NaN          NaN          NaN          NaN  ...   \n",
            "\n",
            "     Unnamed: 58  Unnamed: 59  Unnamed: 60  Unnamed: 61  Unnamed: 62  \\\n",
            "0            NaN          NaN          NaN          NaN          NaN   \n",
            "1            NaN          NaN          NaN          NaN          NaN   \n",
            "2    2014.000000  2015.000000  2016.000000  2017.000000  2018.000000   \n",
            "3       0.421441     0.474764    -0.931196    -1.028282     3.626041   \n",
            "4       5.370290     5.245878     6.571396     6.399343     4.720805   \n",
            "..           ...          ...          ...          ...          ...   \n",
            "264     0.428958    -0.536929     0.273169     1.488234     1.053798   \n",
            "265     8.104726          NaN          NaN          NaN          NaN   \n",
            "266     6.129838     4.540642     6.571396     5.184247     4.517165   \n",
            "267     7.806876    10.110593    17.869730     6.577312     7.494572   \n",
            "268    -0.197785    -2.430968    -1.543670     0.893962    10.618866   \n",
            "\n",
            "     Unnamed: 63  Unnamed: 64  Unnamed: 65  Unnamed: 66  Unnamed: 67  \n",
            "0            NaN          NaN          NaN          NaN          NaN  \n",
            "1            NaN          NaN          NaN          NaN          NaN  \n",
            "2    2019.000000  2020.000000  2021.000000  2022.000000  2023.000000  \n",
            "3       4.257462          NaN          NaN          NaN          NaN  \n",
            "4       4.653665     7.321106     6.824727    10.883478     7.399186  \n",
            "..           ...          ...          ...          ...          ...  \n",
            "264     2.675992     0.198228     3.353691    11.580510     4.944227  \n",
            "265          NaN          NaN          NaN          NaN          NaN  \n",
            "266     4.120246     3.210036     4.611672     7.039727     6.073909  \n",
            "267     9.150316    15.733060    22.020768    10.993204    10.884532  \n",
            "268   255.304991   557.201817    98.546105   104.705171          NaN  \n",
            "\n",
            "[269 rows x 64 columns]\n"
          ]
        }
      ]
    },
    {
      "cell_type": "code",
      "source": [
        "# Count values greater than 5\n",
        "\n",
        "count = (df_new> 5).sum()\n",
        "\n",
        "print(count)"
      ],
      "metadata": {
        "colab": {
          "base_uri": "https://localhost:8080/"
        },
        "id": "Gl6cfwfIgqHl",
        "outputId": "f09f23a3-21e8-4979-bafb-55b237bdaadd"
      },
      "execution_count": 4,
      "outputs": [
        {
          "output_type": "stream",
          "name": "stdout",
          "text": [
            "Unnamed: 4      15\n",
            "Unnamed: 5      16\n",
            "Unnamed: 6      17\n",
            "Unnamed: 7      19\n",
            "Unnamed: 8      21\n",
            "              ... \n",
            "Unnamed: 63     33\n",
            "Unnamed: 64     43\n",
            "Unnamed: 65     63\n",
            "Unnamed: 66    181\n",
            "Unnamed: 67    121\n",
            "Length: 64, dtype: int64\n"
          ]
        }
      ]
    },
    {
      "cell_type": "code",
      "source": [
        "# prompt: sum of print count\n",
        "\n",
        "print(count.sum())\n"
      ],
      "metadata": {
        "colab": {
          "base_uri": "https://localhost:8080/"
        },
        "id": "nD2CiSgohgjh",
        "outputId": "7d618d85-e0f5-4d48-d68a-fedeac2a8ac7"
      },
      "execution_count": 5,
      "outputs": [
        {
          "output_type": "stream",
          "name": "stdout",
          "text": [
            "5516\n"
          ]
        }
      ]
    },
    {
      "cell_type": "code",
      "source": [
        "# Count values greater than 5\n",
        "\n",
        "count = (df_new < 5).sum()\n",
        "\n",
        "print(count)"
      ],
      "metadata": {
        "colab": {
          "base_uri": "https://localhost:8080/"
        },
        "id": "eGIN-a2Wg6u-",
        "outputId": "896c3db2-aac5-48f5-839a-4e1a07e5e433"
      },
      "execution_count": 6,
      "outputs": [
        {
          "output_type": "stream",
          "name": "stdout",
          "text": [
            "Unnamed: 4      56\n",
            "Unnamed: 5      57\n",
            "Unnamed: 6      58\n",
            "Unnamed: 7      56\n",
            "Unnamed: 8      59\n",
            "              ... \n",
            "Unnamed: 63    193\n",
            "Unnamed: 64    177\n",
            "Unnamed: 65    156\n",
            "Unnamed: 66     36\n",
            "Unnamed: 67     79\n",
            "Length: 64, dtype: int64\n"
          ]
        }
      ]
    },
    {
      "cell_type": "code",
      "source": [
        "# prompt: sum of print count\n",
        "\n",
        "print(count.sum())\n"
      ],
      "metadata": {
        "colab": {
          "base_uri": "https://localhost:8080/"
        },
        "id": "hBDSqXPgh_rW",
        "outputId": "e3f1fe32-c69d-4f1c-ae3e-73072c358f00"
      },
      "execution_count": 7,
      "outputs": [
        {
          "output_type": "stream",
          "name": "stdout",
          "text": [
            "5546\n"
          ]
        }
      ]
    },
    {
      "cell_type": "code",
      "source": [
        "import pandas as pd\n",
        "\n",
        "# Create a dictionary with data\n",
        "data = {\n",
        "    'High Inflation': [5516],\n",
        "    'Controlled Inflation ': [5546],\n",
        "}\n",
        "\n",
        "# Create DataFrame\n",
        "df = pd.DataFrame(data)\n",
        "\n",
        "df"
      ],
      "metadata": {
        "colab": {
          "base_uri": "https://localhost:8080/",
          "height": 89
        },
        "id": "HFuuMXfUj6o-",
        "outputId": "b9ddbf15-2eea-411d-bcb0-3af5f1ef5982"
      },
      "execution_count": 8,
      "outputs": [
        {
          "output_type": "execute_result",
          "data": {
            "text/plain": [
              "   High Inflation  Controlled Inflation \n",
              "0            5516                   5546"
            ],
            "text/html": [
              "\n",
              "  <div id=\"df-32cda8ac-696d-4ebd-920f-f5f0fe1af775\" class=\"colab-df-container\">\n",
              "    <div>\n",
              "<style scoped>\n",
              "    .dataframe tbody tr th:only-of-type {\n",
              "        vertical-align: middle;\n",
              "    }\n",
              "\n",
              "    .dataframe tbody tr th {\n",
              "        vertical-align: top;\n",
              "    }\n",
              "\n",
              "    .dataframe thead th {\n",
              "        text-align: right;\n",
              "    }\n",
              "</style>\n",
              "<table border=\"1\" class=\"dataframe\">\n",
              "  <thead>\n",
              "    <tr style=\"text-align: right;\">\n",
              "      <th></th>\n",
              "      <th>High Inflation</th>\n",
              "      <th>Controlled Inflation</th>\n",
              "    </tr>\n",
              "  </thead>\n",
              "  <tbody>\n",
              "    <tr>\n",
              "      <th>0</th>\n",
              "      <td>5516</td>\n",
              "      <td>5546</td>\n",
              "    </tr>\n",
              "  </tbody>\n",
              "</table>\n",
              "</div>\n",
              "    <div class=\"colab-df-buttons\">\n",
              "\n",
              "  <div class=\"colab-df-container\">\n",
              "    <button class=\"colab-df-convert\" onclick=\"convertToInteractive('df-32cda8ac-696d-4ebd-920f-f5f0fe1af775')\"\n",
              "            title=\"Convert this dataframe to an interactive table.\"\n",
              "            style=\"display:none;\">\n",
              "\n",
              "  <svg xmlns=\"http://www.w3.org/2000/svg\" height=\"24px\" viewBox=\"0 -960 960 960\">\n",
              "    <path d=\"M120-120v-720h720v720H120Zm60-500h600v-160H180v160Zm220 220h160v-160H400v160Zm0 220h160v-160H400v160ZM180-400h160v-160H180v160Zm440 0h160v-160H620v160ZM180-180h160v-160H180v160Zm440 0h160v-160H620v160Z\"/>\n",
              "  </svg>\n",
              "    </button>\n",
              "\n",
              "  <style>\n",
              "    .colab-df-container {\n",
              "      display:flex;\n",
              "      gap: 12px;\n",
              "    }\n",
              "\n",
              "    .colab-df-convert {\n",
              "      background-color: #E8F0FE;\n",
              "      border: none;\n",
              "      border-radius: 50%;\n",
              "      cursor: pointer;\n",
              "      display: none;\n",
              "      fill: #1967D2;\n",
              "      height: 32px;\n",
              "      padding: 0 0 0 0;\n",
              "      width: 32px;\n",
              "    }\n",
              "\n",
              "    .colab-df-convert:hover {\n",
              "      background-color: #E2EBFA;\n",
              "      box-shadow: 0px 1px 2px rgba(60, 64, 67, 0.3), 0px 1px 3px 1px rgba(60, 64, 67, 0.15);\n",
              "      fill: #174EA6;\n",
              "    }\n",
              "\n",
              "    .colab-df-buttons div {\n",
              "      margin-bottom: 4px;\n",
              "    }\n",
              "\n",
              "    [theme=dark] .colab-df-convert {\n",
              "      background-color: #3B4455;\n",
              "      fill: #D2E3FC;\n",
              "    }\n",
              "\n",
              "    [theme=dark] .colab-df-convert:hover {\n",
              "      background-color: #434B5C;\n",
              "      box-shadow: 0px 1px 3px 1px rgba(0, 0, 0, 0.15);\n",
              "      filter: drop-shadow(0px 1px 2px rgba(0, 0, 0, 0.3));\n",
              "      fill: #FFFFFF;\n",
              "    }\n",
              "  </style>\n",
              "\n",
              "    <script>\n",
              "      const buttonEl =\n",
              "        document.querySelector('#df-32cda8ac-696d-4ebd-920f-f5f0fe1af775 button.colab-df-convert');\n",
              "      buttonEl.style.display =\n",
              "        google.colab.kernel.accessAllowed ? 'block' : 'none';\n",
              "\n",
              "      async function convertToInteractive(key) {\n",
              "        const element = document.querySelector('#df-32cda8ac-696d-4ebd-920f-f5f0fe1af775');\n",
              "        const dataTable =\n",
              "          await google.colab.kernel.invokeFunction('convertToInteractive',\n",
              "                                                    [key], {});\n",
              "        if (!dataTable) return;\n",
              "\n",
              "        const docLinkHtml = 'Like what you see? Visit the ' +\n",
              "          '<a target=\"_blank\" href=https://colab.research.google.com/notebooks/data_table.ipynb>data table notebook</a>'\n",
              "          + ' to learn more about interactive tables.';\n",
              "        element.innerHTML = '';\n",
              "        dataTable['output_type'] = 'display_data';\n",
              "        await google.colab.output.renderOutput(dataTable, element);\n",
              "        const docLink = document.createElement('div');\n",
              "        docLink.innerHTML = docLinkHtml;\n",
              "        element.appendChild(docLink);\n",
              "      }\n",
              "    </script>\n",
              "  </div>\n",
              "\n",
              "\n",
              "  <div id=\"id_f1dff131-4ae0-4b56-a429-be4058e90247\">\n",
              "    <style>\n",
              "      .colab-df-generate {\n",
              "        background-color: #E8F0FE;\n",
              "        border: none;\n",
              "        border-radius: 50%;\n",
              "        cursor: pointer;\n",
              "        display: none;\n",
              "        fill: #1967D2;\n",
              "        height: 32px;\n",
              "        padding: 0 0 0 0;\n",
              "        width: 32px;\n",
              "      }\n",
              "\n",
              "      .colab-df-generate:hover {\n",
              "        background-color: #E2EBFA;\n",
              "        box-shadow: 0px 1px 2px rgba(60, 64, 67, 0.3), 0px 1px 3px 1px rgba(60, 64, 67, 0.15);\n",
              "        fill: #174EA6;\n",
              "      }\n",
              "\n",
              "      [theme=dark] .colab-df-generate {\n",
              "        background-color: #3B4455;\n",
              "        fill: #D2E3FC;\n",
              "      }\n",
              "\n",
              "      [theme=dark] .colab-df-generate:hover {\n",
              "        background-color: #434B5C;\n",
              "        box-shadow: 0px 1px 3px 1px rgba(0, 0, 0, 0.15);\n",
              "        filter: drop-shadow(0px 1px 2px rgba(0, 0, 0, 0.3));\n",
              "        fill: #FFFFFF;\n",
              "      }\n",
              "    </style>\n",
              "    <button class=\"colab-df-generate\" onclick=\"generateWithVariable('df')\"\n",
              "            title=\"Generate code using this dataframe.\"\n",
              "            style=\"display:none;\">\n",
              "\n",
              "  <svg xmlns=\"http://www.w3.org/2000/svg\" height=\"24px\"viewBox=\"0 0 24 24\"\n",
              "       width=\"24px\">\n",
              "    <path d=\"M7,19H8.4L18.45,9,17,7.55,7,17.6ZM5,21V16.75L18.45,3.32a2,2,0,0,1,2.83,0l1.4,1.43a1.91,1.91,0,0,1,.58,1.4,1.91,1.91,0,0,1-.58,1.4L9.25,21ZM18.45,9,17,7.55Zm-12,3A5.31,5.31,0,0,0,4.9,8.1,5.31,5.31,0,0,0,1,6.5,5.31,5.31,0,0,0,4.9,4.9,5.31,5.31,0,0,0,6.5,1,5.31,5.31,0,0,0,8.1,4.9,5.31,5.31,0,0,0,12,6.5,5.46,5.46,0,0,0,6.5,12Z\"/>\n",
              "  </svg>\n",
              "    </button>\n",
              "    <script>\n",
              "      (() => {\n",
              "      const buttonEl =\n",
              "        document.querySelector('#id_f1dff131-4ae0-4b56-a429-be4058e90247 button.colab-df-generate');\n",
              "      buttonEl.style.display =\n",
              "        google.colab.kernel.accessAllowed ? 'block' : 'none';\n",
              "\n",
              "      buttonEl.onclick = () => {\n",
              "        google.colab.notebook.generateWithVariable('df');\n",
              "      }\n",
              "      })();\n",
              "    </script>\n",
              "  </div>\n",
              "\n",
              "    </div>\n",
              "  </div>\n"
            ],
            "application/vnd.google.colaboratory.intrinsic+json": {
              "type": "dataframe",
              "variable_name": "df",
              "summary": "{\n  \"name\": \"df\",\n  \"rows\": 1,\n  \"fields\": [\n    {\n      \"column\": \"High Inflation\",\n      \"properties\": {\n        \"dtype\": \"number\",\n        \"std\": null,\n        \"min\": 5516,\n        \"max\": 5516,\n        \"num_unique_values\": 1,\n        \"samples\": [\n          5516\n        ],\n        \"semantic_type\": \"\",\n        \"description\": \"\"\n      }\n    },\n    {\n      \"column\": \"Controlled Inflation \",\n      \"properties\": {\n        \"dtype\": \"number\",\n        \"std\": null,\n        \"min\": 5546,\n        \"max\": 5546,\n        \"num_unique_values\": 1,\n        \"samples\": [\n          5546\n        ],\n        \"semantic_type\": \"\",\n        \"description\": \"\"\n      }\n    }\n  ]\n}"
            }
          },
          "metadata": {},
          "execution_count": 8
        }
      ]
    },
    {
      "cell_type": "markdown",
      "source": [
        "# **Answer: I did in python, I did a count of a number below and above five and used a dataframe to display the results, they look pretty similar.**"
      ],
      "metadata": {
        "id": "jGMaVeIVMkoa"
      }
    },
    {
      "cell_type": "markdown",
      "source": [
        "# 2. Follow the procedures proposed in class and in the book (item 2.2 Summarizing Data for a Quantitative Variable) to define the classes for a frequency distribution with quantitative data (Steps 1 to 3)."
      ],
      "metadata": {
        "id": "bJiPfkjqkSLT"
      }
    },
    {
      "cell_type": "code",
      "source": [
        "largest_salary = df_new.max().max()\n",
        "\n",
        "largest_salary"
      ],
      "metadata": {
        "colab": {
          "base_uri": "https://localhost:8080/"
        },
        "id": "zaUDLdJ2p-qB",
        "outputId": "b259cf33-0939-414b-b497-effc01d2048b"
      },
      "execution_count": 9,
      "outputs": [
        {
          "output_type": "execute_result",
          "data": {
            "text/plain": [
              "23773.1317741016"
            ]
          },
          "metadata": {},
          "execution_count": 9
        }
      ]
    },
    {
      "cell_type": "code",
      "source": [
        "min_salary = df_new.min().min()\n",
        "\n",
        "min_salary"
      ],
      "metadata": {
        "colab": {
          "base_uri": "https://localhost:8080/"
        },
        "id": "99ClOXxbqa6I",
        "outputId": "c2d9c81e-c4ac-49c1-adc2-15fcdf2ef004"
      },
      "execution_count": 10,
      "outputs": [
        {
          "output_type": "execute_result",
          "data": {
            "text/plain": [
              "-17.6404240920371"
            ]
          },
          "metadata": {},
          "execution_count": 10
        }
      ]
    },
    {
      "cell_type": "code",
      "source": [
        "total_cells = df_new.size\n",
        "\n",
        "print(\"Total number of cells:\", total_cells)"
      ],
      "metadata": {
        "colab": {
          "base_uri": "https://localhost:8080/"
        },
        "id": "2mme5zxUqjQw",
        "outputId": "780c7f22-6eef-4dc6-c078-d9d22b170b61"
      },
      "execution_count": 11,
      "outputs": [
        {
          "output_type": "stream",
          "name": "stdout",
          "text": [
            "Total number of cells: 17216\n"
          ]
        }
      ]
    },
    {
      "cell_type": "code",
      "source": [
        "(23773.1317741016--17.6404240920371)/17216\n"
      ],
      "metadata": {
        "colab": {
          "base_uri": "https://localhost:8080/"
        },
        "id": "pO14yZI5quIy",
        "outputId": "a5bcab09-5216-4e1e-f465-9f55009ce268"
      },
      "execution_count": 12,
      "outputs": [
        {
          "output_type": "execute_result",
          "data": {
            "text/plain": [
              "1.3818989427389428"
            ]
          },
          "metadata": {},
          "execution_count": 12
        }
      ]
    },
    {
      "cell_type": "code",
      "source": [
        "print(\"Frequency distribution range is 1.3818989427389428, but round to 1.4 \")"
      ],
      "metadata": {
        "colab": {
          "base_uri": "https://localhost:8080/"
        },
        "id": "urAEN-1xB7xH",
        "outputId": "a22ed1ec-1401-4de6-acb0-de9a44d76aef"
      },
      "execution_count": 38,
      "outputs": [
        {
          "output_type": "stream",
          "name": "stdout",
          "text": [
            "Frequency distribution range is 1.3818989427389428, but round to 1.4 \n"
          ]
        }
      ]
    },
    {
      "cell_type": "code",
      "source": [
        "# prompt: Count values between zero and 1.4\n",
        "\n",
        "# Count values between 0 and 1.4\n",
        "count = ((df_new >= 0) & (df_new <= 1.4)).sum()\n",
        "print(count)\n",
        "print(count.sum())\n"
      ],
      "metadata": {
        "colab": {
          "base_uri": "https://localhost:8080/"
        },
        "id": "2h4KfDz2rVIe",
        "outputId": "7f5fb848-0d83-4478-f01b-cbf64fcd6d6c"
      },
      "execution_count": 13,
      "outputs": [
        {
          "output_type": "stream",
          "name": "stdout",
          "text": [
            "Unnamed: 4     17\n",
            "Unnamed: 5     12\n",
            "Unnamed: 6     15\n",
            "Unnamed: 7     11\n",
            "Unnamed: 8      8\n",
            "               ..\n",
            "Unnamed: 63    47\n",
            "Unnamed: 64    54\n",
            "Unnamed: 65    16\n",
            "Unnamed: 66     2\n",
            "Unnamed: 67     7\n",
            "Length: 64, dtype: int64\n",
            "1028\n"
          ]
        }
      ]
    },
    {
      "cell_type": "code",
      "source": [
        "# prompt: Count values between zero and 1.4\n",
        "\n",
        "# Count values between 0 and 1.4\n",
        "count = ((df_new >= 1.4) & (df_new <= 2.8)).sum()\n",
        "print(count)\n",
        "print(count.sum())"
      ],
      "metadata": {
        "colab": {
          "base_uri": "https://localhost:8080/"
        },
        "id": "gHCeCbFYsyYf",
        "outputId": "ef2fb61d-16d1-458d-d313-87c9a09ca14e"
      },
      "execution_count": 14,
      "outputs": [
        {
          "output_type": "stream",
          "name": "stdout",
          "text": [
            "Unnamed: 4     19\n",
            "Unnamed: 5     30\n",
            "Unnamed: 6     17\n",
            "Unnamed: 7     20\n",
            "Unnamed: 8     14\n",
            "               ..\n",
            "Unnamed: 63    89\n",
            "Unnamed: 64    47\n",
            "Unnamed: 65    58\n",
            "Unnamed: 66     9\n",
            "Unnamed: 67    18\n",
            "Length: 64, dtype: int64\n",
            "1672\n"
          ]
        }
      ]
    },
    {
      "cell_type": "code",
      "source": [
        "# prompt: Count values between zero and 1.4\n",
        "\n",
        "# Count values between 0 and 1.4\n",
        "count = ((df_new >= 2.8) & (df_new <= 4.2)).sum()\n",
        "print(count)\n",
        "print(count.sum())"
      ],
      "metadata": {
        "colab": {
          "base_uri": "https://localhost:8080/"
        },
        "id": "eRiTCtO8Dgl8",
        "outputId": "f4f6f956-d5f8-4c77-e7a3-f0d8dd3c7131"
      },
      "execution_count": 22,
      "outputs": [
        {
          "output_type": "stream",
          "name": "stdout",
          "text": [
            "Unnamed: 4     12\n",
            "Unnamed: 5      8\n",
            "Unnamed: 6     10\n",
            "Unnamed: 7     17\n",
            "Unnamed: 8     27\n",
            "               ..\n",
            "Unnamed: 63    36\n",
            "Unnamed: 64    35\n",
            "Unnamed: 65    50\n",
            "Unnamed: 66    10\n",
            "Unnamed: 67    30\n",
            "Length: 64, dtype: int64\n",
            "1574\n"
          ]
        }
      ]
    },
    {
      "cell_type": "code",
      "source": [
        "# prompt: Count values between zero and 1.4\n",
        "\n",
        "# Count values between 0 and 1.4\n",
        "count = ((df_new >= 4.2) & (df_new <= 5.6)).sum()\n",
        "print(count)\n",
        "print(count.sum())"
      ],
      "metadata": {
        "colab": {
          "base_uri": "https://localhost:8080/"
        },
        "id": "QGzRLyhdFDfO",
        "outputId": "0fb7d41d-e89f-498a-b8d8-816dc0c1f414"
      },
      "execution_count": 23,
      "outputs": [
        {
          "output_type": "stream",
          "name": "stdout",
          "text": [
            "Unnamed: 4      3\n",
            "Unnamed: 5      2\n",
            "Unnamed: 6     12\n",
            "Unnamed: 7      6\n",
            "Unnamed: 8      5\n",
            "               ..\n",
            "Unnamed: 63    13\n",
            "Unnamed: 64    16\n",
            "Unnamed: 65    38\n",
            "Unnamed: 66    26\n",
            "Unnamed: 67    35\n",
            "Length: 64, dtype: int64\n",
            "1163\n"
          ]
        }
      ]
    },
    {
      "cell_type": "code",
      "source": [
        "# prompt: Count values between zero and 1.4\n",
        "\n",
        "# Count values between 0 and 1.4\n",
        "count = ((df_new >= 5.6) & (df_new <= 7.0)).sum()\n",
        "print(count)\n",
        "print(count.sum())"
      ],
      "metadata": {
        "colab": {
          "base_uri": "https://localhost:8080/"
        },
        "id": "yha21hZGFD0I",
        "outputId": "ef83913a-830e-4909-c6b1-1cf4bce1d144"
      },
      "execution_count": 24,
      "outputs": [
        {
          "output_type": "stream",
          "name": "stdout",
          "text": [
            "Unnamed: 4      3\n",
            "Unnamed: 5      4\n",
            "Unnamed: 6      6\n",
            "Unnamed: 7      8\n",
            "Unnamed: 8      5\n",
            "               ..\n",
            "Unnamed: 63     2\n",
            "Unnamed: 64    10\n",
            "Unnamed: 65    13\n",
            "Unnamed: 66    29\n",
            "Unnamed: 67    32\n",
            "Length: 64, dtype: int64\n",
            "924\n"
          ]
        }
      ]
    },
    {
      "cell_type": "code",
      "source": [
        "# prompt: Count values between zero and 1.4\n",
        "\n",
        "# Count values between 0 and 1.4\n",
        "count = ((df_new >= 7.0) & (df_new <= 8.4)).sum()\n",
        "print(count)\n",
        "print(count.sum())"
      ],
      "metadata": {
        "colab": {
          "base_uri": "https://localhost:8080/"
        },
        "id": "WkUtR5hY97KZ",
        "outputId": "7c545904-502d-45db-c149-4dad512c04ff"
      },
      "execution_count": 25,
      "outputs": [
        {
          "output_type": "stream",
          "name": "stdout",
          "text": [
            "Unnamed: 4      4\n",
            "Unnamed: 5      4\n",
            "Unnamed: 6      1\n",
            "Unnamed: 7      2\n",
            "Unnamed: 8      1\n",
            "               ..\n",
            "Unnamed: 63     6\n",
            "Unnamed: 64     3\n",
            "Unnamed: 65    13\n",
            "Unnamed: 66    46\n",
            "Unnamed: 67    23\n",
            "Length: 64, dtype: int64\n",
            "747\n"
          ]
        }
      ]
    },
    {
      "cell_type": "code",
      "source": [
        "# prompt: Count values between zero and 1.4\n",
        "\n",
        "# Count values between 0 and 1.4\n",
        "count = ((df_new >= 8.4) & (df_new <= 9.8)).sum()\n",
        "print(count)\n",
        "print(count.sum())"
      ],
      "metadata": {
        "colab": {
          "base_uri": "https://localhost:8080/"
        },
        "id": "0AHRJ1lc-Ee9",
        "outputId": "b72a08d5-c23c-4908-a87d-51ec0174ae45"
      },
      "execution_count": 26,
      "outputs": [
        {
          "output_type": "stream",
          "name": "stdout",
          "text": [
            "Unnamed: 4      1\n",
            "Unnamed: 5      1\n",
            "Unnamed: 6      2\n",
            "Unnamed: 7      2\n",
            "Unnamed: 8      2\n",
            "               ..\n",
            "Unnamed: 63     5\n",
            "Unnamed: 64     3\n",
            "Unnamed: 65     6\n",
            "Unnamed: 66    29\n",
            "Unnamed: 67    18\n",
            "Length: 64, dtype: int64\n",
            "640\n"
          ]
        }
      ]
    },
    {
      "cell_type": "code",
      "source": [
        "# prompt: Count values between zero and 1.4\n",
        "\n",
        "# Count values between 0 and 1.4\n",
        "count = ((df_new >= -10000000000) & (df_new <= 0)).sum()\n",
        "print(count)\n",
        "print(count.sum())"
      ],
      "metadata": {
        "colab": {
          "base_uri": "https://localhost:8080/"
        },
        "id": "r-mcAK4_-LYi",
        "outputId": "234777a1-8e72-44bb-d24c-0957c93ea22a"
      },
      "execution_count": 27,
      "outputs": [
        {
          "output_type": "stream",
          "name": "stdout",
          "text": [
            "Unnamed: 4      7\n",
            "Unnamed: 5      6\n",
            "Unnamed: 6      8\n",
            "Unnamed: 7      3\n",
            "Unnamed: 8      8\n",
            "               ..\n",
            "Unnamed: 63    15\n",
            "Unnamed: 64    33\n",
            "Unnamed: 65     7\n",
            "Unnamed: 66     1\n",
            "Unnamed: 67     0\n",
            "Length: 64, dtype: int64\n",
            "543\n"
          ]
        }
      ]
    },
    {
      "cell_type": "code",
      "source": [
        "# prompt: Count values between zero and 1.4\n",
        "\n",
        "# Count values between 0 and 1.4\n",
        "count = ((df_new >=9.8) & (df_new <= 100000000000)).sum()\n",
        "print(count)\n",
        "print(count.sum())"
      ],
      "metadata": {
        "colab": {
          "base_uri": "https://localhost:8080/"
        },
        "id": "kP5oGolF-Qug",
        "outputId": "a11da45a-8b7a-46b0-c6f1-aee1542c24af"
      },
      "execution_count": 28,
      "outputs": [
        {
          "output_type": "stream",
          "name": "stdout",
          "text": [
            "Unnamed: 4      5\n",
            "Unnamed: 5      6\n",
            "Unnamed: 6      4\n",
            "Unnamed: 7      6\n",
            "Unnamed: 8     10\n",
            "               ..\n",
            "Unnamed: 63    13\n",
            "Unnamed: 64    19\n",
            "Unnamed: 65    18\n",
            "Unnamed: 66    65\n",
            "Unnamed: 67    37\n",
            "Length: 64, dtype: int64\n",
            "2771\n"
          ]
        }
      ]
    },
    {
      "cell_type": "code",
      "source": [
        "import pandas as pd\n",
        "\n",
        "# Create a dictionary with data\n",
        "data = {\n",
        "    ' Count: Negative to 0': [543],\n",
        "    ' Count: Between 0 and 1.4 ': [1028],\n",
        "    'Count: Between 1.4 and 2.8 ': [1672],\n",
        "    'Count: Between 2.8 and 4.2 ': [1574],\n",
        "    'Count: Between 4.2 and 5.6 ': [1163],\n",
        "    'Count: Between 5.6 and 7.0 ': [924],\n",
        "    'Count: Between 7.0 and 8.4 ': [747],\n",
        "    'Count: Between 8.4 and 9.8 ': [543],\n",
        "    'Count: Between 9.8 and 10000000 ': [2771]\n",
        "\n",
        "    }\n",
        "\n",
        "# Create DataFrame\n",
        "df = pd.DataFrame(data)\n",
        "\n",
        "df"
      ],
      "metadata": {
        "colab": {
          "base_uri": "https://localhost:8080/",
          "height": 89
        },
        "id": "GgDedTfd-kqq",
        "outputId": "8292b1c8-b5b9-4aa6-a8c1-3589cb1fd683"
      },
      "execution_count": 34,
      "outputs": [
        {
          "output_type": "execute_result",
          "data": {
            "text/plain": [
              "    Count: Negative to 0   Count: Between 0 and 1.4   \\\n",
              "0                    543                        1028   \n",
              "\n",
              "   Count: Between 1.4 and 2.8   Count: Between 2.8 and 4.2   \\\n",
              "0                         1672                         1574   \n",
              "\n",
              "   Count: Between 4.2 and 5.6   Count: Between 5.6 and 7.0   \\\n",
              "0                         1163                          924   \n",
              "\n",
              "   Count: Between 7.0 and 8.4   Count: Between 8.4 and 9.8   \\\n",
              "0                          747                          543   \n",
              "\n",
              "   Count: Between 9.8 and 10000000   \n",
              "0                              2771  "
            ],
            "text/html": [
              "\n",
              "  <div id=\"df-44f07caf-955a-456e-9391-d3c2c120ee97\" class=\"colab-df-container\">\n",
              "    <div>\n",
              "<style scoped>\n",
              "    .dataframe tbody tr th:only-of-type {\n",
              "        vertical-align: middle;\n",
              "    }\n",
              "\n",
              "    .dataframe tbody tr th {\n",
              "        vertical-align: top;\n",
              "    }\n",
              "\n",
              "    .dataframe thead th {\n",
              "        text-align: right;\n",
              "    }\n",
              "</style>\n",
              "<table border=\"1\" class=\"dataframe\">\n",
              "  <thead>\n",
              "    <tr style=\"text-align: right;\">\n",
              "      <th></th>\n",
              "      <th>Count: Negative to 0</th>\n",
              "      <th>Count: Between 0 and 1.4</th>\n",
              "      <th>Count: Between 1.4 and 2.8</th>\n",
              "      <th>Count: Between 2.8 and 4.2</th>\n",
              "      <th>Count: Between 4.2 and 5.6</th>\n",
              "      <th>Count: Between 5.6 and 7.0</th>\n",
              "      <th>Count: Between 7.0 and 8.4</th>\n",
              "      <th>Count: Between 8.4 and 9.8</th>\n",
              "      <th>Count: Between 9.8 and 10000000</th>\n",
              "    </tr>\n",
              "  </thead>\n",
              "  <tbody>\n",
              "    <tr>\n",
              "      <th>0</th>\n",
              "      <td>543</td>\n",
              "      <td>1028</td>\n",
              "      <td>1672</td>\n",
              "      <td>1574</td>\n",
              "      <td>1163</td>\n",
              "      <td>924</td>\n",
              "      <td>747</td>\n",
              "      <td>543</td>\n",
              "      <td>2771</td>\n",
              "    </tr>\n",
              "  </tbody>\n",
              "</table>\n",
              "</div>\n",
              "    <div class=\"colab-df-buttons\">\n",
              "\n",
              "  <div class=\"colab-df-container\">\n",
              "    <button class=\"colab-df-convert\" onclick=\"convertToInteractive('df-44f07caf-955a-456e-9391-d3c2c120ee97')\"\n",
              "            title=\"Convert this dataframe to an interactive table.\"\n",
              "            style=\"display:none;\">\n",
              "\n",
              "  <svg xmlns=\"http://www.w3.org/2000/svg\" height=\"24px\" viewBox=\"0 -960 960 960\">\n",
              "    <path d=\"M120-120v-720h720v720H120Zm60-500h600v-160H180v160Zm220 220h160v-160H400v160Zm0 220h160v-160H400v160ZM180-400h160v-160H180v160Zm440 0h160v-160H620v160ZM180-180h160v-160H180v160Zm440 0h160v-160H620v160Z\"/>\n",
              "  </svg>\n",
              "    </button>\n",
              "\n",
              "  <style>\n",
              "    .colab-df-container {\n",
              "      display:flex;\n",
              "      gap: 12px;\n",
              "    }\n",
              "\n",
              "    .colab-df-convert {\n",
              "      background-color: #E8F0FE;\n",
              "      border: none;\n",
              "      border-radius: 50%;\n",
              "      cursor: pointer;\n",
              "      display: none;\n",
              "      fill: #1967D2;\n",
              "      height: 32px;\n",
              "      padding: 0 0 0 0;\n",
              "      width: 32px;\n",
              "    }\n",
              "\n",
              "    .colab-df-convert:hover {\n",
              "      background-color: #E2EBFA;\n",
              "      box-shadow: 0px 1px 2px rgba(60, 64, 67, 0.3), 0px 1px 3px 1px rgba(60, 64, 67, 0.15);\n",
              "      fill: #174EA6;\n",
              "    }\n",
              "\n",
              "    .colab-df-buttons div {\n",
              "      margin-bottom: 4px;\n",
              "    }\n",
              "\n",
              "    [theme=dark] .colab-df-convert {\n",
              "      background-color: #3B4455;\n",
              "      fill: #D2E3FC;\n",
              "    }\n",
              "\n",
              "    [theme=dark] .colab-df-convert:hover {\n",
              "      background-color: #434B5C;\n",
              "      box-shadow: 0px 1px 3px 1px rgba(0, 0, 0, 0.15);\n",
              "      filter: drop-shadow(0px 1px 2px rgba(0, 0, 0, 0.3));\n",
              "      fill: #FFFFFF;\n",
              "    }\n",
              "  </style>\n",
              "\n",
              "    <script>\n",
              "      const buttonEl =\n",
              "        document.querySelector('#df-44f07caf-955a-456e-9391-d3c2c120ee97 button.colab-df-convert');\n",
              "      buttonEl.style.display =\n",
              "        google.colab.kernel.accessAllowed ? 'block' : 'none';\n",
              "\n",
              "      async function convertToInteractive(key) {\n",
              "        const element = document.querySelector('#df-44f07caf-955a-456e-9391-d3c2c120ee97');\n",
              "        const dataTable =\n",
              "          await google.colab.kernel.invokeFunction('convertToInteractive',\n",
              "                                                    [key], {});\n",
              "        if (!dataTable) return;\n",
              "\n",
              "        const docLinkHtml = 'Like what you see? Visit the ' +\n",
              "          '<a target=\"_blank\" href=https://colab.research.google.com/notebooks/data_table.ipynb>data table notebook</a>'\n",
              "          + ' to learn more about interactive tables.';\n",
              "        element.innerHTML = '';\n",
              "        dataTable['output_type'] = 'display_data';\n",
              "        await google.colab.output.renderOutput(dataTable, element);\n",
              "        const docLink = document.createElement('div');\n",
              "        docLink.innerHTML = docLinkHtml;\n",
              "        element.appendChild(docLink);\n",
              "      }\n",
              "    </script>\n",
              "  </div>\n",
              "\n",
              "\n",
              "  <div id=\"id_538be626-8041-47bb-bb7d-ef1dc96eeb2e\">\n",
              "    <style>\n",
              "      .colab-df-generate {\n",
              "        background-color: #E8F0FE;\n",
              "        border: none;\n",
              "        border-radius: 50%;\n",
              "        cursor: pointer;\n",
              "        display: none;\n",
              "        fill: #1967D2;\n",
              "        height: 32px;\n",
              "        padding: 0 0 0 0;\n",
              "        width: 32px;\n",
              "      }\n",
              "\n",
              "      .colab-df-generate:hover {\n",
              "        background-color: #E2EBFA;\n",
              "        box-shadow: 0px 1px 2px rgba(60, 64, 67, 0.3), 0px 1px 3px 1px rgba(60, 64, 67, 0.15);\n",
              "        fill: #174EA6;\n",
              "      }\n",
              "\n",
              "      [theme=dark] .colab-df-generate {\n",
              "        background-color: #3B4455;\n",
              "        fill: #D2E3FC;\n",
              "      }\n",
              "\n",
              "      [theme=dark] .colab-df-generate:hover {\n",
              "        background-color: #434B5C;\n",
              "        box-shadow: 0px 1px 3px 1px rgba(0, 0, 0, 0.15);\n",
              "        filter: drop-shadow(0px 1px 2px rgba(0, 0, 0, 0.3));\n",
              "        fill: #FFFFFF;\n",
              "      }\n",
              "    </style>\n",
              "    <button class=\"colab-df-generate\" onclick=\"generateWithVariable('df')\"\n",
              "            title=\"Generate code using this dataframe.\"\n",
              "            style=\"display:none;\">\n",
              "\n",
              "  <svg xmlns=\"http://www.w3.org/2000/svg\" height=\"24px\"viewBox=\"0 0 24 24\"\n",
              "       width=\"24px\">\n",
              "    <path d=\"M7,19H8.4L18.45,9,17,7.55,7,17.6ZM5,21V16.75L18.45,3.32a2,2,0,0,1,2.83,0l1.4,1.43a1.91,1.91,0,0,1,.58,1.4,1.91,1.91,0,0,1-.58,1.4L9.25,21ZM18.45,9,17,7.55Zm-12,3A5.31,5.31,0,0,0,4.9,8.1,5.31,5.31,0,0,0,1,6.5,5.31,5.31,0,0,0,4.9,4.9,5.31,5.31,0,0,0,6.5,1,5.31,5.31,0,0,0,8.1,4.9,5.31,5.31,0,0,0,12,6.5,5.46,5.46,0,0,0,6.5,12Z\"/>\n",
              "  </svg>\n",
              "    </button>\n",
              "    <script>\n",
              "      (() => {\n",
              "      const buttonEl =\n",
              "        document.querySelector('#id_538be626-8041-47bb-bb7d-ef1dc96eeb2e button.colab-df-generate');\n",
              "      buttonEl.style.display =\n",
              "        google.colab.kernel.accessAllowed ? 'block' : 'none';\n",
              "\n",
              "      buttonEl.onclick = () => {\n",
              "        google.colab.notebook.generateWithVariable('df');\n",
              "      }\n",
              "      })();\n",
              "    </script>\n",
              "  </div>\n",
              "\n",
              "    </div>\n",
              "  </div>\n"
            ],
            "application/vnd.google.colaboratory.intrinsic+json": {
              "type": "dataframe",
              "variable_name": "df",
              "summary": "{\n  \"name\": \"df\",\n  \"rows\": 1,\n  \"fields\": [\n    {\n      \"column\": \" Count: Negative to 0\",\n      \"properties\": {\n        \"dtype\": \"number\",\n        \"std\": null,\n        \"min\": 543,\n        \"max\": 543,\n        \"num_unique_values\": 1,\n        \"samples\": [\n          543\n        ],\n        \"semantic_type\": \"\",\n        \"description\": \"\"\n      }\n    },\n    {\n      \"column\": \" Count: Between 0 and 1.4 \",\n      \"properties\": {\n        \"dtype\": \"number\",\n        \"std\": null,\n        \"min\": 1028,\n        \"max\": 1028,\n        \"num_unique_values\": 1,\n        \"samples\": [\n          1028\n        ],\n        \"semantic_type\": \"\",\n        \"description\": \"\"\n      }\n    },\n    {\n      \"column\": \"Count: Between 1.4 and 2.8 \",\n      \"properties\": {\n        \"dtype\": \"number\",\n        \"std\": null,\n        \"min\": 1672,\n        \"max\": 1672,\n        \"num_unique_values\": 1,\n        \"samples\": [\n          1672\n        ],\n        \"semantic_type\": \"\",\n        \"description\": \"\"\n      }\n    },\n    {\n      \"column\": \"Count: Between 2.8 and 4.2 \",\n      \"properties\": {\n        \"dtype\": \"number\",\n        \"std\": null,\n        \"min\": 1574,\n        \"max\": 1574,\n        \"num_unique_values\": 1,\n        \"samples\": [\n          1574\n        ],\n        \"semantic_type\": \"\",\n        \"description\": \"\"\n      }\n    },\n    {\n      \"column\": \"Count: Between 4.2 and 5.6 \",\n      \"properties\": {\n        \"dtype\": \"number\",\n        \"std\": null,\n        \"min\": 1163,\n        \"max\": 1163,\n        \"num_unique_values\": 1,\n        \"samples\": [\n          1163\n        ],\n        \"semantic_type\": \"\",\n        \"description\": \"\"\n      }\n    },\n    {\n      \"column\": \"Count: Between 5.6 and 7.0 \",\n      \"properties\": {\n        \"dtype\": \"number\",\n        \"std\": null,\n        \"min\": 924,\n        \"max\": 924,\n        \"num_unique_values\": 1,\n        \"samples\": [\n          924\n        ],\n        \"semantic_type\": \"\",\n        \"description\": \"\"\n      }\n    },\n    {\n      \"column\": \"Count: Between 7.0 and 8.4 \",\n      \"properties\": {\n        \"dtype\": \"number\",\n        \"std\": null,\n        \"min\": 747,\n        \"max\": 747,\n        \"num_unique_values\": 1,\n        \"samples\": [\n          747\n        ],\n        \"semantic_type\": \"\",\n        \"description\": \"\"\n      }\n    },\n    {\n      \"column\": \"Count: Between 8.4 and 9.8 \",\n      \"properties\": {\n        \"dtype\": \"number\",\n        \"std\": null,\n        \"min\": 543,\n        \"max\": 543,\n        \"num_unique_values\": 1,\n        \"samples\": [\n          543\n        ],\n        \"semantic_type\": \"\",\n        \"description\": \"\"\n      }\n    },\n    {\n      \"column\": \"Count: Between 9.8 and 10000000 \",\n      \"properties\": {\n        \"dtype\": \"number\",\n        \"std\": null,\n        \"min\": 2771,\n        \"max\": 2771,\n        \"num_unique_values\": 1,\n        \"samples\": [\n          2771\n        ],\n        \"semantic_type\": \"\",\n        \"description\": \"\"\n      }\n    }\n  ]\n}"
            }
          },
          "metadata": {},
          "execution_count": 34
        }
      ]
    },
    {
      "cell_type": "markdown",
      "source": [
        "# **Answer: I used the formula in the book using python and got a range of 1.38. I rounded to get 1.4, and used that range to make the chart. Highest concentation was between 2.8 and 5.6.**"
      ],
      "metadata": {
        "id": "RI8tnZTsYhBA"
      }
    },
    {
      "cell_type": "markdown",
      "source": [
        "# 3. Plot a scatter plot graph of inflation and unemployment, and add a trendline. Write a single paragraph telling whether you were able to find some evidence of Phillips curve or not."
      ],
      "metadata": {
        "id": "SZjgGO4pC3iP"
      }
    },
    {
      "cell_type": "code",
      "source": [],
      "metadata": {
        "id": "lgk6xg3-WogQ"
      },
      "execution_count": null,
      "outputs": []
    },
    {
      "cell_type": "markdown",
      "source": [
        "![image.png](data:image/png;base64,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)"
      ],
      "metadata": {
        "id": "QoUL8DwiLdaI"
      }
    },
    {
      "cell_type": "markdown",
      "source": [
        "# **Answer: I used excel, to make a trendline because its easier compared to python. The trendline gave a positive slope. I selected all the data including the unemployment rate and inflation and got this data set with a equation that was positive. I am not sure I got this right, but the equation does not show any evidence of the philips curve. Will reevalute later to determine if is true because I think need to change, as is no evidence of philips curve.**"
      ],
      "metadata": {
        "id": "4LPVotfBLhO_"
      }
    }
  ]
}