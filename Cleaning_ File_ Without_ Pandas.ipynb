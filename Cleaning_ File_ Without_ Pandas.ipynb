{
  "nbformat": 4,
  "nbformat_minor": 0,
  "metadata": {
    "colab": {
      "name": "Assignment #4/Practice.ipynb",
      "provenance": [],
      "collapsed_sections": [],
      "toc_visible": true,
      "authorship_tag": "ABX9TyNcuzp1kSEK1X8IjxHOVitA",
      "include_colab_link": true
    },
    "kernelspec": {
      "name": "python3",
      "display_name": "Python 3"
    }
  },
  "cells": [
    {
      "cell_type": "markdown",
      "metadata": {
        "id": "view-in-github",
        "colab_type": "text"
      },
      "source": [
        "<a href=\"https://colab.research.google.com/github/jonnie763/DATA-690-WANG/blob/master/Assignment_4_Practice.ipynb\" target=\"_parent\"><img src=\"https://colab.research.google.com/assets/colab-badge.svg\" alt=\"Open In Colab\"/></a>"
      ]
    },
    {
      "cell_type": "markdown",
      "metadata": {
        "id": "-_qH2dNfZUwa",
        "colab_type": "text"
      },
      "source": [
        "\n",
        "##1.Write code to open the text file census_cost.txt and read all lines into a list named \"line_list\". Print line_list."
      ]
    },
    {
      "cell_type": "code",
      "metadata": {
        "id": "9YnWTOHiZZPK",
        "colab_type": "code",
        "colab": {}
      },
      "source": [
        "with open (\"census_cost.txt\",\"rt\") as f: # Reads the uploaded file (census_cost.txt)\n",
        "    line_list =f.readlines()             # Reads all the lines as one row "
      ],
      "execution_count": 54,
      "outputs": []
    },
    {
      "cell_type": "code",
      "metadata": {
        "id": "oMXe65YBaC6l",
        "colab_type": "code",
        "colab": {}
      },
      "source": [
        "\n",
        "type(line_list)"
      ],
      "execution_count": null,
      "outputs": []
    },
    {
      "cell_type": "code",
      "metadata": {
        "id": "M27WX7F6a-l8",
        "colab_type": "code",
        "colab": {
          "base_uri": "https://localhost:8080/",
          "height": 54
        },
        "outputId": "bba7d456-e96c-4685-dda3-cf81eac5db11"
      },
      "source": [
        "#Change it to make it look more readable \n",
        "print(line_list)\n"
      ],
      "execution_count": 56,
      "outputs": [
        {
          "output_type": "stream",
          "text": [
            "['Source: https://www.genealogybranches.com/censuscosts.html\\n', 'Census Year\\tTotal Population\\tCensus Cost\\tAverage Cost Per Person\\n', '1790\\t3,929,214\\t$44,377\\t1.13 cents\\n', '1800\\t5,308,483\\t$66,109\\t1.24 cents\\n', '1810\\t7,239,881\\t$178,445\\t2.46 cents\\n', '1820\\t9,633,822\\t$208,526\\t2.16 cents\\n', '1830\\t12,866,020\\t$378,545\\t2.94 cents\\n', '1840\\t17,069,458\\t$833,371\\t4.88 cents\\n', '1850\\t23,191,876\\t$1,423,351\\t6.14 cents\\n', '1860\\t31,443,321\\t$1,969,377\\t6.26 cents\\n', '1870\\t38,558,371\\t$3,421,198\\t8.87 cents\\n', '1880\\t50,155,783\\t$5,790,678\\t11.54 cents\\n', '1890\\t62,979,766\\t$11,547,127\\t18.33 cents\\n', '1900\\t76,303,387\\t$11,854,000\\t15.54 cents\\n', '1910\\t91,972,266\\t$15,968,000\\t17.07 cents\\n', '1920\\t105,710,620\\t$25,117,000\\t23.76 cents\\n', '1930\\t122,775,046\\t$40,156,000\\t32.71 cents\\n', '1940\\t131,669,275\\t$67,527,000\\t51.29 cents\\n', '1950\\t151,325,798\\t$91,462,000\\t60.44 cents\\n', '1960\\t179,323,175\\t$127,934,000\\t71.34 cents\\n', '1970\\t203,302,031\\t$247,653,000\\t$1.22\\n', '1980\\t226,542,199\\t$1,078,488,000\\t$4.76\\n', '1990\\t248,718,301\\t$2,492,830,000\\t$10.02\\n', '2000\\t281,421,906\\t$4.5 Billion\\t$15.99\\n', '2010*\\t308,745,538\\t$13 Billion\\t$42.11']\n"
          ],
          "name": "stdout"
        }
      ]
    },
    {
      "cell_type": "code",
      "metadata": {
        "id": "EGVL12CObdWZ",
        "colab_type": "code",
        "colab": {
          "base_uri": "https://localhost:8080/",
          "height": 850
        },
        "outputId": "38652e52-ef78-4298-f780-2ff1512060e0"
      },
      "source": [
        "for row in line_list: # Reading each line and printing it  \n",
        "  print(row)"
      ],
      "execution_count": 57,
      "outputs": [
        {
          "output_type": "stream",
          "text": [
            "Source: https://www.genealogybranches.com/censuscosts.html\n",
            "\n",
            "Census Year\tTotal Population\tCensus Cost\tAverage Cost Per Person\n",
            "\n",
            "1790\t3,929,214\t$44,377\t1.13 cents\n",
            "\n",
            "1800\t5,308,483\t$66,109\t1.24 cents\n",
            "\n",
            "1810\t7,239,881\t$178,445\t2.46 cents\n",
            "\n",
            "1820\t9,633,822\t$208,526\t2.16 cents\n",
            "\n",
            "1830\t12,866,020\t$378,545\t2.94 cents\n",
            "\n",
            "1840\t17,069,458\t$833,371\t4.88 cents\n",
            "\n",
            "1850\t23,191,876\t$1,423,351\t6.14 cents\n",
            "\n",
            "1860\t31,443,321\t$1,969,377\t6.26 cents\n",
            "\n",
            "1870\t38,558,371\t$3,421,198\t8.87 cents\n",
            "\n",
            "1880\t50,155,783\t$5,790,678\t11.54 cents\n",
            "\n",
            "1890\t62,979,766\t$11,547,127\t18.33 cents\n",
            "\n",
            "1900\t76,303,387\t$11,854,000\t15.54 cents\n",
            "\n",
            "1910\t91,972,266\t$15,968,000\t17.07 cents\n",
            "\n",
            "1920\t105,710,620\t$25,117,000\t23.76 cents\n",
            "\n",
            "1930\t122,775,046\t$40,156,000\t32.71 cents\n",
            "\n",
            "1940\t131,669,275\t$67,527,000\t51.29 cents\n",
            "\n",
            "1950\t151,325,798\t$91,462,000\t60.44 cents\n",
            "\n",
            "1960\t179,323,175\t$127,934,000\t71.34 cents\n",
            "\n",
            "1970\t203,302,031\t$247,653,000\t$1.22\n",
            "\n",
            "1980\t226,542,199\t$1,078,488,000\t$4.76\n",
            "\n",
            "1990\t248,718,301\t$2,492,830,000\t$10.02\n",
            "\n",
            "2000\t281,421,906\t$4.5 Billion\t$15.99\n",
            "\n",
            "2010*\t308,745,538\t$13 Billion\t$42.11\n"
          ],
          "name": "stdout"
        }
      ]
    },
    {
      "cell_type": "code",
      "metadata": {
        "id": "LSBFGO-3sebm",
        "colab_type": "code",
        "colab": {
          "base_uri": "https://localhost:8080/",
          "height": 34
        },
        "outputId": "35122738-e6eb-4b19-91e6-d8f8df144f96"
      },
      "source": [
        "len(line_list) #Number of rows within our document  "
      ],
      "execution_count": 58,
      "outputs": [
        {
          "output_type": "execute_result",
          "data": {
            "text/plain": [
              "25"
            ]
          },
          "metadata": {
            "tags": []
          },
          "execution_count": 58
        }
      ]
    },
    {
      "cell_type": "code",
      "metadata": {
        "id": "cHqESs_FskRf",
        "colab_type": "code",
        "colab": {
          "base_uri": "https://localhost:8080/",
          "height": 54
        },
        "outputId": "2b1c3584-a274-482b-f74e-889169fddc0d"
      },
      "source": [
        "print(line_list[2:])"
      ],
      "execution_count": 65,
      "outputs": [
        {
          "output_type": "stream",
          "text": [
            "['1790,3929214,44377,0.0113\\n', '1800,5308483,66109,0.0124\\n', '1810,7239881,178445,0.0246\\n', '1820,9633822,208526,0.0216\\n', '1830,12866020,378545,0.0294\\n', '1840,17069458,833371,0.0488\\n', '1850,23191876,1423351,0.0614\\n', '1860,31443321,1969377,0.0626\\n', '1870,38558371,3421198,0.0887\\n', '1880,50155783,5790678,0.1154\\n', '1890,62979766,11547127,0.1833\\n', '1900,76303387,11854000,0.1554\\n', '1910,91972266,15968000,0.1707\\n', '1920,105710620,25117000,0.2376\\n', '1930,122775046,40156000,0.3271\\n', '1940,131669275,67527000,0.5129\\n', '1950,151325798,91462000,0.6044\\n', '1960,179323175,127934000,0.7134\\n', '1970,203302031,247653000,1.22\\n', '1980,226542199,1078488000,4.76\\n', '1990,248718301,2492830000,10.02\\n', '2000,281421906,4500000000,15.99\\n', '2010,308745538,13000000000,42.11\\n']\n"
          ],
          "name": "stdout"
        }
      ]
    },
    {
      "cell_type": "code",
      "metadata": {
        "id": "jOiY47ktsodS",
        "colab_type": "code",
        "colab": {}
      },
      "source": [
        "with open(\"new_file.txt\", \"wt\") as f:     #new file is opened new_file.txt\n",
        "    for line in line_list[2:12]:          #line wise reading from line_list \n",
        "        f.write(line.replace(\"\\t\", \",\"))  #replacing with /t a comma"
      ],
      "execution_count": 66,
      "outputs": []
    },
    {
      "cell_type": "markdown",
      "metadata": {
        "id": "zKQc4B--cB1-",
        "colab_type": "text"
      },
      "source": [
        "##2.Extract the first two lines and put them in a different list named \"top2_list\". You will need to use them later. Print the top2_list."
      ]
    },
    {
      "cell_type": "code",
      "metadata": {
        "colab_type": "code",
        "id": "ujyev8dEGhLF",
        "colab": {
          "base_uri": "https://localhost:8080/",
          "height": 34
        },
        "outputId": "3cd15f68-09b3-44d9-ff89-5da103df07e9"
      },
      "source": [
        "with open (\"census_cost.txt\",\"rt\") as f: # Reading the lines \n",
        "    line_list =f.readlines() \n",
        "\n",
        "top2_list=[]                           # Making an empty list \n",
        "for line in line_list[0:2]:             #using the loop read first two lines \n",
        "  trimmed=line.rstrip(\"\\n\")             #removing the the new line character (removing unneccessary symbols )  \n",
        "  top2_list.append(trimmed.split(\"\\t\")) #splitting the columns based on tab separation into a list (removing unneccessary symbols )\n",
        "print(top2_list) #print the list \n"
      ],
      "execution_count": 61,
      "outputs": [
        {
          "output_type": "stream",
          "text": [
            "[['Source: https://www.genealogybranches.com/censuscosts.html'], ['Census Year', 'Total Population', 'Census Cost', 'Average Cost Per Person']]\n"
          ],
          "name": "stdout"
        }
      ]
    },
    {
      "cell_type": "markdown",
      "metadata": {
        "id": "tJ37OP6Y4iXu",
        "colab_type": "text"
      },
      "source": [
        "##3. Put the rest of the lines (containing useful data elements) in a new list named \"data_list\". Print data_list."
      ]
    },
    {
      "cell_type": "code",
      "metadata": {
        "id": "CbzkVkvT5lSS",
        "colab_type": "code",
        "colab": {
          "base_uri": "https://localhost:8080/",
          "height": 54
        },
        "outputId": "7da1ba76-5145-4ec5-bc0c-f4393d17f075"
      },
      "source": [
        "with open (\"census_cost.txt\",\"rt\") as f: # Reading the lines \n",
        "    line_list =f.readlines()\n",
        "\n",
        "data_list=[]                # Making an empty list \n",
        "\n",
        "for line in line_list[2:26]: # Same steps as step 2,however this step we are reading the lines from 2 to 26, and the empty list is defined as data_list \n",
        "  trimmed=line.rstrip(\"\\n\")\n",
        "  data_list.append(trimmed.split(\"\\t\"))\n",
        "  \n",
        "print (data_list) # Print data list \n",
        "\n",
        "\n"
      ],
      "execution_count": 62,
      "outputs": [
        {
          "output_type": "stream",
          "text": [
            "[['1790', '3,929,214', '$44,377', '1.13 cents'], ['1800', '5,308,483', '$66,109', '1.24 cents'], ['1810', '7,239,881', '$178,445', '2.46 cents'], ['1820', '9,633,822', '$208,526', '2.16 cents'], ['1830', '12,866,020', '$378,545', '2.94 cents'], ['1840', '17,069,458', '$833,371', '4.88 cents'], ['1850', '23,191,876', '$1,423,351', '6.14 cents'], ['1860', '31,443,321', '$1,969,377', '6.26 cents'], ['1870', '38,558,371', '$3,421,198', '8.87 cents'], ['1880', '50,155,783', '$5,790,678', '11.54 cents'], ['1890', '62,979,766', '$11,547,127', '18.33 cents'], ['1900', '76,303,387', '$11,854,000', '15.54 cents'], ['1910', '91,972,266', '$15,968,000', '17.07 cents'], ['1920', '105,710,620', '$25,117,000', '23.76 cents'], ['1930', '122,775,046', '$40,156,000', '32.71 cents'], ['1940', '131,669,275', '$67,527,000', '51.29 cents'], ['1950', '151,325,798', '$91,462,000', '60.44 cents'], ['1960', '179,323,175', '$127,934,000', '71.34 cents'], ['1970', '203,302,031', '$247,653,000', '$1.22'], ['1980', '226,542,199', '$1,078,488,000', '$4.76'], ['1990', '248,718,301', '$2,492,830,000', '$10.02'], ['2000', '281,421,906', '$4.5 Billion', '$15.99'], ['2010*', '308,745,538', '$13 Billion', '$42.11']]\n"
          ],
          "name": "stdout"
        }
      ]
    },
    {
      "cell_type": "markdown",
      "metadata": {
        "id": "PkYkngs35KsY",
        "colab_type": "text"
      },
      "source": [
        "##4. Extract the column \"Census Year\" from data_list and assign them to a list named year_list. Remove the \"\" from the last element \"2010\". Print the cleansed year_list."
      ]
    },
    {
      "cell_type": "code",
      "metadata": {
        "id": "Ps9RKmEe5lyW",
        "colab_type": "code",
        "colab": {
          "base_uri": "https://localhost:8080/",
          "height": 54
        },
        "outputId": "b853ee19-ffc7-42be-a1d7-6eb8ee896e57"
      },
      "source": [
        "year_list=[]          # Start with empty list defined as year list \n",
        "for i in range(0,23): # Lines zero to 23 is data list \n",
        "  year_list.append(data_list[i][0]) # Adding data_list to empty list year_list  \n",
        "\n",
        "year_list.remove('2010*') # Remove 2010* \n",
        "year_list.append('2010') # Apply with * symbol \n",
        "print (year_list)        #Print appended list without symbols "
      ],
      "execution_count": 32,
      "outputs": [
        {
          "output_type": "stream",
          "text": [
            "['1790', '1800', '1810', '1820', '1830', '1840', '1850', '1860', '1870', '1880', '1890', '1900', '1910', '1920', '1930', '1940', '1950', '1960', '1970', '1980', '1990', '2000', '2010']\n"
          ],
          "name": "stdout"
        }
      ]
    },
    {
      "cell_type": "markdown",
      "metadata": {
        "id": "9dWsnUqK5sVX",
        "colab_type": "text"
      },
      "source": [
        "##5. Extract the \"Total Population\" column from the data_list and assign them to a list named \"pop_list\". Remove the \",\" from the numbers since Python doesn't recognize them. Print the cleansed \"pop_list\"."
      ]
    },
    {
      "cell_type": "code",
      "metadata": {
        "id": "WvlDiF_m6C9I",
        "colab_type": "code",
        "colab": {
          "base_uri": "https://localhost:8080/",
          "height": 54
        },
        "outputId": "17ad8d4b-7834-4eb0-8e49-8b0e2edc8006"
      },
      "source": [
        "pop_list=[]           #Similar to step 4, start with empty list \n",
        "for i in range(0,23): # Lines zero to 23 is data list, NOT whole list  \n",
        "  new=data_list[i][1].replace(\",\",\"\") # Taking 2nd column and removing commas \n",
        "  pop_list.append(new) # Add to list data list without the symbols \n",
        "  \n",
        "print(pop_list)        #Print appended without symbols "
      ],
      "execution_count": 33,
      "outputs": [
        {
          "output_type": "stream",
          "text": [
            "['3929214', '5308483', '7239881', '9633822', '12866020', '17069458', '23191876', '31443321', '38558371', '50155783', '62979766', '76303387', '91972266', '105710620', '122775046', '131669275', '151325798', '179323175', '203302031', '226542199', '248718301', '281421906', '308745538']\n"
          ],
          "name": "stdout"
        }
      ]
    },
    {
      "cell_type": "markdown",
      "metadata": {
        "id": "ZNx5JEkq50IN",
        "colab_type": "text"
      },
      "source": [
        "##6. Extract the \"Census Cost\" column from the data_list and assign them to a list named \"cost_list\". Remove the \",\", and \"$\", and \"Billion\". Make sure to add the \"0\"s to the numbers from which you removed \"Billion\". Print the cleansed cost_list."
      ]
    },
    {
      "cell_type": "code",
      "metadata": {
        "id": "16SSEKqx6DNJ",
        "colab_type": "code",
        "colab": {
          "base_uri": "https://localhost:8080/",
          "height": 54
        },
        "outputId": "fd6d9c4c-1e56-4a2e-d7de-29fba059ab2e"
      },
      "source": [
        "  cost_list=[] # Empty list \n",
        "  for i in range(0,23):\n",
        "    new=data_list[i][2].replace(\",\",\"\") # Taking 2nd column and removing commas \n",
        "    new=new.replace(\"$\",\"\") # Taking 2nd column and removing dollars  \n",
        "    if 'Billion' in new:      # Check if billion is present \n",
        "      for num in new.split(): #split it based on the whitespace  \n",
        "          bool=num.isalpha()  # Check whether you encounter the alphabet or not  \n",
        "          if bool == False:   #if you don't encounter a an alphabet that means if a number  \n",
        "            value=float(num)  #convert to a floating number \n",
        "            newvalue=value*1000000000 #mutiply with 10^9 that what billion is \n",
        "            cost_list.append(str(int(newvalue))) #append it to the cost list \n",
        "    else:\n",
        "      cost_list.append(new)\n",
        "\n",
        "print (cost_list) #print it the cost_list "
      ],
      "execution_count": 34,
      "outputs": [
        {
          "output_type": "stream",
          "text": [
            "['44377', '66109', '178445', '208526', '378545', '833371', '1423351', '1969377', '3421198', '5790678', '11547127', '11854000', '15968000', '25117000', '40156000', '67527000', '91462000', '127934000', '247653000', '1078488000', '2492830000', '4500000000', '13000000000']\n"
          ],
          "name": "stdout"
        }
      ]
    },
    {
      "cell_type": "markdown",
      "metadata": {
        "id": "gvicPWWf59s0",
        "colab_type": "text"
      },
      "source": [
        "##7. Extract the \"Average Cost per Person\" column from the data_list and assign them to a list named \"avg_list\". Remove the \"cents\", and \"$\". Make sure to divide the numbers in cents by 100 so that all numbers are measured in dollar. Print the cleansed avg_list."
      ]
    },
    {
      "cell_type": "code",
      "metadata": {
        "id": "6jwrlVnB6Dy7",
        "colab_type": "code",
        "colab": {
          "base_uri": "https://localhost:8080/",
          "height": 54
        },
        "outputId": "9af3c1c5-b6be-4572-b709-a64182698971"
      },
      "source": [
        "avg_list=[]\n",
        "for i in range(0,23):\n",
        "    new=data_list[i][3]         #taking the fourth column with [3]\n",
        "    if 'cents' in new:          #check whether you encounter cents or not\n",
        "      for word in new.split():  #split it based on the whitespace  \n",
        "        bool=word.isalpha()     # bool evaluating true or false, if alphabet or not \n",
        "        if bool == False:\n",
        "          value=float(word)/100 #divide the cents by hundred \n",
        "          avg_list.append(str(round(value,4))) # Rounding to 4 decimal places and converting to string \n",
        "    else:\n",
        "      new=new.replace(\"$\",\"\")   #if not replace the dollar symbol with empty \n",
        "      avg_list.append(new)\n",
        "print(avg_list)                 # print average list "
      ],
      "execution_count": 35,
      "outputs": [
        {
          "output_type": "stream",
          "text": [
            "['0.0113', '0.0124', '0.0246', '0.0216', '0.0294', '0.0488', '0.0614', '0.0626', '0.0887', '0.1154', '0.1833', '0.1554', '0.1707', '0.2376', '0.3271', '0.5129', '0.6044', '0.7134', '1.22', '4.76', '10.02', '15.99', '42.11']\n"
          ],
          "name": "stdout"
        }
      ]
    },
    {
      "cell_type": "markdown",
      "metadata": {
        "id": "vWEyz9Nj6Fzk",
        "colab_type": "text"
      },
      "source": [
        "##8.Coalesce the cleansed data and save them to a text file named \"census_cost.csv\". The new file should look similar to the original source file except that it is in comma-delimited format and the numbers have been cleansed. The top two lines from the original file should be retained in the new file."
      ]
    },
    {
      "cell_type": "code",
      "metadata": {
        "id": "-zsbOM7M6JhD",
        "colab_type": "code",
        "colab": {}
      },
      "source": [
        "with open (\"census_cost.csv\",\"wt\") as f:\n",
        "  f.write(str(top2_list[0]))    # Writing to the file the first line \n",
        "  f.write(\"\\n\")                 # writing to the new line       \n",
        "  newlist=\",\".join(top2_list[1])#seperating the entries through coma \n",
        "  f.write(str(newlist))         #writing to the file next line \n",
        "  f.write(\"\\n\")                 #adding newline character \n",
        "  newlist1=[]                   # Declare empty list \n",
        "  for i in range(0,23):\n",
        "    newlist1=year_list[i]+\",\"+pop_list[i]+\",\"+cost_list[i]+\",\"+avg_list[i] \n",
        "    f.write(str(newlist1))\n",
        "    f.write(\"\\n\")"
      ],
      "execution_count": 68,
      "outputs": []
    },
    {
      "cell_type": "markdown",
      "metadata": {
        "id": "d7z5WRFY6KfC",
        "colab_type": "text"
      },
      "source": [
        "##9.Open the newly-created file \"census_cost.csv\", read all lines and display them. How does it look?"
      ]
    },
    {
      "cell_type": "code",
      "metadata": {
        "id": "4BcL4BXs6Qlp",
        "colab_type": "code",
        "colab": {
          "base_uri": "https://localhost:8080/",
          "height": 867
        },
        "outputId": "2edf8336-88b5-4e4c-9b62-b14ffba8db38"
      },
      "source": [
        "with open (\"census_cost.csv\",\"rt\") as f: # This code opens the file, read all the lines, uses a for loop, and prints each line \n",
        "    line_list =f.readlines()\n",
        "    for row in line_list:\n",
        "      print(row) "
      ],
      "execution_count": 69,
      "outputs": [
        {
          "output_type": "stream",
          "text": [
            "['Source: https://www.genealogybranches.com/censuscosts.html']\n",
            "\n",
            "Census Year,Total Population,Census Cost,Average Cost Per Person\n",
            "\n",
            "1790,3929214,44377,0.0113\n",
            "\n",
            "1800,5308483,66109,0.0124\n",
            "\n",
            "1810,7239881,178445,0.0246\n",
            "\n",
            "1820,9633822,208526,0.0216\n",
            "\n",
            "1830,12866020,378545,0.0294\n",
            "\n",
            "1840,17069458,833371,0.0488\n",
            "\n",
            "1850,23191876,1423351,0.0614\n",
            "\n",
            "1860,31443321,1969377,0.0626\n",
            "\n",
            "1870,38558371,3421198,0.0887\n",
            "\n",
            "1880,50155783,5790678,0.1154\n",
            "\n",
            "1890,62979766,11547127,0.1833\n",
            "\n",
            "1900,76303387,11854000,0.1554\n",
            "\n",
            "1910,91972266,15968000,0.1707\n",
            "\n",
            "1920,105710620,25117000,0.2376\n",
            "\n",
            "1930,122775046,40156000,0.3271\n",
            "\n",
            "1940,131669275,67527000,0.5129\n",
            "\n",
            "1950,151325798,91462000,0.6044\n",
            "\n",
            "1960,179323175,127934000,0.7134\n",
            "\n",
            "1970,203302031,247653000,1.22\n",
            "\n",
            "1980,226542199,1078488000,4.76\n",
            "\n",
            "1990,248718301,2492830000,10.02\n",
            "\n",
            "2000,281421906,4500000000,15.99\n",
            "\n",
            "2010,308745538,13000000000,42.11\n",
            "\n"
          ],
          "name": "stdout"
        }
      ]
    }
  ]
}
