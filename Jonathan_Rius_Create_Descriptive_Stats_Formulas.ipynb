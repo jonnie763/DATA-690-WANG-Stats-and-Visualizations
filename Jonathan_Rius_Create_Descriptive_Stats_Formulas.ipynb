{
  "nbformat": 4,
  "nbformat_minor": 0,
  "metadata": {
    "colab": {
      "name": "Jonathan Rius- Create Descriptive Stats Formulas.ipynb",
      "provenance": [],
      "collapsed_sections": [],
      "authorship_tag": "ABX9TyMlogOhV9AAIN6RuzFl7oPF",
      "include_colab_link": true
    },
    "kernelspec": {
      "name": "python3",
      "display_name": "Python 3"
    }
  },
  "cells": [
    {
      "cell_type": "markdown",
      "metadata": {
        "id": "view-in-github",
        "colab_type": "text"
      },
      "source": [
        "<a href=\"https://colab.research.google.com/github/jonnie763/DATA-690-WANG-Stats-and-Visualizations/blob/master/Jonathan_Rius_Create_Descriptive_Stats_Formulas.ipynb\" target=\"_parent\"><img src=\"https://colab.research.google.com/assets/colab-badge.svg\" alt=\"Open In Colab\"/></a>"
      ]
    },
    {
      "cell_type": "markdown",
      "metadata": {
        "id": "4Re-qT4UBt3X"
      },
      "source": [
        "Jonathan Rius: Assignment #2\n",
        "1. Prompts a user to enter 10 integers.\n",
        "\n",
        "2. If the user enters anything other than integers, remind her that only integers are allowed and let her retry.\n",
        "\n",
        "3. Don't allow the user to enter more than 10 or less than 10 integers.\n",
        "\n",
        "4. Display the 10 integers back to the user at the end. Calculate the following statistics from the 10 integers entered *Minimum Maximum Range Mean Variance Standard Deviation*\n",
        "\n",
        "#I began the assignment by chunking the assignment into four parts; prompting the user, reminding the user, not allowing the user and calculation.                             "
      ]
    },
    {
      "cell_type": "markdown",
      "metadata": {
        "id": "7fy1gldsBd1d"
      },
      "source": [
        "**Revised** Prompt For User"
      ]
    },
    {
      "cell_type": "code",
      "metadata": {
        "id": "BOUN6zty_l2m"
      },
      "source": [
        "num_list = []\n",
        "\n",
        "while len(num_list) < 10:  \n",
        "\n",
        "    num = input(f\"\\nplease enter an integer ({len(num_list) + 1} of 10): \")\n",
        "\n",
        "    try:\n",
        "        num = int(num)\n",
        "        num_list.append(num)\n",
        "    except:\n",
        "        print(\"\\nYou have entered a non-integer. Please enter an integer.\")\n",
        "\n",
        "print(\"\\n\", num_list)\n",
        "\n",
        "# There are several things going on here, first prompting the user to input ten numbers is easy enough, but one needs to stop the user if he/she is inputting non-integers and only count integers towards the total ten integers.\n",
        "# The input adds to the total of 10 integers, the len num list code is to ensure the user doesn't go past 10 integers, and the except code is the reminder to make the user sticks to integers.  \n"
      ],
      "execution_count": null,
      "outputs": []
    },
    {
      "cell_type": "code",
      "metadata": {
        "colab": {
          "base_uri": "https://localhost:8080/",
          "height": 333
        },
        "id": "1Y43sR3u1ki5",
        "outputId": "672b0124-4b6a-41a3-9f34-9d0b123861e9"
      },
      "source": [
        "num_list = []\n",
        "\n",
        "while len(num_list) < 10:  \n",
        "\n",
        "    num = input(f\"\\nplease enter an integer ({len(num_list) + 1} of 10): \")\n",
        "    num = int(num)\n",
        "    num_list.append(num)\n",
        "\n",
        "\n",
        "print(\"\\n\", num_list)\n",
        "\n",
        "# There are several things going on here, first prompting the user to input ten numbers is easy enough, but one needs to stop the user if he/she is inputting non-integers and only count integers towards the total ten integers.\n",
        "# The input adds to the total of 10 integers, the len num list code is to ensure the user doesn't go past 10 integers, and the except code is the reminder to make the user sticks to integers.  "
      ],
      "execution_count": null,
      "outputs": [
        {
          "name": "stdout",
          "output_type": "stream",
          "text": [
            "\n",
            "please enter an integer (1 of 10): 4\n",
            "\n",
            "please enter an integer (2 of 10): 4\n",
            "\n",
            "please enter an integer (3 of 10): g\n"
          ]
        },
        {
          "output_type": "error",
          "ename": "ValueError",
          "evalue": "ignored",
          "traceback": [
            "\u001b[0;31m---------------------------------------------------------------------------\u001b[0m",
            "\u001b[0;31mValueError\u001b[0m                                Traceback (most recent call last)",
            "\u001b[0;32m<ipython-input-4-ceae9f416d25>\u001b[0m in \u001b[0;36m<module>\u001b[0;34m()\u001b[0m\n\u001b[1;32m      4\u001b[0m \u001b[0;34m\u001b[0m\u001b[0m\n\u001b[1;32m      5\u001b[0m     \u001b[0mnum\u001b[0m \u001b[0;34m=\u001b[0m \u001b[0minput\u001b[0m\u001b[0;34m(\u001b[0m\u001b[0;34mf\"\\nplease enter an integer ({len(num_list) + 1} of 10): \"\u001b[0m\u001b[0;34m)\u001b[0m\u001b[0;34m\u001b[0m\u001b[0;34m\u001b[0m\u001b[0m\n\u001b[0;32m----> 6\u001b[0;31m     \u001b[0mnum\u001b[0m \u001b[0;34m=\u001b[0m \u001b[0mint\u001b[0m\u001b[0;34m(\u001b[0m\u001b[0mnum\u001b[0m\u001b[0;34m)\u001b[0m\u001b[0;34m\u001b[0m\u001b[0;34m\u001b[0m\u001b[0m\n\u001b[0m\u001b[1;32m      7\u001b[0m     \u001b[0mnum_list\u001b[0m\u001b[0;34m.\u001b[0m\u001b[0mappend\u001b[0m\u001b[0;34m(\u001b[0m\u001b[0mnum\u001b[0m\u001b[0;34m)\u001b[0m\u001b[0;34m\u001b[0m\u001b[0;34m\u001b[0m\u001b[0m\n\u001b[1;32m      8\u001b[0m \u001b[0;34m\u001b[0m\u001b[0m\n",
            "\u001b[0;31mValueError\u001b[0m: invalid literal for int() with base 10: 'g'"
          ]
        }
      ]
    },
    {
      "cell_type": "code",
      "metadata": {
        "colab": {
          "base_uri": "https://localhost:8080/"
        },
        "id": "vECDdfqp2EX1",
        "outputId": "d72b5e52-f924-476a-c9ee-fb6a0a2fca65"
      },
      "source": [
        "num_list =[]\n",
        "n=0\n",
        "while True:\n",
        "    try:\n",
        "        num = int(input(\"Please enter 10 integers:\"))\n",
        "        num_list.append(num)\n",
        "        n+=1\n",
        "        print(num_list)\n",
        "    except: \n",
        "        print(\"\\nYou have entered a non-integer. Please enter an integer.\") \n",
        "    if n==10:\n",
        "        break\n",
        "print(\"The 10 integers, you have entered:\", num_list)"
      ],
      "execution_count": null,
      "outputs": [
        {
          "output_type": "stream",
          "name": "stdout",
          "text": [
            "Please enter 10 integers:7\n",
            "[7]\n",
            "Please enter 10 integers:7\n",
            "[7, 7]\n",
            "Please enter 10 integers:7\n",
            "[7, 7, 7]\n",
            "Please enter 10 integers:8\n",
            "[7, 7, 7, 8]\n",
            "Please enter 10 integers:9\n",
            "[7, 7, 7, 8, 9]\n",
            "Please enter 10 integers:6\n",
            "[7, 7, 7, 8, 9, 6]\n",
            "Please enter 10 integers:5\n",
            "[7, 7, 7, 8, 9, 6, 5]\n",
            "Please enter 10 integers:4\n",
            "[7, 7, 7, 8, 9, 6, 5, 4]\n",
            "Please enter 10 integers:4\n",
            "[7, 7, 7, 8, 9, 6, 5, 4, 4]\n",
            "Please enter 10 integers:5\n",
            "[7, 7, 7, 8, 9, 6, 5, 4, 4, 5]\n",
            "The 10 integers, you have entered: [7, 7, 7, 8, 9, 6, 5, 4, 4, 5]\n"
          ]
        }
      ]
    },
    {
      "cell_type": "markdown",
      "metadata": {
        "id": "rNGg7dWfBlzT"
      },
      "source": [
        "**Calculate** average,min, max, range"
      ]
    },
    {
      "cell_type": "code",
      "metadata": {
        "id": "RAN_2_BfBexE",
        "colab": {
          "base_uri": "https://localhost:8080/",
          "height": 85
        },
        "outputId": "02ed6865-e6db-4d75-fcc1-4959dd57a637"
      },
      "source": [
        "total = 0\n",
        "for num in num_list:\n",
        "    total += num\n",
        "\n",
        "print(f\"Average = {total/len(num_list)}\" )\n",
        "print(f\"Minimum is:\", min(num_list))\n",
        "print(f\"Maximum is:\", max(num_list))\n",
        "print(f\"Range is\" ,(max(num_list))- min(num_list))\n",
        "\n",
        "# Average is total divided by lens which refers to amount of numbers in list, I just used min and max functions for min and max but applied to the num_list so the list above was being referred to. Range is simply max minus min. "
      ],
      "execution_count": null,
      "outputs": [
        {
          "output_type": "stream",
          "text": [
            "Average = 34.0\n",
            "Minimum is: 34\n",
            "Maximum is: 34\n",
            "Range is 0\n"
          ],
          "name": "stdout"
        }
      ]
    },
    {
      "cell_type": "markdown",
      "metadata": {
        "id": "kBnw7eY9BlaE"
      },
      "source": [
        "**Caculate** Variance and Standard Deviation"
      ]
    },
    {
      "cell_type": "code",
      "metadata": {
        "id": "_B_GXtvnBh1R",
        "colab": {
          "base_uri": "https://localhost:8080/",
          "height": 51
        },
        "outputId": "6de28546-5b76-45ec-fae0-fcaf1c1e1872"
      },
      "source": [
        "\n",
        "def mean(num_list):\n",
        "    \n",
        "    total = 0  \n",
        "\n",
        "    for num in num_list:\n",
        "        total += num\n",
        "\n",
        "    return total / len(num_list)\n",
        "\n",
        "\n",
        "def var(num_list):\n",
        "    \n",
        "    the_mean = mean(num_list)                     \n",
        "    \n",
        "    squared_diff = [(x - the_mean) ** 2 for x in num_list]    \n",
        "    \n",
        "    return mean(squared_diff)                   \n",
        "\n",
        "import math\n",
        "\n",
        "def std(num_list):\n",
        "    the_var = var(num_list)\n",
        "    return math.sqrt(the_var)\n",
        "\n",
        "\n",
        "the_std = std(num_list)\n",
        "\n",
        "print(\"std = \", round(the_std,2))\n",
        "print(\"var = \",round(the_std,2)**2)\n",
        "\n",
        "# First mean needs to be defined as it is the basis for the variance function \n",
        "# Then once the variance function is defined with the addition of the mean being defined, one can take the square root of the variance function by importing math. This gives you standard deviation. \n",
        "# After I apply a square power on the standard deviation to obtain the variance "
      ],
      "execution_count": null,
      "outputs": [
        {
          "output_type": "stream",
          "text": [
            "std =  0.0\n",
            "var =  0.0\n"
          ],
          "name": "stdout"
        }
      ]
    }
  ]
}