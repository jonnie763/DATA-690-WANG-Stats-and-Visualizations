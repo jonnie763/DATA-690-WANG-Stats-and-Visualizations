{
 "cells": [
  {
   "cell_type": "code",
   "execution_count": 56,
   "metadata": {},
   "outputs": [],
   "source": [
    "# 1 - Import necessary libraries\n",
    "\n",
    "import matplotlib.pyplot as plt        #Import relevant libraries. Pandas for dataframes and ploty and matplotlib for visualization. Other libraries just in case.  \n",
    "import pandas as pd \n",
    "import numpy as np\n",
    "import math\n",
    "import scipy.stats as stats\n",
    "import numpy as np\n",
    "import os \n",
    "plt.rcParams['figure.figsize'] = 25, 12 #Increase general size for matplot.lib"
   ]
  },
  {
   "cell_type": "code",
   "execution_count": 57,
   "metadata": {},
   "outputs": [
    {
     "data": {
      "text/plain": [
       "['.DS_Store',\n",
       " '.ipynb_checkpoints',\n",
       " 'Crosswalks.zip',\n",
       " 'data.yaml',\n",
       " 'FieldOfStudyData1415_1516_PP.csv',\n",
       " 'FieldOfStudyData1516_1617_PP.csv',\n",
       " 'MERGED1996_97_PP.csv',\n",
       " 'MERGED1997_98_PP.csv',\n",
       " 'MERGED1998_99_PP.csv',\n",
       " 'MERGED1999_00_PP.csv',\n",
       " 'MERGED2000_01_PP.csv',\n",
       " 'MERGED2001_02_PP.csv',\n",
       " 'MERGED2002_03_PP.csv',\n",
       " 'MERGED2003_04_PP.csv',\n",
       " 'MERGED2004_05_PP.csv',\n",
       " 'MERGED2005_06_PP.csv',\n",
       " 'MERGED2006_07_PP.csv',\n",
       " 'MERGED2007_08_PP.csv',\n",
       " 'MERGED2008_09_PP.csv',\n",
       " 'MERGED2009_10_PP.csv',\n",
       " 'MERGED2010_11_PP.csv',\n",
       " 'MERGED2011_12_PP.csv',\n",
       " 'MERGED2012_13_PP.csv',\n",
       " 'MERGED2013_14_PP.csv',\n",
       " 'MERGED2014_15_PP.csv',\n",
       " 'MERGED2015_16_PP.csv',\n",
       " 'MERGED2016_17_PP.csv',\n",
       " 'MERGED2017_18_PP.csv',\n",
       " 'MERGED2018_19_PP.csv']"
      ]
     },
     "execution_count": 57,
     "metadata": {},
     "output_type": "execute_result"
    }
   ],
   "source": [
    "# 2 - Retrieve the names of the 22 files and assign them to a List variable\n",
    "# You would need to filter out other files\n",
    "# Display the names of these 22 files\n",
    "\n",
    "FILE_PATH = r\"Downloads/CollegeScorecard_Raw_Data/CollegeScorecard_Raw_Data\" # The folder contains files that we do not need, need only merged, created a folder for ease of ease. \n",
    "file_names = os.listdir(FILE_PATH)\n",
    "file_names"
   ]
  },
  {
   "cell_type": "code",
   "execution_count": 6,
   "metadata": {},
   "outputs": [
    {
     "data": {
      "text/plain": [
       "'MERGED2009_10_PP.csv'"
      ]
     },
     "execution_count": 6,
     "metadata": {},
     "output_type": "execute_result"
    }
   ],
   "source": [
    "# 3 - Write code to randomly select one file name out of the 22 files names. \n",
    "# Hint: generate a random integer between 0 and 21 first\n",
    "# Display the file name\n",
    "\n",
    "import os, random\n",
    "Random_file=random.choice(os.listdir(\"Downloads/CollegeScorecard_Raw_Data/CollegeScorecard_Raw_Data\")) #change dir name to whatever\")) #change dir name to whatever, obtain random file \n",
    "Random_file"
   ]
  },
  {
   "cell_type": "code",
   "execution_count": 41,
   "metadata": {},
   "outputs": [],
   "source": [
    "# 4 - Only read the two columns: college name (INSTNM) and in state tution (\"TUITIONFEE_IN\")\n",
    "# from this file into a data frame aand display use info() function to display a summary information"
   ]
  },
  {
   "cell_type": "code",
   "execution_count": 58,
   "metadata": {},
   "outputs": [
    {
     "name": "stderr",
     "output_type": "stream",
     "text": [
      "C:\\Users\\jonni\\anaconda3\\lib\\site-packages\\IPython\\core\\interactiveshell.py:3146: DtypeWarning: Columns (1,1351,1365,1377,1378,1407,1408,1411,1426,1431,1432,1433,1445,1446,1447,1537,1538,1539,1540,1541,1542,1547,1548,1549,1553,1554,1559,1560,1561,1562,1563,1567,1568,1571,1572,1573,1574,1606,1609,1610,1611,1613,1614,1615,1616,1636,1637,1711,1723,1724,1729,1909,1910,1911,1912,1913) have mixed types.Specify dtype option on import or set low_memory=False.\n",
      "  has_raised = await self.run_ast_nodes(code_ast.body, cell_name,\n"
     ]
    },
    {
     "data": {
      "text/html": [
       "<div>\n",
       "<style scoped>\n",
       "    .dataframe tbody tr th:only-of-type {\n",
       "        vertical-align: middle;\n",
       "    }\n",
       "\n",
       "    .dataframe tbody tr th {\n",
       "        vertical-align: top;\n",
       "    }\n",
       "\n",
       "    .dataframe thead th {\n",
       "        text-align: right;\n",
       "    }\n",
       "</style>\n",
       "<table border=\"1\" class=\"dataframe\">\n",
       "  <thead>\n",
       "    <tr style=\"text-align: right;\">\n",
       "      <th></th>\n",
       "      <th>INSTNM</th>\n",
       "      <th>TUITIONFEE_IN</th>\n",
       "    </tr>\n",
       "  </thead>\n",
       "  <tbody>\n",
       "    <tr>\n",
       "      <th>0</th>\n",
       "      <td>Community College of the Air Force</td>\n",
       "      <td>NaN</td>\n",
       "    </tr>\n",
       "    <tr>\n",
       "      <th>1</th>\n",
       "      <td>Alabama A &amp; M University</td>\n",
       "      <td>4692.0</td>\n",
       "    </tr>\n",
       "    <tr>\n",
       "      <th>2</th>\n",
       "      <td>University of Alabama at Birmingham</td>\n",
       "      <td>5096.0</td>\n",
       "    </tr>\n",
       "    <tr>\n",
       "      <th>3</th>\n",
       "      <td>Amridge University</td>\n",
       "      <td>8000.0</td>\n",
       "    </tr>\n",
       "    <tr>\n",
       "      <th>4</th>\n",
       "      <td>University of Alabama in Huntsville</td>\n",
       "      <td>6510.0</td>\n",
       "    </tr>\n",
       "    <tr>\n",
       "      <th>...</th>\n",
       "      <td>...</td>\n",
       "      <td>...</td>\n",
       "    </tr>\n",
       "    <tr>\n",
       "      <th>7212</th>\n",
       "      <td>Southeastern Institute-Nashville</td>\n",
       "      <td>NaN</td>\n",
       "    </tr>\n",
       "    <tr>\n",
       "      <th>7213</th>\n",
       "      <td>Make-up Designory</td>\n",
       "      <td>NaN</td>\n",
       "    </tr>\n",
       "    <tr>\n",
       "      <th>7214</th>\n",
       "      <td>Dayton School of Medical Massage-Lima</td>\n",
       "      <td>17300.0</td>\n",
       "    </tr>\n",
       "    <tr>\n",
       "      <th>7215</th>\n",
       "      <td>Cincinnati School of Medical Massage</td>\n",
       "      <td>17300.0</td>\n",
       "    </tr>\n",
       "    <tr>\n",
       "      <th>7216</th>\n",
       "      <td>Cleveland Institute of Medical Massage</td>\n",
       "      <td>17300.0</td>\n",
       "    </tr>\n",
       "  </tbody>\n",
       "</table>\n",
       "<p>7217 rows × 2 columns</p>\n",
       "</div>"
      ],
      "text/plain": [
       "                                      INSTNM  TUITIONFEE_IN\n",
       "0         Community College of the Air Force            NaN\n",
       "1                   Alabama A & M University         4692.0\n",
       "2        University of Alabama at Birmingham         5096.0\n",
       "3                         Amridge University         8000.0\n",
       "4        University of Alabama in Huntsville         6510.0\n",
       "...                                      ...            ...\n",
       "7212        Southeastern Institute-Nashville            NaN\n",
       "7213                       Make-up Designory            NaN\n",
       "7214   Dayton School of Medical Massage-Lima        17300.0\n",
       "7215    Cincinnati School of Medical Massage        17300.0\n",
       "7216  Cleveland Institute of Medical Massage        17300.0\n",
       "\n",
       "[7217 rows x 2 columns]"
      ]
     },
     "execution_count": 58,
     "metadata": {},
     "output_type": "execute_result"
    }
   ],
   "source": [
    "df = pd.read_csv(\"Downloads/CollegeScorecard_Raw_Data/CollegeScorecard_Raw_Data/MERGED2009_10_PP.csv\") # Upload file from college scoreboard raw data folder, this code reads the file but not every line for spacing. \n",
    "df[[\"INSTNM\", \"TUITIONFEE_IN\"]]                                                                        # Need to make it random so simply grabbed output from previous code (which was random)\n"
   ]
  },
  {
   "cell_type": "code",
   "execution_count": 59,
   "metadata": {},
   "outputs": [
    {
     "name": "stdout",
     "output_type": "stream",
     "text": [
      "<class 'pandas.core.frame.DataFrame'>\n",
      "RangeIndex: 7217 entries, 0 to 7216\n",
      "Columns: 1986 entries, UNITID to SCUGFFN_POOLED\n",
      "dtypes: float64(769), int64(11), object(1206)\n",
      "memory usage: 109.4+ MB\n"
     ]
    }
   ],
   "source": [
    "df.info() #info function "
   ]
  },
  {
   "cell_type": "code",
   "execution_count": 6,
   "metadata": {},
   "outputs": [],
   "source": [
    "# 5 - Find out how many observations have missing value."
   ]
  },
  {
   "cell_type": "code",
   "execution_count": 60,
   "metadata": {},
   "outputs": [
    {
     "data": {
      "text/html": [
       "<div>\n",
       "<style scoped>\n",
       "    .dataframe tbody tr th:only-of-type {\n",
       "        vertical-align: middle;\n",
       "    }\n",
       "\n",
       "    .dataframe tbody tr th {\n",
       "        vertical-align: top;\n",
       "    }\n",
       "\n",
       "    .dataframe thead th {\n",
       "        text-align: right;\n",
       "    }\n",
       "</style>\n",
       "<table border=\"1\" class=\"dataframe\">\n",
       "  <thead>\n",
       "    <tr style=\"text-align: right;\">\n",
       "      <th></th>\n",
       "      <th>TUITIONFEE_IN</th>\n",
       "    </tr>\n",
       "  </thead>\n",
       "  <tbody>\n",
       "    <tr>\n",
       "      <th>0</th>\n",
       "      <td>True</td>\n",
       "    </tr>\n",
       "    <tr>\n",
       "      <th>1</th>\n",
       "      <td>False</td>\n",
       "    </tr>\n",
       "    <tr>\n",
       "      <th>2</th>\n",
       "      <td>False</td>\n",
       "    </tr>\n",
       "    <tr>\n",
       "      <th>3</th>\n",
       "      <td>False</td>\n",
       "    </tr>\n",
       "    <tr>\n",
       "      <th>4</th>\n",
       "      <td>False</td>\n",
       "    </tr>\n",
       "    <tr>\n",
       "      <th>...</th>\n",
       "      <td>...</td>\n",
       "    </tr>\n",
       "    <tr>\n",
       "      <th>7212</th>\n",
       "      <td>True</td>\n",
       "    </tr>\n",
       "    <tr>\n",
       "      <th>7213</th>\n",
       "      <td>True</td>\n",
       "    </tr>\n",
       "    <tr>\n",
       "      <th>7214</th>\n",
       "      <td>False</td>\n",
       "    </tr>\n",
       "    <tr>\n",
       "      <th>7215</th>\n",
       "      <td>False</td>\n",
       "    </tr>\n",
       "    <tr>\n",
       "      <th>7216</th>\n",
       "      <td>False</td>\n",
       "    </tr>\n",
       "  </tbody>\n",
       "</table>\n",
       "<p>7217 rows × 1 columns</p>\n",
       "</div>"
      ],
      "text/plain": [
       "      TUITIONFEE_IN\n",
       "0              True\n",
       "1             False\n",
       "2             False\n",
       "3             False\n",
       "4             False\n",
       "...             ...\n",
       "7212           True\n",
       "7213           True\n",
       "7214          False\n",
       "7215          False\n",
       "7216          False\n",
       "\n",
       "[7217 rows x 1 columns]"
      ]
     },
     "execution_count": 60,
     "metadata": {},
     "output_type": "execute_result"
    }
   ],
   "source": [
    "df[[\"TUITIONFEE_IN\"]].isnull() # Interesting code, but need sum to identify NaN values "
   ]
  },
  {
   "cell_type": "code",
   "execution_count": 61,
   "metadata": {},
   "outputs": [
    {
     "data": {
      "text/plain": [
       "TUITIONFEE_IN    2928\n",
       "dtype: int64"
      ]
     },
     "execution_count": 61,
     "metadata": {},
     "output_type": "execute_result"
    }
   ],
   "source": [
    "df[[\"TUITIONFEE_IN\"]].isnull().sum() # Output indicates 2750 rows with the null values by using .sum()"
   ]
  },
  {
   "cell_type": "code",
   "execution_count": 9,
   "metadata": {},
   "outputs": [],
   "source": [
    "# 6 - Drop those observations with missing value\n",
    "# Display the number of observations afterward"
   ]
  },
  {
   "cell_type": "code",
   "execution_count": 62,
   "metadata": {},
   "outputs": [
    {
     "data": {
      "text/html": [
       "<div>\n",
       "<style scoped>\n",
       "    .dataframe tbody tr th:only-of-type {\n",
       "        vertical-align: middle;\n",
       "    }\n",
       "\n",
       "    .dataframe tbody tr th {\n",
       "        vertical-align: top;\n",
       "    }\n",
       "\n",
       "    .dataframe thead th {\n",
       "        text-align: right;\n",
       "    }\n",
       "</style>\n",
       "<table border=\"1\" class=\"dataframe\">\n",
       "  <thead>\n",
       "    <tr style=\"text-align: right;\">\n",
       "      <th></th>\n",
       "      <th>INSTNM</th>\n",
       "      <th>TUITIONFEE_IN</th>\n",
       "    </tr>\n",
       "  </thead>\n",
       "  <tbody>\n",
       "    <tr>\n",
       "      <th>1</th>\n",
       "      <td>Alabama A &amp; M University</td>\n",
       "      <td>4692.0</td>\n",
       "    </tr>\n",
       "    <tr>\n",
       "      <th>2</th>\n",
       "      <td>University of Alabama at Birmingham</td>\n",
       "      <td>5096.0</td>\n",
       "    </tr>\n",
       "    <tr>\n",
       "      <th>3</th>\n",
       "      <td>Amridge University</td>\n",
       "      <td>8000.0</td>\n",
       "    </tr>\n",
       "    <tr>\n",
       "      <th>4</th>\n",
       "      <td>University of Alabama in Huntsville</td>\n",
       "      <td>6510.0</td>\n",
       "    </tr>\n",
       "    <tr>\n",
       "      <th>5</th>\n",
       "      <td>Alabama State University</td>\n",
       "      <td>6468.0</td>\n",
       "    </tr>\n",
       "    <tr>\n",
       "      <th>...</th>\n",
       "      <td>...</td>\n",
       "      <td>...</td>\n",
       "    </tr>\n",
       "    <tr>\n",
       "      <th>7205</th>\n",
       "      <td>McCann School of Business &amp; Technology</td>\n",
       "      <td>12321.0</td>\n",
       "    </tr>\n",
       "    <tr>\n",
       "      <th>7206</th>\n",
       "      <td>McCann School of Business &amp; Technology</td>\n",
       "      <td>12321.0</td>\n",
       "    </tr>\n",
       "    <tr>\n",
       "      <th>7214</th>\n",
       "      <td>Dayton School of Medical Massage-Lima</td>\n",
       "      <td>17300.0</td>\n",
       "    </tr>\n",
       "    <tr>\n",
       "      <th>7215</th>\n",
       "      <td>Cincinnati School of Medical Massage</td>\n",
       "      <td>17300.0</td>\n",
       "    </tr>\n",
       "    <tr>\n",
       "      <th>7216</th>\n",
       "      <td>Cleveland Institute of Medical Massage</td>\n",
       "      <td>17300.0</td>\n",
       "    </tr>\n",
       "  </tbody>\n",
       "</table>\n",
       "<p>4289 rows × 2 columns</p>\n",
       "</div>"
      ],
      "text/plain": [
       "                                      INSTNM  TUITIONFEE_IN\n",
       "1                   Alabama A & M University         4692.0\n",
       "2        University of Alabama at Birmingham         5096.0\n",
       "3                         Amridge University         8000.0\n",
       "4        University of Alabama in Huntsville         6510.0\n",
       "5                   Alabama State University         6468.0\n",
       "...                                      ...            ...\n",
       "7205  McCann School of Business & Technology        12321.0\n",
       "7206  McCann School of Business & Technology        12321.0\n",
       "7214   Dayton School of Medical Massage-Lima        17300.0\n",
       "7215    Cincinnati School of Medical Massage        17300.0\n",
       "7216  Cleveland Institute of Medical Massage        17300.0\n",
       "\n",
       "[4289 rows x 2 columns]"
      ]
     },
     "execution_count": 62,
     "metadata": {},
     "output_type": "execute_result"
    }
   ],
   "source": [
    "DF1=df[[\"INSTNM\", \"TUITIONFEE_IN\"]].dropna() # Pretty Straightforward dropna() drops null values \n",
    "DF1"
   ]
  },
  {
   "cell_type": "code",
   "execution_count": null,
   "metadata": {},
   "outputs": [],
   "source": [
    "# 7 - Find out how many observations have 0 tution."
   ]
  },
  {
   "cell_type": "code",
   "execution_count": 63,
   "metadata": {},
   "outputs": [
    {
     "data": {
      "text/plain": [
       "INSTNM           0\n",
       "TUITIONFEE_IN    5\n",
       "dtype: int64"
      ]
     },
     "execution_count": 63,
     "metadata": {},
     "output_type": "execute_result"
    }
   ],
   "source": [
    "DF1.isin([0]).sum() # Indicates amount of zeros in dataframe, there are five \n"
   ]
  },
  {
   "cell_type": "code",
   "execution_count": null,
   "metadata": {},
   "outputs": [],
   "source": [
    "# 8 - Drop those observations with 0 tuition\n",
    "# Display the number of observations afterward"
   ]
  },
  {
   "cell_type": "code",
   "execution_count": 64,
   "metadata": {},
   "outputs": [
    {
     "data": {
      "text/html": [
       "<div>\n",
       "<style scoped>\n",
       "    .dataframe tbody tr th:only-of-type {\n",
       "        vertical-align: middle;\n",
       "    }\n",
       "\n",
       "    .dataframe tbody tr th {\n",
       "        vertical-align: top;\n",
       "    }\n",
       "\n",
       "    .dataframe thead th {\n",
       "        text-align: right;\n",
       "    }\n",
       "</style>\n",
       "<table border=\"1\" class=\"dataframe\">\n",
       "  <thead>\n",
       "    <tr style=\"text-align: right;\">\n",
       "      <th></th>\n",
       "      <th>INSTNM</th>\n",
       "      <th>TUITIONFEE_IN</th>\n",
       "    </tr>\n",
       "  </thead>\n",
       "  <tbody>\n",
       "    <tr>\n",
       "      <th>1</th>\n",
       "      <td>Alabama A &amp; M University</td>\n",
       "      <td>4692.0</td>\n",
       "    </tr>\n",
       "    <tr>\n",
       "      <th>2</th>\n",
       "      <td>University of Alabama at Birmingham</td>\n",
       "      <td>5096.0</td>\n",
       "    </tr>\n",
       "    <tr>\n",
       "      <th>3</th>\n",
       "      <td>Amridge University</td>\n",
       "      <td>8000.0</td>\n",
       "    </tr>\n",
       "    <tr>\n",
       "      <th>4</th>\n",
       "      <td>University of Alabama in Huntsville</td>\n",
       "      <td>6510.0</td>\n",
       "    </tr>\n",
       "    <tr>\n",
       "      <th>5</th>\n",
       "      <td>Alabama State University</td>\n",
       "      <td>6468.0</td>\n",
       "    </tr>\n",
       "    <tr>\n",
       "      <th>...</th>\n",
       "      <td>...</td>\n",
       "      <td>...</td>\n",
       "    </tr>\n",
       "    <tr>\n",
       "      <th>7205</th>\n",
       "      <td>McCann School of Business &amp; Technology</td>\n",
       "      <td>12321.0</td>\n",
       "    </tr>\n",
       "    <tr>\n",
       "      <th>7206</th>\n",
       "      <td>McCann School of Business &amp; Technology</td>\n",
       "      <td>12321.0</td>\n",
       "    </tr>\n",
       "    <tr>\n",
       "      <th>7214</th>\n",
       "      <td>Dayton School of Medical Massage-Lima</td>\n",
       "      <td>17300.0</td>\n",
       "    </tr>\n",
       "    <tr>\n",
       "      <th>7215</th>\n",
       "      <td>Cincinnati School of Medical Massage</td>\n",
       "      <td>17300.0</td>\n",
       "    </tr>\n",
       "    <tr>\n",
       "      <th>7216</th>\n",
       "      <td>Cleveland Institute of Medical Massage</td>\n",
       "      <td>17300.0</td>\n",
       "    </tr>\n",
       "  </tbody>\n",
       "</table>\n",
       "<p>4284 rows × 2 columns</p>\n",
       "</div>"
      ],
      "text/plain": [
       "                                      INSTNM  TUITIONFEE_IN\n",
       "1                   Alabama A & M University         4692.0\n",
       "2        University of Alabama at Birmingham         5096.0\n",
       "3                         Amridge University         8000.0\n",
       "4        University of Alabama in Huntsville         6510.0\n",
       "5                   Alabama State University         6468.0\n",
       "...                                      ...            ...\n",
       "7205  McCann School of Business & Technology        12321.0\n",
       "7206  McCann School of Business & Technology        12321.0\n",
       "7214   Dayton School of Medical Massage-Lima        17300.0\n",
       "7215    Cincinnati School of Medical Massage        17300.0\n",
       "7216  Cleveland Institute of Medical Massage        17300.0\n",
       "\n",
       "[4284 rows x 2 columns]"
      ]
     },
     "execution_count": 64,
     "metadata": {},
     "output_type": "execute_result"
    }
   ],
   "source": [
    "DF2=DF1[(DF1 != 0).all(1)] # Is accurate, rows with zero are removed \n",
    "DF2"
   ]
  },
  {
   "cell_type": "code",
   "execution_count": null,
   "metadata": {},
   "outputs": [],
   "source": [
    "# 9 - Calculate and display the mean (average) of the tuitions of all the remaining observations"
   ]
  },
  {
   "cell_type": "code",
   "execution_count": 65,
   "metadata": {},
   "outputs": [
    {
     "name": "stdout",
     "output_type": "stream",
     "text": [
      "TUITIONFEE_IN    12067.689776\n",
      "dtype: float64\n",
      "12067.689776\n"
     ]
    }
   ],
   "source": [
    "DF_MEAN=DF2.mean()          # I created a dataframe and a numerical mean of the dataframe just in case \n",
    "DF_MEAN\n",
    "print(DF_MEAN)\n",
    "NUM_MEAN= 12067.689776\n",
    "print(NUM_MEAN)"
   ]
  },
  {
   "cell_type": "code",
   "execution_count": null,
   "metadata": {},
   "outputs": [],
   "source": [
    "# 10 - Randomly select just 1 observation from the data frame.\n",
    "# Display the tuition of that observation."
   ]
  },
  {
   "cell_type": "code",
   "execution_count": 66,
   "metadata": {},
   "outputs": [
    {
     "data": {
      "text/html": [
       "<div>\n",
       "<style scoped>\n",
       "    .dataframe tbody tr th:only-of-type {\n",
       "        vertical-align: middle;\n",
       "    }\n",
       "\n",
       "    .dataframe tbody tr th {\n",
       "        vertical-align: top;\n",
       "    }\n",
       "\n",
       "    .dataframe thead th {\n",
       "        text-align: right;\n",
       "    }\n",
       "</style>\n",
       "<table border=\"1\" class=\"dataframe\">\n",
       "  <thead>\n",
       "    <tr style=\"text-align: right;\">\n",
       "      <th></th>\n",
       "      <th>INSTNM</th>\n",
       "      <th>TUITIONFEE_IN</th>\n",
       "    </tr>\n",
       "  </thead>\n",
       "  <tbody>\n",
       "    <tr>\n",
       "      <th>2139</th>\n",
       "      <td>Copiah-Lincoln Community College</td>\n",
       "      <td>1820.0</td>\n",
       "    </tr>\n",
       "  </tbody>\n",
       "</table>\n",
       "</div>"
      ],
      "text/plain": [
       "                                INSTNM  TUITIONFEE_IN\n",
       "2139  Copiah-Lincoln Community College         1820.0"
      ]
     },
     "execution_count": 66,
     "metadata": {},
     "output_type": "execute_result"
    }
   ],
   "source": [
    "DF2.sample() # Sample of one row from dataframe "
   ]
  },
  {
   "cell_type": "code",
   "execution_count": null,
   "metadata": {},
   "outputs": [],
   "source": [
    "# 11 - Calculate the different between the tuition of this observation and \n",
    "# the mean tuition off all observations calculated earlier.\n",
    "# Display the difference"
   ]
  },
  {
   "cell_type": "code",
   "execution_count": 67,
   "metadata": {},
   "outputs": [
    {
     "data": {
      "text/plain": [
       "10247.689776"
      ]
     },
     "execution_count": 67,
     "metadata": {},
     "output_type": "execute_result"
    }
   ],
   "source": [
    "NUM_MEAN-1820 # I could have made this more complicated by generating a list and saving that cleansed number as a variable, however with just one sample this is sufficient "
   ]
  },
  {
   "cell_type": "code",
   "execution_count": null,
   "metadata": {},
   "outputs": [],
   "source": [
    "# 12 - Repeat 10 to 11 several times get the feel of the size of the difference in means"
   ]
  },
  {
   "cell_type": "code",
   "execution_count": 68,
   "metadata": {},
   "outputs": [
    {
     "data": {
      "text/html": [
       "<div>\n",
       "<style scoped>\n",
       "    .dataframe tbody tr th:only-of-type {\n",
       "        vertical-align: middle;\n",
       "    }\n",
       "\n",
       "    .dataframe tbody tr th {\n",
       "        vertical-align: top;\n",
       "    }\n",
       "\n",
       "    .dataframe thead th {\n",
       "        text-align: right;\n",
       "    }\n",
       "</style>\n",
       "<table border=\"1\" class=\"dataframe\">\n",
       "  <thead>\n",
       "    <tr style=\"text-align: right;\">\n",
       "      <th></th>\n",
       "      <th>INSTNM</th>\n",
       "      <th>Tuition Mean DIfference</th>\n",
       "    </tr>\n",
       "  </thead>\n",
       "  <tbody>\n",
       "    <tr>\n",
       "      <th>6883</th>\n",
       "      <td>NaN</td>\n",
       "      <td>6987.689776</td>\n",
       "    </tr>\n",
       "    <tr>\n",
       "      <th>3431</th>\n",
       "      <td>NaN</td>\n",
       "      <td>4391.689776</td>\n",
       "    </tr>\n",
       "    <tr>\n",
       "      <th>3315</th>\n",
       "      <td>NaN</td>\n",
       "      <td>8515.689776</td>\n",
       "    </tr>\n",
       "    <tr>\n",
       "      <th>267</th>\n",
       "      <td>NaN</td>\n",
       "      <td>4647.689776</td>\n",
       "    </tr>\n",
       "    <tr>\n",
       "      <th>6742</th>\n",
       "      <td>NaN</td>\n",
       "      <td>-1232.310224</td>\n",
       "    </tr>\n",
       "    <tr>\n",
       "      <th>1264</th>\n",
       "      <td>NaN</td>\n",
       "      <td>-9032.310224</td>\n",
       "    </tr>\n",
       "    <tr>\n",
       "      <th>3716</th>\n",
       "      <td>NaN</td>\n",
       "      <td>9669.689776</td>\n",
       "    </tr>\n",
       "    <tr>\n",
       "      <th>6053</th>\n",
       "      <td>NaN</td>\n",
       "      <td>2419.689776</td>\n",
       "    </tr>\n",
       "    <tr>\n",
       "      <th>4510</th>\n",
       "      <td>NaN</td>\n",
       "      <td>7639.689776</td>\n",
       "    </tr>\n",
       "    <tr>\n",
       "      <th>4798</th>\n",
       "      <td>NaN</td>\n",
       "      <td>10053.689776</td>\n",
       "    </tr>\n",
       "  </tbody>\n",
       "</table>\n",
       "</div>"
      ],
      "text/plain": [
       "     INSTNM  Tuition Mean DIfference\n",
       "6883    NaN              6987.689776\n",
       "3431    NaN              4391.689776\n",
       "3315    NaN              8515.689776\n",
       "267     NaN              4647.689776\n",
       "6742    NaN             -1232.310224\n",
       "1264    NaN             -9032.310224\n",
       "3716    NaN              9669.689776\n",
       "6053    NaN              2419.689776\n",
       "4510    NaN              7639.689776\n",
       "4798    NaN             10053.689776"
      ]
     },
     "execution_count": 68,
     "metadata": {},
     "output_type": "execute_result"
    }
   ],
   "source": [
    "DF_DIFF=DF_MEAN-DF2.sample(10) # I did this using a dataframe, renamed column to make it more clear for the reader \n",
    "DF_DIFF\n",
    "DF_DIFF_1= DF_DIFF.rename(columns={'TUITIONFEE_IN': 'Tuition Mean DIfference'})\n",
    "DF_DIFF_1"
   ]
  },
  {
   "cell_type": "code",
   "execution_count": null,
   "metadata": {},
   "outputs": [],
   "source": [
    "# 13 - Randomly select 20 observations, display the tuition of these observation."
   ]
  },
  {
   "cell_type": "code",
   "execution_count": 69,
   "metadata": {},
   "outputs": [
    {
     "data": {
      "text/html": [
       "<div>\n",
       "<style scoped>\n",
       "    .dataframe tbody tr th:only-of-type {\n",
       "        vertical-align: middle;\n",
       "    }\n",
       "\n",
       "    .dataframe tbody tr th {\n",
       "        vertical-align: top;\n",
       "    }\n",
       "\n",
       "    .dataframe thead th {\n",
       "        text-align: right;\n",
       "    }\n",
       "</style>\n",
       "<table border=\"1\" class=\"dataframe\">\n",
       "  <thead>\n",
       "    <tr style=\"text-align: right;\">\n",
       "      <th></th>\n",
       "      <th>INSTNM</th>\n",
       "      <th>TUITIONFEE_IN</th>\n",
       "    </tr>\n",
       "  </thead>\n",
       "  <tbody>\n",
       "    <tr>\n",
       "      <th>3653</th>\n",
       "      <td>Ursinus College</td>\n",
       "      <td>38670.0</td>\n",
       "    </tr>\n",
       "    <tr>\n",
       "      <th>3443</th>\n",
       "      <td>Clarion University of Pennsylvania</td>\n",
       "      <td>7380.0</td>\n",
       "    </tr>\n",
       "    <tr>\n",
       "      <th>4154</th>\n",
       "      <td>Sterling College</td>\n",
       "      <td>23621.0</td>\n",
       "    </tr>\n",
       "    <tr>\n",
       "      <th>4622</th>\n",
       "      <td>Coastal Pines Technical College</td>\n",
       "      <td>2043.0</td>\n",
       "    </tr>\n",
       "    <tr>\n",
       "      <th>1515</th>\n",
       "      <td>University of the Cumberlands</td>\n",
       "      <td>15658.0</td>\n",
       "    </tr>\n",
       "    <tr>\n",
       "      <th>1807</th>\n",
       "      <td>Cape Cod Community College</td>\n",
       "      <td>3456.0</td>\n",
       "    </tr>\n",
       "    <tr>\n",
       "      <th>1395</th>\n",
       "      <td>Loras College</td>\n",
       "      <td>25348.0</td>\n",
       "    </tr>\n",
       "    <tr>\n",
       "      <th>451</th>\n",
       "      <td>Musicians Institute</td>\n",
       "      <td>27100.0</td>\n",
       "    </tr>\n",
       "    <tr>\n",
       "      <th>228</th>\n",
       "      <td>Biola University</td>\n",
       "      <td>27744.0</td>\n",
       "    </tr>\n",
       "    <tr>\n",
       "      <th>1128</th>\n",
       "      <td>Illinois Central College</td>\n",
       "      <td>2610.0</td>\n",
       "    </tr>\n",
       "    <tr>\n",
       "      <th>646</th>\n",
       "      <td>Nazarene Bible College</td>\n",
       "      <td>9600.0</td>\n",
       "    </tr>\n",
       "    <tr>\n",
       "      <th>4358</th>\n",
       "      <td>Monongalia County Technical Education Center</td>\n",
       "      <td>1050.0</td>\n",
       "    </tr>\n",
       "    <tr>\n",
       "      <th>4928</th>\n",
       "      <td>CEM College-Humacao</td>\n",
       "      <td>5400.0</td>\n",
       "    </tr>\n",
       "    <tr>\n",
       "      <th>6334</th>\n",
       "      <td>The College of Health Care Professions-Southwe...</td>\n",
       "      <td>13213.0</td>\n",
       "    </tr>\n",
       "    <tr>\n",
       "      <th>5399</th>\n",
       "      <td>United Technical Center</td>\n",
       "      <td>3000.0</td>\n",
       "    </tr>\n",
       "    <tr>\n",
       "      <th>4054</th>\n",
       "      <td>Southwestern Adventist University</td>\n",
       "      <td>16216.0</td>\n",
       "    </tr>\n",
       "    <tr>\n",
       "      <th>3237</th>\n",
       "      <td>Terra State Community College</td>\n",
       "      <td>3712.0</td>\n",
       "    </tr>\n",
       "    <tr>\n",
       "      <th>4388</th>\n",
       "      <td>Madison Area Technical College</td>\n",
       "      <td>3342.0</td>\n",
       "    </tr>\n",
       "    <tr>\n",
       "      <th>4831</th>\n",
       "      <td>Erwin Technical College</td>\n",
       "      <td>2543.0</td>\n",
       "    </tr>\n",
       "    <tr>\n",
       "      <th>4152</th>\n",
       "      <td>College of St Joseph</td>\n",
       "      <td>17550.0</td>\n",
       "    </tr>\n",
       "  </tbody>\n",
       "</table>\n",
       "</div>"
      ],
      "text/plain": [
       "                                                 INSTNM  TUITIONFEE_IN\n",
       "3653                                    Ursinus College        38670.0\n",
       "3443                 Clarion University of Pennsylvania         7380.0\n",
       "4154                                   Sterling College        23621.0\n",
       "4622                    Coastal Pines Technical College         2043.0\n",
       "1515                      University of the Cumberlands        15658.0\n",
       "1807                         Cape Cod Community College         3456.0\n",
       "1395                                      Loras College        25348.0\n",
       "451                                 Musicians Institute        27100.0\n",
       "228                                    Biola University        27744.0\n",
       "1128                           Illinois Central College         2610.0\n",
       "646                              Nazarene Bible College         9600.0\n",
       "4358       Monongalia County Technical Education Center         1050.0\n",
       "4928                                CEM College-Humacao         5400.0\n",
       "6334  The College of Health Care Professions-Southwe...        13213.0\n",
       "5399                            United Technical Center         3000.0\n",
       "4054                  Southwestern Adventist University        16216.0\n",
       "3237                      Terra State Community College         3712.0\n",
       "4388                     Madison Area Technical College         3342.0\n",
       "4831                            Erwin Technical College         2543.0\n",
       "4152                               College of St Joseph        17550.0"
      ]
     },
     "execution_count": 69,
     "metadata": {},
     "output_type": "execute_result"
    }
   ],
   "source": [
    "DF3=DF2.sample(20) # Sample with 20 observations \n",
    "DF3"
   ]
  },
  {
   "cell_type": "code",
   "execution_count": null,
   "metadata": {},
   "outputs": [],
   "source": [
    "# 14 - Calculate and display the mean tuition of these 20 observations"
   ]
  },
  {
   "cell_type": "code",
   "execution_count": 70,
   "metadata": {},
   "outputs": [
    {
     "data": {
      "text/plain": [
       "TUITIONFEE_IN    12462.8\n",
       "dtype: float64"
      ]
     },
     "execution_count": 70,
     "metadata": {},
     "output_type": "execute_result"
    }
   ],
   "source": [
    "DF3.mean() # Mean of previous dataframe "
   ]
  },
  {
   "cell_type": "code",
   "execution_count": null,
   "metadata": {},
   "outputs": [],
   "source": [
    "# 15 - Calculate  the different between the average tuition of these 20 observations \n",
    "# and the mean tuition off all observations calculated earlier.\n",
    "# Display the difference"
   ]
  },
  {
   "cell_type": "code",
   "execution_count": 71,
   "metadata": {},
   "outputs": [
    {
     "data": {
      "text/plain": [
       "TUITIONFEE_IN   -395.110224\n",
       "dtype: float64"
      ]
     },
     "execution_count": 71,
     "metadata": {},
     "output_type": "execute_result"
    }
   ],
   "source": [
    "DF_MEAN-DF3.mean() # I saved the \"population mean\" earlier as a variable, just substract from previous sample mean to get answer "
   ]
  },
  {
   "cell_type": "code",
   "execution_count": null,
   "metadata": {},
   "outputs": [],
   "source": [
    "# 16 - Repeat 13 to 15 several times and get the feel of the size of the difference in means \n",
    "# Compare these differences with the differences calculated earlier with just 1 observation\n",
    "# Describe your hunch/conclusion"
   ]
  },
  {
   "cell_type": "code",
   "execution_count": 72,
   "metadata": {},
   "outputs": [
    {
     "data": {
      "text/plain": [
       "TUITIONFEE_IN   -2332.310224\n",
       "dtype: float64"
      ]
     },
     "execution_count": 72,
     "metadata": {},
     "output_type": "execute_result"
    }
   ],
   "source": [
    "DF3=DF2.sample(1) # I tested different samples to get a feel for the difference, other sample sizes are below \n",
    "DF3\n",
    "DF_MEAN-DF3.mean()"
   ]
  },
  {
   "cell_type": "code",
   "execution_count": 73,
   "metadata": {},
   "outputs": [
    {
     "data": {
      "text/plain": [
       "TUITIONFEE_IN   -5565.510224\n",
       "dtype: float64"
      ]
     },
     "execution_count": 73,
     "metadata": {},
     "output_type": "execute_result"
    }
   ],
   "source": [
    "DF3=DF2.sample(20)\n",
    "DF3\n",
    "DF_MEAN-DF3.mean()"
   ]
  },
  {
   "cell_type": "code",
   "execution_count": 74,
   "metadata": {},
   "outputs": [
    {
     "data": {
      "text/plain": [
       "TUITIONFEE_IN    221.910776\n",
       "dtype: float64"
      ]
     },
     "execution_count": 74,
     "metadata": {},
     "output_type": "execute_result"
    }
   ],
   "source": [
    "DF3=DF2.sample(2000) # Outputs appear to be getting smaller, smaller. As expected, increase in samples yields smaller differences in average. \n",
    "DF3\n",
    "DF_MEAN-DF3.mean()  # You can look at the absolute value if you want, differences might be easier to interpret "
   ]
  },
  {
   "cell_type": "code",
   "execution_count": null,
   "metadata": {},
   "outputs": [],
   "source": [
    "# 17 - write function Code here\n"
   ]
  },
  {
   "cell_type": "code",
   "execution_count": 75,
   "metadata": {},
   "outputs": [
    {
     "name": "stdout",
     "output_type": "stream",
     "text": [
      "TUITIONFEE_IN   -18.569342\n",
      "dtype: float64\n"
     ]
    }
   ],
   "source": [
    "def random_mean():                   # General function for this specific dataframe\n",
    "    RANDOM_SAMPLE= DF2.sample(4195)  # Just generated a mean difference, by taking variables within dataframe  \n",
    "    \n",
    "    RAN_MEAN=RANDOM_SAMPLE.mean()\n",
    "    \n",
    "    ALL_MEAN=DF2.mean()\n",
    "    \n",
    "    diff_mean=ALL_MEAN-RAN_MEAN\n",
    "    \n",
    "    print (diff_mean)\n",
    "    \n",
    "random_mean()"
   ]
  },
  {
   "cell_type": "code",
   "execution_count": 76,
   "metadata": {},
   "outputs": [
    {
     "name": "stdout",
     "output_type": "stream",
     "text": [
      "TUITIONFEE_IN   -17.250629\n",
      "dtype: float64\n"
     ]
    }
   ],
   "source": [
    "random_mean()                     # Based off sample, should small if sample is high "
   ]
  },
  {
   "cell_type": "code",
   "execution_count": 77,
   "metadata": {},
   "outputs": [
    {
     "data": {
      "text/plain": [
       "[0, 1, 2, 3, 4, 5, 6, 7, 8, 9, 10, 11, 12, 13, 14, 15, 16, 17, 18, 19]"
      ]
     },
     "execution_count": 77,
     "metadata": {},
     "output_type": "execute_result"
    }
   ],
   "source": [
    "sample_sizes = [i for i in range(50)] # Not sure if sample size wanted includes a random selection but this is in fact a sequence of 50 numbers  \n",
    "sample_sizes[:20]                     # Truncated to show only include 20 numbers, but 50 are there, will adjust "
   ]
  },
  {
   "cell_type": "code",
   "execution_count": null,
   "metadata": {},
   "outputs": [],
   "source": [
    "# 18 - Create an empty list and name it \"means_diff\" for differences of population mean and sample means;"
   ]
  },
  {
   "cell_type": "code",
   "execution_count": 78,
   "metadata": {},
   "outputs": [
    {
     "data": {
      "text/plain": [
       "49"
      ]
     },
     "execution_count": 78,
     "metadata": {},
     "output_type": "execute_result"
    }
   ],
   "source": [
    "sample_sizes = range(10, 500, 10) # I took a different appraoch with the same result, by subtracting from two lists, this sample is relatively small \n",
    "                                \n",
    "sample_means_1 = [DF2[\"TUITIONFEE_IN\"].sample(s).mean() for s in sample_sizes] # Create a list with sample above of means in dataframe \n",
    "\n",
    "b=sample_means_1\n",
    "\n",
    "len(b)                            # Number of sample means "
   ]
  },
  {
   "cell_type": "code",
   "execution_count": 79,
   "metadata": {},
   "outputs": [
    {
     "data": {
      "text/plain": [
       "[-3037.7102240896347,\n",
       " 1647.2897759103653,\n",
       " 96.68977591036492,\n",
       " 301.6897759103649,\n",
       " -397.55022408963487,\n",
       " 425.47310924369776,\n",
       " 2897.8897759103656,\n",
       " 873.9397759103649,\n",
       " 1089.6119981325865,\n",
       " -361.80022408963487,\n",
       " -742.6374968169075,\n",
       " 350.38144257703243,\n",
       " -215.45637793578862,\n",
       " -646.5102240896358,\n",
       " 113.50310924369842,\n",
       " 1367.5585259103646,\n",
       " 316.4015406162471,\n",
       " 14.18422035480944,\n",
       " 433.5424074893126,\n",
       " 859.6697759103645]"
      ]
     },
     "execution_count": 79,
     "metadata": {},
     "output_type": "execute_result"
    }
   ],
   "source": [
    "ALL_MEAN=DF2.mean()   #Population mean \n",
    "\n",
    "ALL_MEAN              # I took the population mean and made it a list, then I increased its size to match that of the sample means \n",
    "a=list(ALL_MEAN)\n",
    "a\n",
    "\n",
    "a=a * 49\n",
    "len(a)\n",
    "\n",
    "means_diff=[a_i - b_i for a_i, b_i in zip(a, b)] # I subtracted each list to get a list of population means minus sample means \n",
    "\n",
    "len(means_diff)\n",
    "\n",
    "means_diff[:20]"
   ]
  },
  {
   "cell_type": "code",
   "execution_count": null,
   "metadata": {},
   "outputs": [],
   "source": [
    "# 19 - Make a scatter plot with sample size on the x-axs and  mean difference on the y-axis\n",
    "# Observe as the sample size increases, the sample means converge to the population mean.\n",
    "# Make sure you make the plot large enough"
   ]
  },
  {
   "cell_type": "code",
   "execution_count": 80,
   "metadata": {},
   "outputs": [
    {
     "data": {
      "text/plain": [
       "50"
      ]
     },
     "execution_count": 80,
     "metadata": {},
     "output_type": "execute_result"
    }
   ],
   "source": [
    "sample_sizes = range(10, 510, 10) #Same procedure as before\n",
    "\n",
    "sample_means_1 = [DF2[\"TUITIONFEE_IN\"].sample(s).mean() for s in sample_sizes] \n",
    "\n",
    "b=sample_means_1\n",
    "\n",
    "len(b)"
   ]
  },
  {
   "cell_type": "code",
   "execution_count": 82,
   "metadata": {},
   "outputs": [
    {
     "data": {
      "text/plain": [
       "<matplotlib.lines.Line2D at 0x1ec1d5c3d00>"
      ]
     },
     "execution_count": 82,
     "metadata": {},
     "output_type": "execute_result"
    },
    {
     "data": {
      "image/png": "[encoded data removed]",
      "text/plain": [
       "<Figure size 1152x720 with 1 Axes>"
      ]
     },
     "metadata": {
      "needs_background": "light"
     },
     "output_type": "display_data"
    }
   ],
   "source": [
    "ALL_MEAN=DF2.mean()                              # Redefine population mean \n",
    "\n",
    "a=list(ALL_MEAN)                                 # Take two list and subtract them \n",
    "a\n",
    "\n",
    "a=a * 50                                        # Reproduces population mean to match that of the sample mean \n",
    "\n",
    "means_diff=[a_i - b_i for a_i, b_i in zip(a, b)] # I subtracted each list to get a list of population means minus sample means \n",
    "\n",
    "sample_sizes = range(10, 510, 10)\n",
    "\n",
    "pop_mean = DF2[\"TUITIONFEE_IN\"].mean()\n",
    "\n",
    "fig, ax = plt.subplots(figsize=(16,10)) # When you plot this, convergence towards zero doesn't happen yet, as you increase the sample the results will yield zero eventually \n",
    "\n",
    "# make a line plot of sample means (y-axis) along sample sizes (x-axis)\n",
    "ax.scatter(sample_sizes,means_diff, c=\"r\")\n",
    "ax.text(200,-3000,\" Note: There are 50 dots/mean differences \", fontsize=18, c=\"b\")     \n",
    "ax.set_title(\"Population Mean Minus Sample Mean: College Scorecard Data\", size=16)\n",
    "ax.set_ylabel(\"Pop Mean Minus Sample Mean\", size=14)\n",
    "ax.set_xlabel(\"Sample Size\", size=14)\n",
    "plt.axhline(y=0, color='b')"
   ]
  },
  {
   "cell_type": "code",
   "execution_count": 250,
   "metadata": {},
   "outputs": [],
   "source": [
    "# 20 - repeat steps by replacing 50 with a larger number. For example, 300, or even 1000.\n",
    "# and see how the plot looks."
   ]
  },
  {
   "cell_type": "code",
   "execution_count": 83,
   "metadata": {},
   "outputs": [
    {
     "data": {
      "text/plain": [
       "400"
      ]
     },
     "execution_count": 83,
     "metadata": {},
     "output_type": "execute_result"
    }
   ],
   "source": [
    "sample_sizes = range(10, 4010, 10)\n",
    "\n",
    "sample_means_1 = [DF2[\"TUITIONFEE_IN\"].sample(s).mean() for s in sample_sizes] \n",
    "\n",
    "b=sample_means_1\n",
    "\n",
    "len(b)"
   ]
  },
  {
   "cell_type": "code",
   "execution_count": 84,
   "metadata": {},
   "outputs": [
    {
     "data": {
      "text/plain": [
       "<matplotlib.lines.Line2D at 0x1ec228e9970>"
      ]
     },
     "execution_count": 84,
     "metadata": {},
     "output_type": "execute_result"
    },
    {
     "data": {
      "image/png": "[encoded data removed]",
      "text/plain": [
       "<Figure size 1152x720 with 1 Axes>"
      ]
     },
     "metadata": {
      "needs_background": "light"
     },
     "output_type": "display_data"
    }
   ],
   "source": [
    "ALL_MEAN=DF2.mean()\n",
    "\n",
    "ALL_MEAN\n",
    "a=list(ALL_MEAN)\n",
    "a\n",
    "\n",
    "a=a * 399\n",
    "len(a)\n",
    "\n",
    "means_diff=[a_i - b_i for a_i, b_i in zip(a, b)]\n",
    "\n",
    "len(means_diff)\n",
    "\n",
    "means_diff[:20]\n",
    "\n",
    "sample_sizes = range(10, 4000, 10)      # As I increased the sample covergence towards zero occurs \n",
    "\n",
    "pop_mean = DF2[\"TUITIONFEE_IN\"].mean()  # Population mean - sample mean= zero, after sample means includes all possible samples \n",
    "\n",
    "fig, ax = plt.subplots(figsize=(16,10)) # On the plot that is covergence occurs \n",
    "\n",
    "# make a line plot of sample means (y-axis) along sample sizes (x-axis)\n",
    "ax.scatter(sample_sizes,means_diff, c=\"r\") \n",
    "ax.text(800,-1000,\" Note: There are 400 dots/mean differences \", fontsize=18, c=\"b\") \n",
    "ax.set_title(\"Population Mean Minus Sample Mean: College Scorecard Data\", size=16)\n",
    "ax.set_ylabel(\"Pop Mean Minus Sample Mean\", size=14)\n",
    "ax.set_xlabel(\"Sample Size\", size=14)\n",
    "plt.axhline(y=0, color='b')"
   ]
  },
  {
   "cell_type": "code",
   "execution_count": 85,
   "metadata": {},
   "outputs": [
    {
     "data": {
      "text/plain": [
       "Text(0.5, 0, 'Sample Size')"
      ]
     },
     "execution_count": 85,
     "metadata": {},
     "output_type": "execute_result"
    },
    {
     "data": {
      "image/png": "[encoded data removed]",
      "text/plain": [
       "<Figure size 1152x720 with 1 Axes>"
      ]
     },
     "metadata": {
      "needs_background": "light"
     },
     "output_type": "display_data"
    }
   ],
   "source": [
    "sample_sizes = range(10, 500, 10)\n",
    "\n",
    "sample_means = [DF2[\"TUITIONFEE_IN\"].sample(s).mean() for s in sample_sizes] \n",
    "\n",
    "sample_means[:10] # I thought it would increasing to include population mean as well, covergence is similar \n",
    "\n",
    "pop_mean = DF2[\"TUITIONFEE_IN\"].mean()\n",
    "\n",
    "fig, ax = plt.subplots(figsize=(16,10))\n",
    "\n",
    "# draw a horizontal line of the population mean                                             \n",
    "ax.plot((0,sample_sizes[-1]), (pop_mean, pop_mean)) \n",
    "\n",
    "# make a line plot of sample means (y-axis) along sample sizes (x-axis)\n",
    "ax.scatter(sample_sizes, sample_means, c=\"r\") \n",
    "ax.text(6, pop_mean - 1000, \"Population Mean = $\" + str(round(pop_mean,2)), fontsize=18, c=\"b\")                   \n",
    "ax.set_title(\"Coverging to Population Mean: College Scorecard Data\", size=16)\n",
    "ax.set_ylabel(\"Sample Mean of College Tuition\", size=14)\n",
    "ax.set_xlabel(\"Sample Size\", size=14)"
   ]
  },
  {
   "cell_type": "code",
   "execution_count": 86,
   "metadata": {},
   "outputs": [
    {
     "data": {
      "text/plain": [
       "Text(0.5, 0, 'Sample Size')"
      ]
     },
     "execution_count": 86,
     "metadata": {},
     "output_type": "execute_result"
    },
    {
     "data": {
      "image/png": "[encoded data removed]",
      "text/plain": [
       "<Figure size 1152x720 with 1 Axes>"
      ]
     },
     "metadata": {
      "needs_background": "light"
     },
     "output_type": "display_data"
    }
   ],
   "source": [
    "sample_sizes = range(10, 4000, 10)\n",
    "\n",
    "sample_means = [DF2[\"TUITIONFEE_IN\"].sample(s).mean() for s in sample_sizes] \n",
    "\n",
    "sample_means[:10] # Covergence occurs as sample increases \n",
    "\n",
    "pop_mean = DF2[\"TUITIONFEE_IN\"].mean()\n",
    "\n",
    "fig, ax = plt.subplots(figsize=(16,10))\n",
    "\n",
    "# draw a horizontal line of the population mean                                             \n",
    "ax.plot((0,sample_sizes[-1]), (pop_mean, pop_mean)) \n",
    "\n",
    "# make a line plot of sample means (y-axis) along sample sizes (x-axis)\n",
    "ax.scatter(sample_sizes, sample_means,c=\"r\") \n",
    "ax.text(660, pop_mean-1111, \"Population Mean = $\" + str(round(pop_mean,2)), fontsize=18, c=\"b\")                   \n",
    "ax.set_title(\"Coverging to Population Mean: College Scorecard Data\", size=16)\n",
    "ax.set_ylabel(\"Sample Mean of College Tuition\", size=14)\n",
    "ax.set_xlabel(\"Sample Size\", size=14)"
   ]
  },
  {
   "cell_type": "code",
   "execution_count": null,
   "metadata": {},
   "outputs": [],
   "source": [
    "# The End "
   ]
  },
  {
   "cell_type": "markdown",
   "metadata": {},
   "source": [
    "LINKS"
   ]
  },
  {
   "cell_type": "markdown",
   "metadata": {},
   "source": [
    "https://stackoverflow.com/questions/701402/best-way-to-choose-a-random-file-from-a-directory\n",
    "https://github.com/jonnie763/python-stats-dataviz/blob/master/10_LLN_CLT_Dice.ipynb\n",
    "https://github.com/jonnie763/python-stats-dataviz/blob/master/10_LLN_CTL_college.ipynb\n",
    "https://github.com/jonnie763/python-stats-dataviz/blob/master/09_Normal_Distribution.ipynb\n",
    "https://github.com/jonnie763/python-stats-dataviz/blob/master/08_College_Tuition.ipynb"
   ]
  }
 ],
 "metadata": {
  "kernelspec": {
   "display_name": "Python 3",
   "language": "python",
   "name": "python3"
  },
  "language_info": {
   "codemirror_mode": {
    "name": "ipython",
    "version": 3
   },
   "file_extension": ".py",
   "mimetype": "text/x-python",
   "name": "python",
   "nbconvert_exporter": "python",
   "pygments_lexer": "ipython3",
   "version": "3.8.5"
  }
 },
 "nbformat": 4,
 "nbformat_minor": 4
}
